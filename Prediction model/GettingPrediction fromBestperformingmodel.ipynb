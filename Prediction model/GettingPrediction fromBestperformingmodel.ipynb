{
  "nbformat": 4,
  "nbformat_minor": 0,
  "metadata": {
    "colab": {
      "name": "GettingPredictionsFromStacking.ipynb",
      "provenance": [],
      "collapsed_sections": [],
      "toc_visible": true
    },
    "kernelspec": {
      "name": "python3",
      "display_name": "Python 3"
    }
  },
  "cells": [
    {
      "cell_type": "markdown",
      "metadata": {
        "id": "sQXMuZZ3nDXb"
      },
      "source": [
        "# Import dataset"
      ]
    },
    {
      "cell_type": "code",
      "metadata": {
        "id": "Pv0mCv0d4R_7"
      },
      "source": [
        "# Standard analytics packages\n",
        "import matplotlib.pyplot as plt\n",
        "import numpy as np\n",
        "import pandas as pd\n",
        "from sklearn.cluster import KMeans\n",
        "from sklearn.ensemble import VotingClassifier\n",
        "from sklearn.feature_selection import SelectKBest, f_classif\n",
        "from sklearn.feature_selection import mutual_info_regression, f_regression\n",
        "# Import models\n",
        "from sklearn.linear_model import LogisticRegression, LogisticRegressionCV\n",
        "# Model evaluation \n",
        "from sklearn.metrics import precision_score, recall_score\n",
        "from sklearn.model_selection import GridSearchCV\n",
        "# Import model engineering\n",
        "from sklearn.model_selection import train_test_split\n",
        "from sklearn.preprocessing import StandardScaler\n",
        "\n",
        "# Import linear regression models\n",
        "from sklearn.linear_model import LinearRegression, LassoCV, RidgeCV\n",
        "# Import Decision Tree models\n",
        "from sklearn.tree import DecisionTreeRegressor\n",
        "from sklearn.ensemble import RandomForestRegressor\n",
        "from sklearn.metrics import r2_score"
      ],
      "execution_count": null,
      "outputs": []
    },
    {
      "cell_type": "code",
      "metadata": {
        "id": "HXRyn27jnILn"
      },
      "source": [
        "#import csv files\n",
        "#url_allmovie = 'https://raw.githubusercontent.com/JihoonChung/MIE368_project/master/rotten_tomatoes_full.csv'\n",
        "url_allmovie = 'https://raw.githubusercontent.com/JihoonChung/MIE368_project/master/rotten_tomatoes_full_revised.csv'\n",
        "df_rotten_tomatoes_full = pd.read_csv(url_allmovie)\n",
        "\n",
        "\n",
        "#import csv with movie festival data (out of sample)\n",
        "url_fesitval = 'https://raw.githubusercontent.com/JihoonChung/MIE368_project/master/festival_movie_list.csv'\n",
        "df_festival_movies = pd.read_csv(url_fesitval)\n"
      ],
      "execution_count": null,
      "outputs": []
    },
    {
      "cell_type": "code",
      "metadata": {
        "id": "ZXwB4IEKu3Pq",
        "colab": {
          "base_uri": "https://localhost:8080/",
          "height": 356
        },
        "outputId": "58db29ec-7a5e-4cd9-c044-1df694e74c1f"
      },
      "source": [
        "df_rotten_tomatoes_full.head()\n",
        "#df_rotten_tomatoes_full.shape"
      ],
      "execution_count": null,
      "outputs": [
        {
          "output_type": "execute_result",
          "data": {
            "text/html": [
              "<div>\n",
              "<style scoped>\n",
              "    .dataframe tbody tr th:only-of-type {\n",
              "        vertical-align: middle;\n",
              "    }\n",
              "\n",
              "    .dataframe tbody tr th {\n",
              "        vertical-align: top;\n",
              "    }\n",
              "\n",
              "    .dataframe thead th {\n",
              "        text-align: right;\n",
              "    }\n",
              "</style>\n",
              "<table border=\"1\" class=\"dataframe\">\n",
              "  <thead>\n",
              "    <tr style=\"text-align: right;\">\n",
              "      <th></th>\n",
              "      <th>Title</th>\n",
              "      <th>TOMATOMETER score</th>\n",
              "      <th>TOMATOMETER Count</th>\n",
              "      <th>AUDIENCE score</th>\n",
              "      <th>AUDIENCE count</th>\n",
              "      <th>Year</th>\n",
              "      <th>Cast 1</th>\n",
              "      <th>Cast 2</th>\n",
              "      <th>Cast 3</th>\n",
              "      <th>director_name</th>\n",
              "      <th>Runtime</th>\n",
              "      <th>Genre_Action</th>\n",
              "      <th>Genre_Art&amp;Foreign</th>\n",
              "      <th>Genre_Classics</th>\n",
              "      <th>Genre_Comedy</th>\n",
              "      <th>Genre_Documentary</th>\n",
              "      <th>Genre_Drama</th>\n",
              "      <th>Genre_Horror</th>\n",
              "      <th>Genre_Kids&amp;Family</th>\n",
              "      <th>Genre_Mystery</th>\n",
              "      <th>Genre_Romance</th>\n",
              "      <th>Genre_SciFi</th>\n",
              "      <th>Rating_G</th>\n",
              "      <th>Rating_NC17</th>\n",
              "      <th>Rating_NR</th>\n",
              "      <th>Rating_PG</th>\n",
              "      <th>Rating_PG-13</th>\n",
              "      <th>Rating_R</th>\n",
              "      <th>cast1_oscar_nom</th>\n",
              "      <th>cast1_oscars</th>\n",
              "      <th>cast2_oscar_nom</th>\n",
              "      <th>cast2_oscars</th>\n",
              "      <th>cast3_oscar_nom</th>\n",
              "      <th>cast3_oscars</th>\n",
              "      <th>cast1_FB_likes</th>\n",
              "      <th>cast2_FB_likes</th>\n",
              "      <th>cast3_FB_likes</th>\n",
              "      <th>dir_oscar_nom</th>\n",
              "      <th>dir_oscars</th>\n",
              "      <th>director_awards</th>\n",
              "      <th>director_facebook_likes</th>\n",
              "      <th>cast_total_facebook_likes</th>\n",
              "    </tr>\n",
              "  </thead>\n",
              "  <tbody>\n",
              "    <tr>\n",
              "      <th>0</th>\n",
              "      <td>Drive</td>\n",
              "      <td>0.0</td>\n",
              "      <td>7</td>\n",
              "      <td>13.0</td>\n",
              "      <td>15</td>\n",
              "      <td>2011</td>\n",
              "      <td>Ryan Gosling</td>\n",
              "      <td>Carey Mulligan</td>\n",
              "      <td>Albert Brooks</td>\n",
              "      <td>Nicolas Winding Refn</td>\n",
              "      <td>100</td>\n",
              "      <td>1</td>\n",
              "      <td>0</td>\n",
              "      <td>0</td>\n",
              "      <td>0</td>\n",
              "      <td>0</td>\n",
              "      <td>1</td>\n",
              "      <td>0</td>\n",
              "      <td>0</td>\n",
              "      <td>1</td>\n",
              "      <td>0</td>\n",
              "      <td>0</td>\n",
              "      <td>0</td>\n",
              "      <td>0</td>\n",
              "      <td>0</td>\n",
              "      <td>0</td>\n",
              "      <td>0</td>\n",
              "      <td>1</td>\n",
              "      <td>2.0</td>\n",
              "      <td>0.0</td>\n",
              "      <td>1.0</td>\n",
              "      <td>0.0</td>\n",
              "      <td>1.0</td>\n",
              "      <td>0.0</td>\n",
              "      <td>33000.0</td>\n",
              "      <td>367.0</td>\n",
              "      <td>745.0</td>\n",
              "      <td>0.0</td>\n",
              "      <td>0.0</td>\n",
              "      <td>69.0</td>\n",
              "      <td>0.0</td>\n",
              "      <td>34337.0</td>\n",
              "    </tr>\n",
              "    <tr>\n",
              "      <th>1</th>\n",
              "      <td>American Son</td>\n",
              "      <td>50.0</td>\n",
              "      <td>24</td>\n",
              "      <td>47.0</td>\n",
              "      <td>282</td>\n",
              "      <td>2008</td>\n",
              "      <td>Nick Cannon</td>\n",
              "      <td>Melonie Diaz</td>\n",
              "      <td>Matt O'Leary</td>\n",
              "      <td>Neil Abramson</td>\n",
              "      <td>85</td>\n",
              "      <td>0</td>\n",
              "      <td>0</td>\n",
              "      <td>0</td>\n",
              "      <td>0</td>\n",
              "      <td>0</td>\n",
              "      <td>1</td>\n",
              "      <td>0</td>\n",
              "      <td>0</td>\n",
              "      <td>0</td>\n",
              "      <td>0</td>\n",
              "      <td>0</td>\n",
              "      <td>0</td>\n",
              "      <td>0</td>\n",
              "      <td>0</td>\n",
              "      <td>0</td>\n",
              "      <td>0</td>\n",
              "      <td>1</td>\n",
              "      <td>0.0</td>\n",
              "      <td>0.0</td>\n",
              "      <td>0.0</td>\n",
              "      <td>0.0</td>\n",
              "      <td>0.0</td>\n",
              "      <td>0.0</td>\n",
              "      <td>593.0</td>\n",
              "      <td>270.0</td>\n",
              "      <td>303.0</td>\n",
              "      <td>0.0</td>\n",
              "      <td>0.0</td>\n",
              "      <td>0.0</td>\n",
              "      <td>232.0</td>\n",
              "      <td>0.0</td>\n",
              "    </tr>\n",
              "    <tr>\n",
              "      <th>2</th>\n",
              "      <td>Primal</td>\n",
              "      <td>38.0</td>\n",
              "      <td>32</td>\n",
              "      <td>27.0</td>\n",
              "      <td>48</td>\n",
              "      <td>2010</td>\n",
              "      <td>Zoe Tuckwell-Smith</td>\n",
              "      <td>Krew Boylan</td>\n",
              "      <td>Lindsay Farris</td>\n",
              "      <td>Josh Reed</td>\n",
              "      <td>84</td>\n",
              "      <td>0</td>\n",
              "      <td>0</td>\n",
              "      <td>0</td>\n",
              "      <td>0</td>\n",
              "      <td>0</td>\n",
              "      <td>0</td>\n",
              "      <td>1</td>\n",
              "      <td>0</td>\n",
              "      <td>0</td>\n",
              "      <td>0</td>\n",
              "      <td>0</td>\n",
              "      <td>0</td>\n",
              "      <td>0</td>\n",
              "      <td>1</td>\n",
              "      <td>0</td>\n",
              "      <td>0</td>\n",
              "      <td>0</td>\n",
              "      <td>0.0</td>\n",
              "      <td>0.0</td>\n",
              "      <td>0.0</td>\n",
              "      <td>0.0</td>\n",
              "      <td>0.0</td>\n",
              "      <td>0.0</td>\n",
              "      <td>367.0</td>\n",
              "      <td>367.0</td>\n",
              "      <td>367.0</td>\n",
              "      <td>0.0</td>\n",
              "      <td>0.0</td>\n",
              "      <td>0.0</td>\n",
              "      <td>232.0</td>\n",
              "      <td>0.0</td>\n",
              "    </tr>\n",
              "    <tr>\n",
              "      <th>3</th>\n",
              "      <td>The Kill Team</td>\n",
              "      <td>70.0</td>\n",
              "      <td>47</td>\n",
              "      <td>43.0</td>\n",
              "      <td>63</td>\n",
              "      <td>2014</td>\n",
              "      <td>Adam Winfield</td>\n",
              "      <td>Jeremy Morlock</td>\n",
              "      <td>Andrew Holmes</td>\n",
              "      <td>Dan Krauss</td>\n",
              "      <td>79</td>\n",
              "      <td>0</td>\n",
              "      <td>0</td>\n",
              "      <td>0</td>\n",
              "      <td>0</td>\n",
              "      <td>1</td>\n",
              "      <td>0</td>\n",
              "      <td>0</td>\n",
              "      <td>0</td>\n",
              "      <td>0</td>\n",
              "      <td>0</td>\n",
              "      <td>0</td>\n",
              "      <td>0</td>\n",
              "      <td>0</td>\n",
              "      <td>1</td>\n",
              "      <td>0</td>\n",
              "      <td>0</td>\n",
              "      <td>0</td>\n",
              "      <td>0.0</td>\n",
              "      <td>0.0</td>\n",
              "      <td>0.0</td>\n",
              "      <td>0.0</td>\n",
              "      <td>0.0</td>\n",
              "      <td>0.0</td>\n",
              "      <td>367.0</td>\n",
              "      <td>367.0</td>\n",
              "      <td>367.0</td>\n",
              "      <td>0.0</td>\n",
              "      <td>0.0</td>\n",
              "      <td>0.0</td>\n",
              "      <td>232.0</td>\n",
              "      <td>0.0</td>\n",
              "    </tr>\n",
              "    <tr>\n",
              "      <th>4</th>\n",
              "      <td>Trick</td>\n",
              "      <td>32.0</td>\n",
              "      <td>25</td>\n",
              "      <td>45.0</td>\n",
              "      <td>51</td>\n",
              "      <td>1999</td>\n",
              "      <td>Christian Campbell</td>\n",
              "      <td>John Paul Pitoc</td>\n",
              "      <td>Tori Spelling</td>\n",
              "      <td>Jim Fall</td>\n",
              "      <td>90</td>\n",
              "      <td>0</td>\n",
              "      <td>0</td>\n",
              "      <td>0</td>\n",
              "      <td>1</td>\n",
              "      <td>0</td>\n",
              "      <td>1</td>\n",
              "      <td>0</td>\n",
              "      <td>0</td>\n",
              "      <td>0</td>\n",
              "      <td>1</td>\n",
              "      <td>0</td>\n",
              "      <td>0</td>\n",
              "      <td>0</td>\n",
              "      <td>0</td>\n",
              "      <td>0</td>\n",
              "      <td>0</td>\n",
              "      <td>1</td>\n",
              "      <td>0.0</td>\n",
              "      <td>0.0</td>\n",
              "      <td>0.0</td>\n",
              "      <td>0.0</td>\n",
              "      <td>0.0</td>\n",
              "      <td>0.0</td>\n",
              "      <td>168.0</td>\n",
              "      <td>367.0</td>\n",
              "      <td>396.0</td>\n",
              "      <td>0.0</td>\n",
              "      <td>0.0</td>\n",
              "      <td>0.0</td>\n",
              "      <td>13.0</td>\n",
              "      <td>0.0</td>\n",
              "    </tr>\n",
              "  </tbody>\n",
              "</table>\n",
              "</div>"
            ],
            "text/plain": [
              "           Title  ...  cast_total_facebook_likes\n",
              "0          Drive  ...                    34337.0\n",
              "1   American Son  ...                        0.0\n",
              "2         Primal  ...                        0.0\n",
              "3  The Kill Team  ...                        0.0\n",
              "4          Trick  ...                        0.0\n",
              "\n",
              "[5 rows x 42 columns]"
            ]
          },
          "metadata": {
            "tags": []
          },
          "execution_count": 3
        }
      ]
    },
    {
      "cell_type": "markdown",
      "metadata": {
        "id": "Fl7sLAuH6pQA"
      },
      "source": [
        "# Separate train and test dataset."
      ]
    },
    {
      "cell_type": "code",
      "metadata": {
        "id": "8lCxtLOsvJa2"
      },
      "source": [
        "# one thing is we might have to drop total fb like since now its completely irrelevant. This feature might be introduce in the feature engineering section. "
      ],
      "execution_count": null,
      "outputs": []
    },
    {
      "cell_type": "code",
      "metadata": {
        "id": "yGOqsZS37XT8",
        "colab": {
          "base_uri": "https://localhost:8080/"
        },
        "outputId": "a6257045-f615-48fe-ce20-3b6dbc4a173a"
      },
      "source": [
        "column_drop = ['Cast 1','Cast 2','Cast 3','director_name','Title','Year','AUDIENCE score','AUDIENCE count','cast_total_facebook_likes']\n",
        "\n",
        "\n",
        "X = df_rotten_tomatoes_full.drop(columns = column_drop)\n",
        "X_train, X_val, y_train, y_val = train_test_split(X,  # all X data\n",
        "                                                    df_rotten_tomatoes_full['AUDIENCE score'],  # All y data\n",
        "                                                    test_size=0.30,  # Fraction of data in test set\n",
        "                                                    shuffle=True,  # Randomly splits the data\n",
        "                                                    random_state = 3  # Sets random seed for reproducability \n",
        "                                                    )\n",
        "#we can do audience so we can keep Totmatometer score and tomatometer count since critics' score came out first so we can say this is okay as a parameter when we \n",
        "#plan the movie.\n",
        "\n",
        "#the data we want for prediction\n",
        "X_val = df_festival_movies.drop(columns = column_drop)\n",
        "y_val = df_festival_movies['AUDIENCE score']\n",
        "\n",
        "y_val"
      ],
      "execution_count": null,
      "outputs": [
        {
          "output_type": "execute_result",
          "data": {
            "text/plain": [
              "0    88\n",
              "1    94\n",
              "2    40\n",
              "3    72\n",
              "4    41\n",
              "5    28\n",
              "6    79\n",
              "7    41\n",
              "Name: AUDIENCE score, dtype: int64"
            ]
          },
          "metadata": {
            "tags": []
          },
          "execution_count": 5
        }
      ]
    },
    {
      "cell_type": "markdown",
      "metadata": {
        "id": "yKTDtK4Lq_88"
      },
      "source": [
        "# Models"
      ]
    },
    {
      "cell_type": "code",
      "metadata": {
        "id": "sof2bnfHtUi6"
      },
      "source": [
        "def make_models():\n",
        "  \"\"\"Makes a dictionary of 5 untrained models\"\"\"\n",
        "  #IDK WHAT PARAMETERS TO PUT FOR THE TREES\n",
        "  return {\n",
        "      'LinReg': LinearRegression(),\n",
        "      'LassoCV': LassoCV(),\n",
        "      'RidgeCV': RidgeCV(),\n",
        "      'RF': RandomForestRegressor(),\n",
        "      'CART': DecisionTreeRegressor()\n",
        "  }\n",
        "\n",
        "  #'RF': RandomForestRegressor(max_features=0.2,bootstrap=True,n_estimators=50,random_state=3,max_depth=5)\n",
        "  #'CART': DecisionTreeRegressor(max_features=0.2,random_state=3,max_depth=5)"
      ],
      "execution_count": null,
      "outputs": []
    },
    {
      "cell_type": "markdown",
      "metadata": {
        "id": "Wis_cAPqFcka"
      },
      "source": [
        "Create a dataframe to keep track of all the models we train."
      ]
    },
    {
      "cell_type": "code",
      "metadata": {
        "id": "bEahKWWMyCJ6",
        "colab": {
          "base_uri": "https://localhost:8080/",
          "height": 1000
        },
        "outputId": "e47724a6-8d74-4155-edbe-0f1e808d10c4"
      },
      "source": [
        "# Initialize a tuple of names for each model\n",
        "model_names = ('LinReg',  # Linear regression model\n",
        "               'LassoCV',  # Lasso regression model\n",
        "               'RidgeCV',  # Ridge regression model\n",
        "               'RF',  # Random forest classifier \n",
        "               'CART' #Decision tree classifier\n",
        "               )\n",
        "# Initialize a tuple of technique names\n",
        "engineering_techniques = ('Baseline',  # Set of baseline models\n",
        "                          'Scaling',  # Set of models trained with scaled data\n",
        "                          'Feature_Engineering',  # Set of models trained with engineered features\n",
        "                          'Feature_Engineering_overall', # trying\n",
        "                          'Feature_Selection',  # Set of models trained with \"selected\" features\n",
        "                          'Grid_Search',  # Set of models trained via grid search\n",
        "                          'Stacking',  # Set of stacked model \n",
        "                          'Bagging',   # A bagged model\n",
        "                          'Bagging_all',\n",
        "                          'Mutual_Regression (scaled)', # Set of models trained with features from MI using scaled data\n",
        "                          'Mutual_Regression' # Set of models trained with features from MI using normal data\n",
        "                          )\n",
        "\n",
        "# Initialize the multi indices of the `all_models` data frame\n",
        "df_indices = pd.MultiIndex.from_product([model_names, engineering_techniques], names=('model names', 'technique'))\n",
        "# Initialize the `all_models` data frame\n",
        "all_models = pd.DataFrame(index=df_indices, columns=['TrainScore', 'TestScore','Model'])\n",
        "all_models[['TrainScore', 'TestScore']] = all_models[['TrainScore', 'TestScore']].astype(float)\n",
        "all_models  # Initialized data frame only has NaNs, which is perfect!"
      ],
      "execution_count": null,
      "outputs": [
        {
          "output_type": "execute_result",
          "data": {
            "text/html": [
              "<div>\n",
              "<style scoped>\n",
              "    .dataframe tbody tr th:only-of-type {\n",
              "        vertical-align: middle;\n",
              "    }\n",
              "\n",
              "    .dataframe tbody tr th {\n",
              "        vertical-align: top;\n",
              "    }\n",
              "\n",
              "    .dataframe thead th {\n",
              "        text-align: right;\n",
              "    }\n",
              "</style>\n",
              "<table border=\"1\" class=\"dataframe\">\n",
              "  <thead>\n",
              "    <tr style=\"text-align: right;\">\n",
              "      <th></th>\n",
              "      <th></th>\n",
              "      <th>TrainScore</th>\n",
              "      <th>TestScore</th>\n",
              "      <th>Model</th>\n",
              "    </tr>\n",
              "    <tr>\n",
              "      <th>model names</th>\n",
              "      <th>technique</th>\n",
              "      <th></th>\n",
              "      <th></th>\n",
              "      <th></th>\n",
              "    </tr>\n",
              "  </thead>\n",
              "  <tbody>\n",
              "    <tr>\n",
              "      <th rowspan=\"11\" valign=\"top\">LinReg</th>\n",
              "      <th>Baseline</th>\n",
              "      <td>NaN</td>\n",
              "      <td>NaN</td>\n",
              "      <td>NaN</td>\n",
              "    </tr>\n",
              "    <tr>\n",
              "      <th>Scaling</th>\n",
              "      <td>NaN</td>\n",
              "      <td>NaN</td>\n",
              "      <td>NaN</td>\n",
              "    </tr>\n",
              "    <tr>\n",
              "      <th>Feature_Engineering</th>\n",
              "      <td>NaN</td>\n",
              "      <td>NaN</td>\n",
              "      <td>NaN</td>\n",
              "    </tr>\n",
              "    <tr>\n",
              "      <th>Feature_Engineering_overall</th>\n",
              "      <td>NaN</td>\n",
              "      <td>NaN</td>\n",
              "      <td>NaN</td>\n",
              "    </tr>\n",
              "    <tr>\n",
              "      <th>Feature_Selection</th>\n",
              "      <td>NaN</td>\n",
              "      <td>NaN</td>\n",
              "      <td>NaN</td>\n",
              "    </tr>\n",
              "    <tr>\n",
              "      <th>Grid_Search</th>\n",
              "      <td>NaN</td>\n",
              "      <td>NaN</td>\n",
              "      <td>NaN</td>\n",
              "    </tr>\n",
              "    <tr>\n",
              "      <th>Stacking</th>\n",
              "      <td>NaN</td>\n",
              "      <td>NaN</td>\n",
              "      <td>NaN</td>\n",
              "    </tr>\n",
              "    <tr>\n",
              "      <th>Bagging</th>\n",
              "      <td>NaN</td>\n",
              "      <td>NaN</td>\n",
              "      <td>NaN</td>\n",
              "    </tr>\n",
              "    <tr>\n",
              "      <th>Bagging_all</th>\n",
              "      <td>NaN</td>\n",
              "      <td>NaN</td>\n",
              "      <td>NaN</td>\n",
              "    </tr>\n",
              "    <tr>\n",
              "      <th>Mutual_Regression (scaled)</th>\n",
              "      <td>NaN</td>\n",
              "      <td>NaN</td>\n",
              "      <td>NaN</td>\n",
              "    </tr>\n",
              "    <tr>\n",
              "      <th>Mutual_Regression</th>\n",
              "      <td>NaN</td>\n",
              "      <td>NaN</td>\n",
              "      <td>NaN</td>\n",
              "    </tr>\n",
              "    <tr>\n",
              "      <th rowspan=\"11\" valign=\"top\">LassoCV</th>\n",
              "      <th>Baseline</th>\n",
              "      <td>NaN</td>\n",
              "      <td>NaN</td>\n",
              "      <td>NaN</td>\n",
              "    </tr>\n",
              "    <tr>\n",
              "      <th>Scaling</th>\n",
              "      <td>NaN</td>\n",
              "      <td>NaN</td>\n",
              "      <td>NaN</td>\n",
              "    </tr>\n",
              "    <tr>\n",
              "      <th>Feature_Engineering</th>\n",
              "      <td>NaN</td>\n",
              "      <td>NaN</td>\n",
              "      <td>NaN</td>\n",
              "    </tr>\n",
              "    <tr>\n",
              "      <th>Feature_Engineering_overall</th>\n",
              "      <td>NaN</td>\n",
              "      <td>NaN</td>\n",
              "      <td>NaN</td>\n",
              "    </tr>\n",
              "    <tr>\n",
              "      <th>Feature_Selection</th>\n",
              "      <td>NaN</td>\n",
              "      <td>NaN</td>\n",
              "      <td>NaN</td>\n",
              "    </tr>\n",
              "    <tr>\n",
              "      <th>Grid_Search</th>\n",
              "      <td>NaN</td>\n",
              "      <td>NaN</td>\n",
              "      <td>NaN</td>\n",
              "    </tr>\n",
              "    <tr>\n",
              "      <th>Stacking</th>\n",
              "      <td>NaN</td>\n",
              "      <td>NaN</td>\n",
              "      <td>NaN</td>\n",
              "    </tr>\n",
              "    <tr>\n",
              "      <th>Bagging</th>\n",
              "      <td>NaN</td>\n",
              "      <td>NaN</td>\n",
              "      <td>NaN</td>\n",
              "    </tr>\n",
              "    <tr>\n",
              "      <th>Bagging_all</th>\n",
              "      <td>NaN</td>\n",
              "      <td>NaN</td>\n",
              "      <td>NaN</td>\n",
              "    </tr>\n",
              "    <tr>\n",
              "      <th>Mutual_Regression (scaled)</th>\n",
              "      <td>NaN</td>\n",
              "      <td>NaN</td>\n",
              "      <td>NaN</td>\n",
              "    </tr>\n",
              "    <tr>\n",
              "      <th>Mutual_Regression</th>\n",
              "      <td>NaN</td>\n",
              "      <td>NaN</td>\n",
              "      <td>NaN</td>\n",
              "    </tr>\n",
              "    <tr>\n",
              "      <th rowspan=\"11\" valign=\"top\">RidgeCV</th>\n",
              "      <th>Baseline</th>\n",
              "      <td>NaN</td>\n",
              "      <td>NaN</td>\n",
              "      <td>NaN</td>\n",
              "    </tr>\n",
              "    <tr>\n",
              "      <th>Scaling</th>\n",
              "      <td>NaN</td>\n",
              "      <td>NaN</td>\n",
              "      <td>NaN</td>\n",
              "    </tr>\n",
              "    <tr>\n",
              "      <th>Feature_Engineering</th>\n",
              "      <td>NaN</td>\n",
              "      <td>NaN</td>\n",
              "      <td>NaN</td>\n",
              "    </tr>\n",
              "    <tr>\n",
              "      <th>Feature_Engineering_overall</th>\n",
              "      <td>NaN</td>\n",
              "      <td>NaN</td>\n",
              "      <td>NaN</td>\n",
              "    </tr>\n",
              "    <tr>\n",
              "      <th>Feature_Selection</th>\n",
              "      <td>NaN</td>\n",
              "      <td>NaN</td>\n",
              "      <td>NaN</td>\n",
              "    </tr>\n",
              "    <tr>\n",
              "      <th>Grid_Search</th>\n",
              "      <td>NaN</td>\n",
              "      <td>NaN</td>\n",
              "      <td>NaN</td>\n",
              "    </tr>\n",
              "    <tr>\n",
              "      <th>Stacking</th>\n",
              "      <td>NaN</td>\n",
              "      <td>NaN</td>\n",
              "      <td>NaN</td>\n",
              "    </tr>\n",
              "    <tr>\n",
              "      <th>Bagging</th>\n",
              "      <td>NaN</td>\n",
              "      <td>NaN</td>\n",
              "      <td>NaN</td>\n",
              "    </tr>\n",
              "    <tr>\n",
              "      <th>Bagging_all</th>\n",
              "      <td>NaN</td>\n",
              "      <td>NaN</td>\n",
              "      <td>NaN</td>\n",
              "    </tr>\n",
              "    <tr>\n",
              "      <th>Mutual_Regression (scaled)</th>\n",
              "      <td>NaN</td>\n",
              "      <td>NaN</td>\n",
              "      <td>NaN</td>\n",
              "    </tr>\n",
              "    <tr>\n",
              "      <th>Mutual_Regression</th>\n",
              "      <td>NaN</td>\n",
              "      <td>NaN</td>\n",
              "      <td>NaN</td>\n",
              "    </tr>\n",
              "    <tr>\n",
              "      <th rowspan=\"11\" valign=\"top\">RF</th>\n",
              "      <th>Baseline</th>\n",
              "      <td>NaN</td>\n",
              "      <td>NaN</td>\n",
              "      <td>NaN</td>\n",
              "    </tr>\n",
              "    <tr>\n",
              "      <th>Scaling</th>\n",
              "      <td>NaN</td>\n",
              "      <td>NaN</td>\n",
              "      <td>NaN</td>\n",
              "    </tr>\n",
              "    <tr>\n",
              "      <th>Feature_Engineering</th>\n",
              "      <td>NaN</td>\n",
              "      <td>NaN</td>\n",
              "      <td>NaN</td>\n",
              "    </tr>\n",
              "    <tr>\n",
              "      <th>Feature_Engineering_overall</th>\n",
              "      <td>NaN</td>\n",
              "      <td>NaN</td>\n",
              "      <td>NaN</td>\n",
              "    </tr>\n",
              "    <tr>\n",
              "      <th>Feature_Selection</th>\n",
              "      <td>NaN</td>\n",
              "      <td>NaN</td>\n",
              "      <td>NaN</td>\n",
              "    </tr>\n",
              "    <tr>\n",
              "      <th>Grid_Search</th>\n",
              "      <td>NaN</td>\n",
              "      <td>NaN</td>\n",
              "      <td>NaN</td>\n",
              "    </tr>\n",
              "    <tr>\n",
              "      <th>Stacking</th>\n",
              "      <td>NaN</td>\n",
              "      <td>NaN</td>\n",
              "      <td>NaN</td>\n",
              "    </tr>\n",
              "    <tr>\n",
              "      <th>Bagging</th>\n",
              "      <td>NaN</td>\n",
              "      <td>NaN</td>\n",
              "      <td>NaN</td>\n",
              "    </tr>\n",
              "    <tr>\n",
              "      <th>Bagging_all</th>\n",
              "      <td>NaN</td>\n",
              "      <td>NaN</td>\n",
              "      <td>NaN</td>\n",
              "    </tr>\n",
              "    <tr>\n",
              "      <th>Mutual_Regression (scaled)</th>\n",
              "      <td>NaN</td>\n",
              "      <td>NaN</td>\n",
              "      <td>NaN</td>\n",
              "    </tr>\n",
              "    <tr>\n",
              "      <th>Mutual_Regression</th>\n",
              "      <td>NaN</td>\n",
              "      <td>NaN</td>\n",
              "      <td>NaN</td>\n",
              "    </tr>\n",
              "    <tr>\n",
              "      <th rowspan=\"11\" valign=\"top\">CART</th>\n",
              "      <th>Baseline</th>\n",
              "      <td>NaN</td>\n",
              "      <td>NaN</td>\n",
              "      <td>NaN</td>\n",
              "    </tr>\n",
              "    <tr>\n",
              "      <th>Scaling</th>\n",
              "      <td>NaN</td>\n",
              "      <td>NaN</td>\n",
              "      <td>NaN</td>\n",
              "    </tr>\n",
              "    <tr>\n",
              "      <th>Feature_Engineering</th>\n",
              "      <td>NaN</td>\n",
              "      <td>NaN</td>\n",
              "      <td>NaN</td>\n",
              "    </tr>\n",
              "    <tr>\n",
              "      <th>Feature_Engineering_overall</th>\n",
              "      <td>NaN</td>\n",
              "      <td>NaN</td>\n",
              "      <td>NaN</td>\n",
              "    </tr>\n",
              "    <tr>\n",
              "      <th>Feature_Selection</th>\n",
              "      <td>NaN</td>\n",
              "      <td>NaN</td>\n",
              "      <td>NaN</td>\n",
              "    </tr>\n",
              "    <tr>\n",
              "      <th>Grid_Search</th>\n",
              "      <td>NaN</td>\n",
              "      <td>NaN</td>\n",
              "      <td>NaN</td>\n",
              "    </tr>\n",
              "    <tr>\n",
              "      <th>Stacking</th>\n",
              "      <td>NaN</td>\n",
              "      <td>NaN</td>\n",
              "      <td>NaN</td>\n",
              "    </tr>\n",
              "    <tr>\n",
              "      <th>Bagging</th>\n",
              "      <td>NaN</td>\n",
              "      <td>NaN</td>\n",
              "      <td>NaN</td>\n",
              "    </tr>\n",
              "    <tr>\n",
              "      <th>Bagging_all</th>\n",
              "      <td>NaN</td>\n",
              "      <td>NaN</td>\n",
              "      <td>NaN</td>\n",
              "    </tr>\n",
              "    <tr>\n",
              "      <th>Mutual_Regression (scaled)</th>\n",
              "      <td>NaN</td>\n",
              "      <td>NaN</td>\n",
              "      <td>NaN</td>\n",
              "    </tr>\n",
              "    <tr>\n",
              "      <th>Mutual_Regression</th>\n",
              "      <td>NaN</td>\n",
              "      <td>NaN</td>\n",
              "      <td>NaN</td>\n",
              "    </tr>\n",
              "  </tbody>\n",
              "</table>\n",
              "</div>"
            ],
            "text/plain": [
              "                                         TrainScore  TestScore Model\n",
              "model names technique                                               \n",
              "LinReg      Baseline                            NaN        NaN   NaN\n",
              "            Scaling                             NaN        NaN   NaN\n",
              "            Feature_Engineering                 NaN        NaN   NaN\n",
              "            Feature_Engineering_overall         NaN        NaN   NaN\n",
              "            Feature_Selection                   NaN        NaN   NaN\n",
              "            Grid_Search                         NaN        NaN   NaN\n",
              "            Stacking                            NaN        NaN   NaN\n",
              "            Bagging                             NaN        NaN   NaN\n",
              "            Bagging_all                         NaN        NaN   NaN\n",
              "            Mutual_Regression (scaled)          NaN        NaN   NaN\n",
              "            Mutual_Regression                   NaN        NaN   NaN\n",
              "LassoCV     Baseline                            NaN        NaN   NaN\n",
              "            Scaling                             NaN        NaN   NaN\n",
              "            Feature_Engineering                 NaN        NaN   NaN\n",
              "            Feature_Engineering_overall         NaN        NaN   NaN\n",
              "            Feature_Selection                   NaN        NaN   NaN\n",
              "            Grid_Search                         NaN        NaN   NaN\n",
              "            Stacking                            NaN        NaN   NaN\n",
              "            Bagging                             NaN        NaN   NaN\n",
              "            Bagging_all                         NaN        NaN   NaN\n",
              "            Mutual_Regression (scaled)          NaN        NaN   NaN\n",
              "            Mutual_Regression                   NaN        NaN   NaN\n",
              "RidgeCV     Baseline                            NaN        NaN   NaN\n",
              "            Scaling                             NaN        NaN   NaN\n",
              "            Feature_Engineering                 NaN        NaN   NaN\n",
              "            Feature_Engineering_overall         NaN        NaN   NaN\n",
              "            Feature_Selection                   NaN        NaN   NaN\n",
              "            Grid_Search                         NaN        NaN   NaN\n",
              "            Stacking                            NaN        NaN   NaN\n",
              "            Bagging                             NaN        NaN   NaN\n",
              "            Bagging_all                         NaN        NaN   NaN\n",
              "            Mutual_Regression (scaled)          NaN        NaN   NaN\n",
              "            Mutual_Regression                   NaN        NaN   NaN\n",
              "RF          Baseline                            NaN        NaN   NaN\n",
              "            Scaling                             NaN        NaN   NaN\n",
              "            Feature_Engineering                 NaN        NaN   NaN\n",
              "            Feature_Engineering_overall         NaN        NaN   NaN\n",
              "            Feature_Selection                   NaN        NaN   NaN\n",
              "            Grid_Search                         NaN        NaN   NaN\n",
              "            Stacking                            NaN        NaN   NaN\n",
              "            Bagging                             NaN        NaN   NaN\n",
              "            Bagging_all                         NaN        NaN   NaN\n",
              "            Mutual_Regression (scaled)          NaN        NaN   NaN\n",
              "            Mutual_Regression                   NaN        NaN   NaN\n",
              "CART        Baseline                            NaN        NaN   NaN\n",
              "            Scaling                             NaN        NaN   NaN\n",
              "            Feature_Engineering                 NaN        NaN   NaN\n",
              "            Feature_Engineering_overall         NaN        NaN   NaN\n",
              "            Feature_Selection                   NaN        NaN   NaN\n",
              "            Grid_Search                         NaN        NaN   NaN\n",
              "            Stacking                            NaN        NaN   NaN\n",
              "            Bagging                             NaN        NaN   NaN\n",
              "            Bagging_all                         NaN        NaN   NaN\n",
              "            Mutual_Regression (scaled)          NaN        NaN   NaN\n",
              "            Mutual_Regression                   NaN        NaN   NaN"
            ]
          },
          "metadata": {
            "tags": []
          },
          "execution_count": 7
        }
      ]
    },
    {
      "cell_type": "markdown",
      "metadata": {
        "id": "A-bquQgrFUMm"
      },
      "source": [
        "Define a function to fit and score all models and update the all_models dataframe"
      ]
    },
    {
      "cell_type": "code",
      "metadata": {
        "id": "YhU64uun2lWj"
      },
      "source": [
        "def fit_and_score_model(all_models, stage_name, X_train, X_out_of_sample, y_train, y_out_of_sample):\n",
        "    \"\"\"Fits the models that are inialized by models_dict on the X_train and y_train\n",
        "    data, and evalautes the model on the out-of-sample data X_out_of_sample and y_out_of_sample\"\"\"\n",
        "    \n",
        "    # Make a dictionary of models\n",
        "    models_dict = make_models()\n",
        "\n",
        "    # Loop through each model in model_dict\n",
        "    for model_name in models_dict:\n",
        "        model = models_dict[model_name]\n",
        "\n",
        "        # fit the model\n",
        "        model.fit(X_train,y_train)\n",
        "        train_score = model.score(X_train,y_train)\n",
        "        test_score = model.score(X_out_of_sample, y_out_of_sample)\n",
        "\n",
        "\n",
        "        # -------------------------------------------------------------------------\n",
        "        print(f'{model_name} achieved a train score of {train_score:.3f} and test score of {test_score:.3f}')\n",
        "        \n",
        "        all_models.loc[model_name, stage_name] = (train_score, test_score, model)\n",
        "\n",
        "    return all_models\n"
      ],
      "execution_count": null,
      "outputs": []
    },
    {
      "cell_type": "markdown",
      "metadata": {
        "id": "dxk-_uUsFFlB"
      },
      "source": [
        "Define a method to just fit and score a single model and return the train and test score. This can be used if you just want to see performance and do not want to add to all_models just yet."
      ]
    },
    {
      "cell_type": "code",
      "metadata": {
        "id": "ZPvgGzfWCXfY"
      },
      "source": [
        "def fit_score_single_model (mdl,mdl_name,X_train, X_out_of_sample, y_train, y_out_of_sample):\n",
        "  # fit the model\n",
        "  mdl.fit(X_train,y_train)\n",
        "  train_score = mdl.score(X_train,y_train)\n",
        "  test_score = mdl.score(X_out_of_sample, y_out_of_sample)\n",
        "  print(f'{mdl_name} achieved a train score of {train_score:.3f} and test score of {test_score:.3f}')\n",
        "  return train_score, test_score"
      ],
      "execution_count": null,
      "outputs": []
    },
    {
      "cell_type": "markdown",
      "metadata": {
        "id": "Y10xaNngFRAA"
      },
      "source": [
        "Define a function to compare model performance"
      ]
    },
    {
      "cell_type": "code",
      "metadata": {
        "id": "cEitMK3K-X2Y"
      },
      "source": [
        "def compare_models(technique_name):\n",
        "  \"\"\"Prints out the average and biggest improvement observed between the \n",
        "  models trained with technique_name and the Baseline models\"\"\"\n",
        "\n",
        "  # Evaluate score differences\n",
        "  test_score_differences = (all_models.loc[:, technique_name, :].TestScore - all_models.loc[:, 'Baseline', :].TestScore)\n",
        "\n",
        "  # Get the average and biggest score improvement\n",
        "  mean_score_difference = test_score_differences.mean()\n",
        "  most_score_improvement = test_score_differences.max()\n",
        "\n",
        "  print(f'On average, scores improved by {mean_score_difference:.2f}, and the most improvement was {most_score_improvement:.2f}')\n",
        "\n"
      ],
      "execution_count": null,
      "outputs": []
    },
    {
      "cell_type": "markdown",
      "metadata": {
        "id": "ZuUe4_TQIcLB"
      },
      "source": [
        "## Model Performance Baseline"
      ]
    },
    {
      "cell_type": "code",
      "metadata": {
        "id": "0-ORA7Q9Id-u",
        "colab": {
          "base_uri": "https://localhost:8080/",
          "height": 315
        },
        "outputId": "1280b221-e9bf-47c4-d820-212368de9fbc"
      },
      "source": [
        "all_models = fit_and_score_model(all_models, 'Baseline', X_train, X_val, y_train, y_val)\n",
        "all_models.loc[:, 'Baseline', :].head()"
      ],
      "execution_count": null,
      "outputs": [
        {
          "output_type": "stream",
          "text": [
            "LinReg achieved a train score of 0.368 and test score of -0.612\n",
            "LassoCV achieved a train score of 0.339 and test score of 0.137\n",
            "RidgeCV achieved a train score of 0.366 and test score of -0.121\n",
            "RF achieved a train score of 0.904 and test score of -0.053\n",
            "CART achieved a train score of 1.000 and test score of -0.468\n"
          ],
          "name": "stdout"
        },
        {
          "output_type": "execute_result",
          "data": {
            "text/html": [
              "<div>\n",
              "<style scoped>\n",
              "    .dataframe tbody tr th:only-of-type {\n",
              "        vertical-align: middle;\n",
              "    }\n",
              "\n",
              "    .dataframe tbody tr th {\n",
              "        vertical-align: top;\n",
              "    }\n",
              "\n",
              "    .dataframe thead th {\n",
              "        text-align: right;\n",
              "    }\n",
              "</style>\n",
              "<table border=\"1\" class=\"dataframe\">\n",
              "  <thead>\n",
              "    <tr style=\"text-align: right;\">\n",
              "      <th></th>\n",
              "      <th>TrainScore</th>\n",
              "      <th>TestScore</th>\n",
              "      <th>Model</th>\n",
              "    </tr>\n",
              "    <tr>\n",
              "      <th>model names</th>\n",
              "      <th></th>\n",
              "      <th></th>\n",
              "      <th></th>\n",
              "    </tr>\n",
              "  </thead>\n",
              "  <tbody>\n",
              "    <tr>\n",
              "      <th>LinReg</th>\n",
              "      <td>0.367663</td>\n",
              "      <td>-0.612293</td>\n",
              "      <td>LinearRegression(copy_X=True, fit_intercept=Tr...</td>\n",
              "    </tr>\n",
              "    <tr>\n",
              "      <th>LassoCV</th>\n",
              "      <td>0.338874</td>\n",
              "      <td>0.136505</td>\n",
              "      <td>LassoCV(alphas=None, copy_X=True, cv=None, eps...</td>\n",
              "    </tr>\n",
              "    <tr>\n",
              "      <th>RidgeCV</th>\n",
              "      <td>0.366021</td>\n",
              "      <td>-0.120880</td>\n",
              "      <td>RidgeCV(alphas=array([ 0.1,  1. , 10. ]), cv=N...</td>\n",
              "    </tr>\n",
              "    <tr>\n",
              "      <th>RF</th>\n",
              "      <td>0.904092</td>\n",
              "      <td>-0.053368</td>\n",
              "      <td>(DecisionTreeRegressor(ccp_alpha=0.0, criterio...</td>\n",
              "    </tr>\n",
              "    <tr>\n",
              "      <th>CART</th>\n",
              "      <td>1.000000</td>\n",
              "      <td>-0.468014</td>\n",
              "      <td>DecisionTreeRegressor(ccp_alpha=0.0, criterion...</td>\n",
              "    </tr>\n",
              "  </tbody>\n",
              "</table>\n",
              "</div>"
            ],
            "text/plain": [
              "             TrainScore  ...                                              Model\n",
              "model names              ...                                                   \n",
              "LinReg         0.367663  ...  LinearRegression(copy_X=True, fit_intercept=Tr...\n",
              "LassoCV        0.338874  ...  LassoCV(alphas=None, copy_X=True, cv=None, eps...\n",
              "RidgeCV        0.366021  ...  RidgeCV(alphas=array([ 0.1,  1. , 10. ]), cv=N...\n",
              "RF             0.904092  ...  (DecisionTreeRegressor(ccp_alpha=0.0, criterio...\n",
              "CART           1.000000  ...  DecisionTreeRegressor(ccp_alpha=0.0, criterion...\n",
              "\n",
              "[5 rows x 3 columns]"
            ]
          },
          "metadata": {
            "tags": []
          },
          "execution_count": 11
        }
      ]
    },
    {
      "cell_type": "markdown",
      "metadata": {
        "id": "vkG1Takb5JHJ"
      },
      "source": [
        "# Data Scaling"
      ]
    },
    {
      "cell_type": "markdown",
      "metadata": {
        "id": "YDsBJJQNFzMv"
      },
      "source": [
        "Define a function to standardize the data. Note: categorigal features should be left alone."
      ]
    },
    {
      "cell_type": "code",
      "metadata": {
        "id": "5SZSiQgA5MnW",
        "colab": {
          "base_uri": "https://localhost:8080/",
          "height": 235
        },
        "outputId": "c2770c0a-9531-441f-9b42-3d47d2239f6f"
      },
      "source": [
        "#from sklearn.preprocessing import StandardScaler\n",
        "\n",
        "def standardize_data(X_train, X_out_of_sample,y_train,y_out_of_sample):\n",
        "    \"\"\"Standardizes all of the data in X_train and X_out_of_sample. The mean and\n",
        "    standard diviation of each feature (i.e., each column) from the X_train\n",
        "    data is used to standarize both the X_train and X_out_of sample.\"\"\"\n",
        "    X_train_c = X_train.copy()\n",
        "    X_out_of_sample_c = X_out_of_sample.copy()\n",
        "    y_train_c = y_train.copy()\n",
        "    y_out_of_sample_c = y_out_of_sample.copy()\n",
        "\n",
        "\n",
        "    # Initialize data frame for scaled data\n",
        "    df_train_standarized = pd.concat([y_train_c,X_train_c.iloc[:,0:3], X_train_c.iloc[:,21:]],axis =1 ) \n",
        "    df_out_of_sample_standarized = pd.concat([y_out_of_sample_c,X_out_of_sample_c.iloc[:,0:3], X_out_of_sample_c.iloc[:,21:]],axis =1)\n",
        "\n",
        "    # Define scaling function\n",
        "    scaler = StandardScaler()\n",
        "\n",
        "    # Scale the features      \n",
        "    scaler.fit(df_train_standarized)\n",
        "\n",
        "    # Transform the features\n",
        "    train_standarized = scaler.transform(df_train_standarized)\n",
        "    out_of_sample_standarized = scaler.transform(df_out_of_sample_standarized)\n",
        "\n",
        "    # Convert this to dataframe again\n",
        "    train_standarized = pd.DataFrame(train_standarized,columns = df_train_standarized.columns)\n",
        "    out_of_sample_standarized = pd.DataFrame(out_of_sample_standarized,columns = df_out_of_sample_standarized.columns)\n",
        "\n",
        "    X_train_c.reset_index(inplace=True)\n",
        "    X_out_of_sample_c.reset_index(inplace=True)\n",
        "\n",
        "\n",
        "\n",
        "    #split the data and re concat them accordingly since we dont scale binary\n",
        "    X_train_standarized = pd.concat([train_standarized.iloc[:,1:],X_train_c.iloc[:,4:20]],axis = 1)\n",
        "    X_out_of_sample_standarized = pd.concat([out_of_sample_standarized.iloc[:,1:],X_out_of_sample_c.iloc[:,4:20]],axis = 1)\n",
        "\n",
        "    y_train_standarized = train_standarized.iloc[:,0]\n",
        "    y_out_of_sample_standarized = out_of_sample_standarized.iloc[:,0]\n",
        "\n",
        "\n",
        "    return X_train_standarized, X_out_of_sample_standarized,y_train_standarized,y_out_of_sample_standarized, scaler\n",
        "\n",
        "# Make new data that is scaled\"\n",
        "X_train_scaled, X_val_scaled, y_train_scaled,y_val_scaled, scaler = standardize_data(X_train, X_val,y_train,y_val)\n",
        "X_train_scaled.head()"
      ],
      "execution_count": null,
      "outputs": [
        {
          "output_type": "execute_result",
          "data": {
            "text/html": [
              "<div>\n",
              "<style scoped>\n",
              "    .dataframe tbody tr th:only-of-type {\n",
              "        vertical-align: middle;\n",
              "    }\n",
              "\n",
              "    .dataframe tbody tr th {\n",
              "        vertical-align: top;\n",
              "    }\n",
              "\n",
              "    .dataframe thead th {\n",
              "        text-align: right;\n",
              "    }\n",
              "</style>\n",
              "<table border=\"1\" class=\"dataframe\">\n",
              "  <thead>\n",
              "    <tr style=\"text-align: right;\">\n",
              "      <th></th>\n",
              "      <th>TOMATOMETER score</th>\n",
              "      <th>TOMATOMETER Count</th>\n",
              "      <th>Runtime</th>\n",
              "      <th>cast1_oscars</th>\n",
              "      <th>cast2_oscar_nom</th>\n",
              "      <th>cast2_oscars</th>\n",
              "      <th>cast3_oscar_nom</th>\n",
              "      <th>cast3_oscars</th>\n",
              "      <th>cast1_FB_likes</th>\n",
              "      <th>cast2_FB_likes</th>\n",
              "      <th>cast3_FB_likes</th>\n",
              "      <th>dir_oscar_nom</th>\n",
              "      <th>dir_oscars</th>\n",
              "      <th>director_awards</th>\n",
              "      <th>director_facebook_likes</th>\n",
              "      <th>Genre_Action</th>\n",
              "      <th>Genre_Art&amp;Foreign</th>\n",
              "      <th>Genre_Classics</th>\n",
              "      <th>Genre_Comedy</th>\n",
              "      <th>Genre_Documentary</th>\n",
              "      <th>Genre_Drama</th>\n",
              "      <th>Genre_Horror</th>\n",
              "      <th>Genre_Kids&amp;Family</th>\n",
              "      <th>Genre_Mystery</th>\n",
              "      <th>Genre_Romance</th>\n",
              "      <th>Genre_SciFi</th>\n",
              "      <th>Rating_G</th>\n",
              "      <th>Rating_NC17</th>\n",
              "      <th>Rating_NR</th>\n",
              "      <th>Rating_PG</th>\n",
              "      <th>Rating_PG-13</th>\n",
              "    </tr>\n",
              "  </thead>\n",
              "  <tbody>\n",
              "    <tr>\n",
              "      <th>0</th>\n",
              "      <td>1.152374</td>\n",
              "      <td>-0.651147</td>\n",
              "      <td>-1.967950</td>\n",
              "      <td>-0.292794</td>\n",
              "      <td>-0.270689</td>\n",
              "      <td>-0.221204</td>\n",
              "      <td>-0.293281</td>\n",
              "      <td>-0.201318</td>\n",
              "      <td>-0.310529</td>\n",
              "      <td>-0.218702</td>\n",
              "      <td>-0.165692</td>\n",
              "      <td>-0.177007</td>\n",
              "      <td>-0.123257</td>\n",
              "      <td>-0.249100</td>\n",
              "      <td>-0.061326</td>\n",
              "      <td>0</td>\n",
              "      <td>0</td>\n",
              "      <td>0</td>\n",
              "      <td>0</td>\n",
              "      <td>1</td>\n",
              "      <td>0</td>\n",
              "      <td>0</td>\n",
              "      <td>0</td>\n",
              "      <td>0</td>\n",
              "      <td>0</td>\n",
              "      <td>0</td>\n",
              "      <td>0</td>\n",
              "      <td>0</td>\n",
              "      <td>1</td>\n",
              "      <td>0</td>\n",
              "      <td>0</td>\n",
              "    </tr>\n",
              "    <tr>\n",
              "      <th>1</th>\n",
              "      <td>0.385815</td>\n",
              "      <td>-0.691179</td>\n",
              "      <td>-1.904327</td>\n",
              "      <td>-0.292794</td>\n",
              "      <td>-0.270689</td>\n",
              "      <td>-0.221204</td>\n",
              "      <td>-0.293281</td>\n",
              "      <td>-0.201318</td>\n",
              "      <td>-0.332887</td>\n",
              "      <td>-0.218702</td>\n",
              "      <td>-0.165692</td>\n",
              "      <td>-0.177007</td>\n",
              "      <td>-0.123257</td>\n",
              "      <td>-0.249100</td>\n",
              "      <td>-0.061326</td>\n",
              "      <td>0</td>\n",
              "      <td>1</td>\n",
              "      <td>0</td>\n",
              "      <td>0</td>\n",
              "      <td>0</td>\n",
              "      <td>1</td>\n",
              "      <td>1</td>\n",
              "      <td>0</td>\n",
              "      <td>1</td>\n",
              "      <td>0</td>\n",
              "      <td>0</td>\n",
              "      <td>0</td>\n",
              "      <td>0</td>\n",
              "      <td>1</td>\n",
              "      <td>0</td>\n",
              "      <td>0</td>\n",
              "    </tr>\n",
              "    <tr>\n",
              "      <th>2</th>\n",
              "      <td>1.047843</td>\n",
              "      <td>-0.771243</td>\n",
              "      <td>0.195213</td>\n",
              "      <td>-0.292794</td>\n",
              "      <td>-0.270689</td>\n",
              "      <td>-0.221204</td>\n",
              "      <td>-0.293281</td>\n",
              "      <td>-0.201318</td>\n",
              "      <td>-0.332887</td>\n",
              "      <td>-0.218702</td>\n",
              "      <td>-0.165692</td>\n",
              "      <td>-0.177007</td>\n",
              "      <td>-0.123257</td>\n",
              "      <td>-0.249100</td>\n",
              "      <td>-0.061326</td>\n",
              "      <td>0</td>\n",
              "      <td>0</td>\n",
              "      <td>0</td>\n",
              "      <td>0</td>\n",
              "      <td>0</td>\n",
              "      <td>1</td>\n",
              "      <td>0</td>\n",
              "      <td>0</td>\n",
              "      <td>0</td>\n",
              "      <td>0</td>\n",
              "      <td>0</td>\n",
              "      <td>0</td>\n",
              "      <td>0</td>\n",
              "      <td>1</td>\n",
              "      <td>0</td>\n",
              "      <td>0</td>\n",
              "    </tr>\n",
              "    <tr>\n",
              "      <th>3</th>\n",
              "      <td>-0.764022</td>\n",
              "      <td>1.060220</td>\n",
              "      <td>1.213172</td>\n",
              "      <td>-0.292794</td>\n",
              "      <td>-0.270689</td>\n",
              "      <td>-0.221204</td>\n",
              "      <td>-0.293281</td>\n",
              "      <td>-0.201318</td>\n",
              "      <td>1.077507</td>\n",
              "      <td>1.139184</td>\n",
              "      <td>-0.165692</td>\n",
              "      <td>-0.177007</td>\n",
              "      <td>-0.123257</td>\n",
              "      <td>-0.052622</td>\n",
              "      <td>-0.148024</td>\n",
              "      <td>1</td>\n",
              "      <td>0</td>\n",
              "      <td>0</td>\n",
              "      <td>0</td>\n",
              "      <td>0</td>\n",
              "      <td>0</td>\n",
              "      <td>0</td>\n",
              "      <td>0</td>\n",
              "      <td>0</td>\n",
              "      <td>1</td>\n",
              "      <td>1</td>\n",
              "      <td>0</td>\n",
              "      <td>0</td>\n",
              "      <td>0</td>\n",
              "      <td>0</td>\n",
              "      <td>1</td>\n",
              "    </tr>\n",
              "    <tr>\n",
              "      <th>4</th>\n",
              "      <td>0.037380</td>\n",
              "      <td>0.199532</td>\n",
              "      <td>-1.204480</td>\n",
              "      <td>-0.292794</td>\n",
              "      <td>-0.270689</td>\n",
              "      <td>-0.221204</td>\n",
              "      <td>-0.293281</td>\n",
              "      <td>-0.201318</td>\n",
              "      <td>-0.338245</td>\n",
              "      <td>-0.218702</td>\n",
              "      <td>0.026479</td>\n",
              "      <td>-0.177007</td>\n",
              "      <td>-0.123257</td>\n",
              "      <td>-0.249100</td>\n",
              "      <td>-0.061326</td>\n",
              "      <td>1</td>\n",
              "      <td>0</td>\n",
              "      <td>0</td>\n",
              "      <td>0</td>\n",
              "      <td>0</td>\n",
              "      <td>0</td>\n",
              "      <td>1</td>\n",
              "      <td>0</td>\n",
              "      <td>1</td>\n",
              "      <td>0</td>\n",
              "      <td>0</td>\n",
              "      <td>0</td>\n",
              "      <td>0</td>\n",
              "      <td>0</td>\n",
              "      <td>0</td>\n",
              "      <td>0</td>\n",
              "    </tr>\n",
              "  </tbody>\n",
              "</table>\n",
              "</div>"
            ],
            "text/plain": [
              "   TOMATOMETER score  TOMATOMETER Count  ...  Rating_PG  Rating_PG-13\n",
              "0           1.152374          -0.651147  ...          0             0\n",
              "1           0.385815          -0.691179  ...          0             0\n",
              "2           1.047843          -0.771243  ...          0             0\n",
              "3          -0.764022           1.060220  ...          0             1\n",
              "4           0.037380           0.199532  ...          0             0\n",
              "\n",
              "[5 rows x 31 columns]"
            ]
          },
          "metadata": {
            "tags": []
          },
          "execution_count": 12
        }
      ]
    },
    {
      "cell_type": "code",
      "metadata": {
        "id": "YZkfJZa3rdAB"
      },
      "source": [
        ""
      ],
      "execution_count": null,
      "outputs": []
    },
    {
      "cell_type": "markdown",
      "metadata": {
        "id": "41o5Ku6EHMTQ"
      },
      "source": [
        "## Model Performance with Scaled Data"
      ]
    },
    {
      "cell_type": "markdown",
      "metadata": {
        "id": "QOJmFbtbE53D"
      },
      "source": [
        "Feed the scaled data into the models. We can't feed continuous y data into CART and RF so lets just score LinReg, LassoCV and Ridge CV."
      ]
    },
    {
      "cell_type": "code",
      "metadata": {
        "id": "B6xYdmgAviMJ",
        "colab": {
          "base_uri": "https://localhost:8080/",
          "height": 366
        },
        "outputId": "d2576337-b01e-46f5-dcf3-c62dcac5e2b8"
      },
      "source": [
        "#update all_models with Scaling results\n",
        "all_models = fit_and_score_model(all_models, 'Scaling', X_train_scaled, X_val_scaled, y_train_scaled, y_val_scaled)\n",
        "print('_________________________\\n')\n",
        "compare_models('Scaling')\n",
        "all_models.loc[:, 'Scaling', :].head()"
      ],
      "execution_count": null,
      "outputs": [
        {
          "output_type": "stream",
          "text": [
            "LinReg achieved a train score of 0.367 and test score of -0.589\n",
            "LassoCV achieved a train score of 0.352 and test score of 0.025\n",
            "RidgeCV achieved a train score of 0.366 and test score of -0.166\n",
            "RF achieved a train score of 0.903 and test score of -0.172\n",
            "CART achieved a train score of 1.000 and test score of -1.202\n",
            "_________________________\n",
            "\n",
            "On average, scores improved by -0.20, and the most improvement was 0.02\n"
          ],
          "name": "stdout"
        },
        {
          "output_type": "execute_result",
          "data": {
            "text/html": [
              "<div>\n",
              "<style scoped>\n",
              "    .dataframe tbody tr th:only-of-type {\n",
              "        vertical-align: middle;\n",
              "    }\n",
              "\n",
              "    .dataframe tbody tr th {\n",
              "        vertical-align: top;\n",
              "    }\n",
              "\n",
              "    .dataframe thead th {\n",
              "        text-align: right;\n",
              "    }\n",
              "</style>\n",
              "<table border=\"1\" class=\"dataframe\">\n",
              "  <thead>\n",
              "    <tr style=\"text-align: right;\">\n",
              "      <th></th>\n",
              "      <th>TrainScore</th>\n",
              "      <th>TestScore</th>\n",
              "      <th>Model</th>\n",
              "    </tr>\n",
              "    <tr>\n",
              "      <th>model names</th>\n",
              "      <th></th>\n",
              "      <th></th>\n",
              "      <th></th>\n",
              "    </tr>\n",
              "  </thead>\n",
              "  <tbody>\n",
              "    <tr>\n",
              "      <th>LinReg</th>\n",
              "      <td>0.366933</td>\n",
              "      <td>-0.588702</td>\n",
              "      <td>LinearRegression(copy_X=True, fit_intercept=Tr...</td>\n",
              "    </tr>\n",
              "    <tr>\n",
              "      <th>LassoCV</th>\n",
              "      <td>0.352108</td>\n",
              "      <td>0.024764</td>\n",
              "      <td>LassoCV(alphas=None, copy_X=True, cv=None, eps...</td>\n",
              "    </tr>\n",
              "    <tr>\n",
              "      <th>RidgeCV</th>\n",
              "      <td>0.365794</td>\n",
              "      <td>-0.166441</td>\n",
              "      <td>RidgeCV(alphas=array([ 0.1,  1. , 10. ]), cv=N...</td>\n",
              "    </tr>\n",
              "    <tr>\n",
              "      <th>RF</th>\n",
              "      <td>0.902692</td>\n",
              "      <td>-0.171983</td>\n",
              "      <td>(DecisionTreeRegressor(ccp_alpha=0.0, criterio...</td>\n",
              "    </tr>\n",
              "    <tr>\n",
              "      <th>CART</th>\n",
              "      <td>1.000000</td>\n",
              "      <td>-1.202456</td>\n",
              "      <td>DecisionTreeRegressor(ccp_alpha=0.0, criterion...</td>\n",
              "    </tr>\n",
              "  </tbody>\n",
              "</table>\n",
              "</div>"
            ],
            "text/plain": [
              "             TrainScore  ...                                              Model\n",
              "model names              ...                                                   \n",
              "LinReg         0.366933  ...  LinearRegression(copy_X=True, fit_intercept=Tr...\n",
              "LassoCV        0.352108  ...  LassoCV(alphas=None, copy_X=True, cv=None, eps...\n",
              "RidgeCV        0.365794  ...  RidgeCV(alphas=array([ 0.1,  1. , 10. ]), cv=N...\n",
              "RF             0.902692  ...  (DecisionTreeRegressor(ccp_alpha=0.0, criterio...\n",
              "CART           1.000000  ...  DecisionTreeRegressor(ccp_alpha=0.0, criterion...\n",
              "\n",
              "[5 rows x 3 columns]"
            ]
          },
          "metadata": {
            "tags": []
          },
          "execution_count": 13
        }
      ]
    },
    {
      "cell_type": "markdown",
      "metadata": {
        "id": "FqtlKAIaP7Mq"
      },
      "source": [
        "https://machinelearningmastery.com/feature-selection-with-real-and-categorical-data/"
      ]
    },
    {
      "cell_type": "markdown",
      "metadata": {
        "id": "ca9d-QiqEQiq"
      },
      "source": [
        "Vaiance Threshold method for feature slection\n",
        "\n",
        "> Features in which identical value occupies the majority of the samples are said to have zero variance. Such features carrying little information will not affect the target variable and can be dropped. You can adjust the threshold value, default is 0, i.e remove the features that have the same value in all samples. For quasi-constant features, that have the same value for a very large subset, use threshold as 0.01. In other words, drop the column where 99% of the values are similar.[https://towardsdatascience.com/learn-how-to-do-feature-selection-the-right-way-61bca8557bef \n",
        "\n"
      ]
    },
    {
      "cell_type": "markdown",
      "metadata": {
        "id": "ttt9WPycFN5j"
      },
      "source": [
        "Correlation coefficient\n",
        "\n",
        "> Two independent features (X) are highly correlated if they have a strong relationship with each other and move in a similar direction. In that case, you don't need two similar features to be fed to the model, if one can suffice. It centrally takes into consideration the fitted line, slope of the fitted line and the quality of the fit. There are various approaches for calculating correlation coefficients and if a pair of columns cross a certain threshold, the one that shows a high correlation with the target variable (y) will be kept and the other one will be dropped.\n",
        "\n"
      ]
    },
    {
      "cell_type": "markdown",
      "metadata": {
        "id": "k-AL26cIFYkq"
      },
      "source": [
        "Mutual Information (for both regression & classification)\n",
        "\n",
        "> The mutual information measures the contribution of a variable towards another variable. In other words, how much will the target variable be impacted if we remove or add the feature? MI is 0 if both the variables are independent and ranges between 0 –1 if X is deterministic of Y. MI is primarily the entropy of X, which measures or quantifies the amount of information obtained about one random variable, through the other random variable.\n",
        "The best thing about MI is that it allows one to detect non-linear relationships and works for both regression and classification. Cool! isn't it \n",
        "\n"
      ]
    },
    {
      "cell_type": "markdown",
      "metadata": {
        "id": "-3RBB2gTF3cZ"
      },
      "source": [
        "III. Embedded Methods\n",
        "These methods combine the functionalities of both Filter and Wrapper methods. The upside is that they perform feature selection during the process of training which is why they are called embedded! The computational speed is as good as of filter methods and of course better accuracy, making it a win-win model!\n",
        "\n",
        "\n",
        "> 1.) L1 ( LASSO) Regularization\n",
        "\n",
        "> 2.) Tree Model (for Regression & Classification)\n",
        "\n",
        "\n"
      ]
    },
    {
      "cell_type": "markdown",
      "metadata": {
        "id": "e_iqK5lzW1oM"
      },
      "source": [
        "**Transforming Features**\n",
        "\n",
        "> use mutual info regression: Mutual information between two variables, measures how much a given feature can explain another (target), or more technically, how much information about the target will variable will be obtained by having observed a feature.\n",
        "\n"
      ]
    },
    {
      "cell_type": "markdown",
      "metadata": {
        "id": "EGfzUxFiHdZ_"
      },
      "source": [
        "# New Feature Combos"
      ]
    },
    {
      "cell_type": "markdown",
      "metadata": {
        "id": "6mvp1WFYu60W"
      },
      "source": [
        "I think i have to try different combintation of these feature and also i have to fix Total Fb likes since that has been a didfferent column now"
      ]
    },
    {
      "cell_type": "code",
      "metadata": {
        "id": "JhJbh_qOJPoJ"
      },
      "source": [
        "# get number of genre colummn, total number of cast oscar, total number of director and cast likes, \n",
        "def new_feature_combos(X,condition):\n",
        "   \n",
        "    # First, we apply the monotone transform function\n",
        "    X_new = X.copy()\n",
        "    \n",
        "    # Then we add new features\n",
        "    enters_genre = True\n",
        "    enters_oscar = True\n",
        "    enters_FB = True\n",
        "    enters_award =True\n",
        "\n",
        "    for f_index, f in enumerate(X_new.columns):\n",
        "      if  'Genre' in f:\n",
        "        if enters_genre:\n",
        "          new_feature_genre = X_new[[f]].rename(columns = {X_new[[f]].columns[0]:\"total_genre\"})\n",
        "          enters_genre = False\n",
        "        else:\n",
        "          new_feature_genre = new_feature_genre.add(X_new[[f]].rename(columns = {X_new[[f]].columns[0]:\"total_genre\"})) \n",
        "\n",
        "      elif 'oscar_nom' in f:\n",
        "        if enters_oscar:\n",
        "          new_feature_oscar_nom = X_new[[f]].rename(columns = {X_new[[f]].columns[0]:\"total_oscar_nom\"})\n",
        "          enters_oscar = False\n",
        "        else:\n",
        "          new_feature_oscar_nom = new_feature_oscar_nom.add(X_new[[f]].rename(columns = {X_new[[f]].columns[0]:\"total_oscar_nom\"})) \n",
        "\n",
        "      \n",
        "      elif 'FB_likes' in f:\n",
        "         if enters_FB:\n",
        "          new_feature_FB = X_new[[f]].rename(columns = {X_new[[f]].columns[0]:\"total_cast_facebook_likes\"})\n",
        "          enters_FB = False\n",
        "         else:\n",
        "          new_feature_FB = new_feature_FB.add(X_new[[f]].rename(columns = {X_new[[f]].columns[0]:\"total_cast_facebook_likes\"})) \n",
        "\n",
        "\n",
        "      elif 'oscars' in f or 'awards' in f:\n",
        "        if enters_award:\n",
        "          new_feature_awards = X_new[[f]].rename(columns = {X_new[[f]].columns[0]:\"total_awards\"})\n",
        "          enters_award = False\n",
        "        else:\n",
        "          new_feature_awards = new_feature_awards.add(X_new[[f]].rename(columns = {X_new[[f]].columns[0]:\"total_awards\"})) \n",
        "\n",
        "\n",
        "    #X_new['total_genre'] = new_feature_genre\n",
        "    #X_new['total_oscar_nom'] = new_feature_oscar_nom\n",
        "    #X_new['Total_FB'] = new_feature_FB\n",
        "    #X_new['total_awards'] = new_feature_awards\n",
        "    # im gonna use this to see\n",
        "    #X_new['Runtime + Genre_Horror + Rating_PG-13'] = X_new.Runtime + X_new.Genre_Horror + X_new.Rating_PG-13\n",
        "\n",
        "    if condition == 'max':\n",
        "      X_new['Genre_Horror + Rating_G + Rating_NR'] = X_new.Rating_G + X_new.Genre_Horror + X_new.Rating_NR\n",
        "    elif condition == 'overall':\n",
        "      X_new['Genre_Horror + Rating_G + Rating_NR'] = X_new.Rating_G + X_new.Genre_Horror + X_new.Rating_NR\n",
        "      X_new['total_cast_facebook_likes'] = new_feature_FB\n",
        "\n",
        "\n",
        "\n",
        "    #tried lot of combo this one was the best one\n",
        "    #X_new['Genre_Horror + Rating_G + Rating_NR'] = X_new.Rating_G + X_new.Genre_Horror + X_new.Rating_NR\n",
        "\n",
        "    return X_new\n",
        "\n",
        "# Make new X features with interactions\n",
        "X_train_interactions = new_feature_combos(X_train,'max')\n",
        "X_val_interactions = new_feature_combos(X_val,'max')\n",
        "\n",
        "X_train_interactions_scaled = new_feature_combos(X_train_scaled,'max')\n",
        "X_val_interactions_scaled = new_feature_combos(X_val_scaled,'max')\n",
        "\n",
        "\n",
        "X_train_interactions_overall = new_feature_combos(X_train, 'overall')\n",
        "X_val_interactions_overall = new_feature_combos(X_val,'overall')\n"
      ],
      "execution_count": null,
      "outputs": []
    },
    {
      "cell_type": "markdown",
      "metadata": {
        "id": "d7uPekc9bJN2"
      },
      "source": [
        "## Model performance on feature engineering"
      ]
    },
    {
      "cell_type": "code",
      "metadata": {
        "id": "bwV1o3_AHhmB",
        "colab": {
          "base_uri": "https://localhost:8080/",
          "height": 505
        },
        "outputId": "f4c325b6-f3f1-4646-baa9-7f07df3c73c5"
      },
      "source": [
        "#investigate the negative training score....\n",
        "all_models = fit_and_score_model(all_models, 'Feature_Engineering', X_train_interactions, X_val_interactions, y_train, y_val)\n",
        "\n",
        "print('_________________________\\n')\n",
        "compare_models('Feature_Engineering')\n",
        "all_models.loc[:, 'Feature_Engineering', :].head()\n",
        "\n",
        "\n",
        "#investigate the negative training score....\n",
        "all_models = fit_and_score_model(all_models, 'Feature_Engineering_overall', X_train_interactions_overall, X_val_interactions_overall, y_train, y_val)\n",
        "\n",
        "print('_________________________\\n')\n",
        "compare_models('Feature_Engineering_overall')\n",
        "all_models.loc[:, 'Feature_Engineering_overall', :].head()\n",
        "\n"
      ],
      "execution_count": null,
      "outputs": [
        {
          "output_type": "stream",
          "text": [
            "LinReg achieved a train score of 0.368 and test score of -0.612\n",
            "LassoCV achieved a train score of 0.339 and test score of 0.137\n",
            "RidgeCV achieved a train score of 0.366 and test score of -0.151\n",
            "RF achieved a train score of 0.902 and test score of -0.033\n",
            "CART achieved a train score of 1.000 and test score of -1.520\n",
            "_________________________\n",
            "\n",
            "On average, scores improved by -0.21, and the most improvement was 0.02\n",
            "LinReg achieved a train score of 0.368 and test score of -0.612\n",
            "LassoCV achieved a train score of 0.339 and test score of 0.137\n",
            "RidgeCV achieved a train score of 0.366 and test score of -0.151\n",
            "RF achieved a train score of 0.900 and test score of -0.138\n",
            "CART achieved a train score of 1.000 and test score of -1.963\n",
            "_________________________\n",
            "\n",
            "On average, scores improved by -0.32, and the most improvement was 0.00\n"
          ],
          "name": "stdout"
        },
        {
          "output_type": "execute_result",
          "data": {
            "text/html": [
              "<div>\n",
              "<style scoped>\n",
              "    .dataframe tbody tr th:only-of-type {\n",
              "        vertical-align: middle;\n",
              "    }\n",
              "\n",
              "    .dataframe tbody tr th {\n",
              "        vertical-align: top;\n",
              "    }\n",
              "\n",
              "    .dataframe thead th {\n",
              "        text-align: right;\n",
              "    }\n",
              "</style>\n",
              "<table border=\"1\" class=\"dataframe\">\n",
              "  <thead>\n",
              "    <tr style=\"text-align: right;\">\n",
              "      <th></th>\n",
              "      <th>TrainScore</th>\n",
              "      <th>TestScore</th>\n",
              "      <th>Model</th>\n",
              "    </tr>\n",
              "    <tr>\n",
              "      <th>model names</th>\n",
              "      <th></th>\n",
              "      <th></th>\n",
              "      <th></th>\n",
              "    </tr>\n",
              "  </thead>\n",
              "  <tbody>\n",
              "    <tr>\n",
              "      <th>LinReg</th>\n",
              "      <td>0.367663</td>\n",
              "      <td>-0.612293</td>\n",
              "      <td>LinearRegression(copy_X=True, fit_intercept=Tr...</td>\n",
              "    </tr>\n",
              "    <tr>\n",
              "      <th>LassoCV</th>\n",
              "      <td>0.338932</td>\n",
              "      <td>0.136550</td>\n",
              "      <td>LassoCV(alphas=None, copy_X=True, cv=None, eps...</td>\n",
              "    </tr>\n",
              "    <tr>\n",
              "      <th>RidgeCV</th>\n",
              "      <td>0.366076</td>\n",
              "      <td>-0.150804</td>\n",
              "      <td>RidgeCV(alphas=array([ 0.1,  1. , 10. ]), cv=N...</td>\n",
              "    </tr>\n",
              "    <tr>\n",
              "      <th>RF</th>\n",
              "      <td>0.899974</td>\n",
              "      <td>-0.138227</td>\n",
              "      <td>(DecisionTreeRegressor(ccp_alpha=0.0, criterio...</td>\n",
              "    </tr>\n",
              "    <tr>\n",
              "      <th>CART</th>\n",
              "      <td>1.000000</td>\n",
              "      <td>-1.963262</td>\n",
              "      <td>DecisionTreeRegressor(ccp_alpha=0.0, criterion...</td>\n",
              "    </tr>\n",
              "  </tbody>\n",
              "</table>\n",
              "</div>"
            ],
            "text/plain": [
              "             TrainScore  ...                                              Model\n",
              "model names              ...                                                   \n",
              "LinReg         0.367663  ...  LinearRegression(copy_X=True, fit_intercept=Tr...\n",
              "LassoCV        0.338932  ...  LassoCV(alphas=None, copy_X=True, cv=None, eps...\n",
              "RidgeCV        0.366076  ...  RidgeCV(alphas=array([ 0.1,  1. , 10. ]), cv=N...\n",
              "RF             0.899974  ...  (DecisionTreeRegressor(ccp_alpha=0.0, criterio...\n",
              "CART           1.000000  ...  DecisionTreeRegressor(ccp_alpha=0.0, criterion...\n",
              "\n",
              "[5 rows x 3 columns]"
            ]
          },
          "metadata": {
            "tags": []
          },
          "execution_count": 15
        }
      ]
    },
    {
      "cell_type": "markdown",
      "metadata": {
        "id": "yl-QonkfMMz7"
      },
      "source": [
        "# Feature Selection"
      ]
    },
    {
      "cell_type": "markdown",
      "metadata": {
        "id": "DdsU6Fd_aohI"
      },
      "source": [
        "## **Features selected from VarianceThreshold**"
      ]
    },
    {
      "cell_type": "code",
      "metadata": {
        "id": "M7-t58ljXAax",
        "colab": {
          "base_uri": "https://localhost:8080/",
          "height": 602
        },
        "outputId": "12c2e4ea-1bfa-4aad-a728-fdd83b918766"
      },
      "source": [
        "#Variance Threshold with X_train_interactions\n",
        "from sklearn.feature_selection import VarianceThreshold\n",
        "\n",
        "print(X_train_interactions.shape)     #output (143, 59)\n",
        "var_filter = VarianceThreshold(threshold = 0.05)  \n",
        "train = var_filter.fit_transform(X_train_interactions)\n",
        "\n",
        "#to get the count of features that are not constant\n",
        "\n",
        "print(train.shape)   # output (143, 56)       \n",
        "#or\n",
        "print(len(X_train_interactions.columns[var_filter.get_support()]))  #output 56\n",
        "\n",
        "print(X_train_interactions.columns[var_filter.get_support()])\n",
        "print(var_filter.get_support())\n",
        "#rating G and Rating_NC17 got removed for threshold 0.01\n",
        "#threshold 0.05 classics, genre documentary got deleted\n",
        "\n",
        "selected = X_train_interactions.columns[var_filter.get_support()]\n",
        "X_train_selected = X_train_interactions[selected]\n",
        "X_val_selected = X_val_interactions[selected]\n",
        "\n",
        "X_train_selected.shape\n",
        "X_val_selected\n"
      ],
      "execution_count": null,
      "outputs": [
        {
          "output_type": "stream",
          "text": [
            "(893, 34)\n",
            "(893, 28)\n",
            "28\n",
            "Index(['TOMATOMETER score', 'TOMATOMETER Count', 'Runtime', 'Genre_Action',\n",
            "       'Genre_Art&Foreign', 'Genre_Comedy', 'Genre_Documentary', 'Genre_Drama',\n",
            "       'Genre_Horror', 'Genre_Mystery', 'Genre_Romance', 'Genre_SciFi',\n",
            "       'Rating_NR', 'Rating_PG', 'Rating_PG-13', 'Rating_R', 'cast1_oscar_nom',\n",
            "       'cast1_oscars', 'cast2_oscar_nom', 'cast2_oscars', 'cast3_oscar_nom',\n",
            "       'cast1_FB_likes', 'cast2_FB_likes', 'cast3_FB_likes', 'dir_oscar_nom',\n",
            "       'director_awards', 'director_facebook_likes',\n",
            "       'Genre_Horror + Rating_G + Rating_NR'],\n",
            "      dtype='object')\n",
            "[ True  True  True  True  True False  True  True  True  True False  True\n",
            "  True  True False False  True  True  True  True  True  True  True  True\n",
            "  True False  True  True  True  True False  True  True  True]\n"
          ],
          "name": "stdout"
        },
        {
          "output_type": "execute_result",
          "data": {
            "text/html": [
              "<div>\n",
              "<style scoped>\n",
              "    .dataframe tbody tr th:only-of-type {\n",
              "        vertical-align: middle;\n",
              "    }\n",
              "\n",
              "    .dataframe tbody tr th {\n",
              "        vertical-align: top;\n",
              "    }\n",
              "\n",
              "    .dataframe thead th {\n",
              "        text-align: right;\n",
              "    }\n",
              "</style>\n",
              "<table border=\"1\" class=\"dataframe\">\n",
              "  <thead>\n",
              "    <tr style=\"text-align: right;\">\n",
              "      <th></th>\n",
              "      <th>TOMATOMETER score</th>\n",
              "      <th>TOMATOMETER Count</th>\n",
              "      <th>Runtime</th>\n",
              "      <th>Genre_Action</th>\n",
              "      <th>Genre_Art&amp;Foreign</th>\n",
              "      <th>Genre_Comedy</th>\n",
              "      <th>Genre_Documentary</th>\n",
              "      <th>Genre_Drama</th>\n",
              "      <th>Genre_Horror</th>\n",
              "      <th>Genre_Mystery</th>\n",
              "      <th>Genre_Romance</th>\n",
              "      <th>Genre_SciFi</th>\n",
              "      <th>Rating_NR</th>\n",
              "      <th>Rating_PG</th>\n",
              "      <th>Rating_PG-13</th>\n",
              "      <th>Rating_R</th>\n",
              "      <th>cast1_oscar_nom</th>\n",
              "      <th>cast1_oscars</th>\n",
              "      <th>cast2_oscar_nom</th>\n",
              "      <th>cast2_oscars</th>\n",
              "      <th>cast3_oscar_nom</th>\n",
              "      <th>cast1_FB_likes</th>\n",
              "      <th>cast2_FB_likes</th>\n",
              "      <th>cast3_FB_likes</th>\n",
              "      <th>dir_oscar_nom</th>\n",
              "      <th>director_awards</th>\n",
              "      <th>director_facebook_likes</th>\n",
              "      <th>Genre_Horror + Rating_G + Rating_NR</th>\n",
              "    </tr>\n",
              "  </thead>\n",
              "  <tbody>\n",
              "    <tr>\n",
              "      <th>0</th>\n",
              "      <td>53</td>\n",
              "      <td>406</td>\n",
              "      <td>87</td>\n",
              "      <td>1</td>\n",
              "      <td>0</td>\n",
              "      <td>0</td>\n",
              "      <td>0</td>\n",
              "      <td>1</td>\n",
              "      <td>0</td>\n",
              "      <td>0</td>\n",
              "      <td>0</td>\n",
              "      <td>0</td>\n",
              "      <td>0</td>\n",
              "      <td>0</td>\n",
              "      <td>0</td>\n",
              "      <td>0</td>\n",
              "      <td>0</td>\n",
              "      <td>0</td>\n",
              "      <td>1</td>\n",
              "      <td>1</td>\n",
              "      <td>1</td>\n",
              "      <td>2000</td>\n",
              "      <td>367</td>\n",
              "      <td>367</td>\n",
              "      <td>0</td>\n",
              "      <td>0</td>\n",
              "      <td>28</td>\n",
              "      <td>1</td>\n",
              "    </tr>\n",
              "    <tr>\n",
              "      <th>1</th>\n",
              "      <td>57</td>\n",
              "      <td>362</td>\n",
              "      <td>90</td>\n",
              "      <td>1</td>\n",
              "      <td>0</td>\n",
              "      <td>0</td>\n",
              "      <td>0</td>\n",
              "      <td>0</td>\n",
              "      <td>0</td>\n",
              "      <td>0</td>\n",
              "      <td>0</td>\n",
              "      <td>0</td>\n",
              "      <td>0</td>\n",
              "      <td>0</td>\n",
              "      <td>0</td>\n",
              "      <td>0</td>\n",
              "      <td>0</td>\n",
              "      <td>0</td>\n",
              "      <td>4</td>\n",
              "      <td>1</td>\n",
              "      <td>0</td>\n",
              "      <td>631</td>\n",
              "      <td>49000</td>\n",
              "      <td>367</td>\n",
              "      <td>0</td>\n",
              "      <td>0</td>\n",
              "      <td>232</td>\n",
              "      <td>1</td>\n",
              "    </tr>\n",
              "    <tr>\n",
              "      <th>2</th>\n",
              "      <td>5</td>\n",
              "      <td>22</td>\n",
              "      <td>113</td>\n",
              "      <td>0</td>\n",
              "      <td>0</td>\n",
              "      <td>0</td>\n",
              "      <td>0</td>\n",
              "      <td>1</td>\n",
              "      <td>1</td>\n",
              "      <td>1</td>\n",
              "      <td>0</td>\n",
              "      <td>0</td>\n",
              "      <td>0</td>\n",
              "      <td>0</td>\n",
              "      <td>0</td>\n",
              "      <td>1</td>\n",
              "      <td>1</td>\n",
              "      <td>1</td>\n",
              "      <td>0</td>\n",
              "      <td>0</td>\n",
              "      <td>1</td>\n",
              "      <td>367</td>\n",
              "      <td>367</td>\n",
              "      <td>388</td>\n",
              "      <td>1</td>\n",
              "      <td>9</td>\n",
              "      <td>213</td>\n",
              "      <td>1</td>\n",
              "    </tr>\n",
              "    <tr>\n",
              "      <th>3</th>\n",
              "      <td>62</td>\n",
              "      <td>50</td>\n",
              "      <td>117</td>\n",
              "      <td>1</td>\n",
              "      <td>0</td>\n",
              "      <td>0</td>\n",
              "      <td>0</td>\n",
              "      <td>1</td>\n",
              "      <td>0</td>\n",
              "      <td>1</td>\n",
              "      <td>0</td>\n",
              "      <td>0</td>\n",
              "      <td>0</td>\n",
              "      <td>0</td>\n",
              "      <td>1</td>\n",
              "      <td>0</td>\n",
              "      <td>2</td>\n",
              "      <td>0</td>\n",
              "      <td>1</td>\n",
              "      <td>0</td>\n",
              "      <td>0</td>\n",
              "      <td>13000</td>\n",
              "      <td>367</td>\n",
              "      <td>374</td>\n",
              "      <td>0</td>\n",
              "      <td>15</td>\n",
              "      <td>212</td>\n",
              "      <td>0</td>\n",
              "    </tr>\n",
              "    <tr>\n",
              "      <th>4</th>\n",
              "      <td>58</td>\n",
              "      <td>12</td>\n",
              "      <td>86</td>\n",
              "      <td>0</td>\n",
              "      <td>0</td>\n",
              "      <td>0</td>\n",
              "      <td>1</td>\n",
              "      <td>0</td>\n",
              "      <td>0</td>\n",
              "      <td>0</td>\n",
              "      <td>0</td>\n",
              "      <td>0</td>\n",
              "      <td>1</td>\n",
              "      <td>0</td>\n",
              "      <td>0</td>\n",
              "      <td>0</td>\n",
              "      <td>0</td>\n",
              "      <td>0</td>\n",
              "      <td>0</td>\n",
              "      <td>0</td>\n",
              "      <td>0</td>\n",
              "      <td>0</td>\n",
              "      <td>367</td>\n",
              "      <td>367</td>\n",
              "      <td>0</td>\n",
              "      <td>0</td>\n",
              "      <td>232</td>\n",
              "      <td>1</td>\n",
              "    </tr>\n",
              "    <tr>\n",
              "      <th>5</th>\n",
              "      <td>13</td>\n",
              "      <td>52</td>\n",
              "      <td>117</td>\n",
              "      <td>0</td>\n",
              "      <td>0</td>\n",
              "      <td>0</td>\n",
              "      <td>0</td>\n",
              "      <td>1</td>\n",
              "      <td>0</td>\n",
              "      <td>0</td>\n",
              "      <td>0</td>\n",
              "      <td>0</td>\n",
              "      <td>0</td>\n",
              "      <td>0</td>\n",
              "      <td>0</td>\n",
              "      <td>1</td>\n",
              "      <td>4</td>\n",
              "      <td>1</td>\n",
              "      <td>3</td>\n",
              "      <td>1</td>\n",
              "      <td>0</td>\n",
              "      <td>367</td>\n",
              "      <td>367</td>\n",
              "      <td>367</td>\n",
              "      <td>1</td>\n",
              "      <td>0</td>\n",
              "      <td>138</td>\n",
              "      <td>0</td>\n",
              "    </tr>\n",
              "    <tr>\n",
              "      <th>6</th>\n",
              "      <td>90</td>\n",
              "      <td>501</td>\n",
              "      <td>111</td>\n",
              "      <td>0</td>\n",
              "      <td>0</td>\n",
              "      <td>0</td>\n",
              "      <td>0</td>\n",
              "      <td>1</td>\n",
              "      <td>0</td>\n",
              "      <td>0</td>\n",
              "      <td>0</td>\n",
              "      <td>0</td>\n",
              "      <td>0</td>\n",
              "      <td>1</td>\n",
              "      <td>0</td>\n",
              "      <td>0</td>\n",
              "      <td>2</td>\n",
              "      <td>1</td>\n",
              "      <td>5</td>\n",
              "      <td>2</td>\n",
              "      <td>1</td>\n",
              "      <td>367</td>\n",
              "      <td>367</td>\n",
              "      <td>99</td>\n",
              "      <td>2</td>\n",
              "      <td>0</td>\n",
              "      <td>232</td>\n",
              "      <td>0</td>\n",
              "    </tr>\n",
              "    <tr>\n",
              "      <th>7</th>\n",
              "      <td>15</td>\n",
              "      <td>164</td>\n",
              "      <td>148</td>\n",
              "      <td>1</td>\n",
              "      <td>0</td>\n",
              "      <td>0</td>\n",
              "      <td>0</td>\n",
              "      <td>1</td>\n",
              "      <td>0</td>\n",
              "      <td>0</td>\n",
              "      <td>1</td>\n",
              "      <td>0</td>\n",
              "      <td>0</td>\n",
              "      <td>0</td>\n",
              "      <td>1</td>\n",
              "      <td>0</td>\n",
              "      <td>3</td>\n",
              "      <td>1</td>\n",
              "      <td>7</td>\n",
              "      <td>2</td>\n",
              "      <td>2</td>\n",
              "      <td>367</td>\n",
              "      <td>367</td>\n",
              "      <td>367</td>\n",
              "      <td>3</td>\n",
              "      <td>118</td>\n",
              "      <td>0</td>\n",
              "      <td>0</td>\n",
              "    </tr>\n",
              "  </tbody>\n",
              "</table>\n",
              "</div>"
            ],
            "text/plain": [
              "   TOMATOMETER score  ...  Genre_Horror + Rating_G + Rating_NR\n",
              "0                 53  ...                                    1\n",
              "1                 57  ...                                    1\n",
              "2                  5  ...                                    1\n",
              "3                 62  ...                                    0\n",
              "4                 58  ...                                    1\n",
              "5                 13  ...                                    0\n",
              "6                 90  ...                                    0\n",
              "7                 15  ...                                    0\n",
              "\n",
              "[8 rows x 28 columns]"
            ]
          },
          "metadata": {
            "tags": []
          },
          "execution_count": 16
        }
      ]
    },
    {
      "cell_type": "code",
      "metadata": {
        "colab": {
          "base_uri": "https://localhost:8080/",
          "height": 602
        },
        "id": "cX3w3st3oKnp",
        "outputId": "7744717e-b0dc-4b46-c12a-7d0ea546febc"
      },
      "source": [
        "#Variance Threshold with X_train\n",
        "from sklearn.feature_selection import VarianceThreshold\n",
        "\n",
        "print(X_train_interactions.shape)     #output (143, 59)\n",
        "var_filter = VarianceThreshold(threshold = 0.05)  \n",
        "train = var_filter.fit_transform(X_train_interactions)\n",
        "\n",
        "print(train.shape)        \n",
        "#or\n",
        "print(len(X_train_interactions.columns[var_filter.get_support()])) \n",
        "\n",
        "print(X_train_interactions.columns[var_filter.get_support()])\n",
        "print(var_filter.get_support())\n",
        "\n",
        "selected = X_train_interactions.columns[var_filter.get_support()]\n",
        "X_train_selected = X_train_interactions[selected]\n",
        "X_val_selected = X_val_interactions[selected]\n",
        "\n",
        "X_train_selected.shape\n",
        "X_val_selected"
      ],
      "execution_count": null,
      "outputs": [
        {
          "output_type": "stream",
          "text": [
            "(893, 34)\n",
            "(893, 28)\n",
            "28\n",
            "Index(['TOMATOMETER score', 'TOMATOMETER Count', 'Runtime', 'Genre_Action',\n",
            "       'Genre_Art&Foreign', 'Genre_Comedy', 'Genre_Documentary', 'Genre_Drama',\n",
            "       'Genre_Horror', 'Genre_Mystery', 'Genre_Romance', 'Genre_SciFi',\n",
            "       'Rating_NR', 'Rating_PG', 'Rating_PG-13', 'Rating_R', 'cast1_oscar_nom',\n",
            "       'cast1_oscars', 'cast2_oscar_nom', 'cast2_oscars', 'cast3_oscar_nom',\n",
            "       'cast1_FB_likes', 'cast2_FB_likes', 'cast3_FB_likes', 'dir_oscar_nom',\n",
            "       'director_awards', 'director_facebook_likes',\n",
            "       'Genre_Horror + Rating_G + Rating_NR'],\n",
            "      dtype='object')\n",
            "[ True  True  True  True  True False  True  True  True  True False  True\n",
            "  True  True False False  True  True  True  True  True  True  True  True\n",
            "  True False  True  True  True  True False  True  True  True]\n"
          ],
          "name": "stdout"
        },
        {
          "output_type": "execute_result",
          "data": {
            "text/html": [
              "<div>\n",
              "<style scoped>\n",
              "    .dataframe tbody tr th:only-of-type {\n",
              "        vertical-align: middle;\n",
              "    }\n",
              "\n",
              "    .dataframe tbody tr th {\n",
              "        vertical-align: top;\n",
              "    }\n",
              "\n",
              "    .dataframe thead th {\n",
              "        text-align: right;\n",
              "    }\n",
              "</style>\n",
              "<table border=\"1\" class=\"dataframe\">\n",
              "  <thead>\n",
              "    <tr style=\"text-align: right;\">\n",
              "      <th></th>\n",
              "      <th>TOMATOMETER score</th>\n",
              "      <th>TOMATOMETER Count</th>\n",
              "      <th>Runtime</th>\n",
              "      <th>Genre_Action</th>\n",
              "      <th>Genre_Art&amp;Foreign</th>\n",
              "      <th>Genre_Comedy</th>\n",
              "      <th>Genre_Documentary</th>\n",
              "      <th>Genre_Drama</th>\n",
              "      <th>Genre_Horror</th>\n",
              "      <th>Genre_Mystery</th>\n",
              "      <th>Genre_Romance</th>\n",
              "      <th>Genre_SciFi</th>\n",
              "      <th>Rating_NR</th>\n",
              "      <th>Rating_PG</th>\n",
              "      <th>Rating_PG-13</th>\n",
              "      <th>Rating_R</th>\n",
              "      <th>cast1_oscar_nom</th>\n",
              "      <th>cast1_oscars</th>\n",
              "      <th>cast2_oscar_nom</th>\n",
              "      <th>cast2_oscars</th>\n",
              "      <th>cast3_oscar_nom</th>\n",
              "      <th>cast1_FB_likes</th>\n",
              "      <th>cast2_FB_likes</th>\n",
              "      <th>cast3_FB_likes</th>\n",
              "      <th>dir_oscar_nom</th>\n",
              "      <th>director_awards</th>\n",
              "      <th>director_facebook_likes</th>\n",
              "      <th>Genre_Horror + Rating_G + Rating_NR</th>\n",
              "    </tr>\n",
              "  </thead>\n",
              "  <tbody>\n",
              "    <tr>\n",
              "      <th>0</th>\n",
              "      <td>53</td>\n",
              "      <td>406</td>\n",
              "      <td>87</td>\n",
              "      <td>1</td>\n",
              "      <td>0</td>\n",
              "      <td>0</td>\n",
              "      <td>0</td>\n",
              "      <td>1</td>\n",
              "      <td>0</td>\n",
              "      <td>0</td>\n",
              "      <td>0</td>\n",
              "      <td>0</td>\n",
              "      <td>0</td>\n",
              "      <td>0</td>\n",
              "      <td>0</td>\n",
              "      <td>0</td>\n",
              "      <td>0</td>\n",
              "      <td>0</td>\n",
              "      <td>1</td>\n",
              "      <td>1</td>\n",
              "      <td>1</td>\n",
              "      <td>2000</td>\n",
              "      <td>367</td>\n",
              "      <td>367</td>\n",
              "      <td>0</td>\n",
              "      <td>0</td>\n",
              "      <td>28</td>\n",
              "      <td>1</td>\n",
              "    </tr>\n",
              "    <tr>\n",
              "      <th>1</th>\n",
              "      <td>57</td>\n",
              "      <td>362</td>\n",
              "      <td>90</td>\n",
              "      <td>1</td>\n",
              "      <td>0</td>\n",
              "      <td>0</td>\n",
              "      <td>0</td>\n",
              "      <td>0</td>\n",
              "      <td>0</td>\n",
              "      <td>0</td>\n",
              "      <td>0</td>\n",
              "      <td>0</td>\n",
              "      <td>0</td>\n",
              "      <td>0</td>\n",
              "      <td>0</td>\n",
              "      <td>0</td>\n",
              "      <td>0</td>\n",
              "      <td>0</td>\n",
              "      <td>4</td>\n",
              "      <td>1</td>\n",
              "      <td>0</td>\n",
              "      <td>631</td>\n",
              "      <td>49000</td>\n",
              "      <td>367</td>\n",
              "      <td>0</td>\n",
              "      <td>0</td>\n",
              "      <td>232</td>\n",
              "      <td>1</td>\n",
              "    </tr>\n",
              "    <tr>\n",
              "      <th>2</th>\n",
              "      <td>5</td>\n",
              "      <td>22</td>\n",
              "      <td>113</td>\n",
              "      <td>0</td>\n",
              "      <td>0</td>\n",
              "      <td>0</td>\n",
              "      <td>0</td>\n",
              "      <td>1</td>\n",
              "      <td>1</td>\n",
              "      <td>1</td>\n",
              "      <td>0</td>\n",
              "      <td>0</td>\n",
              "      <td>0</td>\n",
              "      <td>0</td>\n",
              "      <td>0</td>\n",
              "      <td>1</td>\n",
              "      <td>1</td>\n",
              "      <td>1</td>\n",
              "      <td>0</td>\n",
              "      <td>0</td>\n",
              "      <td>1</td>\n",
              "      <td>367</td>\n",
              "      <td>367</td>\n",
              "      <td>388</td>\n",
              "      <td>1</td>\n",
              "      <td>9</td>\n",
              "      <td>213</td>\n",
              "      <td>1</td>\n",
              "    </tr>\n",
              "    <tr>\n",
              "      <th>3</th>\n",
              "      <td>62</td>\n",
              "      <td>50</td>\n",
              "      <td>117</td>\n",
              "      <td>1</td>\n",
              "      <td>0</td>\n",
              "      <td>0</td>\n",
              "      <td>0</td>\n",
              "      <td>1</td>\n",
              "      <td>0</td>\n",
              "      <td>1</td>\n",
              "      <td>0</td>\n",
              "      <td>0</td>\n",
              "      <td>0</td>\n",
              "      <td>0</td>\n",
              "      <td>1</td>\n",
              "      <td>0</td>\n",
              "      <td>2</td>\n",
              "      <td>0</td>\n",
              "      <td>1</td>\n",
              "      <td>0</td>\n",
              "      <td>0</td>\n",
              "      <td>13000</td>\n",
              "      <td>367</td>\n",
              "      <td>374</td>\n",
              "      <td>0</td>\n",
              "      <td>15</td>\n",
              "      <td>212</td>\n",
              "      <td>0</td>\n",
              "    </tr>\n",
              "    <tr>\n",
              "      <th>4</th>\n",
              "      <td>58</td>\n",
              "      <td>12</td>\n",
              "      <td>86</td>\n",
              "      <td>0</td>\n",
              "      <td>0</td>\n",
              "      <td>0</td>\n",
              "      <td>1</td>\n",
              "      <td>0</td>\n",
              "      <td>0</td>\n",
              "      <td>0</td>\n",
              "      <td>0</td>\n",
              "      <td>0</td>\n",
              "      <td>1</td>\n",
              "      <td>0</td>\n",
              "      <td>0</td>\n",
              "      <td>0</td>\n",
              "      <td>0</td>\n",
              "      <td>0</td>\n",
              "      <td>0</td>\n",
              "      <td>0</td>\n",
              "      <td>0</td>\n",
              "      <td>0</td>\n",
              "      <td>367</td>\n",
              "      <td>367</td>\n",
              "      <td>0</td>\n",
              "      <td>0</td>\n",
              "      <td>232</td>\n",
              "      <td>1</td>\n",
              "    </tr>\n",
              "    <tr>\n",
              "      <th>5</th>\n",
              "      <td>13</td>\n",
              "      <td>52</td>\n",
              "      <td>117</td>\n",
              "      <td>0</td>\n",
              "      <td>0</td>\n",
              "      <td>0</td>\n",
              "      <td>0</td>\n",
              "      <td>1</td>\n",
              "      <td>0</td>\n",
              "      <td>0</td>\n",
              "      <td>0</td>\n",
              "      <td>0</td>\n",
              "      <td>0</td>\n",
              "      <td>0</td>\n",
              "      <td>0</td>\n",
              "      <td>1</td>\n",
              "      <td>4</td>\n",
              "      <td>1</td>\n",
              "      <td>3</td>\n",
              "      <td>1</td>\n",
              "      <td>0</td>\n",
              "      <td>367</td>\n",
              "      <td>367</td>\n",
              "      <td>367</td>\n",
              "      <td>1</td>\n",
              "      <td>0</td>\n",
              "      <td>138</td>\n",
              "      <td>0</td>\n",
              "    </tr>\n",
              "    <tr>\n",
              "      <th>6</th>\n",
              "      <td>90</td>\n",
              "      <td>501</td>\n",
              "      <td>111</td>\n",
              "      <td>0</td>\n",
              "      <td>0</td>\n",
              "      <td>0</td>\n",
              "      <td>0</td>\n",
              "      <td>1</td>\n",
              "      <td>0</td>\n",
              "      <td>0</td>\n",
              "      <td>0</td>\n",
              "      <td>0</td>\n",
              "      <td>0</td>\n",
              "      <td>1</td>\n",
              "      <td>0</td>\n",
              "      <td>0</td>\n",
              "      <td>2</td>\n",
              "      <td>1</td>\n",
              "      <td>5</td>\n",
              "      <td>2</td>\n",
              "      <td>1</td>\n",
              "      <td>367</td>\n",
              "      <td>367</td>\n",
              "      <td>99</td>\n",
              "      <td>2</td>\n",
              "      <td>0</td>\n",
              "      <td>232</td>\n",
              "      <td>0</td>\n",
              "    </tr>\n",
              "    <tr>\n",
              "      <th>7</th>\n",
              "      <td>15</td>\n",
              "      <td>164</td>\n",
              "      <td>148</td>\n",
              "      <td>1</td>\n",
              "      <td>0</td>\n",
              "      <td>0</td>\n",
              "      <td>0</td>\n",
              "      <td>1</td>\n",
              "      <td>0</td>\n",
              "      <td>0</td>\n",
              "      <td>1</td>\n",
              "      <td>0</td>\n",
              "      <td>0</td>\n",
              "      <td>0</td>\n",
              "      <td>1</td>\n",
              "      <td>0</td>\n",
              "      <td>3</td>\n",
              "      <td>1</td>\n",
              "      <td>7</td>\n",
              "      <td>2</td>\n",
              "      <td>2</td>\n",
              "      <td>367</td>\n",
              "      <td>367</td>\n",
              "      <td>367</td>\n",
              "      <td>3</td>\n",
              "      <td>118</td>\n",
              "      <td>0</td>\n",
              "      <td>0</td>\n",
              "    </tr>\n",
              "  </tbody>\n",
              "</table>\n",
              "</div>"
            ],
            "text/plain": [
              "   TOMATOMETER score  ...  Genre_Horror + Rating_G + Rating_NR\n",
              "0                 53  ...                                    1\n",
              "1                 57  ...                                    1\n",
              "2                  5  ...                                    1\n",
              "3                 62  ...                                    0\n",
              "4                 58  ...                                    1\n",
              "5                 13  ...                                    0\n",
              "6                 90  ...                                    0\n",
              "7                 15  ...                                    0\n",
              "\n",
              "[8 rows x 28 columns]"
            ]
          },
          "metadata": {
            "tags": []
          },
          "execution_count": 17
        }
      ]
    },
    {
      "cell_type": "markdown",
      "metadata": {
        "id": "8CuKj8epoK5b"
      },
      "source": [
        "## Model Performance with Selected Features"
      ]
    },
    {
      "cell_type": "code",
      "metadata": {
        "colab": {
          "base_uri": "https://localhost:8080/",
          "height": 366
        },
        "id": "FIMDhRDQoK5c",
        "outputId": "1da89819-85ad-4413-b5df-4f9376c1939c"
      },
      "source": [
        "#using columns from variance threshold with X_train_interactions\n",
        "#gives same results as with normal X_train \n",
        "all_models = fit_and_score_model(all_models, 'Feature_Selection', X_train_selected, X_val_selected, y_train, y_val)\n",
        "\n",
        "\n",
        "print('_________________________\\n')\n",
        "compare_models('Feature_Selection')\n",
        "all_models.loc[:, 'Feature_Selection', :].head()\n"
      ],
      "execution_count": null,
      "outputs": [
        {
          "output_type": "stream",
          "text": [
            "LinReg achieved a train score of 0.364 and test score of -0.498\n",
            "LassoCV achieved a train score of 0.339 and test score of 0.137\n",
            "RidgeCV achieved a train score of 0.363 and test score of -0.124\n",
            "RF achieved a train score of 0.905 and test score of -0.067\n",
            "CART achieved a train score of 1.000 and test score of -1.438\n",
            "_________________________\n",
            "\n",
            "On average, scores improved by -0.17, and the most improvement was 0.11\n"
          ],
          "name": "stdout"
        },
        {
          "output_type": "execute_result",
          "data": {
            "text/html": [
              "<div>\n",
              "<style scoped>\n",
              "    .dataframe tbody tr th:only-of-type {\n",
              "        vertical-align: middle;\n",
              "    }\n",
              "\n",
              "    .dataframe tbody tr th {\n",
              "        vertical-align: top;\n",
              "    }\n",
              "\n",
              "    .dataframe thead th {\n",
              "        text-align: right;\n",
              "    }\n",
              "</style>\n",
              "<table border=\"1\" class=\"dataframe\">\n",
              "  <thead>\n",
              "    <tr style=\"text-align: right;\">\n",
              "      <th></th>\n",
              "      <th>TrainScore</th>\n",
              "      <th>TestScore</th>\n",
              "      <th>Model</th>\n",
              "    </tr>\n",
              "    <tr>\n",
              "      <th>model names</th>\n",
              "      <th></th>\n",
              "      <th></th>\n",
              "      <th></th>\n",
              "    </tr>\n",
              "  </thead>\n",
              "  <tbody>\n",
              "    <tr>\n",
              "      <th>LinReg</th>\n",
              "      <td>0.364208</td>\n",
              "      <td>-0.497895</td>\n",
              "      <td>LinearRegression(copy_X=True, fit_intercept=Tr...</td>\n",
              "    </tr>\n",
              "    <tr>\n",
              "      <th>LassoCV</th>\n",
              "      <td>0.338874</td>\n",
              "      <td>0.136505</td>\n",
              "      <td>LassoCV(alphas=None, copy_X=True, cv=None, eps...</td>\n",
              "    </tr>\n",
              "    <tr>\n",
              "      <th>RidgeCV</th>\n",
              "      <td>0.363367</td>\n",
              "      <td>-0.123972</td>\n",
              "      <td>RidgeCV(alphas=array([ 0.1,  1. , 10. ]), cv=N...</td>\n",
              "    </tr>\n",
              "    <tr>\n",
              "      <th>RF</th>\n",
              "      <td>0.904953</td>\n",
              "      <td>-0.066922</td>\n",
              "      <td>(DecisionTreeRegressor(ccp_alpha=0.0, criterio...</td>\n",
              "    </tr>\n",
              "    <tr>\n",
              "      <th>CART</th>\n",
              "      <td>1.000000</td>\n",
              "      <td>-1.438411</td>\n",
              "      <td>DecisionTreeRegressor(ccp_alpha=0.0, criterion...</td>\n",
              "    </tr>\n",
              "  </tbody>\n",
              "</table>\n",
              "</div>"
            ],
            "text/plain": [
              "             TrainScore  ...                                              Model\n",
              "model names              ...                                                   \n",
              "LinReg         0.364208  ...  LinearRegression(copy_X=True, fit_intercept=Tr...\n",
              "LassoCV        0.338874  ...  LassoCV(alphas=None, copy_X=True, cv=None, eps...\n",
              "RidgeCV        0.363367  ...  RidgeCV(alphas=array([ 0.1,  1. , 10. ]), cv=N...\n",
              "RF             0.904953  ...  (DecisionTreeRegressor(ccp_alpha=0.0, criterio...\n",
              "CART           1.000000  ...  DecisionTreeRegressor(ccp_alpha=0.0, criterion...\n",
              "\n",
              "[5 rows x 3 columns]"
            ]
          },
          "metadata": {
            "tags": []
          },
          "execution_count": 19
        }
      ]
    },
    {
      "cell_type": "markdown",
      "metadata": {
        "id": "lhYUaJqtau7F"
      },
      "source": [
        "## **Mutual_info_regression**"
      ]
    },
    {
      "cell_type": "markdown",
      "metadata": {
        "id": "UBmox3fxtmZl"
      },
      "source": [
        "from X_train_interactions"
      ]
    },
    {
      "cell_type": "code",
      "metadata": {
        "id": "gYEjATcNZOFv",
        "colab": {
          "base_uri": "https://localhost:8080/"
        },
        "outputId": "782c68ae-a637-4202-f448-5f19cb18ece8"
      },
      "source": [
        "from sklearn.feature_selection import mutual_info_regression  \n",
        "from sklearn.feature_selection import SelectKBest\n",
        "\n",
        "selector = SelectKBest(mutual_info_regression, k=10)\n",
        "X_train_new = selector.fit_transform(X_train_interactions, y_train)  #Applying transformation to the training set\n",
        "#to get names of the selected features\n",
        "mask = selector.get_support()     # Output   array([False, False,  True,  True,  True, False ....])\n",
        "\n",
        "#should we also do X_val_new??\n",
        "\n",
        "\n",
        "print(selector.scores_)    \n",
        "\n",
        "new_features = X_train_interactions.columns[mask]\n",
        " \n",
        "print(new_features)\n"
      ],
      "execution_count": null,
      "outputs": [
        {
          "output_type": "stream",
          "text": [
            "[0.17313985 0.01693832 0.         0.00250495 0.         0.\n",
            " 0.01465255 0.00485222 0.         0.         0.         0.00655418\n",
            " 0.         0.         0.04760829 0.         0.02206858 0.\n",
            " 0.04997278 0.00988573 0.01875802 0.         0.02334801 0.00184155\n",
            " 0.         0.0019459  0.         0.0096907  0.01941168 0.00958655\n",
            " 0.         0.00290588 0.         0.05343255]\n",
            "Index(['TOMATOMETER score', 'TOMATOMETER Count', 'Genre_Comedy', 'Rating_G',\n",
            "       'Rating_NR', 'Rating_PG-13', 'cast1_oscar_nom', 'cast2_oscar_nom',\n",
            "       'cast3_FB_likes', 'Genre_Horror + Rating_G + Rating_NR'],\n",
            "      dtype='object')\n"
          ],
          "name": "stdout"
        }
      ]
    },
    {
      "cell_type": "markdown",
      "metadata": {
        "id": "rHFJG5PkstMr"
      },
      "source": [
        "X_train_interactions"
      ]
    },
    {
      "cell_type": "code",
      "metadata": {
        "id": "4hMcHghOvBiw"
      },
      "source": [
        "select_features = SelectKBest(mutual_info_regression, k=10)\n",
        "select_features = select_features.fit(X_train_interactions, y_train)\n",
        "\n",
        "# Get mask of columns that have good features\n",
        "feature_mask = select_features.get_support()\n",
        "X_train_interactions_feature_selection = X_train_interactions.iloc[:, feature_mask]\n",
        "X_val_interactions_feature_selection = X_val_interactions.iloc[:, feature_mask]"
      ],
      "execution_count": null,
      "outputs": []
    },
    {
      "cell_type": "code",
      "metadata": {
        "id": "PLwd8ZlTliu_",
        "colab": {
          "base_uri": "https://localhost:8080/"
        },
        "outputId": "62a68fd0-cba6-4d1e-a82d-cd8c7f238d0c"
      },
      "source": [
        "linreg2=LinearRegression()\n",
        "train_score, test_score = fit_score_single_model(linreg2,model_names[0],X_train_interactions_feature_selection, X_val_interactions_feature_selection, y_train,y_val)"
      ],
      "execution_count": null,
      "outputs": [
        {
          "output_type": "stream",
          "text": [
            "LinReg achieved a train score of 0.344 and test score of 0.056\n"
          ],
          "name": "stdout"
        }
      ]
    },
    {
      "cell_type": "markdown",
      "metadata": {
        "id": "epF3BEmItrMi"
      },
      "source": [
        "from X_train"
      ]
    },
    {
      "cell_type": "code",
      "metadata": {
        "id": "jQYwts6ztp_m"
      },
      "source": [
        "select_features = SelectKBest(mutual_info_regression, k=10)\n",
        "select_features = select_features.fit(X_train, y_train)\n",
        "\n",
        "# Get mask of columns that have good features\n",
        "feature_mask = select_features.get_support()\n",
        "X_train_feature_selection = X_train.iloc[:, feature_mask]\n",
        "X_val_feature_selection = X_val.iloc[:, feature_mask]"
      ],
      "execution_count": null,
      "outputs": []
    },
    {
      "cell_type": "code",
      "metadata": {
        "id": "gAPNi7Z9tQk9",
        "colab": {
          "base_uri": "https://localhost:8080/"
        },
        "outputId": "2f4d4d38-ca75-4fd4-ce16-1056e6a40cd5"
      },
      "source": [
        "linreg2=LinearRegression()\n",
        "train_score, test_score = fit_score_single_model(linreg2,model_names[0],X_train_feature_selection, X_val_feature_selection, y_train,y_val)"
      ],
      "execution_count": null,
      "outputs": [
        {
          "output_type": "stream",
          "text": [
            "LinReg achieved a train score of 0.342 and test score of 0.080\n"
          ],
          "name": "stdout"
        }
      ]
    },
    {
      "cell_type": "markdown",
      "metadata": {
        "id": "Hxf7jSQFuMOI"
      },
      "source": [
        "## Model Performance on Mutual Regression"
      ]
    },
    {
      "cell_type": "code",
      "metadata": {
        "colab": {
          "base_uri": "https://localhost:8080/",
          "height": 366
        },
        "id": "aqgqfM_luMOI",
        "outputId": "9323c704-5b47-4e02-f299-b4421dcbbc9a"
      },
      "source": [
        "#choose to run the X_train blocks OR X_train_interactions blocks before running this\n",
        "\n",
        "#these results were using X_train selected features from the two blocks above\n",
        "all_models = fit_and_score_model(all_models, 'Mutual_Regression', X_train_feature_selection, X_val_feature_selection, y_train, y_val)\n",
        "\n",
        "\n",
        "print('_________________________\\n')\n",
        "compare_models('Mutual_Regression')\n",
        "all_models.loc[:, 'Mutual_Regression', :].head()"
      ],
      "execution_count": null,
      "outputs": [
        {
          "output_type": "stream",
          "text": [
            "LinReg achieved a train score of 0.342 and test score of 0.080\n",
            "LassoCV achieved a train score of 0.338 and test score of 0.090\n",
            "RidgeCV achieved a train score of 0.342 and test score of 0.079\n",
            "RF achieved a train score of 0.877 and test score of -0.043\n",
            "CART achieved a train score of 0.973 and test score of -0.868\n",
            "_________________________\n",
            "\n",
            "On average, scores improved by 0.09, and the most improvement was 0.69\n"
          ],
          "name": "stdout"
        },
        {
          "output_type": "execute_result",
          "data": {
            "text/html": [
              "<div>\n",
              "<style scoped>\n",
              "    .dataframe tbody tr th:only-of-type {\n",
              "        vertical-align: middle;\n",
              "    }\n",
              "\n",
              "    .dataframe tbody tr th {\n",
              "        vertical-align: top;\n",
              "    }\n",
              "\n",
              "    .dataframe thead th {\n",
              "        text-align: right;\n",
              "    }\n",
              "</style>\n",
              "<table border=\"1\" class=\"dataframe\">\n",
              "  <thead>\n",
              "    <tr style=\"text-align: right;\">\n",
              "      <th></th>\n",
              "      <th>TrainScore</th>\n",
              "      <th>TestScore</th>\n",
              "      <th>Model</th>\n",
              "    </tr>\n",
              "    <tr>\n",
              "      <th>model names</th>\n",
              "      <th></th>\n",
              "      <th></th>\n",
              "      <th></th>\n",
              "    </tr>\n",
              "  </thead>\n",
              "  <tbody>\n",
              "    <tr>\n",
              "      <th>LinReg</th>\n",
              "      <td>0.341741</td>\n",
              "      <td>0.079669</td>\n",
              "      <td>LinearRegression(copy_X=True, fit_intercept=Tr...</td>\n",
              "    </tr>\n",
              "    <tr>\n",
              "      <th>LassoCV</th>\n",
              "      <td>0.337976</td>\n",
              "      <td>0.090368</td>\n",
              "      <td>LassoCV(alphas=None, copy_X=True, cv=None, eps...</td>\n",
              "    </tr>\n",
              "    <tr>\n",
              "      <th>RidgeCV</th>\n",
              "      <td>0.341681</td>\n",
              "      <td>0.078705</td>\n",
              "      <td>RidgeCV(alphas=array([ 0.1,  1. , 10. ]), cv=N...</td>\n",
              "    </tr>\n",
              "    <tr>\n",
              "      <th>RF</th>\n",
              "      <td>0.876535</td>\n",
              "      <td>-0.042526</td>\n",
              "      <td>(DecisionTreeRegressor(ccp_alpha=0.0, criterio...</td>\n",
              "    </tr>\n",
              "    <tr>\n",
              "      <th>CART</th>\n",
              "      <td>0.973277</td>\n",
              "      <td>-0.868243</td>\n",
              "      <td>DecisionTreeRegressor(ccp_alpha=0.0, criterion...</td>\n",
              "    </tr>\n",
              "  </tbody>\n",
              "</table>\n",
              "</div>"
            ],
            "text/plain": [
              "             TrainScore  ...                                              Model\n",
              "model names              ...                                                   \n",
              "LinReg         0.341741  ...  LinearRegression(copy_X=True, fit_intercept=Tr...\n",
              "LassoCV        0.337976  ...  LassoCV(alphas=None, copy_X=True, cv=None, eps...\n",
              "RidgeCV        0.341681  ...  RidgeCV(alphas=array([ 0.1,  1. , 10. ]), cv=N...\n",
              "RF             0.876535  ...  (DecisionTreeRegressor(ccp_alpha=0.0, criterio...\n",
              "CART           0.973277  ...  DecisionTreeRegressor(ccp_alpha=0.0, criterion...\n",
              "\n",
              "[5 rows x 3 columns]"
            ]
          },
          "metadata": {
            "tags": []
          },
          "execution_count": 25
        }
      ]
    },
    {
      "cell_type": "markdown",
      "metadata": {
        "id": "0P-_9AherWeh"
      },
      "source": [
        "X_train_scaled"
      ]
    },
    {
      "cell_type": "code",
      "metadata": {
        "id": "UlmgZ0diq4_-"
      },
      "source": [
        "select_features = SelectKBest(mutual_info_regression, k=10)\n",
        "select_features = select_features.fit(X_train_scaled, y_train_scaled)\n",
        "\n",
        "# Get mask of columns that have good features\n",
        "feature_mask = select_features.get_support()\n",
        "X_train_feature_selection = X_train_scaled.iloc[:, feature_mask]\n",
        "X_val_feature_selection = X_val_scaled.iloc[:, feature_mask]"
      ],
      "execution_count": null,
      "outputs": []
    },
    {
      "cell_type": "code",
      "metadata": {
        "id": "5jQbuFWWupL0",
        "colab": {
          "base_uri": "https://localhost:8080/"
        },
        "outputId": "bebfda81-f742-401e-882c-4f966816b7e8"
      },
      "source": [
        "linreg3=LinearRegression()\n",
        "train_score, test_score = fit_score_single_model(linreg3, model_names[0],X_train_feature_selection, X_val_feature_selection, y_train_scaled,y_val_scaled)"
      ],
      "execution_count": null,
      "outputs": [
        {
          "output_type": "stream",
          "text": [
            "LinReg achieved a train score of 0.349 and test score of 0.118\n"
          ],
          "name": "stdout"
        }
      ]
    },
    {
      "cell_type": "markdown",
      "metadata": {
        "id": "EvcA6Mahu4GB"
      },
      "source": [
        "X_train_interactions_scaled"
      ]
    },
    {
      "cell_type": "code",
      "metadata": {
        "id": "OtVgQBMKu4GB"
      },
      "source": [
        "select_features = SelectKBest(mutual_info_regression, k=10)\n",
        "select_features = select_features.fit(X_train_interactions_scaled, y_train_scaled)\n",
        "\n",
        "# Get mask of columns that have good features\n",
        "feature_mask = select_features.get_support()\n",
        "X_train_interactions_feature_selection = X_train_interactions_scaled.iloc[:, feature_mask]\n",
        "X_val_interactions_feature_selection = X_val_interactions_scaled.iloc[:, feature_mask]"
      ],
      "execution_count": null,
      "outputs": []
    },
    {
      "cell_type": "code",
      "metadata": {
        "colab": {
          "base_uri": "https://localhost:8080/"
        },
        "id": "s6-XlFeKu4GB",
        "outputId": "8257833e-6976-486a-e5f2-1b40fefb1a5d"
      },
      "source": [
        "linreg2=LinearRegression()\n",
        "train_score, test_score = fit_score_single_model(linreg2,model_names[0],X_train_interactions_feature_selection, X_val_interactions_feature_selection, y_train_scaled,y_val_scaled)"
      ],
      "execution_count": null,
      "outputs": [
        {
          "output_type": "stream",
          "text": [
            "LinReg achieved a train score of 0.341 and test score of 0.016\n"
          ],
          "name": "stdout"
        }
      ]
    },
    {
      "cell_type": "markdown",
      "metadata": {
        "id": "2yzCwajoql70"
      },
      "source": [
        "## Model Performance on Mutual Regression (scaled)"
      ]
    },
    {
      "cell_type": "code",
      "metadata": {
        "colab": {
          "base_uri": "https://localhost:8080/",
          "height": 366
        },
        "id": "G0d_wbXtqkE5",
        "outputId": "d557c700-ce3d-43ca-f7a8-15b93060b057"
      },
      "source": [
        "#choose to run X_train_scaled blocks OR X_train_interactions_scaled blocks before running this\n",
        "\n",
        "#the current results displayed are from X_train_scaled selected features\n",
        "all_models = fit_and_score_model(all_models, 'Mutual_Regression (scaled)', X_train_feature_selection, X_val_feature_selection, y_train_scaled, y_val_scaled)\n",
        "\n",
        "\n",
        "print('_________________________\\n')\n",
        "compare_models('Mutual_Regression (scaled)')\n",
        "all_models.loc[:, 'Mutual_Regression (scaled)', :].head()"
      ],
      "execution_count": null,
      "outputs": [
        {
          "output_type": "stream",
          "text": [
            "LinReg achieved a train score of 0.349 and test score of 0.118\n",
            "LassoCV achieved a train score of 0.347 and test score of 0.177\n",
            "RidgeCV achieved a train score of 0.349 and test score of 0.131\n",
            "RF achieved a train score of 0.865 and test score of -0.404\n",
            "CART achieved a train score of 0.962 and test score of -1.544\n",
            "_________________________\n",
            "\n",
            "On average, scores improved by -0.08, and the most improvement was 0.73\n"
          ],
          "name": "stdout"
        },
        {
          "output_type": "execute_result",
          "data": {
            "text/html": [
              "<div>\n",
              "<style scoped>\n",
              "    .dataframe tbody tr th:only-of-type {\n",
              "        vertical-align: middle;\n",
              "    }\n",
              "\n",
              "    .dataframe tbody tr th {\n",
              "        vertical-align: top;\n",
              "    }\n",
              "\n",
              "    .dataframe thead th {\n",
              "        text-align: right;\n",
              "    }\n",
              "</style>\n",
              "<table border=\"1\" class=\"dataframe\">\n",
              "  <thead>\n",
              "    <tr style=\"text-align: right;\">\n",
              "      <th></th>\n",
              "      <th>TrainScore</th>\n",
              "      <th>TestScore</th>\n",
              "      <th>Model</th>\n",
              "    </tr>\n",
              "    <tr>\n",
              "      <th>model names</th>\n",
              "      <th></th>\n",
              "      <th></th>\n",
              "      <th></th>\n",
              "    </tr>\n",
              "  </thead>\n",
              "  <tbody>\n",
              "    <tr>\n",
              "      <th>LinReg</th>\n",
              "      <td>0.349327</td>\n",
              "      <td>0.117813</td>\n",
              "      <td>LinearRegression(copy_X=True, fit_intercept=Tr...</td>\n",
              "    </tr>\n",
              "    <tr>\n",
              "      <th>LassoCV</th>\n",
              "      <td>0.346963</td>\n",
              "      <td>0.177482</td>\n",
              "      <td>LassoCV(alphas=None, copy_X=True, cv=None, eps...</td>\n",
              "    </tr>\n",
              "    <tr>\n",
              "      <th>RidgeCV</th>\n",
              "      <td>0.349118</td>\n",
              "      <td>0.131238</td>\n",
              "      <td>RidgeCV(alphas=array([ 0.1,  1. , 10. ]), cv=N...</td>\n",
              "    </tr>\n",
              "    <tr>\n",
              "      <th>RF</th>\n",
              "      <td>0.864994</td>\n",
              "      <td>-0.404166</td>\n",
              "      <td>(DecisionTreeRegressor(ccp_alpha=0.0, criterio...</td>\n",
              "    </tr>\n",
              "    <tr>\n",
              "      <th>CART</th>\n",
              "      <td>0.961589</td>\n",
              "      <td>-1.544296</td>\n",
              "      <td>DecisionTreeRegressor(ccp_alpha=0.0, criterion...</td>\n",
              "    </tr>\n",
              "  </tbody>\n",
              "</table>\n",
              "</div>"
            ],
            "text/plain": [
              "             TrainScore  ...                                              Model\n",
              "model names              ...                                                   \n",
              "LinReg         0.349327  ...  LinearRegression(copy_X=True, fit_intercept=Tr...\n",
              "LassoCV        0.346963  ...  LassoCV(alphas=None, copy_X=True, cv=None, eps...\n",
              "RidgeCV        0.349118  ...  RidgeCV(alphas=array([ 0.1,  1. , 10. ]), cv=N...\n",
              "RF             0.864994  ...  (DecisionTreeRegressor(ccp_alpha=0.0, criterio...\n",
              "CART           0.961589  ...  DecisionTreeRegressor(ccp_alpha=0.0, criterion...\n",
              "\n",
              "[5 rows x 3 columns]"
            ]
          },
          "metadata": {
            "tags": []
          },
          "execution_count": 30
        }
      ]
    },
    {
      "cell_type": "markdown",
      "metadata": {
        "id": "XLfYFVJT_c3t"
      },
      "source": [
        "# Grid Search\n"
      ]
    },
    {
      "cell_type": "markdown",
      "metadata": {
        "id": "tAKLTDKH-kYU"
      },
      "source": [
        "For CART"
      ]
    },
    {
      "cell_type": "code",
      "metadata": {
        "id": "E8RQBsWe_c3v",
        "colab": {
          "base_uri": "https://localhost:8080/"
        },
        "outputId": "ac8bbc29-3bb8-484a-8760-804a3bb2510c"
      },
      "source": [
        "import numpy as np\n",
        "# Dictionary of parameters to search\n",
        "params_to_search = {\n",
        "    'criterion': ['mse', 'friedman_mse'],\n",
        "    'min_samples_leaf': [1, 2, 5, 10, 20,25,30],\n",
        "    'max_features': ['auto', 'log2', None,'sqrt']\n",
        "}\n",
        "\n",
        "# Initialize a model\n",
        "mdl = DecisionTreeRegressor(random_state=0)\n",
        "# Initialize the grid search\n",
        "optimized_dt = GridSearchCV(mdl, params_to_search, scoring=['r2'], refit=False, cv=5)\n",
        "# Run the grid search\n",
        "optimized_dt.fit(X_train, y_train)\n",
        "\n",
        "# Find the model with the highest test score\n",
        "\n",
        "cv_result_df = pd.DataFrame(optimized_dt.cv_results_)\n",
        "best_model_params_index = cv_result_df.mean_test_r2.idxmax()\n",
        "best_model_params = cv_result_df.params[best_model_params_index]\n",
        "\n",
        "print(f'The best model parameters are {best_model_params}') \n",
        "\n",
        "# Initialize the model \n",
        "best_model = DecisionTreeRegressor(random_state=0, **best_model_params)\n",
        "\n",
        "# Fit the model on the ENTIRE training set \n",
        "best_model.fit(X_train, y_train)\n",
        "\n",
        "# Evaluate model precision, recall, and score\n",
        "model_train_score = best_model.score(X_train,y_train)  # evaluate precision on test set\n",
        "model_test_score = best_model.score(X_val, y_val)  # evaluate recall on test set\n",
        "\n",
        "# Add model scores to all_models data frame\n",
        "all_models.loc['CART', 'Grid_Search'] = (model_train_score, model_test_score, best_model)\n",
        "all_models['TestScore'].loc['CART', ['Baseline', 'Grid_Search']]\n"
      ],
      "execution_count": null,
      "outputs": [
        {
          "output_type": "stream",
          "text": [
            "The best model parameters are {'criterion': 'mse', 'max_features': 'auto', 'min_samples_leaf': 30}\n"
          ],
          "name": "stdout"
        },
        {
          "output_type": "execute_result",
          "data": {
            "text/plain": [
              "model names  technique  \n",
              "CART         Baseline      -0.468014\n",
              "             Grid_Search   -0.103984\n",
              "Name: TestScore, dtype: float64"
            ]
          },
          "metadata": {
            "tags": []
          },
          "execution_count": 31
        }
      ]
    },
    {
      "cell_type": "code",
      "metadata": {
        "colab": {
          "base_uri": "https://localhost:8080/"
        },
        "id": "M2LpbmfXHXLA",
        "outputId": "b6e85988-f3bc-46f7-9263-44076ad75452"
      },
      "source": [
        "import numpy as np\n",
        "# Dictionary of parameters to search\n",
        "params_to_search = {\n",
        "    'splitter': ['best', 'random'],\n",
        "    'max_leaf_nodes':[None, 2,5,10,15,20,25],\n",
        "    'max_depth': np.arange(1,10)\n",
        "}\n",
        "\n",
        "# Initialize a model\n",
        "mdl = DecisionTreeRegressor(random_state=0)\n",
        "# Initialize the grid search\n",
        "optimized_dt = GridSearchCV(mdl, params_to_search, scoring=['r2'], refit=False, cv=5)\n",
        "# Run the grid search\n",
        "optimized_dt.fit(X_train, y_train)\n",
        "\n",
        "# Find the model with the highest test score\n",
        "\n",
        "cv_result_df = pd.DataFrame(optimized_dt.cv_results_)\n",
        "best_model_params_index = cv_result_df.mean_test_r2.idxmax()\n",
        "best_model_params = cv_result_df.params[best_model_params_index]\n",
        "\n",
        "print(f'The best model parameters are {best_model_params}') \n",
        "\n",
        "# Initialize the model \n",
        "best_model = DecisionTreeRegressor(random_state=0, **best_model_params)\n",
        "\n",
        "# Fit the model on the ENTIRE training set \n",
        "best_model.fit(X_train, y_train)\n",
        "\n",
        "# Evaluate model precision, recall, and score\n",
        "model_train_score = best_model.score(X_train,y_train)  # evaluate precision on test set\n",
        "model_test_score = best_model.score(X_val, y_val)  # evaluate recall on test set\n",
        "\n",
        "# Add model scores to all_models data frame\n",
        "all_models.loc['CART', 'Grid_Search'] = (model_train_score, model_test_score, best_model)\n",
        "all_models['TestScore'].loc['CART', ['Baseline', 'Grid_Search']]\n"
      ],
      "execution_count": null,
      "outputs": [
        {
          "output_type": "stream",
          "text": [
            "The best model parameters are {'max_depth': 4, 'max_leaf_nodes': 10, 'splitter': 'random'}\n"
          ],
          "name": "stdout"
        },
        {
          "output_type": "execute_result",
          "data": {
            "text/plain": [
              "model names  technique  \n",
              "CART         Baseline      -0.468014\n",
              "             Grid_Search    0.030931\n",
              "Name: TestScore, dtype: float64"
            ]
          },
          "metadata": {
            "tags": []
          },
          "execution_count": 32
        }
      ]
    },
    {
      "cell_type": "code",
      "metadata": {
        "id": "xnzD_uTZ7KEc"
      },
      "source": [
        "#all_models.loc[:,'Grid_Search',:]"
      ],
      "execution_count": null,
      "outputs": []
    },
    {
      "cell_type": "markdown",
      "metadata": {
        "id": "TDWaz-4_-oKc"
      },
      "source": [
        "For RF"
      ]
    },
    {
      "cell_type": "code",
      "metadata": {
        "colab": {
          "base_uri": "https://localhost:8080/"
        },
        "id": "kIf0Czgf-FYi",
        "outputId": "eeae03a0-9447-4116-cba6-7c1d5d45fae8"
      },
      "source": [
        "# Dictionary of parameters to search\n",
        "params_to_search = {\n",
        "    'criterion': ['mse', 'friedman_mse'],\n",
        "    'min_samples_leaf': [1, 2, 5, 10, 20,25,30],\n",
        "    \n",
        "}\n",
        "\n",
        "# Initialize a model\n",
        "mdl = RandomForestRegressor(random_state=0)\n",
        "# Initialize the grid search\n",
        "optimized_dt = GridSearchCV(mdl, params_to_search, scoring=['r2'], refit=False, cv=5)\n",
        "# Run the grid search\n",
        "optimized_dt.fit(X_train, y_train)\n",
        "\n",
        "# Find the model with the highest test score\n",
        "\n",
        "cv_result_df = pd.DataFrame(optimized_dt.cv_results_)\n",
        "best_model_params_index = cv_result_df.mean_test_r2.idxmax()\n",
        "best_model_params = cv_result_df.params[best_model_params_index]\n",
        "\n",
        "print(f'The best model parameters are {best_model_params}') \n",
        "\n",
        "# Initialize the model \n",
        "best_model = RandomForestRegressor(random_state=0, **best_model_params)\n",
        "\n",
        "# Fit the model on the ENTIRE training set \n",
        "best_model.fit(X_train, y_train)\n",
        "\n",
        "# Evaluate model precision, recall, and score\n",
        "model_train_score = best_model.score(X_train,y_train)  # evaluate precision on test set\n",
        "model_test_score = best_model.score(X_val, y_val)  # evaluate recall on test set\n",
        "\n",
        "# Add model scores to all_models data frame\n",
        "all_models.loc['RF', 'Grid_Search'] = (model_train_score, model_test_score, best_model)\n",
        "all_models['TestScore'].loc['RF', ['Baseline', 'Grid_Search']]"
      ],
      "execution_count": null,
      "outputs": [
        {
          "output_type": "stream",
          "text": [
            "The best model parameters are {'criterion': 'mse', 'min_samples_leaf': 30}\n"
          ],
          "name": "stdout"
        },
        {
          "output_type": "execute_result",
          "data": {
            "text/plain": [
              "model names  technique  \n",
              "RF           Baseline      -0.053368\n",
              "             Grid_Search    0.064958\n",
              "Name: TestScore, dtype: float64"
            ]
          },
          "metadata": {
            "tags": []
          },
          "execution_count": 33
        }
      ]
    },
    {
      "cell_type": "code",
      "metadata": {
        "colab": {
          "base_uri": "https://localhost:8080/"
        },
        "id": "3rpXb28kH9JN",
        "outputId": "f0bb0ddd-ef63-470a-feb0-78749a5cde71"
      },
      "source": [
        "# Dictionary of parameters to search\n",
        "params_to_search = {\n",
        "    'max_features': ['auto', 'log2', None,'sqrt'],\n",
        "    \"max_depth\":np.arange(1,10)\n",
        "}\n",
        "\n",
        "# Initialize a model\n",
        "mdl = RandomForestRegressor(random_state=0)\n",
        "# Initialize the grid search\n",
        "optimized_dt = GridSearchCV(mdl, params_to_search, scoring=['r2'], refit=False, cv=5)\n",
        "# Run the grid search\n",
        "optimized_dt.fit(X_train, y_train)\n",
        "\n",
        "# Find the model with the highest test score\n",
        "\n",
        "cv_result_df = pd.DataFrame(optimized_dt.cv_results_)\n",
        "best_model_params_index = cv_result_df.mean_test_r2.idxmax()\n",
        "best_model_params = cv_result_df.params[best_model_params_index]\n",
        "\n",
        "print(f'The best model parameters are {best_model_params}') \n",
        "\n",
        "# Initialize the model \n",
        "best_model = RandomForestRegressor(random_state=0, **best_model_params)\n",
        "\n",
        "# Fit the model on the ENTIRE training set \n",
        "best_model.fit(X_train, y_train)\n",
        "\n",
        "# Evaluate model precision, recall, and score\n",
        "model_train_score = best_model.score(X_train,y_train)  # evaluate precision on test set\n",
        "model_test_score = best_model.score(X_val, y_val)  # evaluate recall on test set\n",
        "\n",
        "# Add model scores to all_models data frame\n",
        "all_models.loc['RF', 'Grid_Search'] = (model_train_score, model_test_score, best_model)\n",
        "all_models['TestScore'].loc['RF', ['Baseline', 'Grid_Search']]"
      ],
      "execution_count": null,
      "outputs": [
        {
          "output_type": "stream",
          "text": [
            "The best model parameters are {'max_depth': 3, 'max_features': 'auto'}\n"
          ],
          "name": "stdout"
        },
        {
          "output_type": "execute_result",
          "data": {
            "text/plain": [
              "model names  technique  \n",
              "RF           Baseline      -0.053368\n",
              "             Grid_Search   -0.004121\n",
              "Name: TestScore, dtype: float64"
            ]
          },
          "metadata": {
            "tags": []
          },
          "execution_count": 34
        }
      ]
    },
    {
      "cell_type": "code",
      "metadata": {
        "colab": {
          "base_uri": "https://localhost:8080/"
        },
        "id": "2pDxXm5kLPFS",
        "outputId": "2c2be9cd-dac5-40c7-9de3-5d208f699415"
      },
      "source": [
        "# Dictionary of parameters to search\n",
        "params_to_search = {\n",
        "    'n_estimators':np.arange(1,30)\n",
        "}\n",
        "\n",
        "# Initialize a model\n",
        "mdl = RandomForestRegressor(random_state=0)\n",
        "# Initialize the grid search\n",
        "optimized_dt = GridSearchCV(mdl, params_to_search, scoring=['r2'], refit=False, cv=5)\n",
        "# Run the grid search\n",
        "optimized_dt.fit(X_train, y_train)\n",
        "\n",
        "# Find the model with the highest test score\n",
        "\n",
        "cv_result_df = pd.DataFrame(optimized_dt.cv_results_)\n",
        "best_model_params_index = cv_result_df.mean_test_r2.idxmax()\n",
        "best_model_params = cv_result_df.params[best_model_params_index]\n",
        "\n",
        "print(f'The best model parameters are {best_model_params}') \n",
        "\n",
        "# Initialize the model \n",
        "best_model = RandomForestRegressor(random_state=0, **best_model_params)\n",
        "\n",
        "# Fit the model on the ENTIRE training set \n",
        "best_model.fit(X_train, y_train)\n",
        "\n",
        "# Evaluate model precision, recall, and score\n",
        "model_train_score = best_model.score(X_train,y_train)  # evaluate precision on test set\n",
        "model_test_score = best_model.score(X_val, y_val)  # evaluate recall on test set\n",
        "\n",
        "# Add model scores to all_models data frame\n",
        "all_models.loc['RF', 'Grid_Search'] = (model_train_score, model_test_score, best_model)\n",
        "all_models['TestScore'].loc['RF', ['Baseline', 'Grid_Search']]"
      ],
      "execution_count": null,
      "outputs": [
        {
          "output_type": "stream",
          "text": [
            "The best model parameters are {'n_estimators': 29}\n"
          ],
          "name": "stdout"
        },
        {
          "output_type": "execute_result",
          "data": {
            "text/plain": [
              "model names  technique  \n",
              "RF           Baseline      -0.053368\n",
              "             Grid_Search   -0.158040\n",
              "Name: TestScore, dtype: float64"
            ]
          },
          "metadata": {
            "tags": []
          },
          "execution_count": 35
        }
      ]
    },
    {
      "cell_type": "code",
      "metadata": {
        "id": "flen3r8vAjsa"
      },
      "source": [
        "#all_models.loc[:,'Grid_Search',:]"
      ],
      "execution_count": null,
      "outputs": []
    },
    {
      "cell_type": "markdown",
      "metadata": {
        "id": "NiBYBvL7AtlZ"
      },
      "source": [
        "Fpr RidgeCV"
      ]
    },
    {
      "cell_type": "code",
      "metadata": {
        "id": "YDb6n96MApth",
        "colab": {
          "base_uri": "https://localhost:8080/"
        },
        "outputId": "30de83e2-125c-438b-801a-d4044bd5ae24"
      },
      "source": [
        "# Dictionary of parameters to search\n",
        "params_to_search = {\n",
        "    'fit_intercept': [True, False],\n",
        "    'normalize': [True,False],\n",
        "    'gcv_mode': ['auto', 'svd', 'eigen'],\n",
        "}\n",
        "\n",
        "# Initialize a model\n",
        "mdl = RidgeCV()\n",
        "# Initialize the grid search\n",
        "optimized_dt = GridSearchCV(mdl, params_to_search, scoring=['r2'], refit=False, cv=5)\n",
        "# Run the grid search\n",
        "optimized_dt.fit(X_train, y_train)\n",
        "\n",
        "# Find the model with the highest test score\n",
        "\n",
        "cv_result_df = pd.DataFrame(optimized_dt.cv_results_)\n",
        "best_model_params_index = cv_result_df.mean_test_r2.idxmax()\n",
        "best_model_params = cv_result_df.params[best_model_params_index]\n",
        "\n",
        "print(f'The best model parameters are {best_model_params}') \n",
        "\n",
        "# Initialize the model \n",
        "best_model = RidgeCV(**best_model_params)\n",
        "\n",
        "# Fit the model on the ENTIRE training set \n",
        "best_model.fit(X_train, y_train)\n",
        "\n",
        "# Evaluate model precision, recall, and score\n",
        "model_train_score = best_model.score(X_train,y_train)  # evaluate precision on test set\n",
        "model_test_score = best_model.score(X_val, y_val)  # evaluate recall on test set\n",
        "\n",
        "# Add model scores to all_models data frame\n",
        "all_models.loc['RidgeCV', 'Grid_Search'] = (model_train_score, model_test_score, best_model)\n",
        "all_models['TestScore'].loc['RidgeCV', ['Baseline', 'Grid_Search']]"
      ],
      "execution_count": null,
      "outputs": [
        {
          "output_type": "stream",
          "text": [
            "The best model parameters are {'fit_intercept': True, 'gcv_mode': 'eigen', 'normalize': False}\n"
          ],
          "name": "stdout"
        },
        {
          "output_type": "execute_result",
          "data": {
            "text/plain": [
              "model names  technique  \n",
              "RidgeCV      Baseline      -0.120880\n",
              "             Grid_Search   -0.120882\n",
              "Name: TestScore, dtype: float64"
            ]
          },
          "metadata": {
            "tags": []
          },
          "execution_count": 36
        }
      ]
    },
    {
      "cell_type": "markdown",
      "metadata": {
        "id": "ofunRp83D6ui"
      },
      "source": [
        "for LassoCV"
      ]
    },
    {
      "cell_type": "code",
      "metadata": {
        "id": "zKV9sf9tEP0N",
        "colab": {
          "base_uri": "https://localhost:8080/"
        },
        "outputId": "84a63b86-a67a-43e1-9f95-358ca45abf10"
      },
      "source": [
        "# Dictionary of parameters to search\n",
        "params_to_search = {\n",
        "    'fit_intercept': [True, False],\n",
        "    'normalize': [True,False],\n",
        "    'precompute':['auto',False,True],\n",
        "}\n",
        "\n",
        "# Initialize a model\n",
        "mdl = LassoCV()\n",
        "# Initialize the grid search\n",
        "optimized_dt = GridSearchCV(mdl, params_to_search, scoring=['r2'], refit=False, cv=5)\n",
        "# Run the grid search\n",
        "optimized_dt.fit(X_train, y_train)\n",
        "\n",
        "# Find the model with the highest test score\n",
        "\n",
        "cv_result_df = pd.DataFrame(optimized_dt.cv_results_)\n",
        "best_model_params_index = cv_result_df.mean_test_r2.idxmax()\n",
        "best_model_params = cv_result_df.params[best_model_params_index]\n",
        "\n",
        "print(f'The best model parameters are {best_model_params}') \n",
        "\n",
        "# Initialize the model \n",
        "best_model = LassoCV(**best_model_params)\n",
        "\n",
        "# Fit the model on the ENTIRE training set \n",
        "best_model.fit(X_train, y_train)\n",
        "\n",
        "# Evaluate model precision, recall, and score\n",
        "model_train_score = best_model.score(X_train,y_train)  # evaluate precision on test set\n",
        "model_test_score = best_model.score(X_val, y_val)  # evaluate recall on test set\n",
        "\n",
        "# Add model scores to all_models data frame\n",
        "all_models.loc['LassoCV', 'Grid_Search'] = (model_train_score, model_test_score, best_model)\n",
        "all_models['TestScore'].loc['LassoCV', ['Baseline', 'Grid_Search']]"
      ],
      "execution_count": null,
      "outputs": [
        {
          "output_type": "stream",
          "text": [
            "The best model parameters are {'fit_intercept': True, 'normalize': True, 'precompute': True}\n"
          ],
          "name": "stdout"
        },
        {
          "output_type": "execute_result",
          "data": {
            "text/plain": [
              "model names  technique  \n",
              "LassoCV      Baseline       0.136505\n",
              "             Grid_Search    0.241359\n",
              "Name: TestScore, dtype: float64"
            ]
          },
          "metadata": {
            "tags": []
          },
          "execution_count": 37
        }
      ]
    },
    {
      "cell_type": "code",
      "metadata": {
        "id": "ZZkjCz-JKhzS",
        "colab": {
          "base_uri": "https://localhost:8080/"
        },
        "outputId": "3ae1a47f-c301-46ed-a40d-38887b412bb5"
      },
      "source": [
        "# Dictionary of parameters to search\n",
        "params_to_search = {\n",
        "    'cv':[5,10,15,20]\n",
        "}\n",
        "\n",
        "# Initialize a model\n",
        "mdl = LassoCV()\n",
        "# Initialize the grid search\n",
        "optimized_dt = GridSearchCV(mdl, params_to_search, scoring=['r2'], refit=False, cv=5)\n",
        "# Run the grid search\n",
        "optimized_dt.fit(X_train, y_train)\n",
        "\n",
        "# Find the model with the highest test score\n",
        "\n",
        "cv_result_df = pd.DataFrame(optimized_dt.cv_results_)\n",
        "best_model_params_index = cv_result_df.mean_test_r2.idxmax()\n",
        "best_model_params = cv_result_df.params[best_model_params_index]\n",
        "\n",
        "print(f'The best model parameters are {best_model_params}') \n",
        "\n",
        "# Initialize the model \n",
        "best_model = LassoCV(**best_model_params)\n",
        "\n",
        "# Fit the model on the ENTIRE training set \n",
        "best_model.fit(X_train, y_train)\n",
        "\n",
        "# Evaluate model precision, recall, and score\n",
        "model_train_score = best_model.score(X_train,y_train)  # evaluate precision on test set\n",
        "model_test_score = best_model.score(X_val, y_val)  # evaluate recall on test set\n",
        "\n",
        "# Add model scores to all_models data frame\n",
        "all_models.loc['LassoCV', 'Grid_Search'] = (model_train_score, model_test_score, best_model)\n",
        "all_models['TestScore'].loc['LassoCV', ['Baseline', 'Grid_Search']]"
      ],
      "execution_count": null,
      "outputs": [
        {
          "output_type": "stream",
          "text": [
            "The best model parameters are {'cv': 20}\n"
          ],
          "name": "stdout"
        },
        {
          "output_type": "execute_result",
          "data": {
            "text/plain": [
              "model names  technique  \n",
              "LassoCV      Baseline       0.136505\n",
              "             Grid_Search    0.103284\n",
              "Name: TestScore, dtype: float64"
            ]
          },
          "metadata": {
            "tags": []
          },
          "execution_count": 38
        }
      ]
    },
    {
      "cell_type": "markdown",
      "metadata": {
        "id": "uV8mmbnGF18v"
      },
      "source": [
        "For LinReg"
      ]
    },
    {
      "cell_type": "code",
      "metadata": {
        "id": "EzsmT8BCF0py",
        "colab": {
          "base_uri": "https://localhost:8080/"
        },
        "outputId": "47573d4e-c859-41f2-d090-67f0fa7d11a6"
      },
      "source": [
        "# Dictionary of parameters to search\n",
        "params_to_search = {\n",
        "    'fit_intercept': [True, False],\n",
        "    'normalize': [True,False],\n",
        "    'n_jobs':[0,1,2,3]\n",
        "}\n",
        "\n",
        "# Initialize a model\n",
        "mdl = LinearRegression()\n",
        "# Initialize the grid search\n",
        "optimized_dt = GridSearchCV(mdl, params_to_search, scoring=['r2'], refit=False, cv=5)\n",
        "# Run the grid search\n",
        "optimized_dt.fit(X_train, y_train)\n",
        "\n",
        "# Find the model with the highest test score\n",
        "\n",
        "cv_result_df = pd.DataFrame(optimized_dt.cv_results_)\n",
        "best_model_params_index = cv_result_df.mean_test_r2.idxmax()\n",
        "best_model_params = cv_result_df.params[best_model_params_index]\n",
        "\n",
        "print(f'The best model parameters are {best_model_params}') \n",
        "\n",
        "# Initialize the model \n",
        "best_model = LinearRegression(**best_model_params)\n",
        "\n",
        "# Fit the model on the ENTIRE training set \n",
        "best_model.fit(X_train, y_train)\n",
        "\n",
        "# Evaluate model precision, recall, and score\n",
        "model_train_score = best_model.score(X_train,y_train)  # evaluate precision on test set\n",
        "model_test_score = best_model.score(X_val, y_val)  # evaluate recall on test set\n",
        "\n",
        "# Add model scores to all_models data frame\n",
        "all_models.loc['LinReg', 'Grid_Search'] = (model_train_score, model_test_score, best_model)\n",
        "all_models['TestScore'].loc['LinReg', ['Baseline', 'Grid_Search']]"
      ],
      "execution_count": null,
      "outputs": [
        {
          "output_type": "stream",
          "text": [
            "The best model parameters are {'fit_intercept': False, 'n_jobs': 0, 'normalize': True}\n"
          ],
          "name": "stdout"
        },
        {
          "output_type": "execute_result",
          "data": {
            "text/plain": [
              "model names  technique  \n",
              "LinReg       Baseline      -0.612293\n",
              "             Grid_Search   -0.612293\n",
              "Name: TestScore, dtype: float64"
            ]
          },
          "metadata": {
            "tags": []
          },
          "execution_count": 39
        }
      ]
    },
    {
      "cell_type": "markdown",
      "metadata": {
        "id": "DfmBpnduHczG"
      },
      "source": [
        "Grid Search Result"
      ]
    },
    {
      "cell_type": "code",
      "metadata": {
        "id": "kes3YyILHbEJ",
        "colab": {
          "base_uri": "https://localhost:8080/",
          "height": 228
        },
        "outputId": "3586b28b-73bb-4086-d099-86cd0afbfbbc"
      },
      "source": [
        "all_models.loc[:,'Grid_Search',:]"
      ],
      "execution_count": null,
      "outputs": [
        {
          "output_type": "execute_result",
          "data": {
            "text/html": [
              "<div>\n",
              "<style scoped>\n",
              "    .dataframe tbody tr th:only-of-type {\n",
              "        vertical-align: middle;\n",
              "    }\n",
              "\n",
              "    .dataframe tbody tr th {\n",
              "        vertical-align: top;\n",
              "    }\n",
              "\n",
              "    .dataframe thead th {\n",
              "        text-align: right;\n",
              "    }\n",
              "</style>\n",
              "<table border=\"1\" class=\"dataframe\">\n",
              "  <thead>\n",
              "    <tr style=\"text-align: right;\">\n",
              "      <th></th>\n",
              "      <th>TrainScore</th>\n",
              "      <th>TestScore</th>\n",
              "      <th>Model</th>\n",
              "    </tr>\n",
              "    <tr>\n",
              "      <th>model names</th>\n",
              "      <th></th>\n",
              "      <th></th>\n",
              "      <th></th>\n",
              "    </tr>\n",
              "  </thead>\n",
              "  <tbody>\n",
              "    <tr>\n",
              "      <th>LinReg</th>\n",
              "      <td>0.367663</td>\n",
              "      <td>-0.612293</td>\n",
              "      <td>LinearRegression(copy_X=True, fit_intercept=Fa...</td>\n",
              "    </tr>\n",
              "    <tr>\n",
              "      <th>LassoCV</th>\n",
              "      <td>0.341227</td>\n",
              "      <td>0.103284</td>\n",
              "      <td>LassoCV(alphas=None, copy_X=True, cv=20, eps=0...</td>\n",
              "    </tr>\n",
              "    <tr>\n",
              "      <th>RidgeCV</th>\n",
              "      <td>0.366021</td>\n",
              "      <td>-0.120882</td>\n",
              "      <td>RidgeCV(alphas=array([ 0.1,  1. , 10. ]), cv=N...</td>\n",
              "    </tr>\n",
              "    <tr>\n",
              "      <th>RF</th>\n",
              "      <td>0.898089</td>\n",
              "      <td>-0.158040</td>\n",
              "      <td>(DecisionTreeRegressor(ccp_alpha=0.0, criterio...</td>\n",
              "    </tr>\n",
              "    <tr>\n",
              "      <th>CART</th>\n",
              "      <td>0.345567</td>\n",
              "      <td>0.030931</td>\n",
              "      <td>DecisionTreeRegressor(ccp_alpha=0.0, criterion...</td>\n",
              "    </tr>\n",
              "  </tbody>\n",
              "</table>\n",
              "</div>"
            ],
            "text/plain": [
              "             TrainScore  ...                                              Model\n",
              "model names              ...                                                   \n",
              "LinReg         0.367663  ...  LinearRegression(copy_X=True, fit_intercept=Fa...\n",
              "LassoCV        0.341227  ...  LassoCV(alphas=None, copy_X=True, cv=20, eps=0...\n",
              "RidgeCV        0.366021  ...  RidgeCV(alphas=array([ 0.1,  1. , 10. ]), cv=N...\n",
              "RF             0.898089  ...  (DecisionTreeRegressor(ccp_alpha=0.0, criterio...\n",
              "CART           0.345567  ...  DecisionTreeRegressor(ccp_alpha=0.0, criterion...\n",
              "\n",
              "[5 rows x 3 columns]"
            ]
          },
          "metadata": {
            "tags": []
          },
          "execution_count": 40
        }
      ]
    },
    {
      "cell_type": "markdown",
      "metadata": {
        "id": "YRfat8qalsrq"
      },
      "source": [
        "# Stacking"
      ]
    },
    {
      "cell_type": "code",
      "metadata": {
        "id": "4Jj-ZE1u_3Nl",
        "colab": {
          "base_uri": "https://localhost:8080/"
        },
        "outputId": "51e72ae5-0fb8-4e2f-99b6-bc31fba0b96b"
      },
      "source": [
        "'''A stacked model that begins with clustering'''\n",
        "technique_name = 'Stacking'\n",
        "\n",
        "# Initialize the clustering model\n",
        "model = KMeans(n_init=10, n_clusters=8, random_state=0)\n",
        "model.fit(X_train)\n",
        "\n",
        "# Stack training data\n",
        "X_train_prediction = pd.Series(model.predict(X_train), \n",
        "                            name='cluster',\n",
        "                            index=X_train.index)\n",
        "\n",
        "# One-hot-encode cluster numbers\n",
        "X_train_prediction = pd.get_dummies(X_train_prediction)\n",
        "# Add cluster numbers to features\n",
        "X_train_stacked = X_train.join(X_train_prediction)\n",
        "\n",
        "# Stack testing data\n",
        "X_val_prediction = pd.Series(model.predict(X_val),\n",
        "                             name='cluster',\n",
        "                             index=X_val.index)\n",
        "# One-hot-encode cluster numbers\n",
        "X_val_prediction = pd.get_dummies(X_val_prediction)\n",
        "# Get cluster numbers that weren't predicted in the testing set\n",
        "missing_cluster_columns = X_train_prediction.columns.difference(X_val_prediction.columns)\n",
        "# Add missing cluster dummy variables\n",
        "X_val_prediction[missing_cluster_columns] = 0 \n",
        "# Add cluster numbers to features\n",
        "X_val_stacked = X_val.join(X_val_prediction)\n",
        "\n",
        "# We will use logistic regression instead of a decision tree at the higher-level classifier\n",
        "all_models = fit_and_score_model(all_models, technique_name, X_train_stacked, X_val_stacked, y_train, y_val)\n",
        "compare_models(technique_name)"
      ],
      "execution_count": null,
      "outputs": [
        {
          "output_type": "stream",
          "text": [
            "LinReg achieved a train score of 0.372 and test score of -0.074\n",
            "LassoCV achieved a train score of 0.339 and test score of 0.137\n",
            "RidgeCV achieved a train score of 0.367 and test score of -0.026\n",
            "RF achieved a train score of 0.902 and test score of -0.106\n",
            "CART achieved a train score of 1.000 and test score of -0.563\n",
            "On average, scores improved by 0.10, and the most improvement was 0.54\n"
          ],
          "name": "stdout"
        }
      ]
    },
    {
      "cell_type": "code",
      "metadata": {
        "id": "EylVidzUwtTc",
        "colab": {
          "base_uri": "https://localhost:8080/"
        },
        "outputId": "f2d84e4f-6166-40ea-a4b8-0d9a813dfca4"
      },
      "source": [
        "'''A stacked model that begins with clustering'''\n",
        "technique_name = 'Stacking'\n",
        "\n",
        "# Initialize the clustering model\n",
        "model = KMeans(n_init=10, n_clusters=8, random_state=0)\n",
        "model.fit(X_train)\n",
        "\n",
        "# Stack training data\n",
        "X_train_prediction = pd.Series(model.predict(X_train), \n",
        "                            name='cluster',\n",
        "                            index=X_train.index)\n",
        "\n",
        "# One-hot-encode cluster numbers\n",
        "X_train_prediction = pd.get_dummies(X_train_prediction)\n",
        "# Add cluster numbers to features\n",
        "X_train_stacked = X_train.join(X_train_prediction)\n",
        "\n",
        "# Stack testing data\n",
        "X_val_prediction = pd.Series(model.predict(X_val),\n",
        "                             name='cluster',\n",
        "                             index=X_val.index)\n",
        "# One-hot-encode cluster numbers\n",
        "X_val_prediction = pd.get_dummies(X_val_prediction)\n",
        "# Get cluster numbers that weren't predicted in the testing set\n",
        "missing_cluster_columns = X_train_prediction.columns.difference(X_val_prediction.columns)\n",
        "# Add missing cluster dummy variables\n",
        "X_val_prediction[missing_cluster_columns] = 0 \n",
        "# Add cluster numbers to features\n",
        "X_val_stacked = X_val.join(X_val_prediction)\n",
        "\n",
        "# We will use logistic regression instead of a decision tree at the higher-level classifier\n",
        "all_models = fit_and_score_model(all_models, technique_name, X_train_stacked, X_val_stacked, y_train, y_val)\n",
        "compare_models(technique_name)"
      ],
      "execution_count": null,
      "outputs": [
        {
          "output_type": "stream",
          "text": [
            "LinReg achieved a train score of 0.372 and test score of -0.074\n",
            "LassoCV achieved a train score of 0.339 and test score of 0.137\n",
            "RidgeCV achieved a train score of 0.367 and test score of -0.026\n",
            "RF achieved a train score of 0.903 and test score of -0.167\n",
            "CART achieved a train score of 1.000 and test score of -0.644\n",
            "On average, scores improved by 0.07, and the most improvement was 0.54\n"
          ],
          "name": "stdout"
        }
      ]
    },
    {
      "cell_type": "code",
      "metadata": {
        "id": "VE2WRy-ljlmS",
        "colab": {
          "base_uri": "https://localhost:8080/",
          "height": 462
        },
        "outputId": "72e4910d-9de8-4625-a367-5a3f4017b834"
      },
      "source": [
        "X_train_interactions_overall"
      ],
      "execution_count": null,
      "outputs": [
        {
          "output_type": "execute_result",
          "data": {
            "text/html": [
              "<div>\n",
              "<style scoped>\n",
              "    .dataframe tbody tr th:only-of-type {\n",
              "        vertical-align: middle;\n",
              "    }\n",
              "\n",
              "    .dataframe tbody tr th {\n",
              "        vertical-align: top;\n",
              "    }\n",
              "\n",
              "    .dataframe thead th {\n",
              "        text-align: right;\n",
              "    }\n",
              "</style>\n",
              "<table border=\"1\" class=\"dataframe\">\n",
              "  <thead>\n",
              "    <tr style=\"text-align: right;\">\n",
              "      <th></th>\n",
              "      <th>TOMATOMETER score</th>\n",
              "      <th>TOMATOMETER Count</th>\n",
              "      <th>Runtime</th>\n",
              "      <th>Genre_Action</th>\n",
              "      <th>Genre_Art&amp;Foreign</th>\n",
              "      <th>Genre_Classics</th>\n",
              "      <th>Genre_Comedy</th>\n",
              "      <th>Genre_Documentary</th>\n",
              "      <th>Genre_Drama</th>\n",
              "      <th>Genre_Horror</th>\n",
              "      <th>Genre_Kids&amp;Family</th>\n",
              "      <th>Genre_Mystery</th>\n",
              "      <th>Genre_Romance</th>\n",
              "      <th>Genre_SciFi</th>\n",
              "      <th>Rating_G</th>\n",
              "      <th>Rating_NC17</th>\n",
              "      <th>Rating_NR</th>\n",
              "      <th>Rating_PG</th>\n",
              "      <th>Rating_PG-13</th>\n",
              "      <th>Rating_R</th>\n",
              "      <th>cast1_oscar_nom</th>\n",
              "      <th>cast1_oscars</th>\n",
              "      <th>cast2_oscar_nom</th>\n",
              "      <th>cast2_oscars</th>\n",
              "      <th>cast3_oscar_nom</th>\n",
              "      <th>cast3_oscars</th>\n",
              "      <th>cast1_FB_likes</th>\n",
              "      <th>cast2_FB_likes</th>\n",
              "      <th>cast3_FB_likes</th>\n",
              "      <th>dir_oscar_nom</th>\n",
              "      <th>dir_oscars</th>\n",
              "      <th>director_awards</th>\n",
              "      <th>director_facebook_likes</th>\n",
              "      <th>Genre_Horror + Rating_G + Rating_NR</th>\n",
              "      <th>total_cast_facebook_likes</th>\n",
              "    </tr>\n",
              "  </thead>\n",
              "  <tbody>\n",
              "    <tr>\n",
              "      <th>70</th>\n",
              "      <td>95.0</td>\n",
              "      <td>19</td>\n",
              "      <td>70</td>\n",
              "      <td>0</td>\n",
              "      <td>0</td>\n",
              "      <td>0</td>\n",
              "      <td>0</td>\n",
              "      <td>1</td>\n",
              "      <td>0</td>\n",
              "      <td>0</td>\n",
              "      <td>0</td>\n",
              "      <td>0</td>\n",
              "      <td>0</td>\n",
              "      <td>0</td>\n",
              "      <td>0</td>\n",
              "      <td>0</td>\n",
              "      <td>1</td>\n",
              "      <td>0</td>\n",
              "      <td>0</td>\n",
              "      <td>0</td>\n",
              "      <td>0.0</td>\n",
              "      <td>0.0</td>\n",
              "      <td>0.0</td>\n",
              "      <td>0.0</td>\n",
              "      <td>0.0</td>\n",
              "      <td>0.0</td>\n",
              "      <td>488.0</td>\n",
              "      <td>367.0</td>\n",
              "      <td>367.0</td>\n",
              "      <td>0.0</td>\n",
              "      <td>0.0</td>\n",
              "      <td>0.0</td>\n",
              "      <td>232.0</td>\n",
              "      <td>1</td>\n",
              "      <td>1222.0</td>\n",
              "    </tr>\n",
              "    <tr>\n",
              "      <th>75</th>\n",
              "      <td>73.0</td>\n",
              "      <td>15</td>\n",
              "      <td>71</td>\n",
              "      <td>0</td>\n",
              "      <td>1</td>\n",
              "      <td>0</td>\n",
              "      <td>0</td>\n",
              "      <td>0</td>\n",
              "      <td>1</td>\n",
              "      <td>1</td>\n",
              "      <td>0</td>\n",
              "      <td>1</td>\n",
              "      <td>0</td>\n",
              "      <td>0</td>\n",
              "      <td>0</td>\n",
              "      <td>0</td>\n",
              "      <td>1</td>\n",
              "      <td>0</td>\n",
              "      <td>0</td>\n",
              "      <td>0</td>\n",
              "      <td>0.0</td>\n",
              "      <td>0.0</td>\n",
              "      <td>0.0</td>\n",
              "      <td>0.0</td>\n",
              "      <td>0.0</td>\n",
              "      <td>0.0</td>\n",
              "      <td>367.0</td>\n",
              "      <td>367.0</td>\n",
              "      <td>367.0</td>\n",
              "      <td>0.0</td>\n",
              "      <td>0.0</td>\n",
              "      <td>0.0</td>\n",
              "      <td>232.0</td>\n",
              "      <td>2</td>\n",
              "      <td>1101.0</td>\n",
              "    </tr>\n",
              "    <tr>\n",
              "      <th>889</th>\n",
              "      <td>92.0</td>\n",
              "      <td>7</td>\n",
              "      <td>104</td>\n",
              "      <td>0</td>\n",
              "      <td>0</td>\n",
              "      <td>0</td>\n",
              "      <td>0</td>\n",
              "      <td>0</td>\n",
              "      <td>1</td>\n",
              "      <td>0</td>\n",
              "      <td>0</td>\n",
              "      <td>0</td>\n",
              "      <td>0</td>\n",
              "      <td>0</td>\n",
              "      <td>0</td>\n",
              "      <td>0</td>\n",
              "      <td>1</td>\n",
              "      <td>0</td>\n",
              "      <td>0</td>\n",
              "      <td>0</td>\n",
              "      <td>0.0</td>\n",
              "      <td>0.0</td>\n",
              "      <td>0.0</td>\n",
              "      <td>0.0</td>\n",
              "      <td>0.0</td>\n",
              "      <td>0.0</td>\n",
              "      <td>367.0</td>\n",
              "      <td>367.0</td>\n",
              "      <td>367.0</td>\n",
              "      <td>0.0</td>\n",
              "      <td>0.0</td>\n",
              "      <td>0.0</td>\n",
              "      <td>232.0</td>\n",
              "      <td>1</td>\n",
              "      <td>1101.0</td>\n",
              "    </tr>\n",
              "    <tr>\n",
              "      <th>1210</th>\n",
              "      <td>40.0</td>\n",
              "      <td>190</td>\n",
              "      <td>120</td>\n",
              "      <td>1</td>\n",
              "      <td>0</td>\n",
              "      <td>0</td>\n",
              "      <td>0</td>\n",
              "      <td>0</td>\n",
              "      <td>0</td>\n",
              "      <td>0</td>\n",
              "      <td>0</td>\n",
              "      <td>0</td>\n",
              "      <td>1</td>\n",
              "      <td>1</td>\n",
              "      <td>0</td>\n",
              "      <td>0</td>\n",
              "      <td>0</td>\n",
              "      <td>0</td>\n",
              "      <td>1</td>\n",
              "      <td>0</td>\n",
              "      <td>0.0</td>\n",
              "      <td>0.0</td>\n",
              "      <td>0.0</td>\n",
              "      <td>0.0</td>\n",
              "      <td>0.0</td>\n",
              "      <td>0.0</td>\n",
              "      <td>8000.0</td>\n",
              "      <td>5000.0</td>\n",
              "      <td>367.0</td>\n",
              "      <td>0.0</td>\n",
              "      <td>0.0</td>\n",
              "      <td>6.0</td>\n",
              "      <td>124.0</td>\n",
              "      <td>0</td>\n",
              "      <td>13367.0</td>\n",
              "    </tr>\n",
              "    <tr>\n",
              "      <th>720</th>\n",
              "      <td>63.0</td>\n",
              "      <td>104</td>\n",
              "      <td>82</td>\n",
              "      <td>1</td>\n",
              "      <td>0</td>\n",
              "      <td>0</td>\n",
              "      <td>0</td>\n",
              "      <td>0</td>\n",
              "      <td>0</td>\n",
              "      <td>1</td>\n",
              "      <td>0</td>\n",
              "      <td>1</td>\n",
              "      <td>0</td>\n",
              "      <td>0</td>\n",
              "      <td>0</td>\n",
              "      <td>0</td>\n",
              "      <td>0</td>\n",
              "      <td>0</td>\n",
              "      <td>0</td>\n",
              "      <td>1</td>\n",
              "      <td>0.0</td>\n",
              "      <td>0.0</td>\n",
              "      <td>0.0</td>\n",
              "      <td>0.0</td>\n",
              "      <td>0.0</td>\n",
              "      <td>0.0</td>\n",
              "      <td>338.0</td>\n",
              "      <td>367.0</td>\n",
              "      <td>956.0</td>\n",
              "      <td>0.0</td>\n",
              "      <td>0.0</td>\n",
              "      <td>0.0</td>\n",
              "      <td>232.0</td>\n",
              "      <td>1</td>\n",
              "      <td>1661.0</td>\n",
              "    </tr>\n",
              "    <tr>\n",
              "      <th>...</th>\n",
              "      <td>...</td>\n",
              "      <td>...</td>\n",
              "      <td>...</td>\n",
              "      <td>...</td>\n",
              "      <td>...</td>\n",
              "      <td>...</td>\n",
              "      <td>...</td>\n",
              "      <td>...</td>\n",
              "      <td>...</td>\n",
              "      <td>...</td>\n",
              "      <td>...</td>\n",
              "      <td>...</td>\n",
              "      <td>...</td>\n",
              "      <td>...</td>\n",
              "      <td>...</td>\n",
              "      <td>...</td>\n",
              "      <td>...</td>\n",
              "      <td>...</td>\n",
              "      <td>...</td>\n",
              "      <td>...</td>\n",
              "      <td>...</td>\n",
              "      <td>...</td>\n",
              "      <td>...</td>\n",
              "      <td>...</td>\n",
              "      <td>...</td>\n",
              "      <td>...</td>\n",
              "      <td>...</td>\n",
              "      <td>...</td>\n",
              "      <td>...</td>\n",
              "      <td>...</td>\n",
              "      <td>...</td>\n",
              "      <td>...</td>\n",
              "      <td>...</td>\n",
              "      <td>...</td>\n",
              "      <td>...</td>\n",
              "    </tr>\n",
              "    <tr>\n",
              "      <th>789</th>\n",
              "      <td>50.0</td>\n",
              "      <td>34</td>\n",
              "      <td>83</td>\n",
              "      <td>0</td>\n",
              "      <td>0</td>\n",
              "      <td>0</td>\n",
              "      <td>0</td>\n",
              "      <td>0</td>\n",
              "      <td>1</td>\n",
              "      <td>0</td>\n",
              "      <td>0</td>\n",
              "      <td>0</td>\n",
              "      <td>0</td>\n",
              "      <td>0</td>\n",
              "      <td>0</td>\n",
              "      <td>0</td>\n",
              "      <td>0</td>\n",
              "      <td>0</td>\n",
              "      <td>0</td>\n",
              "      <td>1</td>\n",
              "      <td>0.0</td>\n",
              "      <td>0.0</td>\n",
              "      <td>0.0</td>\n",
              "      <td>0.0</td>\n",
              "      <td>0.0</td>\n",
              "      <td>0.0</td>\n",
              "      <td>221.0</td>\n",
              "      <td>367.0</td>\n",
              "      <td>367.0</td>\n",
              "      <td>0.0</td>\n",
              "      <td>0.0</td>\n",
              "      <td>0.0</td>\n",
              "      <td>232.0</td>\n",
              "      <td>0</td>\n",
              "      <td>955.0</td>\n",
              "    </tr>\n",
              "    <tr>\n",
              "      <th>256</th>\n",
              "      <td>40.0</td>\n",
              "      <td>129</td>\n",
              "      <td>110</td>\n",
              "      <td>1</td>\n",
              "      <td>0</td>\n",
              "      <td>0</td>\n",
              "      <td>1</td>\n",
              "      <td>0</td>\n",
              "      <td>1</td>\n",
              "      <td>0</td>\n",
              "      <td>0</td>\n",
              "      <td>0</td>\n",
              "      <td>0</td>\n",
              "      <td>0</td>\n",
              "      <td>0</td>\n",
              "      <td>0</td>\n",
              "      <td>0</td>\n",
              "      <td>0</td>\n",
              "      <td>0</td>\n",
              "      <td>1</td>\n",
              "      <td>0.0</td>\n",
              "      <td>0.0</td>\n",
              "      <td>3.0</td>\n",
              "      <td>1.0</td>\n",
              "      <td>0.0</td>\n",
              "      <td>0.0</td>\n",
              "      <td>1000.0</td>\n",
              "      <td>9000.0</td>\n",
              "      <td>367.0</td>\n",
              "      <td>0.0</td>\n",
              "      <td>0.0</td>\n",
              "      <td>0.0</td>\n",
              "      <td>232.0</td>\n",
              "      <td>0</td>\n",
              "      <td>10367.0</td>\n",
              "    </tr>\n",
              "    <tr>\n",
              "      <th>968</th>\n",
              "      <td>96.0</td>\n",
              "      <td>15</td>\n",
              "      <td>130</td>\n",
              "      <td>0</td>\n",
              "      <td>0</td>\n",
              "      <td>0</td>\n",
              "      <td>0</td>\n",
              "      <td>0</td>\n",
              "      <td>1</td>\n",
              "      <td>0</td>\n",
              "      <td>0</td>\n",
              "      <td>0</td>\n",
              "      <td>0</td>\n",
              "      <td>0</td>\n",
              "      <td>0</td>\n",
              "      <td>0</td>\n",
              "      <td>0</td>\n",
              "      <td>1</td>\n",
              "      <td>0</td>\n",
              "      <td>0</td>\n",
              "      <td>0.0</td>\n",
              "      <td>0.0</td>\n",
              "      <td>0.0</td>\n",
              "      <td>0.0</td>\n",
              "      <td>0.0</td>\n",
              "      <td>0.0</td>\n",
              "      <td>367.0</td>\n",
              "      <td>367.0</td>\n",
              "      <td>367.0</td>\n",
              "      <td>0.0</td>\n",
              "      <td>0.0</td>\n",
              "      <td>0.0</td>\n",
              "      <td>0.0</td>\n",
              "      <td>0</td>\n",
              "      <td>1101.0</td>\n",
              "    </tr>\n",
              "    <tr>\n",
              "      <th>952</th>\n",
              "      <td>78.0</td>\n",
              "      <td>11</td>\n",
              "      <td>78</td>\n",
              "      <td>0</td>\n",
              "      <td>0</td>\n",
              "      <td>0</td>\n",
              "      <td>0</td>\n",
              "      <td>0</td>\n",
              "      <td>0</td>\n",
              "      <td>1</td>\n",
              "      <td>0</td>\n",
              "      <td>0</td>\n",
              "      <td>0</td>\n",
              "      <td>0</td>\n",
              "      <td>0</td>\n",
              "      <td>0</td>\n",
              "      <td>1</td>\n",
              "      <td>0</td>\n",
              "      <td>0</td>\n",
              "      <td>0</td>\n",
              "      <td>0.0</td>\n",
              "      <td>0.0</td>\n",
              "      <td>0.0</td>\n",
              "      <td>0.0</td>\n",
              "      <td>0.0</td>\n",
              "      <td>0.0</td>\n",
              "      <td>367.0</td>\n",
              "      <td>367.0</td>\n",
              "      <td>367.0</td>\n",
              "      <td>0.0</td>\n",
              "      <td>0.0</td>\n",
              "      <td>0.0</td>\n",
              "      <td>232.0</td>\n",
              "      <td>2</td>\n",
              "      <td>1101.0</td>\n",
              "    </tr>\n",
              "    <tr>\n",
              "      <th>1273</th>\n",
              "      <td>92.0</td>\n",
              "      <td>37</td>\n",
              "      <td>96</td>\n",
              "      <td>0</td>\n",
              "      <td>0</td>\n",
              "      <td>0</td>\n",
              "      <td>0</td>\n",
              "      <td>0</td>\n",
              "      <td>0</td>\n",
              "      <td>1</td>\n",
              "      <td>0</td>\n",
              "      <td>1</td>\n",
              "      <td>0</td>\n",
              "      <td>0</td>\n",
              "      <td>0</td>\n",
              "      <td>0</td>\n",
              "      <td>0</td>\n",
              "      <td>0</td>\n",
              "      <td>0</td>\n",
              "      <td>1</td>\n",
              "      <td>0.0</td>\n",
              "      <td>0.0</td>\n",
              "      <td>0.0</td>\n",
              "      <td>0.0</td>\n",
              "      <td>0.0</td>\n",
              "      <td>0.0</td>\n",
              "      <td>367.0</td>\n",
              "      <td>367.0</td>\n",
              "      <td>367.0</td>\n",
              "      <td>0.0</td>\n",
              "      <td>0.0</td>\n",
              "      <td>0.0</td>\n",
              "      <td>232.0</td>\n",
              "      <td>1</td>\n",
              "      <td>1101.0</td>\n",
              "    </tr>\n",
              "  </tbody>\n",
              "</table>\n",
              "<p>893 rows × 35 columns</p>\n",
              "</div>"
            ],
            "text/plain": [
              "      TOMATOMETER score  ...  total_cast_facebook_likes\n",
              "70                 95.0  ...                     1222.0\n",
              "75                 73.0  ...                     1101.0\n",
              "889                92.0  ...                     1101.0\n",
              "1210               40.0  ...                    13367.0\n",
              "720                63.0  ...                     1661.0\n",
              "...                 ...  ...                        ...\n",
              "789                50.0  ...                      955.0\n",
              "256                40.0  ...                    10367.0\n",
              "968                96.0  ...                     1101.0\n",
              "952                78.0  ...                     1101.0\n",
              "1273               92.0  ...                     1101.0\n",
              "\n",
              "[893 rows x 35 columns]"
            ]
          },
          "metadata": {
            "tags": []
          },
          "execution_count": 43
        }
      ]
    },
    {
      "cell_type": "markdown",
      "metadata": {
        "id": "j1XZ-EMqUuCy"
      },
      "source": [
        "With feature engineering (used for \"Stacking\" in all_models)"
      ]
    },
    {
      "cell_type": "code",
      "metadata": {
        "id": "MhjpNsviTnJl",
        "colab": {
          "base_uri": "https://localhost:8080/"
        },
        "outputId": "afa34497-e1b5-4440-e795-1b05d65fc160"
      },
      "source": [
        "'''A stacked model that begins with clustering'''\n",
        "technique_name = 'Stacking'\n",
        "\n",
        "# Initialize the clustering model\n",
        "model = KMeans(n_init=10, n_clusters=8, random_state=0)\n",
        "model.fit(X_train_interactions_overall)\n",
        "\n",
        "# Stack training data\n",
        "X_train_prediction = pd.Series(model.predict(X_train_interactions_overall), \n",
        "                            name='cluster',\n",
        "                            index=X_train_interactions_overall.index)\n",
        "\n",
        "# One-hot-encode cluster numbers\n",
        "X_train_prediction = pd.get_dummies(X_train_prediction)\n",
        "# Add cluster numbers to features\n",
        "X_train_stacked = X_train_interactions_overall.join(X_train_prediction)\n",
        "\n",
        "# Stack testing data\n",
        "X_val_prediction = pd.Series(model.predict(X_val_interactions_overall),\n",
        "                             name='cluster',\n",
        "                             index=X_val_interactions_overall.index)\n",
        "# One-hot-encode cluster numbers\n",
        "X_val_prediction = pd.get_dummies(X_val_prediction)\n",
        "# Get cluster numbers that weren't predicted in the testing set\n",
        "missing_cluster_columns = X_train_prediction.columns.difference(X_val_prediction.columns)\n",
        "# Add missing cluster dummy variables\n",
        "X_val_prediction[missing_cluster_columns] = 0 \n",
        "# Add cluster numbers to features\n",
        "X_val_stacked = X_val_interactions_overall.join(X_val_prediction)\n",
        "\n",
        "# We will use logistic regression instead of a decision tree at the higher-level classifier\n",
        "all_models = fit_and_score_model(all_models, technique_name, X_train_stacked, X_val_stacked, y_train, y_val)\n",
        "compare_models(technique_name)"
      ],
      "execution_count": null,
      "outputs": [
        {
          "output_type": "stream",
          "text": [
            "LinReg achieved a train score of 0.365 and test score of -0.440\n",
            "LassoCV achieved a train score of 0.339 and test score of 0.137\n",
            "RidgeCV achieved a train score of 0.368 and test score of -0.122\n",
            "RF achieved a train score of 0.902 and test score of -0.100\n",
            "CART achieved a train score of 1.000 and test score of -1.981\n",
            "On average, scores improved by -0.28, and the most improvement was 0.17\n"
          ],
          "name": "stdout"
        }
      ]
    },
    {
      "cell_type": "markdown",
      "metadata": {
        "id": "e6zKtus40PWH"
      },
      "source": [
        "# Bagging"
      ]
    },
    {
      "cell_type": "code",
      "metadata": {
        "id": "CuoYuV6P_3Ns",
        "colab": {
          "base_uri": "https://localhost:8080/"
        },
        "outputId": "9de05b5f-1002-46f4-8ae6-eafd1986894c"
      },
      "source": [
        "from sklearn.ensemble import VotingRegressor\n",
        "technique_name = 'Bagging'\n",
        "\n",
        "# Get a list of initialized models for bagging\n",
        "models_dict = make_models()\n",
        "# Convert models to list of tuples (required by documentation)\n",
        "model_list = list(models_dict.items()) \n",
        "\n",
        "# Set the weights for each model as their relative performance\n",
        "bagging_weights = all_models.TestScore[:,'Baseline'].values\n",
        "\n",
        "# Initialize bagging model\n",
        "bagging_model = VotingRegressor(model_list, weights=bagging_weights)\n",
        "# Fit the bagging model (i.e., each of the four models that are bagged)\n",
        "bagging_model.fit(X_train.values, y_train.values)\n",
        "\n",
        "# Predict the target using the bagged model\n",
        "bagging_prediction = bagging_model.predict(X_val)\n",
        "\n",
        "# Evaluate ensemble model\n",
        "fit_and_score_model(all_models,technique_name,X_train,X_val,y_train,y_val)\n",
        "\n",
        "# Add ensemble model to all_models dataframe (commenting this out bc fit_and)score_model does this already)\n",
        "#all_models.loc[:, technique_name, :] = (trainscore, testscore, None) \n",
        "compare_models(technique_name)\n"
      ],
      "execution_count": null,
      "outputs": [
        {
          "output_type": "stream",
          "text": [
            "LinReg achieved a train score of 0.368 and test score of -0.612\n",
            "LassoCV achieved a train score of 0.339 and test score of 0.137\n",
            "RidgeCV achieved a train score of 0.366 and test score of -0.121\n",
            "RF achieved a train score of 0.904 and test score of -0.040\n",
            "CART achieved a train score of 1.000 and test score of -0.771\n",
            "On average, scores improved by -0.06, and the most improvement was 0.01\n"
          ],
          "name": "stdout"
        }
      ]
    },
    {
      "cell_type": "markdown",
      "metadata": {
        "id": "H45WXz5hJhV1"
      },
      "source": [
        "##Using differnt classifier"
      ]
    },
    {
      "cell_type": "markdown",
      "metadata": {
        "id": "lJ1sRaOxksgc"
      },
      "source": [
        "Find the one"
      ]
    },
    {
      "cell_type": "code",
      "metadata": {
        "colab": {
          "base_uri": "https://localhost:8080/"
        },
        "id": "YHvIK9Bqku1f",
        "outputId": "6cf4208f-2d39-48fa-95b1-dda1765c7f37"
      },
      "source": [
        "from sklearn.metrics import r2_score\n",
        "technique_name = 'bagging_all'\n",
        "\n",
        "# Get a list of initialized models for bagging\n",
        "models_dict = make_models()\n",
        "models_dict.pop('CART')\n",
        "#models_dict.pop('RF')\n",
        "\n",
        "engineering_techniques_use = ('Baseline',  # Set of baseline models\n",
        "                          #'Scaling',  # Set of models trained with scaled data\n",
        "                          #'Feature_Engineering',  # Set of models trained with engineered features\n",
        "                          #'Feature_Engineering_overall', # trying\n",
        "                          'Feature_Selection',  # Set of models trained with \"selected\" features\n",
        "                          'Grid_Search',  # Set of models trained via grid search\n",
        "                          #'Stacking',  # Set of stacked model \n",
        "                          'Bagging',   # A bagged model\n",
        "                          #'Mutual_Regression (scaled)', # Set of models trained with features from MI using scaled data\n",
        "                          'Mutual_Regression' # Set of models trained with features from MI using normal data\n",
        "                          )\n",
        "\n",
        "# Convert models to list of tuples (required by documentation)\n",
        "model_list = list(models_dict.items()) \n",
        "bagging_prediction_ultimate = []\n",
        "bagging_weights =[]\n",
        "bagging_weight2 = []\n",
        "\n",
        "for  k in engineering_techniques_use:\n",
        "\n",
        "  # Set the weights for each model as their relative performance\n",
        "  bagging_collector = all_models.TestScore[:,k].values\n",
        "  bagging_weights.extend(bagging_collector[:4]) \n",
        "  bagging_weight2.append(bagging_collector[:4]) \n",
        "  #Initialize bagging model\n",
        "print(bagging_weights)\n",
        "print(bagging_weight2)\n"
      ],
      "execution_count": null,
      "outputs": [
        {
          "output_type": "stream",
          "text": [
            "[-0.6122933635822863, 0.13650486082035906, -0.120880442692499, -0.05336757536969983, -0.4978948773973633, 0.13650486082035906, -0.123972346231936, -0.06692206214766183, -0.6122933635810661, 0.10328386727949324, -0.12088191771473779, -0.1580398215984824, -0.6122933635822863, 0.13650486082035906, -0.120880442692499, -0.039579574607151446, 0.07966899754991996, 0.09036821717033539, 0.07870499886517723, -0.04252555229663235]\n",
            "[array([-0.61229336,  0.13650486, -0.12088044, -0.05336758]), array([-0.49789488,  0.13650486, -0.12397235, -0.06692206]), array([-0.61229336,  0.10328387, -0.12088192, -0.15803982]), array([-0.61229336,  0.13650486, -0.12088044, -0.03957957]), array([ 0.079669  ,  0.09036822,  0.078705  , -0.04252555])]\n"
          ],
          "name": "stdout"
        }
      ]
    },
    {
      "cell_type": "code",
      "metadata": {
        "id": "b7Rn-59smgaI",
        "colab": {
          "base_uri": "https://localhost:8080/",
          "height": 1000
        },
        "outputId": "3d36ba59-c5ee-4265-e7f0-66671571ddfe"
      },
      "source": [
        "for  j in bagging_weight2:\n",
        "  for i in range(len(model_list)):\n",
        "    model_list[i][1].fit(X_train.values, y_train.values)\n",
        "    prediction = model_list[i][1].predict(X_val)\n",
        "\n",
        "    if bagging_prediction_ultimate==[]:\n",
        "      bagging_prediction_ultimate = prediction*j[i]/sum(bagging_weights)\n",
        "    else:\n",
        "      bagging_prediction_ultimate = bagging_prediction_ultimate+prediction*j[i]/sum(bagging_weights)\n",
        "      \n",
        "\n",
        "\n",
        "test_score = r2_score(y_val,bagging_prediction_ultimate)\n",
        "\n",
        "all_models.loc['LinReg', 'bagging_all'] = (0,test_score,None)"
      ],
      "execution_count": null,
      "outputs": [
        {
          "output_type": "stream",
          "text": [
            "/usr/local/lib/python3.6/dist-packages/ipykernel_launcher.py:6: DeprecationWarning: elementwise comparison failed; this will raise an error in the future.\n",
            "  \n",
            "/usr/local/lib/python3.6/dist-packages/ipykernel_launcher.py:6: DeprecationWarning: elementwise comparison failed; this will raise an error in the future.\n",
            "  \n",
            "/usr/local/lib/python3.6/dist-packages/ipykernel_launcher.py:6: DeprecationWarning: elementwise comparison failed; this will raise an error in the future.\n",
            "  \n",
            "/usr/local/lib/python3.6/dist-packages/ipykernel_launcher.py:6: DeprecationWarning: elementwise comparison failed; this will raise an error in the future.\n",
            "  \n",
            "/usr/local/lib/python3.6/dist-packages/ipykernel_launcher.py:6: DeprecationWarning: elementwise comparison failed; this will raise an error in the future.\n",
            "  \n",
            "/usr/local/lib/python3.6/dist-packages/ipykernel_launcher.py:6: DeprecationWarning: elementwise comparison failed; this will raise an error in the future.\n",
            "  \n",
            "/usr/local/lib/python3.6/dist-packages/ipykernel_launcher.py:6: DeprecationWarning: elementwise comparison failed; this will raise an error in the future.\n",
            "  \n",
            "/usr/local/lib/python3.6/dist-packages/ipykernel_launcher.py:6: DeprecationWarning: elementwise comparison failed; this will raise an error in the future.\n",
            "  \n",
            "/usr/local/lib/python3.6/dist-packages/ipykernel_launcher.py:6: DeprecationWarning: elementwise comparison failed; this will raise an error in the future.\n",
            "  \n",
            "/usr/local/lib/python3.6/dist-packages/ipykernel_launcher.py:6: DeprecationWarning: elementwise comparison failed; this will raise an error in the future.\n",
            "  \n",
            "/usr/local/lib/python3.6/dist-packages/ipykernel_launcher.py:6: DeprecationWarning: elementwise comparison failed; this will raise an error in the future.\n",
            "  \n",
            "/usr/local/lib/python3.6/dist-packages/ipykernel_launcher.py:6: DeprecationWarning: elementwise comparison failed; this will raise an error in the future.\n",
            "  \n",
            "/usr/local/lib/python3.6/dist-packages/ipykernel_launcher.py:6: DeprecationWarning: elementwise comparison failed; this will raise an error in the future.\n",
            "  \n",
            "/usr/local/lib/python3.6/dist-packages/ipykernel_launcher.py:6: DeprecationWarning: elementwise comparison failed; this will raise an error in the future.\n",
            "  \n",
            "/usr/local/lib/python3.6/dist-packages/ipykernel_launcher.py:6: DeprecationWarning: elementwise comparison failed; this will raise an error in the future.\n",
            "  \n",
            "/usr/local/lib/python3.6/dist-packages/ipykernel_launcher.py:6: DeprecationWarning: elementwise comparison failed; this will raise an error in the future.\n",
            "  \n",
            "/usr/local/lib/python3.6/dist-packages/ipykernel_launcher.py:6: DeprecationWarning: elementwise comparison failed; this will raise an error in the future.\n",
            "  \n",
            "/usr/local/lib/python3.6/dist-packages/ipykernel_launcher.py:6: DeprecationWarning: elementwise comparison failed; this will raise an error in the future.\n",
            "  \n",
            "/usr/local/lib/python3.6/dist-packages/ipykernel_launcher.py:6: DeprecationWarning: elementwise comparison failed; this will raise an error in the future.\n",
            "  \n"
          ],
          "name": "stderr"
        },
        {
          "output_type": "error",
          "ename": "ValueError",
          "evalue": "ignored",
          "traceback": [
            "\u001b[0;31m---------------------------------------------------------------------------\u001b[0m",
            "\u001b[0;31mValueError\u001b[0m                                Traceback (most recent call last)",
            "\u001b[0;32m<ipython-input-47-ddc80f462b73>\u001b[0m in \u001b[0;36m<module>\u001b[0;34m()\u001b[0m\n\u001b[1;32m     13\u001b[0m \u001b[0mtest_score\u001b[0m \u001b[0;34m=\u001b[0m \u001b[0mr2_score\u001b[0m\u001b[0;34m(\u001b[0m\u001b[0my_val\u001b[0m\u001b[0;34m,\u001b[0m\u001b[0mbagging_prediction_ultimate\u001b[0m\u001b[0;34m)\u001b[0m\u001b[0;34m\u001b[0m\u001b[0;34m\u001b[0m\u001b[0m\n\u001b[1;32m     14\u001b[0m \u001b[0;34m\u001b[0m\u001b[0m\n\u001b[0;32m---> 15\u001b[0;31m \u001b[0mall_models\u001b[0m\u001b[0;34m.\u001b[0m\u001b[0mloc\u001b[0m\u001b[0;34m[\u001b[0m\u001b[0;34m'LinReg'\u001b[0m\u001b[0;34m,\u001b[0m \u001b[0;34m'bagging_all'\u001b[0m\u001b[0;34m]\u001b[0m \u001b[0;34m=\u001b[0m \u001b[0;34m(\u001b[0m\u001b[0;36m0\u001b[0m\u001b[0;34m,\u001b[0m\u001b[0mtest_score\u001b[0m\u001b[0;34m,\u001b[0m\u001b[0;32mNone\u001b[0m\u001b[0;34m)\u001b[0m\u001b[0;34m\u001b[0m\u001b[0;34m\u001b[0m\u001b[0m\n\u001b[0m",
            "\u001b[0;32m/usr/local/lib/python3.6/dist-packages/pandas/core/indexing.py\u001b[0m in \u001b[0;36m__setitem__\u001b[0;34m(self, key, value)\u001b[0m\n\u001b[1;32m    668\u001b[0m \u001b[0;34m\u001b[0m\u001b[0m\n\u001b[1;32m    669\u001b[0m         \u001b[0miloc\u001b[0m \u001b[0;34m=\u001b[0m \u001b[0mself\u001b[0m \u001b[0;32mif\u001b[0m \u001b[0mself\u001b[0m\u001b[0;34m.\u001b[0m\u001b[0mname\u001b[0m \u001b[0;34m==\u001b[0m \u001b[0;34m\"iloc\"\u001b[0m \u001b[0;32melse\u001b[0m \u001b[0mself\u001b[0m\u001b[0;34m.\u001b[0m\u001b[0mobj\u001b[0m\u001b[0;34m.\u001b[0m\u001b[0miloc\u001b[0m\u001b[0;34m\u001b[0m\u001b[0;34m\u001b[0m\u001b[0m\n\u001b[0;32m--> 670\u001b[0;31m         \u001b[0miloc\u001b[0m\u001b[0;34m.\u001b[0m\u001b[0m_setitem_with_indexer\u001b[0m\u001b[0;34m(\u001b[0m\u001b[0mindexer\u001b[0m\u001b[0;34m,\u001b[0m \u001b[0mvalue\u001b[0m\u001b[0;34m)\u001b[0m\u001b[0;34m\u001b[0m\u001b[0;34m\u001b[0m\u001b[0m\n\u001b[0m\u001b[1;32m    671\u001b[0m \u001b[0;34m\u001b[0m\u001b[0m\n\u001b[1;32m    672\u001b[0m     \u001b[0;32mdef\u001b[0m \u001b[0m_validate_key\u001b[0m\u001b[0;34m(\u001b[0m\u001b[0mself\u001b[0m\u001b[0;34m,\u001b[0m \u001b[0mkey\u001b[0m\u001b[0;34m,\u001b[0m \u001b[0maxis\u001b[0m\u001b[0;34m:\u001b[0m \u001b[0mint\u001b[0m\u001b[0;34m)\u001b[0m\u001b[0;34m:\u001b[0m\u001b[0;34m\u001b[0m\u001b[0;34m\u001b[0m\u001b[0m\n",
            "\u001b[0;32m/usr/local/lib/python3.6/dist-packages/pandas/core/indexing.py\u001b[0m in \u001b[0;36m_setitem_with_indexer\u001b[0;34m(self, indexer, value)\u001b[0m\n\u001b[1;32m   1599\u001b[0m                             \u001b[0mindexer\u001b[0m\u001b[0;34m,\u001b[0m \u001b[0mself\u001b[0m\u001b[0;34m.\u001b[0m\u001b[0mobj\u001b[0m\u001b[0;34m.\u001b[0m\u001b[0maxes\u001b[0m\u001b[0;34m\u001b[0m\u001b[0;34m\u001b[0m\u001b[0m\n\u001b[1;32m   1600\u001b[0m                         )\n\u001b[0;32m-> 1601\u001b[0;31m                         \u001b[0mself\u001b[0m\u001b[0;34m.\u001b[0m\u001b[0m_setitem_with_indexer\u001b[0m\u001b[0;34m(\u001b[0m\u001b[0mnew_indexer\u001b[0m\u001b[0;34m,\u001b[0m \u001b[0mvalue\u001b[0m\u001b[0;34m)\u001b[0m\u001b[0;34m\u001b[0m\u001b[0;34m\u001b[0m\u001b[0m\n\u001b[0m\u001b[1;32m   1602\u001b[0m \u001b[0;34m\u001b[0m\u001b[0m\n\u001b[1;32m   1603\u001b[0m                         \u001b[0;32mreturn\u001b[0m\u001b[0;34m\u001b[0m\u001b[0;34m\u001b[0m\u001b[0m\n",
            "\u001b[0;32m/usr/local/lib/python3.6/dist-packages/pandas/core/indexing.py\u001b[0m in \u001b[0;36m_setitem_with_indexer\u001b[0;34m(self, indexer, value)\u001b[0m\n\u001b[1;32m   1665\u001b[0m                     \u001b[0;31m# Exclude zero-len for e.g. boolean masking that is all-false\u001b[0m\u001b[0;34m\u001b[0m\u001b[0;34m\u001b[0m\u001b[0;34m\u001b[0m\u001b[0m\n\u001b[1;32m   1666\u001b[0m                     raise ValueError(\n\u001b[0;32m-> 1667\u001b[0;31m                         \u001b[0;34m\"cannot set using a multi-index \"\u001b[0m\u001b[0;34m\u001b[0m\u001b[0;34m\u001b[0m\u001b[0m\n\u001b[0m\u001b[1;32m   1668\u001b[0m                         \u001b[0;34m\"selection indexer with a different \"\u001b[0m\u001b[0;34m\u001b[0m\u001b[0;34m\u001b[0m\u001b[0m\n\u001b[1;32m   1669\u001b[0m                         \u001b[0;34m\"length than the value\"\u001b[0m\u001b[0;34m\u001b[0m\u001b[0;34m\u001b[0m\u001b[0m\n",
            "\u001b[0;31mValueError\u001b[0m: cannot set using a multi-index selection indexer with a different length than the value"
          ]
        }
      ]
    },
    {
      "cell_type": "markdown",
      "metadata": {
        "id": "ZB_ewywxZxHe"
      },
      "source": [
        "Overall improvements"
      ]
    },
    {
      "cell_type": "code",
      "metadata": {
        "id": "JruW6nCSJfak",
        "colab": {
          "base_uri": "https://localhost:8080/"
        },
        "outputId": "1045dcf1-a93a-45ba-82f7-835131c637f4"
      },
      "source": [
        "from sklearn.metrics import r2_score\n",
        "technique_name = 'Bagging_feature_engi_average'\n",
        "\n",
        "# Get a list of initialized models for bagging\n",
        "models_dict = make_models()\n",
        "models_dict.pop('CART')\n",
        "#models_dict.pop('RF')\n",
        "\n",
        "# Convert models to list of tuples (required by documentation)\n",
        "model_list = list(models_dict.items()) \n",
        "\n",
        "# Set the weights for each model as their relative performance\n",
        "bagging_weights = all_models.TestScore[:,'Feature_Engineering_overall'].values\n",
        "bagging_weights = bagging_weights[:4]\n",
        "#Initialize bagging model\n",
        "\n",
        "bagging_prediction_f = []\n",
        "\n",
        "for i in range(len(model_list)):\n",
        "  model_list[i][1].fit(X_train_interactions_overall.values, y_train.values)\n",
        "  prediction = model_list[i][1].predict(X_val_interactions_overall)\n",
        "\n",
        "  if bagging_prediction_f==[]:\n",
        "    bagging_prediction_f = prediction*bagging_weights[i]/sum(bagging_weights)\n",
        "  else:\n",
        "    bagging_prediction_f = bagging_prediction_f+prediction*bagging_weights[i]/sum(bagging_weights)\n",
        "    \n",
        "\n",
        "\n",
        "r2_score(y_val,bagging_prediction_f)\n",
        "\n",
        "\n",
        "\n"
      ],
      "execution_count": null,
      "outputs": [
        {
          "output_type": "stream",
          "text": [
            "/usr/local/lib/python3.6/dist-packages/ipykernel_launcher.py:23: DeprecationWarning: elementwise comparison failed; this will raise an error in the future.\n",
            "/usr/local/lib/python3.6/dist-packages/ipykernel_launcher.py:23: DeprecationWarning: elementwise comparison failed; this will raise an error in the future.\n",
            "/usr/local/lib/python3.6/dist-packages/ipykernel_launcher.py:23: DeprecationWarning: elementwise comparison failed; this will raise an error in the future.\n"
          ],
          "name": "stderr"
        },
        {
          "output_type": "execute_result",
          "data": {
            "text/plain": [
              "-0.555379786286684"
            ]
          },
          "metadata": {
            "tags": []
          },
          "execution_count": 48
        }
      ]
    },
    {
      "cell_type": "markdown",
      "metadata": {
        "id": "D-phe1a4ddLl"
      },
      "source": [
        "mutual"
      ]
    },
    {
      "cell_type": "code",
      "metadata": {
        "id": "M9JxzKTVdcyQ",
        "colab": {
          "base_uri": "https://localhost:8080/"
        },
        "outputId": "d9399d5f-839c-4e62-ba5e-1ce49cb9958e"
      },
      "source": [
        "from sklearn.metrics import r2_score\n",
        "technique_name = 'Bagging_mutual'\n",
        "\n",
        "# Get a list of initialized models for bagging\n",
        "models_dict = make_models()\n",
        "models_dict.pop('CART')\n",
        "#models_dict.pop('RF')\n",
        "\n",
        "# Convert models to list of tuples (required by documentation)\n",
        "model_list = list(models_dict.items()) \n",
        "\n",
        "# Set the weights for each model as their relative performance\n",
        "bagging_weights = all_models.TestScore[:,'Mutual_Regression (scaled)'].values\n",
        "bagging_weights = bagging_weights[:4]\n",
        "#Initialize bagging model\n",
        "\n",
        "bagging_prediction_m = []\n",
        "\n",
        "for i in range(len(model_list)):\n",
        "  model_list[i][1].fit(X_train_scaled.values, y_train_scaled.values)\n",
        "  prediction = model_list[i][1].predict(X_val_scaled)\n",
        "\n",
        "  if bagging_prediction_m==[]:\n",
        "    bagging_prediction_m = prediction*bagging_weights[i]/sum(bagging_weights)\n",
        "  else:\n",
        "    bagging_prediction_m = bagging_prediction_m+prediction*bagging_weights[i]/sum(bagging_weights)\n",
        "    \n",
        "\n",
        "\n",
        "r2_score(y_val_scaled,bagging_prediction_m )\n",
        "\n"
      ],
      "execution_count": null,
      "outputs": [
        {
          "output_type": "stream",
          "text": [
            "/usr/local/lib/python3.6/dist-packages/ipykernel_launcher.py:23: DeprecationWarning: elementwise comparison failed; this will raise an error in the future.\n",
            "/usr/local/lib/python3.6/dist-packages/ipykernel_launcher.py:23: DeprecationWarning: elementwise comparison failed; this will raise an error in the future.\n",
            "/usr/local/lib/python3.6/dist-packages/ipykernel_launcher.py:23: DeprecationWarning: elementwise comparison failed; this will raise an error in the future.\n"
          ],
          "name": "stderr"
        },
        {
          "output_type": "execute_result",
          "data": {
            "text/plain": [
              "-21.454461038830974"
            ]
          },
          "metadata": {
            "tags": []
          },
          "execution_count": 49
        }
      ]
    },
    {
      "cell_type": "code",
      "metadata": {
        "id": "F0PFSipKjPjr",
        "colab": {
          "base_uri": "https://localhost:8080/"
        },
        "outputId": "666b068a-b78f-47c1-d7a5-95838f489ead"
      },
      "source": [
        "from sklearn.metrics import r2_score\n",
        "technique_name = 'Bagging_scaling'\n",
        "\n",
        "# Get a list of initialized models for bagging\n",
        "models_dict = make_models()\n",
        "models_dict.pop('CART')\n",
        "#models_dict.pop('RF')\n",
        "\n",
        "# Convert models to list of tuples (required by documentation)\n",
        "model_list = list(models_dict.items()) \n",
        "\n",
        "# Set the weights for each model as their relative performance\n",
        "bagging_weights = all_models.TestScore[:,'Scaling'].values\n",
        "bagging_weights = bagging_weights[:4]\n",
        "#Initialize bagging model\n",
        "\n",
        "bagging_prediction_s = []\n",
        "\n",
        "for i in range(len(model_list)):\n",
        "  model_list[i][1].fit(X_train_scaled.values, y_train_scaled.values)\n",
        "  prediction = model_list[i][1].predict(X_val_scaled)\n",
        "\n",
        "  if bagging_prediction_s==[]:\n",
        "    bagging_prediction_s = prediction*bagging_weights[i]/sum(bagging_weights)\n",
        "  else:\n",
        "    bagging_prediction_s = bagging_prediction_s+prediction*bagging_weights[i]/sum(bagging_weights)\n",
        "    \n",
        "\n",
        "\n",
        "r2_score(y_val_scaled,bagging_prediction_s )\n",
        "\n"
      ],
      "execution_count": null,
      "outputs": [
        {
          "output_type": "stream",
          "text": [
            "/usr/local/lib/python3.6/dist-packages/ipykernel_launcher.py:23: DeprecationWarning: elementwise comparison failed; this will raise an error in the future.\n",
            "/usr/local/lib/python3.6/dist-packages/ipykernel_launcher.py:23: DeprecationWarning: elementwise comparison failed; this will raise an error in the future.\n",
            "/usr/local/lib/python3.6/dist-packages/ipykernel_launcher.py:23: DeprecationWarning: elementwise comparison failed; this will raise an error in the future.\n"
          ],
          "name": "stderr"
        },
        {
          "output_type": "execute_result",
          "data": {
            "text/plain": [
              "-0.42441943346046807"
            ]
          },
          "metadata": {
            "tags": []
          },
          "execution_count": 50
        }
      ]
    },
    {
      "cell_type": "code",
      "metadata": {
        "id": "PiAVvwlsaSWc",
        "colab": {
          "base_uri": "https://localhost:8080/"
        },
        "outputId": "c35a5ad1-a3f9-4da4-9cc9-70623c065683"
      },
      "source": [
        "all_models['TestScore'].sort_values(ascending = False)[:20]"
      ],
      "execution_count": null,
      "outputs": [
        {
          "output_type": "execute_result",
          "data": {
            "text/plain": [
              "model names  technique                  \n",
              "LassoCV      Mutual_Regression (scaled)     0.177482\n",
              "             Feature_Engineering_overall    0.136550\n",
              "             Stacking                       0.136550\n",
              "             Baseline                       0.136505\n",
              "             Feature_Engineering            0.136505\n",
              "             Feature_Selection              0.136505\n",
              "             Bagging                        0.136505\n",
              "RidgeCV      Mutual_Regression (scaled)     0.131238\n",
              "LinReg       Mutual_Regression (scaled)     0.117813\n",
              "LassoCV      Grid_Search                    0.103284\n",
              "             Mutual_Regression              0.090368\n",
              "LinReg       Mutual_Regression              0.079669\n",
              "RidgeCV      Mutual_Regression              0.078705\n",
              "CART         Grid_Search                    0.030931\n",
              "LassoCV      Scaling                        0.024764\n",
              "RF           Feature_Engineering           -0.033101\n",
              "             Bagging                       -0.039580\n",
              "             Mutual_Regression             -0.042526\n",
              "             Baseline                      -0.053368\n",
              "             Feature_Selection             -0.066922\n",
              "Name: TestScore, dtype: float64"
            ]
          },
          "metadata": {
            "tags": []
          },
          "execution_count": 51
        }
      ]
    },
    {
      "cell_type": "code",
      "metadata": {
        "id": "bR94_44afpMm",
        "colab": {
          "base_uri": "https://localhost:8080/"
        },
        "outputId": "e1833e91-c7d2-4831-bb31-e01eb064341f"
      },
      "source": [
        "fo = all_models.loc[:,'Feature_Engineering_overall',:]['TestScore'].sort_values(ascending = False)[:4].mean()\n",
        "print(fo)"
      ],
      "execution_count": null,
      "outputs": [
        {
          "output_type": "stream",
          "text": [
            "-0.19119340542333776\n"
          ],
          "name": "stdout"
        }
      ]
    },
    {
      "cell_type": "code",
      "metadata": {
        "id": "kwcxAS-rgRJQ",
        "colab": {
          "base_uri": "https://localhost:8080/"
        },
        "outputId": "b0d7efdb-6933-413e-df8c-035d2416d760"
      },
      "source": [
        "m = all_models.loc[:,'Mutual_Regression (scaled)',:]['TestScore'].sort_values(ascending = False)[:4].mean()\n",
        "s = all_models.loc[:,'Scaling',:]['TestScore'].sort_values(ascending = False)[:4].mean()\n",
        "print(m)\n",
        "print(s)"
      ],
      "execution_count": null,
      "outputs": [
        {
          "output_type": "stream",
          "text": [
            "0.005591837696819119\n",
            "-0.22559052744031763\n"
          ],
          "name": "stdout"
        }
      ]
    },
    {
      "cell_type": "code",
      "metadata": {
        "id": "3CeBvxTHhRZL",
        "colab": {
          "base_uri": "https://localhost:8080/"
        },
        "outputId": "a9ed7813-4398-46f0-bc36-a69aa548e26f"
      },
      "source": [
        "bagging_prediction_avenger = bagging_prediction_m*m/(s+m)+bagging_prediction_s*s/(s+m)\n",
        "\n",
        "r2_score(y_val_scaled,bagging_prediction_avenger)"
      ],
      "execution_count": null,
      "outputs": [
        {
          "output_type": "execute_result",
          "data": {
            "text/plain": [
              "-0.34917443446821284"
            ]
          },
          "metadata": {
            "tags": []
          },
          "execution_count": 54
        }
      ]
    },
    {
      "cell_type": "markdown",
      "metadata": {
        "id": "eOpuxEHcek1M"
      },
      "source": [
        "mutual regression"
      ]
    },
    {
      "cell_type": "code",
      "metadata": {
        "id": "DxdAz2YreoPa",
        "colab": {
          "base_uri": "https://localhost:8080/"
        },
        "outputId": "171cd37e-ab86-4df3-bdc6-2b736cd4ffcc"
      },
      "source": [
        "from sklearn.metrics import r2_score\n",
        "technique_name = 'Bagging_scaling'\n",
        "\n",
        "# Get a list of initialized models for bagging\n",
        "models_dict = make_models()\n",
        "models_dict.pop('CART')\n",
        "#models_dict.pop('RF')\n",
        "\n",
        "\n",
        "# Convert models to list of tuples (required by documentation)\n",
        "model_list = list(models_dict.items()) \n",
        "\n",
        "# Set the weights for each model as their relative performance\n",
        "bagging_weights = all_models.TestScore[:,'Mutual_Regression (scaled)'].values\n",
        "bagging_weights = bagging_weights[:4]\n",
        "\n",
        "#Initialize bagging model\n",
        "\n",
        "bagging_prediction = []\n",
        "\n",
        "for i in range(len(model_list)):\n",
        "  model_list[i][1].fit(X_train_scaled.values, y_train_scaled.values)\n",
        "  prediction = model_list[i][1].predict(X_val_scaled)\n",
        "\n",
        "  if bagging_prediction==[]:\n",
        "    bagging_prediction = prediction*bagging_weights[i]/sum(bagging_weights)\n",
        "  else:\n",
        "    bagging_prediction = bagging_prediction+prediction*bagging_weights[i]/sum(bagging_weights)\n",
        "    \n",
        "\n",
        "\n",
        "r2_score(y_val_scaled,bagging_prediction)"
      ],
      "execution_count": null,
      "outputs": [
        {
          "output_type": "stream",
          "text": [
            "/usr/local/lib/python3.6/dist-packages/ipykernel_launcher.py:25: DeprecationWarning: elementwise comparison failed; this will raise an error in the future.\n",
            "/usr/local/lib/python3.6/dist-packages/ipykernel_launcher.py:25: DeprecationWarning: elementwise comparison failed; this will raise an error in the future.\n",
            "/usr/local/lib/python3.6/dist-packages/ipykernel_launcher.py:25: DeprecationWarning: elementwise comparison failed; this will raise an error in the future.\n"
          ],
          "name": "stderr"
        },
        {
          "output_type": "execute_result",
          "data": {
            "text/plain": [
              "-18.75569141922403"
            ]
          },
          "metadata": {
            "tags": []
          },
          "execution_count": 55
        }
      ]
    },
    {
      "cell_type": "markdown",
      "metadata": {
        "id": "-3cUhB2r0adi"
      },
      "source": [
        "# Best Model"
      ]
    },
    {
      "cell_type": "code",
      "metadata": {
        "id": "1o2bay5T0gtr",
        "colab": {
          "base_uri": "https://localhost:8080/",
          "height": 1000
        },
        "outputId": "a746fb41-0f6b-4e43-d98f-18eab889c216"
      },
      "source": [
        "all_models"
      ],
      "execution_count": null,
      "outputs": [
        {
          "output_type": "execute_result",
          "data": {
            "text/html": [
              "<div>\n",
              "<style scoped>\n",
              "    .dataframe tbody tr th:only-of-type {\n",
              "        vertical-align: middle;\n",
              "    }\n",
              "\n",
              "    .dataframe tbody tr th {\n",
              "        vertical-align: top;\n",
              "    }\n",
              "\n",
              "    .dataframe thead th {\n",
              "        text-align: right;\n",
              "    }\n",
              "</style>\n",
              "<table border=\"1\" class=\"dataframe\">\n",
              "  <thead>\n",
              "    <tr style=\"text-align: right;\">\n",
              "      <th></th>\n",
              "      <th></th>\n",
              "      <th>TrainScore</th>\n",
              "      <th>TestScore</th>\n",
              "      <th>Model</th>\n",
              "      <th>bagging_all</th>\n",
              "    </tr>\n",
              "    <tr>\n",
              "      <th>model names</th>\n",
              "      <th>technique</th>\n",
              "      <th></th>\n",
              "      <th></th>\n",
              "      <th></th>\n",
              "      <th></th>\n",
              "    </tr>\n",
              "  </thead>\n",
              "  <tbody>\n",
              "    <tr>\n",
              "      <th rowspan=\"11\" valign=\"top\">LinReg</th>\n",
              "      <th>Baseline</th>\n",
              "      <td>0.367663</td>\n",
              "      <td>-0.612293</td>\n",
              "      <td>LinearRegression(copy_X=True, fit_intercept=Tr...</td>\n",
              "      <td>NaN</td>\n",
              "    </tr>\n",
              "    <tr>\n",
              "      <th>Scaling</th>\n",
              "      <td>0.366933</td>\n",
              "      <td>-0.588702</td>\n",
              "      <td>LinearRegression(copy_X=True, fit_intercept=Tr...</td>\n",
              "      <td>NaN</td>\n",
              "    </tr>\n",
              "    <tr>\n",
              "      <th>Feature_Engineering</th>\n",
              "      <td>0.367663</td>\n",
              "      <td>-0.612293</td>\n",
              "      <td>LinearRegression(copy_X=True, fit_intercept=Tr...</td>\n",
              "      <td>NaN</td>\n",
              "    </tr>\n",
              "    <tr>\n",
              "      <th>Feature_Engineering_overall</th>\n",
              "      <td>0.367663</td>\n",
              "      <td>-0.612293</td>\n",
              "      <td>LinearRegression(copy_X=True, fit_intercept=Tr...</td>\n",
              "      <td>NaN</td>\n",
              "    </tr>\n",
              "    <tr>\n",
              "      <th>Feature_Selection</th>\n",
              "      <td>0.364208</td>\n",
              "      <td>-0.497895</td>\n",
              "      <td>LinearRegression(copy_X=True, fit_intercept=Tr...</td>\n",
              "      <td>NaN</td>\n",
              "    </tr>\n",
              "    <tr>\n",
              "      <th>Grid_Search</th>\n",
              "      <td>0.367663</td>\n",
              "      <td>-0.612293</td>\n",
              "      <td>LinearRegression(copy_X=True, fit_intercept=Fa...</td>\n",
              "      <td>NaN</td>\n",
              "    </tr>\n",
              "    <tr>\n",
              "      <th>Stacking</th>\n",
              "      <td>0.365337</td>\n",
              "      <td>-0.440164</td>\n",
              "      <td>LinearRegression(copy_X=True, fit_intercept=Tr...</td>\n",
              "      <td>NaN</td>\n",
              "    </tr>\n",
              "    <tr>\n",
              "      <th>Bagging</th>\n",
              "      <td>0.367663</td>\n",
              "      <td>-0.612293</td>\n",
              "      <td>LinearRegression(copy_X=True, fit_intercept=Tr...</td>\n",
              "      <td>NaN</td>\n",
              "    </tr>\n",
              "    <tr>\n",
              "      <th>Bagging_all</th>\n",
              "      <td>NaN</td>\n",
              "      <td>NaN</td>\n",
              "      <td>NaN</td>\n",
              "      <td>NaN</td>\n",
              "    </tr>\n",
              "    <tr>\n",
              "      <th>Mutual_Regression (scaled)</th>\n",
              "      <td>0.349327</td>\n",
              "      <td>0.117813</td>\n",
              "      <td>LinearRegression(copy_X=True, fit_intercept=Tr...</td>\n",
              "      <td>NaN</td>\n",
              "    </tr>\n",
              "    <tr>\n",
              "      <th>Mutual_Regression</th>\n",
              "      <td>0.341741</td>\n",
              "      <td>0.079669</td>\n",
              "      <td>LinearRegression(copy_X=True, fit_intercept=Tr...</td>\n",
              "      <td>NaN</td>\n",
              "    </tr>\n",
              "    <tr>\n",
              "      <th rowspan=\"11\" valign=\"top\">LassoCV</th>\n",
              "      <th>Baseline</th>\n",
              "      <td>0.338874</td>\n",
              "      <td>0.136505</td>\n",
              "      <td>LassoCV(alphas=None, copy_X=True, cv=None, eps...</td>\n",
              "      <td>NaN</td>\n",
              "    </tr>\n",
              "    <tr>\n",
              "      <th>Scaling</th>\n",
              "      <td>0.352108</td>\n",
              "      <td>0.024764</td>\n",
              "      <td>LassoCV(alphas=None, copy_X=True, cv=None, eps...</td>\n",
              "      <td>NaN</td>\n",
              "    </tr>\n",
              "    <tr>\n",
              "      <th>Feature_Engineering</th>\n",
              "      <td>0.338874</td>\n",
              "      <td>0.136505</td>\n",
              "      <td>LassoCV(alphas=None, copy_X=True, cv=None, eps...</td>\n",
              "      <td>NaN</td>\n",
              "    </tr>\n",
              "    <tr>\n",
              "      <th>Feature_Engineering_overall</th>\n",
              "      <td>0.338932</td>\n",
              "      <td>0.136550</td>\n",
              "      <td>LassoCV(alphas=None, copy_X=True, cv=None, eps...</td>\n",
              "      <td>NaN</td>\n",
              "    </tr>\n",
              "    <tr>\n",
              "      <th>Feature_Selection</th>\n",
              "      <td>0.338874</td>\n",
              "      <td>0.136505</td>\n",
              "      <td>LassoCV(alphas=None, copy_X=True, cv=None, eps...</td>\n",
              "      <td>NaN</td>\n",
              "    </tr>\n",
              "    <tr>\n",
              "      <th>Grid_Search</th>\n",
              "      <td>0.341227</td>\n",
              "      <td>0.103284</td>\n",
              "      <td>LassoCV(alphas=None, copy_X=True, cv=20, eps=0...</td>\n",
              "      <td>NaN</td>\n",
              "    </tr>\n",
              "    <tr>\n",
              "      <th>Stacking</th>\n",
              "      <td>0.338932</td>\n",
              "      <td>0.136550</td>\n",
              "      <td>LassoCV(alphas=None, copy_X=True, cv=None, eps...</td>\n",
              "      <td>NaN</td>\n",
              "    </tr>\n",
              "    <tr>\n",
              "      <th>Bagging</th>\n",
              "      <td>0.338874</td>\n",
              "      <td>0.136505</td>\n",
              "      <td>LassoCV(alphas=None, copy_X=True, cv=None, eps...</td>\n",
              "      <td>NaN</td>\n",
              "    </tr>\n",
              "    <tr>\n",
              "      <th>Bagging_all</th>\n",
              "      <td>NaN</td>\n",
              "      <td>NaN</td>\n",
              "      <td>NaN</td>\n",
              "      <td>NaN</td>\n",
              "    </tr>\n",
              "    <tr>\n",
              "      <th>Mutual_Regression (scaled)</th>\n",
              "      <td>0.346963</td>\n",
              "      <td>0.177482</td>\n",
              "      <td>LassoCV(alphas=None, copy_X=True, cv=None, eps...</td>\n",
              "      <td>NaN</td>\n",
              "    </tr>\n",
              "    <tr>\n",
              "      <th>Mutual_Regression</th>\n",
              "      <td>0.337976</td>\n",
              "      <td>0.090368</td>\n",
              "      <td>LassoCV(alphas=None, copy_X=True, cv=None, eps...</td>\n",
              "      <td>NaN</td>\n",
              "    </tr>\n",
              "    <tr>\n",
              "      <th rowspan=\"11\" valign=\"top\">RidgeCV</th>\n",
              "      <th>Baseline</th>\n",
              "      <td>0.366021</td>\n",
              "      <td>-0.120880</td>\n",
              "      <td>RidgeCV(alphas=array([ 0.1,  1. , 10. ]), cv=N...</td>\n",
              "      <td>NaN</td>\n",
              "    </tr>\n",
              "    <tr>\n",
              "      <th>Scaling</th>\n",
              "      <td>0.365794</td>\n",
              "      <td>-0.166441</td>\n",
              "      <td>RidgeCV(alphas=array([ 0.1,  1. , 10. ]), cv=N...</td>\n",
              "      <td>NaN</td>\n",
              "    </tr>\n",
              "    <tr>\n",
              "      <th>Feature_Engineering</th>\n",
              "      <td>0.366076</td>\n",
              "      <td>-0.150804</td>\n",
              "      <td>RidgeCV(alphas=array([ 0.1,  1. , 10. ]), cv=N...</td>\n",
              "      <td>NaN</td>\n",
              "    </tr>\n",
              "    <tr>\n",
              "      <th>Feature_Engineering_overall</th>\n",
              "      <td>0.366076</td>\n",
              "      <td>-0.150804</td>\n",
              "      <td>RidgeCV(alphas=array([ 0.1,  1. , 10. ]), cv=N...</td>\n",
              "      <td>NaN</td>\n",
              "    </tr>\n",
              "    <tr>\n",
              "      <th>Feature_Selection</th>\n",
              "      <td>0.363367</td>\n",
              "      <td>-0.123972</td>\n",
              "      <td>RidgeCV(alphas=array([ 0.1,  1. , 10. ]), cv=N...</td>\n",
              "      <td>NaN</td>\n",
              "    </tr>\n",
              "    <tr>\n",
              "      <th>Grid_Search</th>\n",
              "      <td>0.366021</td>\n",
              "      <td>-0.120882</td>\n",
              "      <td>RidgeCV(alphas=array([ 0.1,  1. , 10. ]), cv=N...</td>\n",
              "      <td>NaN</td>\n",
              "    </tr>\n",
              "    <tr>\n",
              "      <th>Stacking</th>\n",
              "      <td>0.368001</td>\n",
              "      <td>-0.122199</td>\n",
              "      <td>RidgeCV(alphas=array([ 0.1,  1. , 10. ]), cv=N...</td>\n",
              "      <td>NaN</td>\n",
              "    </tr>\n",
              "    <tr>\n",
              "      <th>Bagging</th>\n",
              "      <td>0.366021</td>\n",
              "      <td>-0.120880</td>\n",
              "      <td>RidgeCV(alphas=array([ 0.1,  1. , 10. ]), cv=N...</td>\n",
              "      <td>NaN</td>\n",
              "    </tr>\n",
              "    <tr>\n",
              "      <th>Bagging_all</th>\n",
              "      <td>NaN</td>\n",
              "      <td>NaN</td>\n",
              "      <td>NaN</td>\n",
              "      <td>NaN</td>\n",
              "    </tr>\n",
              "    <tr>\n",
              "      <th>Mutual_Regression (scaled)</th>\n",
              "      <td>0.349118</td>\n",
              "      <td>0.131238</td>\n",
              "      <td>RidgeCV(alphas=array([ 0.1,  1. , 10. ]), cv=N...</td>\n",
              "      <td>NaN</td>\n",
              "    </tr>\n",
              "    <tr>\n",
              "      <th>Mutual_Regression</th>\n",
              "      <td>0.341681</td>\n",
              "      <td>0.078705</td>\n",
              "      <td>RidgeCV(alphas=array([ 0.1,  1. , 10. ]), cv=N...</td>\n",
              "      <td>NaN</td>\n",
              "    </tr>\n",
              "    <tr>\n",
              "      <th rowspan=\"11\" valign=\"top\">RF</th>\n",
              "      <th>Baseline</th>\n",
              "      <td>0.904092</td>\n",
              "      <td>-0.053368</td>\n",
              "      <td>(DecisionTreeRegressor(ccp_alpha=0.0, criterio...</td>\n",
              "      <td>NaN</td>\n",
              "    </tr>\n",
              "    <tr>\n",
              "      <th>Scaling</th>\n",
              "      <td>0.902692</td>\n",
              "      <td>-0.171983</td>\n",
              "      <td>(DecisionTreeRegressor(ccp_alpha=0.0, criterio...</td>\n",
              "      <td>NaN</td>\n",
              "    </tr>\n",
              "    <tr>\n",
              "      <th>Feature_Engineering</th>\n",
              "      <td>0.901708</td>\n",
              "      <td>-0.033101</td>\n",
              "      <td>(DecisionTreeRegressor(ccp_alpha=0.0, criterio...</td>\n",
              "      <td>NaN</td>\n",
              "    </tr>\n",
              "    <tr>\n",
              "      <th>Feature_Engineering_overall</th>\n",
              "      <td>0.899974</td>\n",
              "      <td>-0.138227</td>\n",
              "      <td>(DecisionTreeRegressor(ccp_alpha=0.0, criterio...</td>\n",
              "      <td>NaN</td>\n",
              "    </tr>\n",
              "    <tr>\n",
              "      <th>Feature_Selection</th>\n",
              "      <td>0.904953</td>\n",
              "      <td>-0.066922</td>\n",
              "      <td>(DecisionTreeRegressor(ccp_alpha=0.0, criterio...</td>\n",
              "      <td>NaN</td>\n",
              "    </tr>\n",
              "    <tr>\n",
              "      <th>Grid_Search</th>\n",
              "      <td>0.898089</td>\n",
              "      <td>-0.158040</td>\n",
              "      <td>(DecisionTreeRegressor(ccp_alpha=0.0, criterio...</td>\n",
              "      <td>NaN</td>\n",
              "    </tr>\n",
              "    <tr>\n",
              "      <th>Stacking</th>\n",
              "      <td>0.902196</td>\n",
              "      <td>-0.099665</td>\n",
              "      <td>(DecisionTreeRegressor(ccp_alpha=0.0, criterio...</td>\n",
              "      <td>NaN</td>\n",
              "    </tr>\n",
              "    <tr>\n",
              "      <th>Bagging</th>\n",
              "      <td>0.904165</td>\n",
              "      <td>-0.039580</td>\n",
              "      <td>(DecisionTreeRegressor(ccp_alpha=0.0, criterio...</td>\n",
              "      <td>NaN</td>\n",
              "    </tr>\n",
              "    <tr>\n",
              "      <th>Bagging_all</th>\n",
              "      <td>NaN</td>\n",
              "      <td>NaN</td>\n",
              "      <td>NaN</td>\n",
              "      <td>NaN</td>\n",
              "    </tr>\n",
              "    <tr>\n",
              "      <th>Mutual_Regression (scaled)</th>\n",
              "      <td>0.864994</td>\n",
              "      <td>-0.404166</td>\n",
              "      <td>(DecisionTreeRegressor(ccp_alpha=0.0, criterio...</td>\n",
              "      <td>NaN</td>\n",
              "    </tr>\n",
              "    <tr>\n",
              "      <th>Mutual_Regression</th>\n",
              "      <td>0.876535</td>\n",
              "      <td>-0.042526</td>\n",
              "      <td>(DecisionTreeRegressor(ccp_alpha=0.0, criterio...</td>\n",
              "      <td>NaN</td>\n",
              "    </tr>\n",
              "    <tr>\n",
              "      <th rowspan=\"11\" valign=\"top\">CART</th>\n",
              "      <th>Baseline</th>\n",
              "      <td>1.000000</td>\n",
              "      <td>-0.468014</td>\n",
              "      <td>DecisionTreeRegressor(ccp_alpha=0.0, criterion...</td>\n",
              "      <td>NaN</td>\n",
              "    </tr>\n",
              "    <tr>\n",
              "      <th>Scaling</th>\n",
              "      <td>1.000000</td>\n",
              "      <td>-1.202456</td>\n",
              "      <td>DecisionTreeRegressor(ccp_alpha=0.0, criterion...</td>\n",
              "      <td>NaN</td>\n",
              "    </tr>\n",
              "    <tr>\n",
              "      <th>Feature_Engineering</th>\n",
              "      <td>1.000000</td>\n",
              "      <td>-1.520112</td>\n",
              "      <td>DecisionTreeRegressor(ccp_alpha=0.0, criterion...</td>\n",
              "      <td>NaN</td>\n",
              "    </tr>\n",
              "    <tr>\n",
              "      <th>Feature_Engineering_overall</th>\n",
              "      <td>1.000000</td>\n",
              "      <td>-1.963262</td>\n",
              "      <td>DecisionTreeRegressor(ccp_alpha=0.0, criterion...</td>\n",
              "      <td>NaN</td>\n",
              "    </tr>\n",
              "    <tr>\n",
              "      <th>Feature_Selection</th>\n",
              "      <td>1.000000</td>\n",
              "      <td>-1.438411</td>\n",
              "      <td>DecisionTreeRegressor(ccp_alpha=0.0, criterion...</td>\n",
              "      <td>NaN</td>\n",
              "    </tr>\n",
              "    <tr>\n",
              "      <th>Grid_Search</th>\n",
              "      <td>0.345567</td>\n",
              "      <td>0.030931</td>\n",
              "      <td>DecisionTreeRegressor(ccp_alpha=0.0, criterion...</td>\n",
              "      <td>NaN</td>\n",
              "    </tr>\n",
              "    <tr>\n",
              "      <th>Stacking</th>\n",
              "      <td>1.000000</td>\n",
              "      <td>-1.981127</td>\n",
              "      <td>DecisionTreeRegressor(ccp_alpha=0.0, criterion...</td>\n",
              "      <td>NaN</td>\n",
              "    </tr>\n",
              "    <tr>\n",
              "      <th>Bagging</th>\n",
              "      <td>1.000000</td>\n",
              "      <td>-0.771072</td>\n",
              "      <td>DecisionTreeRegressor(ccp_alpha=0.0, criterion...</td>\n",
              "      <td>NaN</td>\n",
              "    </tr>\n",
              "    <tr>\n",
              "      <th>Bagging_all</th>\n",
              "      <td>NaN</td>\n",
              "      <td>NaN</td>\n",
              "      <td>NaN</td>\n",
              "      <td>NaN</td>\n",
              "    </tr>\n",
              "    <tr>\n",
              "      <th>Mutual_Regression (scaled)</th>\n",
              "      <td>0.961589</td>\n",
              "      <td>-1.544296</td>\n",
              "      <td>DecisionTreeRegressor(ccp_alpha=0.0, criterion...</td>\n",
              "      <td>NaN</td>\n",
              "    </tr>\n",
              "    <tr>\n",
              "      <th>Mutual_Regression</th>\n",
              "      <td>0.973277</td>\n",
              "      <td>-0.868243</td>\n",
              "      <td>DecisionTreeRegressor(ccp_alpha=0.0, criterion...</td>\n",
              "      <td>NaN</td>\n",
              "    </tr>\n",
              "  </tbody>\n",
              "</table>\n",
              "</div>"
            ],
            "text/plain": [
              "                                         TrainScore  ...  bagging_all\n",
              "model names technique                                ...             \n",
              "LinReg      Baseline                       0.367663  ...          NaN\n",
              "            Scaling                        0.366933  ...          NaN\n",
              "            Feature_Engineering            0.367663  ...          NaN\n",
              "            Feature_Engineering_overall    0.367663  ...          NaN\n",
              "            Feature_Selection              0.364208  ...          NaN\n",
              "            Grid_Search                    0.367663  ...          NaN\n",
              "            Stacking                       0.365337  ...          NaN\n",
              "            Bagging                        0.367663  ...          NaN\n",
              "            Bagging_all                         NaN  ...          NaN\n",
              "            Mutual_Regression (scaled)     0.349327  ...          NaN\n",
              "            Mutual_Regression              0.341741  ...          NaN\n",
              "LassoCV     Baseline                       0.338874  ...          NaN\n",
              "            Scaling                        0.352108  ...          NaN\n",
              "            Feature_Engineering            0.338874  ...          NaN\n",
              "            Feature_Engineering_overall    0.338932  ...          NaN\n",
              "            Feature_Selection              0.338874  ...          NaN\n",
              "            Grid_Search                    0.341227  ...          NaN\n",
              "            Stacking                       0.338932  ...          NaN\n",
              "            Bagging                        0.338874  ...          NaN\n",
              "            Bagging_all                         NaN  ...          NaN\n",
              "            Mutual_Regression (scaled)     0.346963  ...          NaN\n",
              "            Mutual_Regression              0.337976  ...          NaN\n",
              "RidgeCV     Baseline                       0.366021  ...          NaN\n",
              "            Scaling                        0.365794  ...          NaN\n",
              "            Feature_Engineering            0.366076  ...          NaN\n",
              "            Feature_Engineering_overall    0.366076  ...          NaN\n",
              "            Feature_Selection              0.363367  ...          NaN\n",
              "            Grid_Search                    0.366021  ...          NaN\n",
              "            Stacking                       0.368001  ...          NaN\n",
              "            Bagging                        0.366021  ...          NaN\n",
              "            Bagging_all                         NaN  ...          NaN\n",
              "            Mutual_Regression (scaled)     0.349118  ...          NaN\n",
              "            Mutual_Regression              0.341681  ...          NaN\n",
              "RF          Baseline                       0.904092  ...          NaN\n",
              "            Scaling                        0.902692  ...          NaN\n",
              "            Feature_Engineering            0.901708  ...          NaN\n",
              "            Feature_Engineering_overall    0.899974  ...          NaN\n",
              "            Feature_Selection              0.904953  ...          NaN\n",
              "            Grid_Search                    0.898089  ...          NaN\n",
              "            Stacking                       0.902196  ...          NaN\n",
              "            Bagging                        0.904165  ...          NaN\n",
              "            Bagging_all                         NaN  ...          NaN\n",
              "            Mutual_Regression (scaled)     0.864994  ...          NaN\n",
              "            Mutual_Regression              0.876535  ...          NaN\n",
              "CART        Baseline                       1.000000  ...          NaN\n",
              "            Scaling                        1.000000  ...          NaN\n",
              "            Feature_Engineering            1.000000  ...          NaN\n",
              "            Feature_Engineering_overall    1.000000  ...          NaN\n",
              "            Feature_Selection              1.000000  ...          NaN\n",
              "            Grid_Search                    0.345567  ...          NaN\n",
              "            Stacking                       1.000000  ...          NaN\n",
              "            Bagging                        1.000000  ...          NaN\n",
              "            Bagging_all                         NaN  ...          NaN\n",
              "            Mutual_Regression (scaled)     0.961589  ...          NaN\n",
              "            Mutual_Regression              0.973277  ...          NaN\n",
              "\n",
              "[55 rows x 4 columns]"
            ]
          },
          "metadata": {
            "tags": []
          },
          "execution_count": 56
        }
      ]
    },
    {
      "cell_type": "code",
      "metadata": {
        "colab": {
          "base_uri": "https://localhost:8080/"
        },
        "id": "14dVdFyv8SuF",
        "outputId": "1ff6ab23-36fb-441b-e74b-aed513e8b4d0"
      },
      "source": [
        "all_models['TestScore'].sort_values(ascending = False)[:10]"
      ],
      "execution_count": null,
      "outputs": [
        {
          "output_type": "execute_result",
          "data": {
            "text/plain": [
              "model names  technique                  \n",
              "LassoCV      Mutual_Regression (scaled)     0.177482\n",
              "             Feature_Engineering_overall    0.136550\n",
              "             Stacking                       0.136550\n",
              "             Baseline                       0.136505\n",
              "             Feature_Engineering            0.136505\n",
              "             Feature_Selection              0.136505\n",
              "             Bagging                        0.136505\n",
              "RidgeCV      Mutual_Regression (scaled)     0.131238\n",
              "LinReg       Mutual_Regression (scaled)     0.117813\n",
              "LassoCV      Grid_Search                    0.103284\n",
              "Name: TestScore, dtype: float64"
            ]
          },
          "metadata": {
            "tags": []
          },
          "execution_count": 57
        }
      ]
    },
    {
      "cell_type": "code",
      "metadata": {
        "id": "MlQ4lvOq0nLb",
        "colab": {
          "base_uri": "https://localhost:8080/",
          "height": 143
        },
        "outputId": "06578100-6662-4cfc-d189-a4afc8f85c2d"
      },
      "source": [
        "highest_score_idx = all_models['TestScore'].idxmax()\n",
        "\n",
        "all_models.loc[[highest_score_idx ]]"
      ],
      "execution_count": null,
      "outputs": [
        {
          "output_type": "execute_result",
          "data": {
            "text/html": [
              "<div>\n",
              "<style scoped>\n",
              "    .dataframe tbody tr th:only-of-type {\n",
              "        vertical-align: middle;\n",
              "    }\n",
              "\n",
              "    .dataframe tbody tr th {\n",
              "        vertical-align: top;\n",
              "    }\n",
              "\n",
              "    .dataframe thead th {\n",
              "        text-align: right;\n",
              "    }\n",
              "</style>\n",
              "<table border=\"1\" class=\"dataframe\">\n",
              "  <thead>\n",
              "    <tr style=\"text-align: right;\">\n",
              "      <th></th>\n",
              "      <th></th>\n",
              "      <th>TrainScore</th>\n",
              "      <th>TestScore</th>\n",
              "      <th>Model</th>\n",
              "      <th>bagging_all</th>\n",
              "    </tr>\n",
              "    <tr>\n",
              "      <th>model names</th>\n",
              "      <th>technique</th>\n",
              "      <th></th>\n",
              "      <th></th>\n",
              "      <th></th>\n",
              "      <th></th>\n",
              "    </tr>\n",
              "  </thead>\n",
              "  <tbody>\n",
              "    <tr>\n",
              "      <th>LassoCV</th>\n",
              "      <th>Mutual_Regression (scaled)</th>\n",
              "      <td>0.346963</td>\n",
              "      <td>0.177482</td>\n",
              "      <td>LassoCV(alphas=None, copy_X=True, cv=None, eps...</td>\n",
              "      <td>NaN</td>\n",
              "    </tr>\n",
              "  </tbody>\n",
              "</table>\n",
              "</div>"
            ],
            "text/plain": [
              "                                        TrainScore  ...  bagging_all\n",
              "model names technique                               ...             \n",
              "LassoCV     Mutual_Regression (scaled)    0.346963  ...          NaN\n",
              "\n",
              "[1 rows x 4 columns]"
            ]
          },
          "metadata": {
            "tags": []
          },
          "execution_count": 58
        }
      ]
    },
    {
      "cell_type": "markdown",
      "metadata": {
        "id": "6oVkWGhD_KxO"
      },
      "source": [
        "# Stack top 10 best performing models\n",
        "\n"
      ]
    },
    {
      "cell_type": "markdown",
      "metadata": {
        "id": "GoJFXAWpDCjU"
      },
      "source": [
        "## Not Scaled "
      ]
    },
    {
      "cell_type": "markdown",
      "metadata": {
        "id": "1AoQ09ZkCvN7"
      },
      "source": [
        "'LinReg': LinearRegression(),\n",
        "      'LassoCV': LassoCV(),\n",
        "      'RidgeCV': RidgeCV(),\n",
        "      'RF': RandomForestRegressor(),\n",
        "      'CART': DecisionTreeRegressor()\n",
        "  }"
      ]
    },
    {
      "cell_type": "markdown",
      "metadata": {
        "id": "WLiqFIDSAl-l"
      },
      "source": [
        "Basic Models"
      ]
    },
    {
      "cell_type": "code",
      "metadata": {
        "colab": {
          "base_uri": "https://localhost:8080/"
        },
        "id": "96CDwJy278qy",
        "outputId": "c6d6dc9f-d027-4413-961f-7c0b4858f8de"
      },
      "source": [
        "from sklearn.ensemble import StackingRegressor\n",
        "base_models = [('RIDGE', RidgeCV()),\n",
        "               ('LR', LinearRegression()),\n",
        "               ('RF', RandomForestRegressor())]\n",
        "meta_model = RidgeCV()\n",
        "stacking_model = StackingRegressor(estimators=base_models, \n",
        "                                    final_estimator=meta_model, \n",
        "                                    passthrough=True, \n",
        "                                    cv=5,\n",
        "                                    verbose=2)\n",
        "\n",
        "fit_score_single_model(stacking_model,\"stacking\", X_train, X_val, y_train, y_val)"
      ],
      "execution_count": null,
      "outputs": [
        {
          "output_type": "stream",
          "text": [
            "[Parallel(n_jobs=1)]: Using backend SequentialBackend with 1 concurrent workers.\n",
            "[Parallel(n_jobs=1)]: Done   1 out of   1 | elapsed:    0.0s remaining:    0.0s\n",
            "[Parallel(n_jobs=1)]: Done   5 out of   5 | elapsed:    0.0s finished\n",
            "[Parallel(n_jobs=1)]: Using backend SequentialBackend with 1 concurrent workers.\n",
            "[Parallel(n_jobs=1)]: Done   1 out of   1 | elapsed:    0.0s remaining:    0.0s\n",
            "[Parallel(n_jobs=1)]: Done   5 out of   5 | elapsed:    0.0s finished\n",
            "[Parallel(n_jobs=1)]: Using backend SequentialBackend with 1 concurrent workers.\n",
            "[Parallel(n_jobs=1)]: Done   1 out of   1 | elapsed:    0.5s remaining:    0.0s\n"
          ],
          "name": "stderr"
        },
        {
          "output_type": "stream",
          "text": [
            "stacking achieved a train score of 0.481 and test score of -0.381\n"
          ],
          "name": "stdout"
        },
        {
          "output_type": "stream",
          "text": [
            "[Parallel(n_jobs=1)]: Done   5 out of   5 | elapsed:    2.4s finished\n"
          ],
          "name": "stderr"
        },
        {
          "output_type": "execute_result",
          "data": {
            "text/plain": [
              "(0.4813851734748217, -0.3812237620572343)"
            ]
          },
          "metadata": {
            "tags": []
          },
          "execution_count": 59
        }
      ]
    },
    {
      "cell_type": "markdown",
      "metadata": {
        "id": "ZPaoJAmVC-hE"
      },
      "source": [
        "With optimal RF GridSearch params"
      ]
    },
    {
      "cell_type": "code",
      "metadata": {
        "colab": {
          "base_uri": "https://localhost:8080/"
        },
        "id": "5V3Skit9C1M9",
        "outputId": "98684265-89ea-44e8-cdf5-5f04dc4b33d8"
      },
      "source": [
        "from sklearn.ensemble import StackingRegressor\n",
        "base_models = [('RIDGE', RidgeCV()),\n",
        "               ('LR', LinearRegression()),\n",
        "               ('RF', RandomForestRegressor(criterion=\"mse\",max_features=\"auto\", min_samples_leaf=30,max_depth=3,n_estimators=29))]\n",
        "meta_model = RidgeCV()\n",
        "stacking_model = StackingRegressor(estimators=base_models, \n",
        "                                    final_estimator=meta_model, \n",
        "                                    passthrough=True, \n",
        "                                    cv=5,\n",
        "                                    verbose=2)\n",
        "\n",
        "fit_score_single_model(stacking_model,\"stacking\", X_train, X_val, y_train, y_val)"
      ],
      "execution_count": null,
      "outputs": [
        {
          "output_type": "stream",
          "text": [
            "[Parallel(n_jobs=1)]: Using backend SequentialBackend with 1 concurrent workers.\n",
            "[Parallel(n_jobs=1)]: Done   1 out of   1 | elapsed:    0.0s remaining:    0.0s\n",
            "[Parallel(n_jobs=1)]: Done   5 out of   5 | elapsed:    0.0s finished\n",
            "[Parallel(n_jobs=1)]: Using backend SequentialBackend with 1 concurrent workers.\n",
            "[Parallel(n_jobs=1)]: Done   1 out of   1 | elapsed:    0.0s remaining:    0.0s\n",
            "[Parallel(n_jobs=1)]: Done   5 out of   5 | elapsed:    0.0s finished\n",
            "[Parallel(n_jobs=1)]: Using backend SequentialBackend with 1 concurrent workers.\n",
            "[Parallel(n_jobs=1)]: Done   1 out of   1 | elapsed:    0.1s remaining:    0.0s\n"
          ],
          "name": "stderr"
        },
        {
          "output_type": "stream",
          "text": [
            "stacking achieved a train score of 0.369 and test score of -0.838\n"
          ],
          "name": "stdout"
        },
        {
          "output_type": "stream",
          "text": [
            "[Parallel(n_jobs=1)]: Done   5 out of   5 | elapsed:    0.3s finished\n"
          ],
          "name": "stderr"
        },
        {
          "output_type": "execute_result",
          "data": {
            "text/plain": [
              "(0.36866144744591484, -0.8383915817202283)"
            ]
          },
          "metadata": {
            "tags": []
          },
          "execution_count": 60
        }
      ]
    },
    {
      "cell_type": "markdown",
      "metadata": {
        "id": "Ti-6f25DAVsr"
      },
      "source": [
        "## Scaled"
      ]
    },
    {
      "cell_type": "markdown",
      "metadata": {
        "id": "OeeHWy4BAq5z"
      },
      "source": [
        "Basic Models"
      ]
    },
    {
      "cell_type": "code",
      "metadata": {
        "colab": {
          "base_uri": "https://localhost:8080/"
        },
        "id": "PgifXHTZAZB_",
        "outputId": "4790c9fc-8db9-47c7-89ae-8797e6709c07"
      },
      "source": [
        "from sklearn.ensemble import StackingRegressor\n",
        "base_models = [('RIDGE', RidgeCV()),\n",
        "               ('LR', LinearRegression()),\n",
        "               ('RF', RandomForestRegressor())]\n",
        "meta_model = RidgeCV()\n",
        "stacking_model = StackingRegressor(estimators=base_models, \n",
        "                                    final_estimator=meta_model, \n",
        "                                    passthrough=True, \n",
        "                                    cv=5,\n",
        "                                    verbose=2)\n",
        "\n",
        "fit_score_single_model(stacking_model,\"stacking\", X_train_scaled, X_val_scaled, y_train_scaled, y_val_scaled)"
      ],
      "execution_count": null,
      "outputs": [
        {
          "output_type": "stream",
          "text": [
            "[Parallel(n_jobs=1)]: Using backend SequentialBackend with 1 concurrent workers.\n",
            "[Parallel(n_jobs=1)]: Done   1 out of   1 | elapsed:    0.0s remaining:    0.0s\n",
            "[Parallel(n_jobs=1)]: Done   5 out of   5 | elapsed:    0.0s finished\n",
            "[Parallel(n_jobs=1)]: Using backend SequentialBackend with 1 concurrent workers.\n",
            "[Parallel(n_jobs=1)]: Done   1 out of   1 | elapsed:    0.0s remaining:    0.0s\n",
            "[Parallel(n_jobs=1)]: Done   5 out of   5 | elapsed:    0.0s finished\n",
            "[Parallel(n_jobs=1)]: Using backend SequentialBackend with 1 concurrent workers.\n",
            "[Parallel(n_jobs=1)]: Done   1 out of   1 | elapsed:    0.5s remaining:    0.0s\n"
          ],
          "name": "stderr"
        },
        {
          "output_type": "stream",
          "text": [
            "stacking achieved a train score of 0.492 and test score of -0.328\n"
          ],
          "name": "stdout"
        },
        {
          "output_type": "stream",
          "text": [
            "[Parallel(n_jobs=1)]: Done   5 out of   5 | elapsed:    2.3s finished\n"
          ],
          "name": "stderr"
        },
        {
          "output_type": "execute_result",
          "data": {
            "text/plain": [
              "(0.4915969296246254, -0.32774347642671864)"
            ]
          },
          "metadata": {
            "tags": []
          },
          "execution_count": 61
        }
      ]
    },
    {
      "cell_type": "markdown",
      "metadata": {
        "id": "cHo-uJlfCL9H"
      },
      "source": [
        "## Feature Selection & Scaled (model used for predictions)"
      ]
    },
    {
      "cell_type": "code",
      "metadata": {
        "colab": {
          "base_uri": "https://localhost:8080/"
        },
        "id": "-IRIC-OrAgD6",
        "outputId": "a8a3f263-6860-4b74-c526-2c3eb075ee42"
      },
      "source": [
        "base_models = [('RIDGE', RidgeCV()),\n",
        "               ('LR', LinearRegression()),\n",
        "               ('RF', RandomForestRegressor(criterion=\"mse\",max_features=\"auto\", min_samples_leaf=30,max_depth=3,n_estimators=29))]\n",
        "meta_model = RidgeCV()\n",
        "stacking_model = StackingRegressor(estimators=base_models, \n",
        "                                    final_estimator=meta_model, \n",
        "                                    passthrough=True, \n",
        "                                    cv=5,\n",
        "                                    verbose=2)\n",
        "\n",
        "fit_score_single_model(stacking_model,\"stacking\", X_train_feature_selection, X_val_feature_selection, y_train_scaled,y_val_scaled)"
      ],
      "execution_count": null,
      "outputs": [
        {
          "output_type": "stream",
          "text": [
            "[Parallel(n_jobs=1)]: Using backend SequentialBackend with 1 concurrent workers.\n",
            "[Parallel(n_jobs=1)]: Done   1 out of   1 | elapsed:    0.0s remaining:    0.0s\n",
            "[Parallel(n_jobs=1)]: Done   5 out of   5 | elapsed:    0.0s finished\n",
            "[Parallel(n_jobs=1)]: Using backend SequentialBackend with 1 concurrent workers.\n",
            "[Parallel(n_jobs=1)]: Done   1 out of   1 | elapsed:    0.0s remaining:    0.0s\n",
            "[Parallel(n_jobs=1)]: Done   5 out of   5 | elapsed:    0.0s finished\n",
            "[Parallel(n_jobs=1)]: Using backend SequentialBackend with 1 concurrent workers.\n",
            "[Parallel(n_jobs=1)]: Done   1 out of   1 | elapsed:    0.1s remaining:    0.0s\n"
          ],
          "name": "stderr"
        },
        {
          "output_type": "stream",
          "text": [
            "stacking achieved a train score of 0.362 and test score of -0.067\n"
          ],
          "name": "stdout"
        },
        {
          "output_type": "stream",
          "text": [
            "[Parallel(n_jobs=1)]: Done   5 out of   5 | elapsed:    0.2s finished\n"
          ],
          "name": "stderr"
        },
        {
          "output_type": "execute_result",
          "data": {
            "text/plain": [
              "array([-0.44447673, -0.53199849, -1.0905451 , -0.18884904, -0.18358603,\n",
              "       -1.41593521,  0.09875976, -1.44759274])"
            ]
          },
          "metadata": {
            "tags": []
          },
          "execution_count": 68
        }
      ]
    },
    {
      "cell_type": "code",
      "metadata": {
        "colab": {
          "base_uri": "https://localhost:8080/"
        },
        "id": "i9gr13LldmLh",
        "outputId": "f8439720-a10a-4743-9d48-9bbe678e0d90"
      },
      "source": [
        "predictions = stacking_model.predict(X_val_feature_selection)\n",
        "predictions"
      ],
      "execution_count": null,
      "outputs": [
        {
          "output_type": "execute_result",
          "data": {
            "text/plain": [
              "array([-0.44447673, -0.53199849, -1.0905451 , -0.18884904, -0.18358603,\n",
              "       -1.41593521,  0.09875976, -1.44759274])"
            ]
          },
          "metadata": {
            "tags": []
          },
          "execution_count": 69
        }
      ]
    },
    {
      "cell_type": "code",
      "metadata": {
        "colab": {
          "base_uri": "https://localhost:8080/",
          "height": 325
        },
        "id": "MW8baT46myem",
        "outputId": "bcf3f695-b1be-4ddd-98d2-b3ea8126fd91"
      },
      "source": [
        "X_val_scaled"
      ],
      "execution_count": null,
      "outputs": [
        {
          "output_type": "execute_result",
          "data": {
            "text/html": [
              "<div>\n",
              "<style scoped>\n",
              "    .dataframe tbody tr th:only-of-type {\n",
              "        vertical-align: middle;\n",
              "    }\n",
              "\n",
              "    .dataframe tbody tr th {\n",
              "        vertical-align: top;\n",
              "    }\n",
              "\n",
              "    .dataframe thead th {\n",
              "        text-align: right;\n",
              "    }\n",
              "</style>\n",
              "<table border=\"1\" class=\"dataframe\">\n",
              "  <thead>\n",
              "    <tr style=\"text-align: right;\">\n",
              "      <th></th>\n",
              "      <th>TOMATOMETER score</th>\n",
              "      <th>TOMATOMETER Count</th>\n",
              "      <th>Runtime</th>\n",
              "      <th>cast1_oscars</th>\n",
              "      <th>cast2_oscar_nom</th>\n",
              "      <th>cast2_oscars</th>\n",
              "      <th>cast3_oscar_nom</th>\n",
              "      <th>cast3_oscars</th>\n",
              "      <th>cast1_FB_likes</th>\n",
              "      <th>cast2_FB_likes</th>\n",
              "      <th>cast3_FB_likes</th>\n",
              "      <th>dir_oscar_nom</th>\n",
              "      <th>dir_oscars</th>\n",
              "      <th>director_awards</th>\n",
              "      <th>director_facebook_likes</th>\n",
              "      <th>Genre_Action</th>\n",
              "      <th>Genre_Art&amp;Foreign</th>\n",
              "      <th>Genre_Classics</th>\n",
              "      <th>Genre_Comedy</th>\n",
              "      <th>Genre_Documentary</th>\n",
              "      <th>Genre_Drama</th>\n",
              "      <th>Genre_Horror</th>\n",
              "      <th>Genre_Kids&amp;Family</th>\n",
              "      <th>Genre_Mystery</th>\n",
              "      <th>Genre_Romance</th>\n",
              "      <th>Genre_SciFi</th>\n",
              "      <th>Rating_G</th>\n",
              "      <th>Rating_NC17</th>\n",
              "      <th>Rating_NR</th>\n",
              "      <th>Rating_PG</th>\n",
              "      <th>Rating_PG-13</th>\n",
              "    </tr>\n",
              "  </thead>\n",
              "  <tbody>\n",
              "    <tr>\n",
              "      <th>0</th>\n",
              "      <td>-0.311056</td>\n",
              "      <td>3.221948</td>\n",
              "      <td>-0.886368</td>\n",
              "      <td>-0.292794</td>\n",
              "      <td>0.559983</td>\n",
              "      <td>3.436851</td>\n",
              "      <td>0.978077</td>\n",
              "      <td>-0.201318</td>\n",
              "      <td>-0.031148</td>\n",
              "      <td>-0.218702</td>\n",
              "      <td>-0.165692</td>\n",
              "      <td>-0.177007</td>\n",
              "      <td>-0.123257</td>\n",
              "      <td>-0.249100</td>\n",
              "      <td>-0.225089</td>\n",
              "      <td>1</td>\n",
              "      <td>0</td>\n",
              "      <td>0</td>\n",
              "      <td>0</td>\n",
              "      <td>0</td>\n",
              "      <td>1</td>\n",
              "      <td>0</td>\n",
              "      <td>1</td>\n",
              "      <td>0</td>\n",
              "      <td>0</td>\n",
              "      <td>0</td>\n",
              "      <td>1</td>\n",
              "      <td>0</td>\n",
              "      <td>0</td>\n",
              "      <td>0</td>\n",
              "      <td>0</td>\n",
              "    </tr>\n",
              "    <tr>\n",
              "      <th>1</th>\n",
              "      <td>-0.171682</td>\n",
              "      <td>2.781596</td>\n",
              "      <td>-0.695501</td>\n",
              "      <td>-0.292794</td>\n",
              "      <td>3.051999</td>\n",
              "      <td>3.436851</td>\n",
              "      <td>-0.293281</td>\n",
              "      <td>-0.201318</td>\n",
              "      <td>-0.284106</td>\n",
              "      <td>14.035139</td>\n",
              "      <td>-0.165692</td>\n",
              "      <td>-0.177007</td>\n",
              "      <td>-0.123257</td>\n",
              "      <td>-0.249100</td>\n",
              "      <td>-0.061326</td>\n",
              "      <td>1</td>\n",
              "      <td>0</td>\n",
              "      <td>0</td>\n",
              "      <td>0</td>\n",
              "      <td>0</td>\n",
              "      <td>0</td>\n",
              "      <td>0</td>\n",
              "      <td>1</td>\n",
              "      <td>0</td>\n",
              "      <td>0</td>\n",
              "      <td>0</td>\n",
              "      <td>1</td>\n",
              "      <td>0</td>\n",
              "      <td>0</td>\n",
              "      <td>0</td>\n",
              "      <td>0</td>\n",
              "    </tr>\n",
              "    <tr>\n",
              "      <th>2</th>\n",
              "      <td>-1.983547</td>\n",
              "      <td>-0.621123</td>\n",
              "      <td>0.767815</td>\n",
              "      <td>2.348270</td>\n",
              "      <td>-0.270689</td>\n",
              "      <td>-0.221204</td>\n",
              "      <td>0.978077</td>\n",
              "      <td>-0.201318</td>\n",
              "      <td>-0.332887</td>\n",
              "      <td>-0.218702</td>\n",
              "      <td>-0.158841</td>\n",
              "      <td>1.639858</td>\n",
              "      <td>-0.123257</td>\n",
              "      <td>0.045618</td>\n",
              "      <td>-0.076578</td>\n",
              "      <td>0</td>\n",
              "      <td>0</td>\n",
              "      <td>0</td>\n",
              "      <td>0</td>\n",
              "      <td>0</td>\n",
              "      <td>1</td>\n",
              "      <td>1</td>\n",
              "      <td>0</td>\n",
              "      <td>1</td>\n",
              "      <td>0</td>\n",
              "      <td>0</td>\n",
              "      <td>0</td>\n",
              "      <td>0</td>\n",
              "      <td>0</td>\n",
              "      <td>0</td>\n",
              "      <td>0</td>\n",
              "    </tr>\n",
              "    <tr>\n",
              "      <th>3</th>\n",
              "      <td>0.002536</td>\n",
              "      <td>-0.340900</td>\n",
              "      <td>1.022305</td>\n",
              "      <td>-0.292794</td>\n",
              "      <td>0.559983</td>\n",
              "      <td>-0.221204</td>\n",
              "      <td>-0.293281</td>\n",
              "      <td>-0.201318</td>\n",
              "      <td>2.001385</td>\n",
              "      <td>-0.218702</td>\n",
              "      <td>-0.163408</td>\n",
              "      <td>-0.177007</td>\n",
              "      <td>-0.123257</td>\n",
              "      <td>0.242096</td>\n",
              "      <td>-0.077381</td>\n",
              "      <td>1</td>\n",
              "      <td>0</td>\n",
              "      <td>0</td>\n",
              "      <td>0</td>\n",
              "      <td>0</td>\n",
              "      <td>1</td>\n",
              "      <td>0</td>\n",
              "      <td>0</td>\n",
              "      <td>1</td>\n",
              "      <td>0</td>\n",
              "      <td>0</td>\n",
              "      <td>0</td>\n",
              "      <td>0</td>\n",
              "      <td>0</td>\n",
              "      <td>0</td>\n",
              "      <td>1</td>\n",
              "    </tr>\n",
              "    <tr>\n",
              "      <th>4</th>\n",
              "      <td>-0.136838</td>\n",
              "      <td>-0.721203</td>\n",
              "      <td>-0.949991</td>\n",
              "      <td>-0.292794</td>\n",
              "      <td>-0.270689</td>\n",
              "      <td>-0.221204</td>\n",
              "      <td>-0.293281</td>\n",
              "      <td>-0.201318</td>\n",
              "      <td>-0.400699</td>\n",
              "      <td>-0.218702</td>\n",
              "      <td>-0.165692</td>\n",
              "      <td>-0.177007</td>\n",
              "      <td>-0.123257</td>\n",
              "      <td>-0.249100</td>\n",
              "      <td>-0.061326</td>\n",
              "      <td>0</td>\n",
              "      <td>0</td>\n",
              "      <td>0</td>\n",
              "      <td>0</td>\n",
              "      <td>1</td>\n",
              "      <td>0</td>\n",
              "      <td>0</td>\n",
              "      <td>0</td>\n",
              "      <td>0</td>\n",
              "      <td>0</td>\n",
              "      <td>0</td>\n",
              "      <td>0</td>\n",
              "      <td>0</td>\n",
              "      <td>1</td>\n",
              "      <td>0</td>\n",
              "      <td>0</td>\n",
              "    </tr>\n",
              "    <tr>\n",
              "      <th>5</th>\n",
              "      <td>-1.704798</td>\n",
              "      <td>-0.320884</td>\n",
              "      <td>1.022305</td>\n",
              "      <td>2.348270</td>\n",
              "      <td>2.221327</td>\n",
              "      <td>3.436851</td>\n",
              "      <td>-0.293281</td>\n",
              "      <td>-0.201318</td>\n",
              "      <td>-0.332887</td>\n",
              "      <td>-0.218702</td>\n",
              "      <td>-0.165692</td>\n",
              "      <td>1.639858</td>\n",
              "      <td>-0.123257</td>\n",
              "      <td>-0.249100</td>\n",
              "      <td>-0.136785</td>\n",
              "      <td>0</td>\n",
              "      <td>0</td>\n",
              "      <td>0</td>\n",
              "      <td>0</td>\n",
              "      <td>0</td>\n",
              "      <td>1</td>\n",
              "      <td>0</td>\n",
              "      <td>0</td>\n",
              "      <td>0</td>\n",
              "      <td>0</td>\n",
              "      <td>0</td>\n",
              "      <td>0</td>\n",
              "      <td>0</td>\n",
              "      <td>0</td>\n",
              "      <td>0</td>\n",
              "      <td>0</td>\n",
              "    </tr>\n",
              "    <tr>\n",
              "      <th>6</th>\n",
              "      <td>0.978156</td>\n",
              "      <td>4.172708</td>\n",
              "      <td>0.640570</td>\n",
              "      <td>2.348270</td>\n",
              "      <td>3.882671</td>\n",
              "      <td>7.094906</td>\n",
              "      <td>0.978077</td>\n",
              "      <td>-0.201318</td>\n",
              "      <td>-0.332887</td>\n",
              "      <td>-0.218702</td>\n",
              "      <td>-0.253132</td>\n",
              "      <td>3.456724</td>\n",
              "      <td>-0.123257</td>\n",
              "      <td>-0.249100</td>\n",
              "      <td>-0.061326</td>\n",
              "      <td>0</td>\n",
              "      <td>0</td>\n",
              "      <td>1</td>\n",
              "      <td>0</td>\n",
              "      <td>0</td>\n",
              "      <td>1</td>\n",
              "      <td>0</td>\n",
              "      <td>0</td>\n",
              "      <td>0</td>\n",
              "      <td>0</td>\n",
              "      <td>0</td>\n",
              "      <td>0</td>\n",
              "      <td>0</td>\n",
              "      <td>0</td>\n",
              "      <td>1</td>\n",
              "      <td>0</td>\n",
              "    </tr>\n",
              "    <tr>\n",
              "      <th>7</th>\n",
              "      <td>-1.635111</td>\n",
              "      <td>0.800012</td>\n",
              "      <td>2.994601</td>\n",
              "      <td>2.348270</td>\n",
              "      <td>5.544016</td>\n",
              "      <td>7.094906</td>\n",
              "      <td>2.249435</td>\n",
              "      <td>-0.201318</td>\n",
              "      <td>-0.332887</td>\n",
              "      <td>-0.218702</td>\n",
              "      <td>-0.165692</td>\n",
              "      <td>5.273589</td>\n",
              "      <td>-0.123257</td>\n",
              "      <td>3.614970</td>\n",
              "      <td>-0.247566</td>\n",
              "      <td>1</td>\n",
              "      <td>0</td>\n",
              "      <td>1</td>\n",
              "      <td>0</td>\n",
              "      <td>0</td>\n",
              "      <td>1</td>\n",
              "      <td>0</td>\n",
              "      <td>1</td>\n",
              "      <td>0</td>\n",
              "      <td>1</td>\n",
              "      <td>0</td>\n",
              "      <td>0</td>\n",
              "      <td>0</td>\n",
              "      <td>0</td>\n",
              "      <td>0</td>\n",
              "      <td>1</td>\n",
              "    </tr>\n",
              "  </tbody>\n",
              "</table>\n",
              "</div>"
            ],
            "text/plain": [
              "   TOMATOMETER score  TOMATOMETER Count  ...  Rating_PG  Rating_PG-13\n",
              "0          -0.311056           3.221948  ...          0             0\n",
              "1          -0.171682           2.781596  ...          0             0\n",
              "2          -1.983547          -0.621123  ...          0             0\n",
              "3           0.002536          -0.340900  ...          0             1\n",
              "4          -0.136838          -0.721203  ...          0             0\n",
              "5          -1.704798          -0.320884  ...          0             0\n",
              "6           0.978156           4.172708  ...          1             0\n",
              "7          -1.635111           0.800012  ...          0             1\n",
              "\n",
              "[8 rows x 31 columns]"
            ]
          },
          "metadata": {
            "tags": []
          },
          "execution_count": 73
        }
      ]
    },
    {
      "cell_type": "markdown",
      "metadata": {
        "id": "XE-xkRWDqPRV"
      },
      "source": [
        "# undo scaling to get predictions"
      ]
    },
    {
      "cell_type": "code",
      "metadata": {
        "colab": {
          "base_uri": "https://localhost:8080/"
        },
        "id": "rm9YilW3f-xu",
        "outputId": "ec07e166-5d19-4ff1-cd9f-c22fc20b4387"
      },
      "source": [
        "#df_train_standarized = pd.concat([y_train_c,X_train_c.iloc[:,0:3], X_train_c.iloc[:,21:]],axis =1 ) \n",
        "#X_val_feature_selection\n",
        "\n",
        "df_combined = X_val_scaled.iloc[:,0:15] #removing the binary columns\n",
        "df_combined['AUDIENCE score'] = predictions\n",
        "df_combined_2 = pd.concat([df_combined.iloc[:,15],df_combined.iloc[:,0:15]], axis=1)\n",
        "df_combined_2\n",
        "\n",
        "\n",
        "\n",
        "undo_scaling = scaler.inverse_transform(df_combined_2)\n",
        "undo_scaling\n",
        "score_predictions = []\n",
        "\n",
        "for i in range(len(undo_scaling)):\n",
        "  score_predictions.append(undo_scaling[i][0])\n",
        "\n",
        "score_predictions\n",
        "\n",
        "\n",
        "#score_predictions = undo_scaling[0]\n",
        "#score_predictions"
      ],
      "execution_count": null,
      "outputs": [
        {
          "output_type": "execute_result",
          "data": {
            "text/plain": [
              "[48.36652423467446,\n",
              " 46.58315909354554,\n",
              " 35.202074740924886,\n",
              " 53.575257485427585,\n",
              " 53.68249777338187,\n",
              " 28.571845129427334,\n",
              " 59.435645701083985,\n",
              " 27.92678352159285]"
            ]
          },
          "metadata": {
            "tags": []
          },
          "execution_count": 89
        }
      ]
    },
    {
      "cell_type": "markdown",
      "metadata": {
        "id": "oOdrNz3sEJov"
      },
      "source": [
        "## Stacked "
      ]
    },
    {
      "cell_type": "code",
      "metadata": {
        "colab": {
          "base_uri": "https://localhost:8080/"
        },
        "id": "CEibVRUREI94",
        "outputId": "5c4400e8-f97f-4135-8cc5-912132897e02"
      },
      "source": [
        "base_models = [('RIDGE', RidgeCV(fit_intercept=True,gcv_mode=\"eigen\",normalize=False)),\n",
        "               (\"LASSO\", LassoCV(fit_intercept=True, normalize=True,precompute=True,cv=20)),\n",
        "               ('RF', RandomForestRegressor(criterion=\"mse\",max_features=\"auto\", min_samples_leaf=30,max_depth=3,n_estimators=29))]\n",
        "\n",
        "meta_model = RidgeCV()\n",
        "stacking_model = StackingRegressor(estimators=base_models, \n",
        "                                    final_estimator=meta_model, \n",
        "                                    passthrough=True, \n",
        "                                    cv=5,\n",
        "                                    verbose=2)\n",
        "\n",
        "fit_score_single_model(stacking_model,\"stacking\",X_train_stacked, X_val_stacked, y_train, y_val)"
      ],
      "execution_count": null,
      "outputs": [
        {
          "output_type": "stream",
          "text": [
            "[Parallel(n_jobs=1)]: Using backend SequentialBackend with 1 concurrent workers.\n",
            "[Parallel(n_jobs=1)]: Done   1 out of   1 | elapsed:    0.1s remaining:    0.0s\n",
            "[Parallel(n_jobs=1)]: Done   5 out of   5 | elapsed:    0.7s finished\n",
            "[Parallel(n_jobs=1)]: Using backend SequentialBackend with 1 concurrent workers.\n",
            "[Parallel(n_jobs=1)]: Done   1 out of   1 | elapsed:    0.4s remaining:    0.0s\n",
            "[Parallel(n_jobs=1)]: Done   5 out of   5 | elapsed:    2.0s finished\n",
            "[Parallel(n_jobs=1)]: Using backend SequentialBackend with 1 concurrent workers.\n",
            "[Parallel(n_jobs=1)]: Done   1 out of   1 | elapsed:    0.1s remaining:    0.0s\n"
          ],
          "name": "stderr"
        },
        {
          "output_type": "stream",
          "text": [
            "stacking achieved a train score of 0.370 and test score of -0.279\n"
          ],
          "name": "stdout"
        },
        {
          "output_type": "stream",
          "text": [
            "[Parallel(n_jobs=1)]: Done   5 out of   5 | elapsed:    0.3s finished\n"
          ],
          "name": "stderr"
        },
        {
          "output_type": "execute_result",
          "data": {
            "text/plain": [
              "(0.36978101849570066, -0.27892330970310764)"
            ]
          },
          "metadata": {
            "tags": []
          },
          "execution_count": 63
        }
      ]
    },
    {
      "cell_type": "markdown",
      "metadata": {
        "id": "9G6HaX23E9Ma"
      },
      "source": [
        "## X_train_interactions"
      ]
    },
    {
      "cell_type": "code",
      "metadata": {
        "id": "Molz1nxDF63o",
        "colab": {
          "base_uri": "https://localhost:8080/"
        },
        "outputId": "0fef8c73-a0cb-45fb-85e9-ec0d3687622a"
      },
      "source": [
        "from sklearn.ensemble import StackingRegressor\n",
        "base_models = [('RIDGE', RidgeCV(fit_intercept=True,gcv_mode=\"eigen\",normalize=False)),\n",
        "               (\"LASSO\", LassoCV(fit_intercept=True, normalize=True,precompute=True,cv=20)),\n",
        "               ('RF', RandomForestRegressor(criterion=\"mse\",max_features=\"auto\", min_samples_leaf=30,max_depth=3,n_estimators=29))]\n",
        "\n",
        "meta_model = RidgeCV()\n",
        "stacking_model = StackingRegressor(estimators=base_models, \n",
        "                                    final_estimator=meta_model, \n",
        "                                    passthrough=True, \n",
        "                                    cv=5,\n",
        "                                    verbose=2)\n",
        "\n",
        "fit_score_single_model(stacking_model,\"stacking\",X_train_interactions, X_val_interactions, y_train, y_val)"
      ],
      "execution_count": null,
      "outputs": [
        {
          "output_type": "stream",
          "text": [
            "[Parallel(n_jobs=1)]: Using backend SequentialBackend with 1 concurrent workers.\n",
            "[Parallel(n_jobs=1)]: Done   1 out of   1 | elapsed:    0.1s remaining:    0.0s\n",
            "[Parallel(n_jobs=1)]: Done   5 out of   5 | elapsed:    0.7s finished\n",
            "[Parallel(n_jobs=1)]: Using backend SequentialBackend with 1 concurrent workers.\n",
            "[Parallel(n_jobs=1)]: Done   1 out of   1 | elapsed:    0.3s remaining:    0.0s\n",
            "[Parallel(n_jobs=1)]: Done   5 out of   5 | elapsed:    1.5s finished\n",
            "[Parallel(n_jobs=1)]: Using backend SequentialBackend with 1 concurrent workers.\n",
            "[Parallel(n_jobs=1)]: Done   1 out of   1 | elapsed:    0.1s remaining:    0.0s\n"
          ],
          "name": "stderr"
        },
        {
          "output_type": "stream",
          "text": [
            "stacking achieved a train score of 0.372 and test score of -1.112\n"
          ],
          "name": "stdout"
        },
        {
          "output_type": "stream",
          "text": [
            "[Parallel(n_jobs=1)]: Done   5 out of   5 | elapsed:    0.3s finished\n"
          ],
          "name": "stderr"
        },
        {
          "output_type": "execute_result",
          "data": {
            "text/plain": [
              "(0.37158168732743524, -1.1115865284710318)"
            ]
          },
          "metadata": {
            "tags": []
          },
          "execution_count": 64
        }
      ]
    },
    {
      "cell_type": "markdown",
      "metadata": {
        "id": "Rhc8W8QuFFA7"
      },
      "source": [
        "# Optimal Parameters "
      ]
    },
    {
      "cell_type": "markdown",
      "metadata": {
        "id": "eMS4W5ycJl9E"
      },
      "source": [
        "## Ridge"
      ]
    },
    {
      "cell_type": "code",
      "metadata": {
        "id": "l_YmInBqJkuP"
      },
      "source": [
        "'fit_intercept': True, 'gcv_mode': 'eigen', 'normalize': False"
      ],
      "execution_count": null,
      "outputs": []
    },
    {
      "cell_type": "markdown",
      "metadata": {
        "id": "PG2KwtqwJ5Uy"
      },
      "source": [
        "## LinReg"
      ]
    },
    {
      "cell_type": "code",
      "metadata": {
        "id": "FkdlLex_J7H3"
      },
      "source": [
        "'fit_intercept': False, 'n_jobs': 0, 'normalize': True"
      ],
      "execution_count": null,
      "outputs": []
    },
    {
      "cell_type": "markdown",
      "metadata": {
        "id": "A-bUnByvKqlM"
      },
      "source": [
        "## Lasso"
      ]
    },
    {
      "cell_type": "code",
      "metadata": {
        "id": "QInOTQbaKptv"
      },
      "source": [
        "'fit_intercept': True, 'normalize': True, 'precompute': True,'cv': 20"
      ],
      "execution_count": null,
      "outputs": []
    },
    {
      "cell_type": "markdown",
      "metadata": {
        "id": "0QfO8wHrHugg"
      },
      "source": [
        "## CART"
      ]
    },
    {
      "cell_type": "code",
      "metadata": {
        "id": "4imtjTlfCegy"
      },
      "source": [
        "'criterion': 'mse', 'max_features': 'auto', 'min_samples_leaf': 30,'max_depth': 4, 'max_leaf_nodes': 10, 'splitter': 'random'"
      ],
      "execution_count": null,
      "outputs": []
    },
    {
      "cell_type": "markdown",
      "metadata": {
        "id": "LdfAV6jxH2PD"
      },
      "source": [
        "## RF"
      ]
    },
    {
      "cell_type": "code",
      "metadata": {
        "id": "i4fdOiHMH4g0"
      },
      "source": [
        "'criterion': 'mse', 'min_samples_leaf': 30,'max_depth': 3, 'max_features': 'auto','n_estimators': 29"
      ],
      "execution_count": null,
      "outputs": []
    }
  ]
}