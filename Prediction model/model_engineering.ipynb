{
  "nbformat": 4,
  "nbformat_minor": 0,
  "metadata": {
    "colab": {
      "name": "Copy of model_engineering.ipynb",
      "provenance": [],
      "collapsed_sections": [],
      "toc_visible": true
    },
    "kernelspec": {
      "name": "python3",
      "display_name": "Python 3"
    }
  },
  "cells": [
    {
      "cell_type": "markdown",
      "metadata": {
        "id": "sQXMuZZ3nDXb"
      },
      "source": [
        "# Import dataset"
      ]
    },
    {
      "cell_type": "code",
      "metadata": {
        "id": "Pv0mCv0d4R_7"
      },
      "source": [
        "# Standard analytics packages\n",
        "import matplotlib.pyplot as plt\n",
        "import numpy as np\n",
        "import pandas as pd\n",
        "from sklearn.cluster import KMeans\n",
        "from sklearn.ensemble import VotingClassifier\n",
        "from sklearn.feature_selection import SelectKBest, f_classif\n",
        "from sklearn.feature_selection import mutual_info_regression, f_regression\n",
        "# Import models\n",
        "from sklearn.linear_model import LogisticRegression, LogisticRegressionCV\n",
        "# Model evaluation \n",
        "from sklearn.metrics import precision_score, recall_score\n",
        "from sklearn.model_selection import GridSearchCV\n",
        "# Import model engineering\n",
        "from sklearn.model_selection import train_test_split\n",
        "from sklearn.preprocessing import StandardScaler\n",
        "\n",
        "# Import linear regression models\n",
        "from sklearn.linear_model import LinearRegression, LassoCV, RidgeCV\n",
        "# Import Decision Tree models\n",
        "from sklearn.tree import DecisionTreeRegressor\n",
        "from sklearn.ensemble import RandomForestRegressor\n",
        "from sklearn.metrics import r2_score"
      ],
      "execution_count": null,
      "outputs": []
    },
    {
      "cell_type": "code",
      "metadata": {
        "id": "HXRyn27jnILn"
      },
      "source": [
        "#import csv files\n",
        "#url_allmovie = 'https://raw.githubusercontent.com/JihoonChung/MIE368_project/master/rotten_tomatoes_full.csv'\n",
        "url_allmovie = 'https://raw.githubusercontent.com/JihoonChung/MIE368_project/master/rotten_tomatoes_full_revised.csv'\n",
        "df_rotten_tomatoes_full = pd.read_csv(url_allmovie)\n"
      ],
      "execution_count": null,
      "outputs": []
    },
    {
      "cell_type": "code",
      "metadata": {
        "id": "ZXwB4IEKu3Pq",
        "colab": {
          "base_uri": "https://localhost:8080/",
          "height": 356
        },
        "outputId": "0da50860-43d2-43bd-e08c-4f1fb6001f5c"
      },
      "source": [
        "df_rotten_tomatoes_full.head()\n",
        "#df_rotten_tomatoes_full.shape"
      ],
      "execution_count": null,
      "outputs": [
        {
          "output_type": "execute_result",
          "data": {
            "text/html": [
              "<div>\n",
              "<style scoped>\n",
              "    .dataframe tbody tr th:only-of-type {\n",
              "        vertical-align: middle;\n",
              "    }\n",
              "\n",
              "    .dataframe tbody tr th {\n",
              "        vertical-align: top;\n",
              "    }\n",
              "\n",
              "    .dataframe thead th {\n",
              "        text-align: right;\n",
              "    }\n",
              "</style>\n",
              "<table border=\"1\" class=\"dataframe\">\n",
              "  <thead>\n",
              "    <tr style=\"text-align: right;\">\n",
              "      <th></th>\n",
              "      <th>Title</th>\n",
              "      <th>TOMATOMETER score</th>\n",
              "      <th>TOMATOMETER Count</th>\n",
              "      <th>AUDIENCE score</th>\n",
              "      <th>AUDIENCE count</th>\n",
              "      <th>Year</th>\n",
              "      <th>Cast 1</th>\n",
              "      <th>Cast 2</th>\n",
              "      <th>Cast 3</th>\n",
              "      <th>director_name</th>\n",
              "      <th>Runtime</th>\n",
              "      <th>Genre_Action</th>\n",
              "      <th>Genre_Art&amp;Foreign</th>\n",
              "      <th>Genre_Classics</th>\n",
              "      <th>Genre_Comedy</th>\n",
              "      <th>Genre_Documentary</th>\n",
              "      <th>Genre_Drama</th>\n",
              "      <th>Genre_Horror</th>\n",
              "      <th>Genre_Kids&amp;Family</th>\n",
              "      <th>Genre_Mystery</th>\n",
              "      <th>Genre_Romance</th>\n",
              "      <th>Genre_SciFi</th>\n",
              "      <th>Rating_G</th>\n",
              "      <th>Rating_NC17</th>\n",
              "      <th>Rating_NR</th>\n",
              "      <th>Rating_PG</th>\n",
              "      <th>Rating_PG-13</th>\n",
              "      <th>Rating_R</th>\n",
              "      <th>cast1_oscar_nom</th>\n",
              "      <th>cast1_oscars</th>\n",
              "      <th>cast2_oscar_nom</th>\n",
              "      <th>cast2_oscars</th>\n",
              "      <th>cast3_oscar_nom</th>\n",
              "      <th>cast3_oscars</th>\n",
              "      <th>cast1_FB_likes</th>\n",
              "      <th>cast2_FB_likes</th>\n",
              "      <th>cast3_FB_likes</th>\n",
              "      <th>dir_oscar_nom</th>\n",
              "      <th>dir_oscars</th>\n",
              "      <th>director_awards</th>\n",
              "      <th>director_facebook_likes</th>\n",
              "      <th>cast_total_facebook_likes</th>\n",
              "    </tr>\n",
              "  </thead>\n",
              "  <tbody>\n",
              "    <tr>\n",
              "      <th>0</th>\n",
              "      <td>Drive</td>\n",
              "      <td>0.0</td>\n",
              "      <td>7</td>\n",
              "      <td>13.0</td>\n",
              "      <td>15</td>\n",
              "      <td>2011</td>\n",
              "      <td>Ryan Gosling</td>\n",
              "      <td>Carey Mulligan</td>\n",
              "      <td>Albert Brooks</td>\n",
              "      <td>Nicolas Winding Refn</td>\n",
              "      <td>100</td>\n",
              "      <td>1</td>\n",
              "      <td>0</td>\n",
              "      <td>0</td>\n",
              "      <td>0</td>\n",
              "      <td>0</td>\n",
              "      <td>1</td>\n",
              "      <td>0</td>\n",
              "      <td>0</td>\n",
              "      <td>1</td>\n",
              "      <td>0</td>\n",
              "      <td>0</td>\n",
              "      <td>0</td>\n",
              "      <td>0</td>\n",
              "      <td>0</td>\n",
              "      <td>0</td>\n",
              "      <td>0</td>\n",
              "      <td>1</td>\n",
              "      <td>2.0</td>\n",
              "      <td>0.0</td>\n",
              "      <td>1.0</td>\n",
              "      <td>0.0</td>\n",
              "      <td>1.0</td>\n",
              "      <td>0.0</td>\n",
              "      <td>33000.0</td>\n",
              "      <td>367.0</td>\n",
              "      <td>745.0</td>\n",
              "      <td>0.0</td>\n",
              "      <td>0.0</td>\n",
              "      <td>69.0</td>\n",
              "      <td>0.0</td>\n",
              "      <td>34337.0</td>\n",
              "    </tr>\n",
              "    <tr>\n",
              "      <th>1</th>\n",
              "      <td>American Son</td>\n",
              "      <td>50.0</td>\n",
              "      <td>24</td>\n",
              "      <td>47.0</td>\n",
              "      <td>282</td>\n",
              "      <td>2008</td>\n",
              "      <td>Nick Cannon</td>\n",
              "      <td>Melonie Diaz</td>\n",
              "      <td>Matt O'Leary</td>\n",
              "      <td>Neil Abramson</td>\n",
              "      <td>85</td>\n",
              "      <td>0</td>\n",
              "      <td>0</td>\n",
              "      <td>0</td>\n",
              "      <td>0</td>\n",
              "      <td>0</td>\n",
              "      <td>1</td>\n",
              "      <td>0</td>\n",
              "      <td>0</td>\n",
              "      <td>0</td>\n",
              "      <td>0</td>\n",
              "      <td>0</td>\n",
              "      <td>0</td>\n",
              "      <td>0</td>\n",
              "      <td>0</td>\n",
              "      <td>0</td>\n",
              "      <td>0</td>\n",
              "      <td>1</td>\n",
              "      <td>0.0</td>\n",
              "      <td>0.0</td>\n",
              "      <td>0.0</td>\n",
              "      <td>0.0</td>\n",
              "      <td>0.0</td>\n",
              "      <td>0.0</td>\n",
              "      <td>593.0</td>\n",
              "      <td>270.0</td>\n",
              "      <td>303.0</td>\n",
              "      <td>0.0</td>\n",
              "      <td>0.0</td>\n",
              "      <td>0.0</td>\n",
              "      <td>232.0</td>\n",
              "      <td>0.0</td>\n",
              "    </tr>\n",
              "    <tr>\n",
              "      <th>2</th>\n",
              "      <td>Primal</td>\n",
              "      <td>38.0</td>\n",
              "      <td>32</td>\n",
              "      <td>27.0</td>\n",
              "      <td>48</td>\n",
              "      <td>2010</td>\n",
              "      <td>Zoe Tuckwell-Smith</td>\n",
              "      <td>Krew Boylan</td>\n",
              "      <td>Lindsay Farris</td>\n",
              "      <td>Josh Reed</td>\n",
              "      <td>84</td>\n",
              "      <td>0</td>\n",
              "      <td>0</td>\n",
              "      <td>0</td>\n",
              "      <td>0</td>\n",
              "      <td>0</td>\n",
              "      <td>0</td>\n",
              "      <td>1</td>\n",
              "      <td>0</td>\n",
              "      <td>0</td>\n",
              "      <td>0</td>\n",
              "      <td>0</td>\n",
              "      <td>0</td>\n",
              "      <td>0</td>\n",
              "      <td>1</td>\n",
              "      <td>0</td>\n",
              "      <td>0</td>\n",
              "      <td>0</td>\n",
              "      <td>0.0</td>\n",
              "      <td>0.0</td>\n",
              "      <td>0.0</td>\n",
              "      <td>0.0</td>\n",
              "      <td>0.0</td>\n",
              "      <td>0.0</td>\n",
              "      <td>367.0</td>\n",
              "      <td>367.0</td>\n",
              "      <td>367.0</td>\n",
              "      <td>0.0</td>\n",
              "      <td>0.0</td>\n",
              "      <td>0.0</td>\n",
              "      <td>232.0</td>\n",
              "      <td>0.0</td>\n",
              "    </tr>\n",
              "    <tr>\n",
              "      <th>3</th>\n",
              "      <td>The Kill Team</td>\n",
              "      <td>70.0</td>\n",
              "      <td>47</td>\n",
              "      <td>43.0</td>\n",
              "      <td>63</td>\n",
              "      <td>2014</td>\n",
              "      <td>Adam Winfield</td>\n",
              "      <td>Jeremy Morlock</td>\n",
              "      <td>Andrew Holmes</td>\n",
              "      <td>Dan Krauss</td>\n",
              "      <td>79</td>\n",
              "      <td>0</td>\n",
              "      <td>0</td>\n",
              "      <td>0</td>\n",
              "      <td>0</td>\n",
              "      <td>1</td>\n",
              "      <td>0</td>\n",
              "      <td>0</td>\n",
              "      <td>0</td>\n",
              "      <td>0</td>\n",
              "      <td>0</td>\n",
              "      <td>0</td>\n",
              "      <td>0</td>\n",
              "      <td>0</td>\n",
              "      <td>1</td>\n",
              "      <td>0</td>\n",
              "      <td>0</td>\n",
              "      <td>0</td>\n",
              "      <td>0.0</td>\n",
              "      <td>0.0</td>\n",
              "      <td>0.0</td>\n",
              "      <td>0.0</td>\n",
              "      <td>0.0</td>\n",
              "      <td>0.0</td>\n",
              "      <td>367.0</td>\n",
              "      <td>367.0</td>\n",
              "      <td>367.0</td>\n",
              "      <td>0.0</td>\n",
              "      <td>0.0</td>\n",
              "      <td>0.0</td>\n",
              "      <td>232.0</td>\n",
              "      <td>0.0</td>\n",
              "    </tr>\n",
              "    <tr>\n",
              "      <th>4</th>\n",
              "      <td>Trick</td>\n",
              "      <td>32.0</td>\n",
              "      <td>25</td>\n",
              "      <td>45.0</td>\n",
              "      <td>51</td>\n",
              "      <td>1999</td>\n",
              "      <td>Christian Campbell</td>\n",
              "      <td>John Paul Pitoc</td>\n",
              "      <td>Tori Spelling</td>\n",
              "      <td>Jim Fall</td>\n",
              "      <td>90</td>\n",
              "      <td>0</td>\n",
              "      <td>0</td>\n",
              "      <td>0</td>\n",
              "      <td>1</td>\n",
              "      <td>0</td>\n",
              "      <td>1</td>\n",
              "      <td>0</td>\n",
              "      <td>0</td>\n",
              "      <td>0</td>\n",
              "      <td>1</td>\n",
              "      <td>0</td>\n",
              "      <td>0</td>\n",
              "      <td>0</td>\n",
              "      <td>0</td>\n",
              "      <td>0</td>\n",
              "      <td>0</td>\n",
              "      <td>1</td>\n",
              "      <td>0.0</td>\n",
              "      <td>0.0</td>\n",
              "      <td>0.0</td>\n",
              "      <td>0.0</td>\n",
              "      <td>0.0</td>\n",
              "      <td>0.0</td>\n",
              "      <td>168.0</td>\n",
              "      <td>367.0</td>\n",
              "      <td>396.0</td>\n",
              "      <td>0.0</td>\n",
              "      <td>0.0</td>\n",
              "      <td>0.0</td>\n",
              "      <td>13.0</td>\n",
              "      <td>0.0</td>\n",
              "    </tr>\n",
              "  </tbody>\n",
              "</table>\n",
              "</div>"
            ],
            "text/plain": [
              "           Title  ...  cast_total_facebook_likes\n",
              "0          Drive  ...                    34337.0\n",
              "1   American Son  ...                        0.0\n",
              "2         Primal  ...                        0.0\n",
              "3  The Kill Team  ...                        0.0\n",
              "4          Trick  ...                        0.0\n",
              "\n",
              "[5 rows x 42 columns]"
            ]
          },
          "metadata": {
            "tags": []
          },
          "execution_count": 3
        }
      ]
    },
    {
      "cell_type": "markdown",
      "metadata": {
        "id": "Fl7sLAuH6pQA"
      },
      "source": [
        "# Separate train and test dataset."
      ]
    },
    {
      "cell_type": "code",
      "metadata": {
        "id": "8lCxtLOsvJa2"
      },
      "source": [
        "# one thing is we might have to drop total fb like since now its completely irrelevant. This feature might be introduce in the feature engineering section. "
      ],
      "execution_count": null,
      "outputs": []
    },
    {
      "cell_type": "code",
      "metadata": {
        "id": "yGOqsZS37XT8",
        "colab": {
          "base_uri": "https://localhost:8080/",
          "height": 235
        },
        "outputId": "d1f6192e-ced1-46f9-c029-0bbcc8f566f4"
      },
      "source": [
        "column_drop = ['Cast 1','Cast 2','Cast 3','director_name','Title','Year','AUDIENCE score','AUDIENCE count','cast_total_facebook_likes']\n",
        "\n",
        "\n",
        "X = df_rotten_tomatoes_full.drop(columns = column_drop)\n",
        "X_train, X_val, y_train, y_val = train_test_split(X,  # all X data\n",
        "                                                    df_rotten_tomatoes_full['AUDIENCE score'],  # All y data\n",
        "                                                    test_size=0.30,  # Fraction of data in test set\n",
        "                                                    shuffle=True,  # Randomly splits the data\n",
        "                                                    random_state = 3  # Sets random seed for reproducability \n",
        "                                                    )\n",
        "#we can do audience so we can keep Totmatometer score and tomatometer count since critics' score came out first so we can say this is okay as a parameter when we \n",
        "#plan the movie.\n",
        "X_train.head()"
      ],
      "execution_count": null,
      "outputs": [
        {
          "output_type": "execute_result",
          "data": {
            "text/html": [
              "<div>\n",
              "<style scoped>\n",
              "    .dataframe tbody tr th:only-of-type {\n",
              "        vertical-align: middle;\n",
              "    }\n",
              "\n",
              "    .dataframe tbody tr th {\n",
              "        vertical-align: top;\n",
              "    }\n",
              "\n",
              "    .dataframe thead th {\n",
              "        text-align: right;\n",
              "    }\n",
              "</style>\n",
              "<table border=\"1\" class=\"dataframe\">\n",
              "  <thead>\n",
              "    <tr style=\"text-align: right;\">\n",
              "      <th></th>\n",
              "      <th>TOMATOMETER score</th>\n",
              "      <th>TOMATOMETER Count</th>\n",
              "      <th>Runtime</th>\n",
              "      <th>Genre_Action</th>\n",
              "      <th>Genre_Art&amp;Foreign</th>\n",
              "      <th>Genre_Classics</th>\n",
              "      <th>Genre_Comedy</th>\n",
              "      <th>Genre_Documentary</th>\n",
              "      <th>Genre_Drama</th>\n",
              "      <th>Genre_Horror</th>\n",
              "      <th>Genre_Kids&amp;Family</th>\n",
              "      <th>Genre_Mystery</th>\n",
              "      <th>Genre_Romance</th>\n",
              "      <th>Genre_SciFi</th>\n",
              "      <th>Rating_G</th>\n",
              "      <th>Rating_NC17</th>\n",
              "      <th>Rating_NR</th>\n",
              "      <th>Rating_PG</th>\n",
              "      <th>Rating_PG-13</th>\n",
              "      <th>Rating_R</th>\n",
              "      <th>cast1_oscar_nom</th>\n",
              "      <th>cast1_oscars</th>\n",
              "      <th>cast2_oscar_nom</th>\n",
              "      <th>cast2_oscars</th>\n",
              "      <th>cast3_oscar_nom</th>\n",
              "      <th>cast3_oscars</th>\n",
              "      <th>cast1_FB_likes</th>\n",
              "      <th>cast2_FB_likes</th>\n",
              "      <th>cast3_FB_likes</th>\n",
              "      <th>dir_oscar_nom</th>\n",
              "      <th>dir_oscars</th>\n",
              "      <th>director_awards</th>\n",
              "      <th>director_facebook_likes</th>\n",
              "    </tr>\n",
              "  </thead>\n",
              "  <tbody>\n",
              "    <tr>\n",
              "      <th>70</th>\n",
              "      <td>95.0</td>\n",
              "      <td>19</td>\n",
              "      <td>70</td>\n",
              "      <td>0</td>\n",
              "      <td>0</td>\n",
              "      <td>0</td>\n",
              "      <td>0</td>\n",
              "      <td>1</td>\n",
              "      <td>0</td>\n",
              "      <td>0</td>\n",
              "      <td>0</td>\n",
              "      <td>0</td>\n",
              "      <td>0</td>\n",
              "      <td>0</td>\n",
              "      <td>0</td>\n",
              "      <td>0</td>\n",
              "      <td>1</td>\n",
              "      <td>0</td>\n",
              "      <td>0</td>\n",
              "      <td>0</td>\n",
              "      <td>0.0</td>\n",
              "      <td>0.0</td>\n",
              "      <td>0.0</td>\n",
              "      <td>0.0</td>\n",
              "      <td>0.0</td>\n",
              "      <td>0.0</td>\n",
              "      <td>488.0</td>\n",
              "      <td>367.0</td>\n",
              "      <td>367.0</td>\n",
              "      <td>0.0</td>\n",
              "      <td>0.0</td>\n",
              "      <td>0.0</td>\n",
              "      <td>232.0</td>\n",
              "    </tr>\n",
              "    <tr>\n",
              "      <th>75</th>\n",
              "      <td>73.0</td>\n",
              "      <td>15</td>\n",
              "      <td>71</td>\n",
              "      <td>0</td>\n",
              "      <td>1</td>\n",
              "      <td>0</td>\n",
              "      <td>0</td>\n",
              "      <td>0</td>\n",
              "      <td>1</td>\n",
              "      <td>1</td>\n",
              "      <td>0</td>\n",
              "      <td>1</td>\n",
              "      <td>0</td>\n",
              "      <td>0</td>\n",
              "      <td>0</td>\n",
              "      <td>0</td>\n",
              "      <td>1</td>\n",
              "      <td>0</td>\n",
              "      <td>0</td>\n",
              "      <td>0</td>\n",
              "      <td>0.0</td>\n",
              "      <td>0.0</td>\n",
              "      <td>0.0</td>\n",
              "      <td>0.0</td>\n",
              "      <td>0.0</td>\n",
              "      <td>0.0</td>\n",
              "      <td>367.0</td>\n",
              "      <td>367.0</td>\n",
              "      <td>367.0</td>\n",
              "      <td>0.0</td>\n",
              "      <td>0.0</td>\n",
              "      <td>0.0</td>\n",
              "      <td>232.0</td>\n",
              "    </tr>\n",
              "    <tr>\n",
              "      <th>889</th>\n",
              "      <td>92.0</td>\n",
              "      <td>7</td>\n",
              "      <td>104</td>\n",
              "      <td>0</td>\n",
              "      <td>0</td>\n",
              "      <td>0</td>\n",
              "      <td>0</td>\n",
              "      <td>0</td>\n",
              "      <td>1</td>\n",
              "      <td>0</td>\n",
              "      <td>0</td>\n",
              "      <td>0</td>\n",
              "      <td>0</td>\n",
              "      <td>0</td>\n",
              "      <td>0</td>\n",
              "      <td>0</td>\n",
              "      <td>1</td>\n",
              "      <td>0</td>\n",
              "      <td>0</td>\n",
              "      <td>0</td>\n",
              "      <td>0.0</td>\n",
              "      <td>0.0</td>\n",
              "      <td>0.0</td>\n",
              "      <td>0.0</td>\n",
              "      <td>0.0</td>\n",
              "      <td>0.0</td>\n",
              "      <td>367.0</td>\n",
              "      <td>367.0</td>\n",
              "      <td>367.0</td>\n",
              "      <td>0.0</td>\n",
              "      <td>0.0</td>\n",
              "      <td>0.0</td>\n",
              "      <td>232.0</td>\n",
              "    </tr>\n",
              "    <tr>\n",
              "      <th>1210</th>\n",
              "      <td>40.0</td>\n",
              "      <td>190</td>\n",
              "      <td>120</td>\n",
              "      <td>1</td>\n",
              "      <td>0</td>\n",
              "      <td>0</td>\n",
              "      <td>0</td>\n",
              "      <td>0</td>\n",
              "      <td>0</td>\n",
              "      <td>0</td>\n",
              "      <td>0</td>\n",
              "      <td>0</td>\n",
              "      <td>1</td>\n",
              "      <td>1</td>\n",
              "      <td>0</td>\n",
              "      <td>0</td>\n",
              "      <td>0</td>\n",
              "      <td>0</td>\n",
              "      <td>1</td>\n",
              "      <td>0</td>\n",
              "      <td>0.0</td>\n",
              "      <td>0.0</td>\n",
              "      <td>0.0</td>\n",
              "      <td>0.0</td>\n",
              "      <td>0.0</td>\n",
              "      <td>0.0</td>\n",
              "      <td>8000.0</td>\n",
              "      <td>5000.0</td>\n",
              "      <td>367.0</td>\n",
              "      <td>0.0</td>\n",
              "      <td>0.0</td>\n",
              "      <td>6.0</td>\n",
              "      <td>124.0</td>\n",
              "    </tr>\n",
              "    <tr>\n",
              "      <th>720</th>\n",
              "      <td>63.0</td>\n",
              "      <td>104</td>\n",
              "      <td>82</td>\n",
              "      <td>1</td>\n",
              "      <td>0</td>\n",
              "      <td>0</td>\n",
              "      <td>0</td>\n",
              "      <td>0</td>\n",
              "      <td>0</td>\n",
              "      <td>1</td>\n",
              "      <td>0</td>\n",
              "      <td>1</td>\n",
              "      <td>0</td>\n",
              "      <td>0</td>\n",
              "      <td>0</td>\n",
              "      <td>0</td>\n",
              "      <td>0</td>\n",
              "      <td>0</td>\n",
              "      <td>0</td>\n",
              "      <td>1</td>\n",
              "      <td>0.0</td>\n",
              "      <td>0.0</td>\n",
              "      <td>0.0</td>\n",
              "      <td>0.0</td>\n",
              "      <td>0.0</td>\n",
              "      <td>0.0</td>\n",
              "      <td>338.0</td>\n",
              "      <td>367.0</td>\n",
              "      <td>956.0</td>\n",
              "      <td>0.0</td>\n",
              "      <td>0.0</td>\n",
              "      <td>0.0</td>\n",
              "      <td>232.0</td>\n",
              "    </tr>\n",
              "  </tbody>\n",
              "</table>\n",
              "</div>"
            ],
            "text/plain": [
              "      TOMATOMETER score  ...  director_facebook_likes\n",
              "70                 95.0  ...                    232.0\n",
              "75                 73.0  ...                    232.0\n",
              "889                92.0  ...                    232.0\n",
              "1210               40.0  ...                    124.0\n",
              "720                63.0  ...                    232.0\n",
              "\n",
              "[5 rows x 33 columns]"
            ]
          },
          "metadata": {
            "tags": []
          },
          "execution_count": 5
        }
      ]
    },
    {
      "cell_type": "markdown",
      "metadata": {
        "id": "yKTDtK4Lq_88"
      },
      "source": [
        "# Models"
      ]
    },
    {
      "cell_type": "code",
      "metadata": {
        "id": "sof2bnfHtUi6"
      },
      "source": [
        "def make_models():\n",
        "  \"\"\"Makes a dictionary of 5 untrained models\"\"\"\n",
        "  #IDK WHAT PARAMETERS TO PUT FOR THE TREES\n",
        "  return {\n",
        "      'LinReg': LinearRegression(),\n",
        "      'LassoCV': LassoCV(),\n",
        "      'RidgeCV': RidgeCV(),\n",
        "      'RF': RandomForestRegressor(),\n",
        "      'CART': DecisionTreeRegressor()\n",
        "  }\n",
        "\n",
        "  #'RF': RandomForestRegressor(max_features=0.2,bootstrap=True,n_estimators=50,random_state=3,max_depth=5)\n",
        "  #'CART': DecisionTreeRegressor(max_features=0.2,random_state=3,max_depth=5)"
      ],
      "execution_count": null,
      "outputs": []
    },
    {
      "cell_type": "markdown",
      "metadata": {
        "id": "Wis_cAPqFcka"
      },
      "source": [
        "Create a dataframe to keep track of all the models we train."
      ]
    },
    {
      "cell_type": "code",
      "metadata": {
        "id": "bEahKWWMyCJ6",
        "colab": {
          "base_uri": "https://localhost:8080/",
          "height": 1000
        },
        "outputId": "979cc1cc-a3ea-4a0f-e0a4-c014c33f3fd1"
      },
      "source": [
        "# Initialize a tuple of names for each model\n",
        "model_names = ('LinReg',  # Linear regression model\n",
        "               'LassoCV',  # Lasso regression model\n",
        "               'RidgeCV',  # Ridge regression model\n",
        "               'RF',  # Random forest classifier \n",
        "               'CART' #Decision tree classifier\n",
        "               )\n",
        "# Initialize a tuple of technique names\n",
        "engineering_techniques = ('Baseline',  # Set of baseline models\n",
        "                          'Scaling',  # Set of models trained with scaled data\n",
        "                          'Feature_Engineering',  # Set of models trained with engineered features\n",
        "                          'Feature_Engineering_overall', # trying\n",
        "                          'Feature_Selection',  # Set of models trained with \"selected\" features\n",
        "                          'Grid_Search',  # Set of models trained via grid search\n",
        "                          'Stacking',  # Set of stacked model \n",
        "                          'Bagging',   # A bagged model\n",
        "                          'Bagging_all',\n",
        "                          'Mutual_Regression (scaled)', # Set of models trained with features from MI using scaled data\n",
        "                          'Mutual_Regression' # Set of models trained with features from MI using normal data\n",
        "                          )\n",
        "\n",
        "# Initialize the multi indices of the `all_models` data frame\n",
        "df_indices = pd.MultiIndex.from_product([model_names, engineering_techniques], names=('model names', 'technique'))\n",
        "# Initialize the `all_models` data frame\n",
        "all_models = pd.DataFrame(index=df_indices, columns=['TrainScore', 'TestScore','Model'])\n",
        "all_models[['TrainScore', 'TestScore']] = all_models[['TrainScore', 'TestScore']].astype(float)\n",
        "all_models  # Initialized data frame only has NaNs, which is perfect!"
      ],
      "execution_count": null,
      "outputs": [
        {
          "output_type": "execute_result",
          "data": {
            "text/html": [
              "<div>\n",
              "<style scoped>\n",
              "    .dataframe tbody tr th:only-of-type {\n",
              "        vertical-align: middle;\n",
              "    }\n",
              "\n",
              "    .dataframe tbody tr th {\n",
              "        vertical-align: top;\n",
              "    }\n",
              "\n",
              "    .dataframe thead th {\n",
              "        text-align: right;\n",
              "    }\n",
              "</style>\n",
              "<table border=\"1\" class=\"dataframe\">\n",
              "  <thead>\n",
              "    <tr style=\"text-align: right;\">\n",
              "      <th></th>\n",
              "      <th></th>\n",
              "      <th>TrainScore</th>\n",
              "      <th>TestScore</th>\n",
              "      <th>Model</th>\n",
              "    </tr>\n",
              "    <tr>\n",
              "      <th>model names</th>\n",
              "      <th>technique</th>\n",
              "      <th></th>\n",
              "      <th></th>\n",
              "      <th></th>\n",
              "    </tr>\n",
              "  </thead>\n",
              "  <tbody>\n",
              "    <tr>\n",
              "      <th rowspan=\"11\" valign=\"top\">LinReg</th>\n",
              "      <th>Baseline</th>\n",
              "      <td>NaN</td>\n",
              "      <td>NaN</td>\n",
              "      <td>NaN</td>\n",
              "    </tr>\n",
              "    <tr>\n",
              "      <th>Scaling</th>\n",
              "      <td>NaN</td>\n",
              "      <td>NaN</td>\n",
              "      <td>NaN</td>\n",
              "    </tr>\n",
              "    <tr>\n",
              "      <th>Feature_Engineering</th>\n",
              "      <td>NaN</td>\n",
              "      <td>NaN</td>\n",
              "      <td>NaN</td>\n",
              "    </tr>\n",
              "    <tr>\n",
              "      <th>Feature_Engineering_overall</th>\n",
              "      <td>NaN</td>\n",
              "      <td>NaN</td>\n",
              "      <td>NaN</td>\n",
              "    </tr>\n",
              "    <tr>\n",
              "      <th>Feature_Selection</th>\n",
              "      <td>NaN</td>\n",
              "      <td>NaN</td>\n",
              "      <td>NaN</td>\n",
              "    </tr>\n",
              "    <tr>\n",
              "      <th>Grid_Search</th>\n",
              "      <td>NaN</td>\n",
              "      <td>NaN</td>\n",
              "      <td>NaN</td>\n",
              "    </tr>\n",
              "    <tr>\n",
              "      <th>Stacking</th>\n",
              "      <td>NaN</td>\n",
              "      <td>NaN</td>\n",
              "      <td>NaN</td>\n",
              "    </tr>\n",
              "    <tr>\n",
              "      <th>Bagging</th>\n",
              "      <td>NaN</td>\n",
              "      <td>NaN</td>\n",
              "      <td>NaN</td>\n",
              "    </tr>\n",
              "    <tr>\n",
              "      <th>Bagging_all</th>\n",
              "      <td>NaN</td>\n",
              "      <td>NaN</td>\n",
              "      <td>NaN</td>\n",
              "    </tr>\n",
              "    <tr>\n",
              "      <th>Mutual_Regression (scaled)</th>\n",
              "      <td>NaN</td>\n",
              "      <td>NaN</td>\n",
              "      <td>NaN</td>\n",
              "    </tr>\n",
              "    <tr>\n",
              "      <th>Mutual_Regression</th>\n",
              "      <td>NaN</td>\n",
              "      <td>NaN</td>\n",
              "      <td>NaN</td>\n",
              "    </tr>\n",
              "    <tr>\n",
              "      <th rowspan=\"11\" valign=\"top\">LassoCV</th>\n",
              "      <th>Baseline</th>\n",
              "      <td>NaN</td>\n",
              "      <td>NaN</td>\n",
              "      <td>NaN</td>\n",
              "    </tr>\n",
              "    <tr>\n",
              "      <th>Scaling</th>\n",
              "      <td>NaN</td>\n",
              "      <td>NaN</td>\n",
              "      <td>NaN</td>\n",
              "    </tr>\n",
              "    <tr>\n",
              "      <th>Feature_Engineering</th>\n",
              "      <td>NaN</td>\n",
              "      <td>NaN</td>\n",
              "      <td>NaN</td>\n",
              "    </tr>\n",
              "    <tr>\n",
              "      <th>Feature_Engineering_overall</th>\n",
              "      <td>NaN</td>\n",
              "      <td>NaN</td>\n",
              "      <td>NaN</td>\n",
              "    </tr>\n",
              "    <tr>\n",
              "      <th>Feature_Selection</th>\n",
              "      <td>NaN</td>\n",
              "      <td>NaN</td>\n",
              "      <td>NaN</td>\n",
              "    </tr>\n",
              "    <tr>\n",
              "      <th>Grid_Search</th>\n",
              "      <td>NaN</td>\n",
              "      <td>NaN</td>\n",
              "      <td>NaN</td>\n",
              "    </tr>\n",
              "    <tr>\n",
              "      <th>Stacking</th>\n",
              "      <td>NaN</td>\n",
              "      <td>NaN</td>\n",
              "      <td>NaN</td>\n",
              "    </tr>\n",
              "    <tr>\n",
              "      <th>Bagging</th>\n",
              "      <td>NaN</td>\n",
              "      <td>NaN</td>\n",
              "      <td>NaN</td>\n",
              "    </tr>\n",
              "    <tr>\n",
              "      <th>Bagging_all</th>\n",
              "      <td>NaN</td>\n",
              "      <td>NaN</td>\n",
              "      <td>NaN</td>\n",
              "    </tr>\n",
              "    <tr>\n",
              "      <th>Mutual_Regression (scaled)</th>\n",
              "      <td>NaN</td>\n",
              "      <td>NaN</td>\n",
              "      <td>NaN</td>\n",
              "    </tr>\n",
              "    <tr>\n",
              "      <th>Mutual_Regression</th>\n",
              "      <td>NaN</td>\n",
              "      <td>NaN</td>\n",
              "      <td>NaN</td>\n",
              "    </tr>\n",
              "    <tr>\n",
              "      <th rowspan=\"11\" valign=\"top\">RidgeCV</th>\n",
              "      <th>Baseline</th>\n",
              "      <td>NaN</td>\n",
              "      <td>NaN</td>\n",
              "      <td>NaN</td>\n",
              "    </tr>\n",
              "    <tr>\n",
              "      <th>Scaling</th>\n",
              "      <td>NaN</td>\n",
              "      <td>NaN</td>\n",
              "      <td>NaN</td>\n",
              "    </tr>\n",
              "    <tr>\n",
              "      <th>Feature_Engineering</th>\n",
              "      <td>NaN</td>\n",
              "      <td>NaN</td>\n",
              "      <td>NaN</td>\n",
              "    </tr>\n",
              "    <tr>\n",
              "      <th>Feature_Engineering_overall</th>\n",
              "      <td>NaN</td>\n",
              "      <td>NaN</td>\n",
              "      <td>NaN</td>\n",
              "    </tr>\n",
              "    <tr>\n",
              "      <th>Feature_Selection</th>\n",
              "      <td>NaN</td>\n",
              "      <td>NaN</td>\n",
              "      <td>NaN</td>\n",
              "    </tr>\n",
              "    <tr>\n",
              "      <th>Grid_Search</th>\n",
              "      <td>NaN</td>\n",
              "      <td>NaN</td>\n",
              "      <td>NaN</td>\n",
              "    </tr>\n",
              "    <tr>\n",
              "      <th>Stacking</th>\n",
              "      <td>NaN</td>\n",
              "      <td>NaN</td>\n",
              "      <td>NaN</td>\n",
              "    </tr>\n",
              "    <tr>\n",
              "      <th>Bagging</th>\n",
              "      <td>NaN</td>\n",
              "      <td>NaN</td>\n",
              "      <td>NaN</td>\n",
              "    </tr>\n",
              "    <tr>\n",
              "      <th>Bagging_all</th>\n",
              "      <td>NaN</td>\n",
              "      <td>NaN</td>\n",
              "      <td>NaN</td>\n",
              "    </tr>\n",
              "    <tr>\n",
              "      <th>Mutual_Regression (scaled)</th>\n",
              "      <td>NaN</td>\n",
              "      <td>NaN</td>\n",
              "      <td>NaN</td>\n",
              "    </tr>\n",
              "    <tr>\n",
              "      <th>Mutual_Regression</th>\n",
              "      <td>NaN</td>\n",
              "      <td>NaN</td>\n",
              "      <td>NaN</td>\n",
              "    </tr>\n",
              "    <tr>\n",
              "      <th rowspan=\"11\" valign=\"top\">RF</th>\n",
              "      <th>Baseline</th>\n",
              "      <td>NaN</td>\n",
              "      <td>NaN</td>\n",
              "      <td>NaN</td>\n",
              "    </tr>\n",
              "    <tr>\n",
              "      <th>Scaling</th>\n",
              "      <td>NaN</td>\n",
              "      <td>NaN</td>\n",
              "      <td>NaN</td>\n",
              "    </tr>\n",
              "    <tr>\n",
              "      <th>Feature_Engineering</th>\n",
              "      <td>NaN</td>\n",
              "      <td>NaN</td>\n",
              "      <td>NaN</td>\n",
              "    </tr>\n",
              "    <tr>\n",
              "      <th>Feature_Engineering_overall</th>\n",
              "      <td>NaN</td>\n",
              "      <td>NaN</td>\n",
              "      <td>NaN</td>\n",
              "    </tr>\n",
              "    <tr>\n",
              "      <th>Feature_Selection</th>\n",
              "      <td>NaN</td>\n",
              "      <td>NaN</td>\n",
              "      <td>NaN</td>\n",
              "    </tr>\n",
              "    <tr>\n",
              "      <th>Grid_Search</th>\n",
              "      <td>NaN</td>\n",
              "      <td>NaN</td>\n",
              "      <td>NaN</td>\n",
              "    </tr>\n",
              "    <tr>\n",
              "      <th>Stacking</th>\n",
              "      <td>NaN</td>\n",
              "      <td>NaN</td>\n",
              "      <td>NaN</td>\n",
              "    </tr>\n",
              "    <tr>\n",
              "      <th>Bagging</th>\n",
              "      <td>NaN</td>\n",
              "      <td>NaN</td>\n",
              "      <td>NaN</td>\n",
              "    </tr>\n",
              "    <tr>\n",
              "      <th>Bagging_all</th>\n",
              "      <td>NaN</td>\n",
              "      <td>NaN</td>\n",
              "      <td>NaN</td>\n",
              "    </tr>\n",
              "    <tr>\n",
              "      <th>Mutual_Regression (scaled)</th>\n",
              "      <td>NaN</td>\n",
              "      <td>NaN</td>\n",
              "      <td>NaN</td>\n",
              "    </tr>\n",
              "    <tr>\n",
              "      <th>Mutual_Regression</th>\n",
              "      <td>NaN</td>\n",
              "      <td>NaN</td>\n",
              "      <td>NaN</td>\n",
              "    </tr>\n",
              "    <tr>\n",
              "      <th rowspan=\"11\" valign=\"top\">CART</th>\n",
              "      <th>Baseline</th>\n",
              "      <td>NaN</td>\n",
              "      <td>NaN</td>\n",
              "      <td>NaN</td>\n",
              "    </tr>\n",
              "    <tr>\n",
              "      <th>Scaling</th>\n",
              "      <td>NaN</td>\n",
              "      <td>NaN</td>\n",
              "      <td>NaN</td>\n",
              "    </tr>\n",
              "    <tr>\n",
              "      <th>Feature_Engineering</th>\n",
              "      <td>NaN</td>\n",
              "      <td>NaN</td>\n",
              "      <td>NaN</td>\n",
              "    </tr>\n",
              "    <tr>\n",
              "      <th>Feature_Engineering_overall</th>\n",
              "      <td>NaN</td>\n",
              "      <td>NaN</td>\n",
              "      <td>NaN</td>\n",
              "    </tr>\n",
              "    <tr>\n",
              "      <th>Feature_Selection</th>\n",
              "      <td>NaN</td>\n",
              "      <td>NaN</td>\n",
              "      <td>NaN</td>\n",
              "    </tr>\n",
              "    <tr>\n",
              "      <th>Grid_Search</th>\n",
              "      <td>NaN</td>\n",
              "      <td>NaN</td>\n",
              "      <td>NaN</td>\n",
              "    </tr>\n",
              "    <tr>\n",
              "      <th>Stacking</th>\n",
              "      <td>NaN</td>\n",
              "      <td>NaN</td>\n",
              "      <td>NaN</td>\n",
              "    </tr>\n",
              "    <tr>\n",
              "      <th>Bagging</th>\n",
              "      <td>NaN</td>\n",
              "      <td>NaN</td>\n",
              "      <td>NaN</td>\n",
              "    </tr>\n",
              "    <tr>\n",
              "      <th>Bagging_all</th>\n",
              "      <td>NaN</td>\n",
              "      <td>NaN</td>\n",
              "      <td>NaN</td>\n",
              "    </tr>\n",
              "    <tr>\n",
              "      <th>Mutual_Regression (scaled)</th>\n",
              "      <td>NaN</td>\n",
              "      <td>NaN</td>\n",
              "      <td>NaN</td>\n",
              "    </tr>\n",
              "    <tr>\n",
              "      <th>Mutual_Regression</th>\n",
              "      <td>NaN</td>\n",
              "      <td>NaN</td>\n",
              "      <td>NaN</td>\n",
              "    </tr>\n",
              "  </tbody>\n",
              "</table>\n",
              "</div>"
            ],
            "text/plain": [
              "                                         TrainScore  TestScore Model\n",
              "model names technique                                               \n",
              "LinReg      Baseline                            NaN        NaN   NaN\n",
              "            Scaling                             NaN        NaN   NaN\n",
              "            Feature_Engineering                 NaN        NaN   NaN\n",
              "            Feature_Engineering_overall         NaN        NaN   NaN\n",
              "            Feature_Selection                   NaN        NaN   NaN\n",
              "            Grid_Search                         NaN        NaN   NaN\n",
              "            Stacking                            NaN        NaN   NaN\n",
              "            Bagging                             NaN        NaN   NaN\n",
              "            Bagging_all                         NaN        NaN   NaN\n",
              "            Mutual_Regression (scaled)          NaN        NaN   NaN\n",
              "            Mutual_Regression                   NaN        NaN   NaN\n",
              "LassoCV     Baseline                            NaN        NaN   NaN\n",
              "            Scaling                             NaN        NaN   NaN\n",
              "            Feature_Engineering                 NaN        NaN   NaN\n",
              "            Feature_Engineering_overall         NaN        NaN   NaN\n",
              "            Feature_Selection                   NaN        NaN   NaN\n",
              "            Grid_Search                         NaN        NaN   NaN\n",
              "            Stacking                            NaN        NaN   NaN\n",
              "            Bagging                             NaN        NaN   NaN\n",
              "            Bagging_all                         NaN        NaN   NaN\n",
              "            Mutual_Regression (scaled)          NaN        NaN   NaN\n",
              "            Mutual_Regression                   NaN        NaN   NaN\n",
              "RidgeCV     Baseline                            NaN        NaN   NaN\n",
              "            Scaling                             NaN        NaN   NaN\n",
              "            Feature_Engineering                 NaN        NaN   NaN\n",
              "            Feature_Engineering_overall         NaN        NaN   NaN\n",
              "            Feature_Selection                   NaN        NaN   NaN\n",
              "            Grid_Search                         NaN        NaN   NaN\n",
              "            Stacking                            NaN        NaN   NaN\n",
              "            Bagging                             NaN        NaN   NaN\n",
              "            Bagging_all                         NaN        NaN   NaN\n",
              "            Mutual_Regression (scaled)          NaN        NaN   NaN\n",
              "            Mutual_Regression                   NaN        NaN   NaN\n",
              "RF          Baseline                            NaN        NaN   NaN\n",
              "            Scaling                             NaN        NaN   NaN\n",
              "            Feature_Engineering                 NaN        NaN   NaN\n",
              "            Feature_Engineering_overall         NaN        NaN   NaN\n",
              "            Feature_Selection                   NaN        NaN   NaN\n",
              "            Grid_Search                         NaN        NaN   NaN\n",
              "            Stacking                            NaN        NaN   NaN\n",
              "            Bagging                             NaN        NaN   NaN\n",
              "            Bagging_all                         NaN        NaN   NaN\n",
              "            Mutual_Regression (scaled)          NaN        NaN   NaN\n",
              "            Mutual_Regression                   NaN        NaN   NaN\n",
              "CART        Baseline                            NaN        NaN   NaN\n",
              "            Scaling                             NaN        NaN   NaN\n",
              "            Feature_Engineering                 NaN        NaN   NaN\n",
              "            Feature_Engineering_overall         NaN        NaN   NaN\n",
              "            Feature_Selection                   NaN        NaN   NaN\n",
              "            Grid_Search                         NaN        NaN   NaN\n",
              "            Stacking                            NaN        NaN   NaN\n",
              "            Bagging                             NaN        NaN   NaN\n",
              "            Bagging_all                         NaN        NaN   NaN\n",
              "            Mutual_Regression (scaled)          NaN        NaN   NaN\n",
              "            Mutual_Regression                   NaN        NaN   NaN"
            ]
          },
          "metadata": {
            "tags": []
          },
          "execution_count": 7
        }
      ]
    },
    {
      "cell_type": "markdown",
      "metadata": {
        "id": "A-bquQgrFUMm"
      },
      "source": [
        "Define a function to fit and score all models and update the all_models dataframe"
      ]
    },
    {
      "cell_type": "code",
      "metadata": {
        "id": "YhU64uun2lWj"
      },
      "source": [
        "def fit_and_score_model(all_models, stage_name, X_train, X_out_of_sample, y_train, y_out_of_sample):\n",
        "    \"\"\"Fits the models that are inialized by models_dict on the X_train and y_train\n",
        "    data, and evalautes the model on the out-of-sample data X_out_of_sample and y_out_of_sample\"\"\"\n",
        "    \n",
        "    # Make a dictionary of models\n",
        "    models_dict = make_models()\n",
        "\n",
        "    # Loop through each model in model_dict\n",
        "    for model_name in models_dict:\n",
        "        model = models_dict[model_name]\n",
        "\n",
        "        # fit the model\n",
        "        model.fit(X_train,y_train)\n",
        "        train_score = model.score(X_train,y_train)\n",
        "        test_score = model.score(X_out_of_sample, y_out_of_sample)\n",
        "\n",
        "\n",
        "        # -------------------------------------------------------------------------\n",
        "        print(f'{model_name} achieved a train score of {train_score:.3f} and test score of {test_score:.3f}')\n",
        "        \n",
        "        all_models.loc[model_name, stage_name] = (train_score, test_score, model)\n",
        "\n",
        "    return all_models\n"
      ],
      "execution_count": null,
      "outputs": []
    },
    {
      "cell_type": "markdown",
      "metadata": {
        "id": "dxk-_uUsFFlB"
      },
      "source": [
        "Define a method to just fit and score a single model and return the train and test score. This can be used if you just want to see performance and do not want to add to all_models just yet."
      ]
    },
    {
      "cell_type": "code",
      "metadata": {
        "id": "ZPvgGzfWCXfY"
      },
      "source": [
        "def fit_score_single_model (mdl,mdl_name,X_train, X_out_of_sample, y_train, y_out_of_sample):\n",
        "  # fit the model\n",
        "  mdl.fit(X_train,y_train)\n",
        "  train_score = mdl.score(X_train,y_train)\n",
        "  test_score = mdl.score(X_out_of_sample, y_out_of_sample)\n",
        "  print(f'{mdl_name} achieved a train score of {train_score:.3f} and test score of {test_score:.3f}')\n",
        "  return train_score, test_score"
      ],
      "execution_count": null,
      "outputs": []
    },
    {
      "cell_type": "markdown",
      "metadata": {
        "id": "Y10xaNngFRAA"
      },
      "source": [
        "Define a function to compare model performance"
      ]
    },
    {
      "cell_type": "code",
      "metadata": {
        "id": "cEitMK3K-X2Y"
      },
      "source": [
        "def compare_models(technique_name):\n",
        "  \"\"\"Prints out the average and biggest improvement observed between the \n",
        "  models trained with technique_name and the Baseline models\"\"\"\n",
        "\n",
        "  # Evaluate score differences\n",
        "  test_score_differences = (all_models.loc[:, technique_name, :].TestScore - all_models.loc[:, 'Baseline', :].TestScore)\n",
        "\n",
        "  # Get the average and biggest score improvement\n",
        "  mean_score_difference = test_score_differences.mean()\n",
        "  most_score_improvement = test_score_differences.max()\n",
        "\n",
        "  print(f'On average, scores improved by {mean_score_difference:.2f}, and the most improvement was {most_score_improvement:.2f}')\n",
        "\n"
      ],
      "execution_count": null,
      "outputs": []
    },
    {
      "cell_type": "markdown",
      "metadata": {
        "id": "ZuUe4_TQIcLB"
      },
      "source": [
        "## Model Performance Baseline"
      ]
    },
    {
      "cell_type": "code",
      "metadata": {
        "id": "0-ORA7Q9Id-u",
        "colab": {
          "base_uri": "https://localhost:8080/",
          "height": 315
        },
        "outputId": "ba546d18-9957-4f41-f8ff-2f4330211d3e"
      },
      "source": [
        "all_models = fit_and_score_model(all_models, 'Baseline', X_train, X_val, y_train, y_val)\n",
        "all_models.loc[:, 'Baseline', :].head()"
      ],
      "execution_count": null,
      "outputs": [
        {
          "output_type": "stream",
          "text": [
            "LinReg achieved a train score of 0.368 and test score of 0.371\n",
            "LassoCV achieved a train score of 0.339 and test score of 0.349\n",
            "RidgeCV achieved a train score of 0.366 and test score of 0.375\n",
            "RF achieved a train score of 0.903 and test score of 0.340\n",
            "CART achieved a train score of 1.000 and test score of -0.346\n"
          ],
          "name": "stdout"
        },
        {
          "output_type": "execute_result",
          "data": {
            "text/html": [
              "<div>\n",
              "<style scoped>\n",
              "    .dataframe tbody tr th:only-of-type {\n",
              "        vertical-align: middle;\n",
              "    }\n",
              "\n",
              "    .dataframe tbody tr th {\n",
              "        vertical-align: top;\n",
              "    }\n",
              "\n",
              "    .dataframe thead th {\n",
              "        text-align: right;\n",
              "    }\n",
              "</style>\n",
              "<table border=\"1\" class=\"dataframe\">\n",
              "  <thead>\n",
              "    <tr style=\"text-align: right;\">\n",
              "      <th></th>\n",
              "      <th>TrainScore</th>\n",
              "      <th>TestScore</th>\n",
              "      <th>Model</th>\n",
              "    </tr>\n",
              "    <tr>\n",
              "      <th>model names</th>\n",
              "      <th></th>\n",
              "      <th></th>\n",
              "      <th></th>\n",
              "    </tr>\n",
              "  </thead>\n",
              "  <tbody>\n",
              "    <tr>\n",
              "      <th>LinReg</th>\n",
              "      <td>0.367663</td>\n",
              "      <td>0.371280</td>\n",
              "      <td>LinearRegression(copy_X=True, fit_intercept=Tr...</td>\n",
              "    </tr>\n",
              "    <tr>\n",
              "      <th>LassoCV</th>\n",
              "      <td>0.338874</td>\n",
              "      <td>0.348774</td>\n",
              "      <td>LassoCV(alphas=None, copy_X=True, cv=None, eps...</td>\n",
              "    </tr>\n",
              "    <tr>\n",
              "      <th>RidgeCV</th>\n",
              "      <td>0.366021</td>\n",
              "      <td>0.374853</td>\n",
              "      <td>RidgeCV(alphas=array([ 0.1,  1. , 10. ]), cv=N...</td>\n",
              "    </tr>\n",
              "    <tr>\n",
              "      <th>RF</th>\n",
              "      <td>0.902733</td>\n",
              "      <td>0.339792</td>\n",
              "      <td>(DecisionTreeRegressor(ccp_alpha=0.0, criterio...</td>\n",
              "    </tr>\n",
              "    <tr>\n",
              "      <th>CART</th>\n",
              "      <td>1.000000</td>\n",
              "      <td>-0.346405</td>\n",
              "      <td>DecisionTreeRegressor(ccp_alpha=0.0, criterion...</td>\n",
              "    </tr>\n",
              "  </tbody>\n",
              "</table>\n",
              "</div>"
            ],
            "text/plain": [
              "             TrainScore  ...                                              Model\n",
              "model names              ...                                                   \n",
              "LinReg         0.367663  ...  LinearRegression(copy_X=True, fit_intercept=Tr...\n",
              "LassoCV        0.338874  ...  LassoCV(alphas=None, copy_X=True, cv=None, eps...\n",
              "RidgeCV        0.366021  ...  RidgeCV(alphas=array([ 0.1,  1. , 10. ]), cv=N...\n",
              "RF             0.902733  ...  (DecisionTreeRegressor(ccp_alpha=0.0, criterio...\n",
              "CART           1.000000  ...  DecisionTreeRegressor(ccp_alpha=0.0, criterion...\n",
              "\n",
              "[5 rows x 3 columns]"
            ]
          },
          "metadata": {
            "tags": []
          },
          "execution_count": 11
        }
      ]
    },
    {
      "cell_type": "markdown",
      "metadata": {
        "id": "vkG1Takb5JHJ"
      },
      "source": [
        "# Data Scaling"
      ]
    },
    {
      "cell_type": "markdown",
      "metadata": {
        "id": "YDsBJJQNFzMv"
      },
      "source": [
        "Define a function to standardize the data. Note: categorigal features should be left alone."
      ]
    },
    {
      "cell_type": "code",
      "metadata": {
        "id": "5SZSiQgA5MnW",
        "colab": {
          "base_uri": "https://localhost:8080/",
          "height": 235
        },
        "outputId": "74851d82-d1ba-493e-db55-af0f3d961c9f"
      },
      "source": [
        "#from sklearn.preprocessing import StandardScaler\n",
        "\n",
        "def standardize_data(X_train, X_out_of_sample,y_train,y_out_of_sample):\n",
        "    \"\"\"Standardizes all of the data in X_train and X_out_of_sample. The mean and\n",
        "    standard diviation of each feature (i.e., each column) from the X_train\n",
        "    data is used to standarize both the X_train and X_out_of sample.\"\"\"\n",
        "    X_train_c = X_train.copy()\n",
        "    X_out_of_sample_c = X_out_of_sample.copy()\n",
        "    y_train_c = y_train.copy()\n",
        "    y_out_of_sample_c = y_out_of_sample.copy()\n",
        "\n",
        "\n",
        "    # Initialize data frame for scaled data\n",
        "    df_train_standarized = pd.concat([y_train_c,X_train_c.iloc[:,0:3], X_train_c.iloc[:,21:]],axis =1 ) \n",
        "    df_out_of_sample_standarized = pd.concat([y_out_of_sample_c,X_out_of_sample_c.iloc[:,0:3], X_out_of_sample_c.iloc[:,21:]],axis =1)\n",
        "\n",
        "    # Define scaling function\n",
        "    scaler = StandardScaler()\n",
        "\n",
        "    # Scale the features      \n",
        "    scaler.fit(df_train_standarized)\n",
        "\n",
        "    # Transform the features\n",
        "    train_standarized = scaler.transform(df_train_standarized)\n",
        "    out_of_sample_standarized = scaler.transform(df_out_of_sample_standarized)\n",
        "\n",
        "    # Convert this to dataframe again\n",
        "    train_standarized = pd.DataFrame(train_standarized,columns = df_train_standarized.columns)\n",
        "    out_of_sample_standarized = pd.DataFrame(out_of_sample_standarized,columns = df_out_of_sample_standarized.columns)\n",
        "\n",
        "    X_train_c.reset_index(inplace=True)\n",
        "    X_out_of_sample_c.reset_index(inplace=True)\n",
        "\n",
        "\n",
        "\n",
        "    #split the data and re concat them accordingly since we dont scale binary\n",
        "    X_train_standarized = pd.concat([train_standarized.iloc[:,1:],X_train_c.iloc[:,4:20]],axis = 1)\n",
        "    X_out_of_sample_standarized = pd.concat([out_of_sample_standarized.iloc[:,1:],X_out_of_sample_c.iloc[:,4:20]],axis = 1)\n",
        "\n",
        "    y_train_standarized = train_standarized.iloc[:,0]\n",
        "    y_out_of_sample_standarized = out_of_sample_standarized.iloc[:,0]\n",
        "\n",
        "\n",
        "    return X_train_standarized, X_out_of_sample_standarized,y_train_standarized,y_out_of_sample_standarized, scaler\n",
        "\n",
        "# Make new data that is scaled\"\n",
        "X_train_scaled, X_val_scaled, y_train_scaled,y_val_scaled, scaler = standardize_data(X_train, X_val,y_train,y_val)\n",
        "X_train_scaled.head()"
      ],
      "execution_count": null,
      "outputs": [
        {
          "output_type": "execute_result",
          "data": {
            "text/html": [
              "<div>\n",
              "<style scoped>\n",
              "    .dataframe tbody tr th:only-of-type {\n",
              "        vertical-align: middle;\n",
              "    }\n",
              "\n",
              "    .dataframe tbody tr th {\n",
              "        vertical-align: top;\n",
              "    }\n",
              "\n",
              "    .dataframe thead th {\n",
              "        text-align: right;\n",
              "    }\n",
              "</style>\n",
              "<table border=\"1\" class=\"dataframe\">\n",
              "  <thead>\n",
              "    <tr style=\"text-align: right;\">\n",
              "      <th></th>\n",
              "      <th>TOMATOMETER score</th>\n",
              "      <th>TOMATOMETER Count</th>\n",
              "      <th>Runtime</th>\n",
              "      <th>cast1_oscars</th>\n",
              "      <th>cast2_oscar_nom</th>\n",
              "      <th>cast2_oscars</th>\n",
              "      <th>cast3_oscar_nom</th>\n",
              "      <th>cast3_oscars</th>\n",
              "      <th>cast1_FB_likes</th>\n",
              "      <th>cast2_FB_likes</th>\n",
              "      <th>cast3_FB_likes</th>\n",
              "      <th>dir_oscar_nom</th>\n",
              "      <th>dir_oscars</th>\n",
              "      <th>director_awards</th>\n",
              "      <th>director_facebook_likes</th>\n",
              "      <th>Genre_Action</th>\n",
              "      <th>Genre_Art&amp;Foreign</th>\n",
              "      <th>Genre_Classics</th>\n",
              "      <th>Genre_Comedy</th>\n",
              "      <th>Genre_Documentary</th>\n",
              "      <th>Genre_Drama</th>\n",
              "      <th>Genre_Horror</th>\n",
              "      <th>Genre_Kids&amp;Family</th>\n",
              "      <th>Genre_Mystery</th>\n",
              "      <th>Genre_Romance</th>\n",
              "      <th>Genre_SciFi</th>\n",
              "      <th>Rating_G</th>\n",
              "      <th>Rating_NC17</th>\n",
              "      <th>Rating_NR</th>\n",
              "      <th>Rating_PG</th>\n",
              "      <th>Rating_PG-13</th>\n",
              "    </tr>\n",
              "  </thead>\n",
              "  <tbody>\n",
              "    <tr>\n",
              "      <th>0</th>\n",
              "      <td>1.152374</td>\n",
              "      <td>-0.651147</td>\n",
              "      <td>-1.967950</td>\n",
              "      <td>-0.292794</td>\n",
              "      <td>-0.270689</td>\n",
              "      <td>-0.221204</td>\n",
              "      <td>-0.293281</td>\n",
              "      <td>-0.201318</td>\n",
              "      <td>-0.310529</td>\n",
              "      <td>-0.218702</td>\n",
              "      <td>-0.165692</td>\n",
              "      <td>-0.177007</td>\n",
              "      <td>-0.123257</td>\n",
              "      <td>-0.249100</td>\n",
              "      <td>-0.061326</td>\n",
              "      <td>0</td>\n",
              "      <td>0</td>\n",
              "      <td>0</td>\n",
              "      <td>0</td>\n",
              "      <td>1</td>\n",
              "      <td>0</td>\n",
              "      <td>0</td>\n",
              "      <td>0</td>\n",
              "      <td>0</td>\n",
              "      <td>0</td>\n",
              "      <td>0</td>\n",
              "      <td>0</td>\n",
              "      <td>0</td>\n",
              "      <td>1</td>\n",
              "      <td>0</td>\n",
              "      <td>0</td>\n",
              "    </tr>\n",
              "    <tr>\n",
              "      <th>1</th>\n",
              "      <td>0.385815</td>\n",
              "      <td>-0.691179</td>\n",
              "      <td>-1.904327</td>\n",
              "      <td>-0.292794</td>\n",
              "      <td>-0.270689</td>\n",
              "      <td>-0.221204</td>\n",
              "      <td>-0.293281</td>\n",
              "      <td>-0.201318</td>\n",
              "      <td>-0.332887</td>\n",
              "      <td>-0.218702</td>\n",
              "      <td>-0.165692</td>\n",
              "      <td>-0.177007</td>\n",
              "      <td>-0.123257</td>\n",
              "      <td>-0.249100</td>\n",
              "      <td>-0.061326</td>\n",
              "      <td>0</td>\n",
              "      <td>1</td>\n",
              "      <td>0</td>\n",
              "      <td>0</td>\n",
              "      <td>0</td>\n",
              "      <td>1</td>\n",
              "      <td>1</td>\n",
              "      <td>0</td>\n",
              "      <td>1</td>\n",
              "      <td>0</td>\n",
              "      <td>0</td>\n",
              "      <td>0</td>\n",
              "      <td>0</td>\n",
              "      <td>1</td>\n",
              "      <td>0</td>\n",
              "      <td>0</td>\n",
              "    </tr>\n",
              "    <tr>\n",
              "      <th>2</th>\n",
              "      <td>1.047843</td>\n",
              "      <td>-0.771243</td>\n",
              "      <td>0.195213</td>\n",
              "      <td>-0.292794</td>\n",
              "      <td>-0.270689</td>\n",
              "      <td>-0.221204</td>\n",
              "      <td>-0.293281</td>\n",
              "      <td>-0.201318</td>\n",
              "      <td>-0.332887</td>\n",
              "      <td>-0.218702</td>\n",
              "      <td>-0.165692</td>\n",
              "      <td>-0.177007</td>\n",
              "      <td>-0.123257</td>\n",
              "      <td>-0.249100</td>\n",
              "      <td>-0.061326</td>\n",
              "      <td>0</td>\n",
              "      <td>0</td>\n",
              "      <td>0</td>\n",
              "      <td>0</td>\n",
              "      <td>0</td>\n",
              "      <td>1</td>\n",
              "      <td>0</td>\n",
              "      <td>0</td>\n",
              "      <td>0</td>\n",
              "      <td>0</td>\n",
              "      <td>0</td>\n",
              "      <td>0</td>\n",
              "      <td>0</td>\n",
              "      <td>1</td>\n",
              "      <td>0</td>\n",
              "      <td>0</td>\n",
              "    </tr>\n",
              "    <tr>\n",
              "      <th>3</th>\n",
              "      <td>-0.764022</td>\n",
              "      <td>1.060220</td>\n",
              "      <td>1.213172</td>\n",
              "      <td>-0.292794</td>\n",
              "      <td>-0.270689</td>\n",
              "      <td>-0.221204</td>\n",
              "      <td>-0.293281</td>\n",
              "      <td>-0.201318</td>\n",
              "      <td>1.077507</td>\n",
              "      <td>1.139184</td>\n",
              "      <td>-0.165692</td>\n",
              "      <td>-0.177007</td>\n",
              "      <td>-0.123257</td>\n",
              "      <td>-0.052622</td>\n",
              "      <td>-0.148024</td>\n",
              "      <td>1</td>\n",
              "      <td>0</td>\n",
              "      <td>0</td>\n",
              "      <td>0</td>\n",
              "      <td>0</td>\n",
              "      <td>0</td>\n",
              "      <td>0</td>\n",
              "      <td>0</td>\n",
              "      <td>0</td>\n",
              "      <td>1</td>\n",
              "      <td>1</td>\n",
              "      <td>0</td>\n",
              "      <td>0</td>\n",
              "      <td>0</td>\n",
              "      <td>0</td>\n",
              "      <td>1</td>\n",
              "    </tr>\n",
              "    <tr>\n",
              "      <th>4</th>\n",
              "      <td>0.037380</td>\n",
              "      <td>0.199532</td>\n",
              "      <td>-1.204480</td>\n",
              "      <td>-0.292794</td>\n",
              "      <td>-0.270689</td>\n",
              "      <td>-0.221204</td>\n",
              "      <td>-0.293281</td>\n",
              "      <td>-0.201318</td>\n",
              "      <td>-0.338245</td>\n",
              "      <td>-0.218702</td>\n",
              "      <td>0.026479</td>\n",
              "      <td>-0.177007</td>\n",
              "      <td>-0.123257</td>\n",
              "      <td>-0.249100</td>\n",
              "      <td>-0.061326</td>\n",
              "      <td>1</td>\n",
              "      <td>0</td>\n",
              "      <td>0</td>\n",
              "      <td>0</td>\n",
              "      <td>0</td>\n",
              "      <td>0</td>\n",
              "      <td>1</td>\n",
              "      <td>0</td>\n",
              "      <td>1</td>\n",
              "      <td>0</td>\n",
              "      <td>0</td>\n",
              "      <td>0</td>\n",
              "      <td>0</td>\n",
              "      <td>0</td>\n",
              "      <td>0</td>\n",
              "      <td>0</td>\n",
              "    </tr>\n",
              "  </tbody>\n",
              "</table>\n",
              "</div>"
            ],
            "text/plain": [
              "   TOMATOMETER score  TOMATOMETER Count  ...  Rating_PG  Rating_PG-13\n",
              "0           1.152374          -0.651147  ...          0             0\n",
              "1           0.385815          -0.691179  ...          0             0\n",
              "2           1.047843          -0.771243  ...          0             0\n",
              "3          -0.764022           1.060220  ...          0             1\n",
              "4           0.037380           0.199532  ...          0             0\n",
              "\n",
              "[5 rows x 31 columns]"
            ]
          },
          "metadata": {
            "tags": []
          },
          "execution_count": 12
        }
      ]
    },
    {
      "cell_type": "markdown",
      "metadata": {
        "id": "41o5Ku6EHMTQ"
      },
      "source": [
        "## Model Performance with Scaled Data"
      ]
    },
    {
      "cell_type": "markdown",
      "metadata": {
        "id": "QOJmFbtbE53D"
      },
      "source": [
        "Feed the scaled data into the models. We can't feed continuous y data into CART and RF so lets just score LinReg, LassoCV and Ridge CV."
      ]
    },
    {
      "cell_type": "code",
      "metadata": {
        "id": "B6xYdmgAviMJ",
        "colab": {
          "base_uri": "https://localhost:8080/",
          "height": 366
        },
        "outputId": "8a0642f6-cbdc-4d72-ee37-c574e96a02f6"
      },
      "source": [
        "#update all_models with Scaling results\n",
        "all_models = fit_and_score_model(all_models, 'Scaling', X_train_scaled, X_val_scaled, y_train_scaled, y_val_scaled)\n",
        "print('_________________________\\n')\n",
        "compare_models('Scaling')\n",
        "all_models.loc[:, 'Scaling', :].head()"
      ],
      "execution_count": null,
      "outputs": [
        {
          "output_type": "stream",
          "text": [
            "LinReg achieved a train score of 0.367 and test score of 0.369\n",
            "LassoCV achieved a train score of 0.352 and test score of 0.365\n",
            "RidgeCV achieved a train score of 0.366 and test score of 0.368\n",
            "RF achieved a train score of 0.903 and test score of 0.342\n",
            "CART achieved a train score of 1.000 and test score of -0.261\n",
            "_________________________\n",
            "\n",
            "On average, scores improved by 0.02, and the most improvement was 0.09\n"
          ],
          "name": "stdout"
        },
        {
          "output_type": "execute_result",
          "data": {
            "text/html": [
              "<div>\n",
              "<style scoped>\n",
              "    .dataframe tbody tr th:only-of-type {\n",
              "        vertical-align: middle;\n",
              "    }\n",
              "\n",
              "    .dataframe tbody tr th {\n",
              "        vertical-align: top;\n",
              "    }\n",
              "\n",
              "    .dataframe thead th {\n",
              "        text-align: right;\n",
              "    }\n",
              "</style>\n",
              "<table border=\"1\" class=\"dataframe\">\n",
              "  <thead>\n",
              "    <tr style=\"text-align: right;\">\n",
              "      <th></th>\n",
              "      <th>TrainScore</th>\n",
              "      <th>TestScore</th>\n",
              "      <th>Model</th>\n",
              "    </tr>\n",
              "    <tr>\n",
              "      <th>model names</th>\n",
              "      <th></th>\n",
              "      <th></th>\n",
              "      <th></th>\n",
              "    </tr>\n",
              "  </thead>\n",
              "  <tbody>\n",
              "    <tr>\n",
              "      <th>LinReg</th>\n",
              "      <td>0.366933</td>\n",
              "      <td>0.368755</td>\n",
              "      <td>LinearRegression(copy_X=True, fit_intercept=Tr...</td>\n",
              "    </tr>\n",
              "    <tr>\n",
              "      <th>LassoCV</th>\n",
              "      <td>0.352108</td>\n",
              "      <td>0.365217</td>\n",
              "      <td>LassoCV(alphas=None, copy_X=True, cv=None, eps...</td>\n",
              "    </tr>\n",
              "    <tr>\n",
              "      <th>RidgeCV</th>\n",
              "      <td>0.365794</td>\n",
              "      <td>0.367947</td>\n",
              "      <td>RidgeCV(alphas=array([ 0.1,  1. , 10. ]), cv=N...</td>\n",
              "    </tr>\n",
              "    <tr>\n",
              "      <th>RF</th>\n",
              "      <td>0.903476</td>\n",
              "      <td>0.342207</td>\n",
              "      <td>(DecisionTreeRegressor(ccp_alpha=0.0, criterio...</td>\n",
              "    </tr>\n",
              "    <tr>\n",
              "      <th>CART</th>\n",
              "      <td>1.000000</td>\n",
              "      <td>-0.260768</td>\n",
              "      <td>DecisionTreeRegressor(ccp_alpha=0.0, criterion...</td>\n",
              "    </tr>\n",
              "  </tbody>\n",
              "</table>\n",
              "</div>"
            ],
            "text/plain": [
              "             TrainScore  ...                                              Model\n",
              "model names              ...                                                   \n",
              "LinReg         0.366933  ...  LinearRegression(copy_X=True, fit_intercept=Tr...\n",
              "LassoCV        0.352108  ...  LassoCV(alphas=None, copy_X=True, cv=None, eps...\n",
              "RidgeCV        0.365794  ...  RidgeCV(alphas=array([ 0.1,  1. , 10. ]), cv=N...\n",
              "RF             0.903476  ...  (DecisionTreeRegressor(ccp_alpha=0.0, criterio...\n",
              "CART           1.000000  ...  DecisionTreeRegressor(ccp_alpha=0.0, criterion...\n",
              "\n",
              "[5 rows x 3 columns]"
            ]
          },
          "metadata": {
            "tags": []
          },
          "execution_count": 13
        }
      ]
    },
    {
      "cell_type": "markdown",
      "metadata": {
        "id": "6PlKHW3AnijH"
      },
      "source": [
        "# Feature Engineering"
      ]
    },
    {
      "cell_type": "markdown",
      "metadata": {
        "id": "Pdc8CLSE6gdA"
      },
      "source": [
        "## Testing combos -- Don't need to run every time"
      ]
    },
    {
      "cell_type": "markdown",
      "metadata": {
        "id": "FqtlKAIaP7Mq"
      },
      "source": [
        "https://machinelearningmastery.com/feature-selection-with-real-and-categorical-data/"
      ]
    },
    {
      "cell_type": "markdown",
      "metadata": {
        "id": "ca9d-QiqEQiq"
      },
      "source": [
        "Vaiance Threshold method for feature slection\n",
        "\n",
        "> Features in which identical value occupies the majority of the samples are said to have zero variance. Such features carrying little information will not affect the target variable and can be dropped. You can adjust the threshold value, default is 0, i.e remove the features that have the same value in all samples. For quasi-constant features, that have the same value for a very large subset, use threshold as 0.01. In other words, drop the column where 99% of the values are similar.[https://towardsdatascience.com/learn-how-to-do-feature-selection-the-right-way-61bca8557bef \n",
        "\n"
      ]
    },
    {
      "cell_type": "markdown",
      "metadata": {
        "id": "ttt9WPycFN5j"
      },
      "source": [
        "Correlation coefficient\n",
        "\n",
        "> Two independent features (X) are highly correlated if they have a strong relationship with each other and move in a similar direction. In that case, you don't need two similar features to be fed to the model, if one can suffice. It centrally takes into consideration the fitted line, slope of the fitted line and the quality of the fit. There are various approaches for calculating correlation coefficients and if a pair of columns cross a certain threshold, the one that shows a high correlation with the target variable (y) will be kept and the other one will be dropped.\n",
        "\n"
      ]
    },
    {
      "cell_type": "markdown",
      "metadata": {
        "id": "k-AL26cIFYkq"
      },
      "source": [
        "Mutual Information (for both regression & classification)\n",
        "\n",
        "> The mutual information measures the contribution of a variable towards another variable. In other words, how much will the target variable be impacted if we remove or add the feature? MI is 0 if both the variables are independent and ranges between 0 –1 if X is deterministic of Y. MI is primarily the entropy of X, which measures or quantifies the amount of information obtained about one random variable, through the other random variable.\n",
        "The best thing about MI is that it allows one to detect non-linear relationships and works for both regression and classification. Cool! isn't it \n",
        "\n"
      ]
    },
    {
      "cell_type": "markdown",
      "metadata": {
        "id": "-3RBB2gTF3cZ"
      },
      "source": [
        "III. Embedded Methods\n",
        "These methods combine the functionalities of both Filter and Wrapper methods. The upside is that they perform feature selection during the process of training which is why they are called embedded! The computational speed is as good as of filter methods and of course better accuracy, making it a win-win model!\n",
        "\n",
        "\n",
        "> 1.) L1 ( LASSO) Regularization\n",
        "\n",
        "> 2.) Tree Model (for Regression & Classification)\n",
        "\n",
        "\n"
      ]
    },
    {
      "cell_type": "markdown",
      "metadata": {
        "id": "e_iqK5lzW1oM"
      },
      "source": [
        "**Transforming Features**\n",
        "\n",
        "> use mutual info regression: Mutual information between two variables, measures how much a given feature can explain another (target), or more technically, how much information about the target will variable will be obtained by having observed a feature.\n",
        "\n"
      ]
    },
    {
      "cell_type": "markdown",
      "metadata": {
        "id": "GEgcLD6GgQP3"
      },
      "source": [
        "Try multiplying 2 features with scaled one"
      ]
    },
    {
      "cell_type": "code",
      "metadata": {
        "id": "FlzzdJ_LgP4f",
        "colab": {
          "base_uri": "https://localhost:8080/"
        },
        "outputId": "524dd77f-5ea5-40ff-d641-08d92d340ee9"
      },
      "source": [
        "%%capture --no-stdout  \n",
        "\n",
        "mi = mutual_info_regression(X_train_scaled, y_train_scaled)\n",
        "f_test,_ = f_regression(X_train_scaled, y_train_scaled)\n",
        "f_test = np.nan_to_num(f_test)\n",
        "\n",
        "# Iterate through each combination of features\n",
        "for f1_index, f1 in enumerate(X_train_scaled.columns):\n",
        "  for f2_index, f2 in enumerate(X_train_scaled.columns[f1_index + 1:]):\n",
        "    # Multiply the two features to create a new feature\n",
        "    new_feature = X_train_scaled[[f1]].multiply(X_train_scaled[f2], axis=0)\n",
        "\n",
        "    # Evaluate F-value of new feature\n",
        "    mi_new= mutual_info_regression(new_feature, y_train_scaled)\n",
        "    \n",
        "    # Evaluate the relative improvement of the new feature\n",
        "    mi_improvement = mi_new[0]/max(mi[[f1_index, f2_index]])\n",
        "    # Print out features that is sufficiently improved \n",
        "    \n",
        "    if mi_improvement >= 1.5 and mi_new[0] >= 0.05:\n",
        "        '''Note that mi_improvement >= 1.5 and mi_new[0] >= 75 is\n",
        "         relatively arbitrary, and that other values could be used.'''\n",
        "        print(f'{f1} * {f2} has an mi of {mi_new[0]:.2f}')\n",
        "        print(f'\\tBetter by an mi of {mi_improvement:.2f} over features in isolation')\n",
        "\n",
        "        #To see linear or not\n",
        "        f_test_new,_ = f_regression(new_feature, y_train_scaled)\n",
        "\n",
        "        f_test_r = f_test_new[0]/np.max(f_test)\n",
        "\n",
        "        if f_test_r >= 0.9:\n",
        "          print(f\"linearish by {f_test_r:.2f}\\n\")\n",
        "        else:\n",
        "          print(f\" non linearish by {f_test_r:.2f}\\n\")"
      ],
      "execution_count": null,
      "outputs": [
        {
          "output_type": "stream",
          "text": [
            "TOMATOMETER Count * cast2_oscars has an mi of 0.05\n",
            "\tBetter by an mi of 2.26 over features in isolation\n",
            " non linearish by 0.00\n",
            "\n",
            "TOMATOMETER Count * cast3_oscars has an mi of 0.07\n",
            "\tBetter by an mi of 3.17 over features in isolation\n",
            " non linearish by 0.00\n",
            "\n",
            "TOMATOMETER Count * cast3_FB_likes has an mi of 0.07\n",
            "\tBetter by an mi of 3.00 over features in isolation\n",
            " non linearish by 0.00\n",
            "\n",
            "TOMATOMETER Count * dir_oscars has an mi of 0.07\n",
            "\tBetter by an mi of 2.89 over features in isolation\n",
            " non linearish by 0.00\n",
            "\n",
            "TOMATOMETER Count * director_facebook_likes has an mi of 0.07\n",
            "\tBetter by an mi of 2.93 over features in isolation\n",
            " non linearish by 0.00\n",
            "\n",
            "Runtime * Rating_NR has an mi of 0.05\n",
            "\tBetter by an mi of inf over features in isolation\n",
            " non linearish by 0.00\n",
            "\n",
            "cast1_FB_likes * Rating_PG-13 has an mi of 0.05\n",
            "\tBetter by an mi of 3.74 over features in isolation\n",
            " non linearish by 0.00\n",
            "\n",
            "dir_oscars * Genre_Drama has an mi of 0.06\n",
            "\tBetter by an mi of 2.87 over features in isolation\n",
            " non linearish by 0.00\n",
            "\n"
          ],
          "name": "stdout"
        }
      ]
    },
    {
      "cell_type": "markdown",
      "metadata": {
        "id": "d8m8daPGZiPz"
      },
      "source": [
        "Multiply two variables (not scaled)"
      ]
    },
    {
      "cell_type": "code",
      "metadata": {
        "id": "FNfWEgFcXLfD",
        "colab": {
          "base_uri": "https://localhost:8080/",
          "height": 516
        },
        "outputId": "8d47c274-7017-426a-ba2d-741d09ab77c7"
      },
      "source": [
        "%%capture --no-stdout  \n",
        "\n",
        "mi = mutual_info_regression(X_train, y_train)\n",
        "f_test,_ = f_regression(X_train, y_train)\n",
        "f_test = np.nan_to_num(f_test)\n",
        "\n",
        "# Iterate through each combination of features\n",
        "for f1_index, f1 in enumerate(X_train.columns):\n",
        "  for f2_index, f2 in enumerate(X_train.columns[f1_index + 1:]):\n",
        "    # Multiply the two features to create a new feature\n",
        "    new_feature = X_train[[f1]].multiply(X_train[f2], axis=0)\n",
        "\n",
        "    # Evaluate F-value of new feature\n",
        "    mi_new= mutual_info_regression(new_feature, y_train)\n",
        "    \n",
        "    # Evaluate the relative improvement of the new feature\n",
        "    mi_improvement = mi_new[0]/max(mi[[f1_index, f2_index]])\n",
        "    # Print out features that is sufficiently improved \n",
        "    \n",
        "    if mi_improvement >= 1.5 and mi_new[0] >= 0.05:\n",
        "        '''Note that mi_improvement >= 1.5 and mi_new[0] >= 75 is\n",
        "         relatively arbitrary, and that other values could be used.'''\n",
        "        print(f'{f1} * {f2} has an mi of {mi_new[0]:.2f}')\n",
        "        print(f'\\tBetter by an mi of {mi_improvement:.2f} over features in isolation')\n",
        "\n",
        "        #To see linear or not\n",
        "        f_test_new,_ = f_regression(new_feature, y_train_scaled)\n",
        "\n",
        "        f_test_r = f_test_new[0]/np.max(f_test)\n",
        "\n",
        "        if f_test_r >= 0.9:\n",
        "          print(f\"linearish by {f_test_r:.2f}\\n\")\n",
        "        else:\n",
        "          print(f\" non linearish by {f_test_r:.2f}\\n\")\n"
      ],
      "execution_count": null,
      "outputs": [
        {
          "output_type": "stream",
          "text": [
            "TOMATOMETER Count * Rating_R has an mi of 0.05\n",
            "\tBetter by an mi of 2.49 over features in isolation\n",
            " non linearish by 0.03\n",
            "\n",
            "TOMATOMETER Count * cast2_FB_likes has an mi of 0.06\n",
            "\tBetter by an mi of 1.72 over features in isolation\n",
            " non linearish by 0.00\n",
            "\n"
          ],
          "name": "stdout"
        },
        {
          "output_type": "error",
          "ename": "KeyboardInterrupt",
          "evalue": "ignored",
          "traceback": [
            "\u001b[0;31m---------------------------------------------------------------------------\u001b[0m",
            "\u001b[0;31mKeyboardInterrupt\u001b[0m                         Traceback (most recent call last)",
            "\u001b[0;32m<ipython-input-15-b4176ccd763b>\u001b[0m in \u001b[0;36m<module>\u001b[0;34m()\u001b[0m\n\u001b[1;32m     11\u001b[0m \u001b[0;34m\u001b[0m\u001b[0m\n\u001b[1;32m     12\u001b[0m     \u001b[0;31m# Evaluate F-value of new feature\u001b[0m\u001b[0;34m\u001b[0m\u001b[0;34m\u001b[0m\u001b[0;34m\u001b[0m\u001b[0m\n\u001b[0;32m---> 13\u001b[0;31m     \u001b[0mmi_new\u001b[0m\u001b[0;34m=\u001b[0m \u001b[0mmutual_info_regression\u001b[0m\u001b[0;34m(\u001b[0m\u001b[0mnew_feature\u001b[0m\u001b[0;34m,\u001b[0m \u001b[0my_train\u001b[0m\u001b[0;34m)\u001b[0m\u001b[0;34m\u001b[0m\u001b[0;34m\u001b[0m\u001b[0m\n\u001b[0m\u001b[1;32m     14\u001b[0m \u001b[0;34m\u001b[0m\u001b[0m\n\u001b[1;32m     15\u001b[0m     \u001b[0;31m# Evaluate the relative improvement of the new feature\u001b[0m\u001b[0;34m\u001b[0m\u001b[0;34m\u001b[0m\u001b[0;34m\u001b[0m\u001b[0m\n",
            "\u001b[0;32m/usr/local/lib/python3.6/dist-packages/sklearn/feature_selection/_mutual_info.py\u001b[0m in \u001b[0;36mmutual_info_regression\u001b[0;34m(X, y, discrete_features, n_neighbors, copy, random_state)\u001b[0m\n\u001b[1;32m    369\u001b[0m     \"\"\"\n\u001b[1;32m    370\u001b[0m     return _estimate_mi(X, y, discrete_features, False, n_neighbors,\n\u001b[0;32m--> 371\u001b[0;31m                         copy, random_state)\n\u001b[0m\u001b[1;32m    372\u001b[0m \u001b[0;34m\u001b[0m\u001b[0m\n\u001b[1;32m    373\u001b[0m \u001b[0;34m\u001b[0m\u001b[0m\n",
            "\u001b[0;32m/usr/local/lib/python3.6/dist-packages/sklearn/feature_selection/_mutual_info.py\u001b[0m in \u001b[0;36m_estimate_mi\u001b[0;34m(X, y, discrete_features, discrete_target, n_neighbors, copy, random_state)\u001b[0m\n\u001b[1;32m    288\u001b[0m \u001b[0;34m\u001b[0m\u001b[0m\n\u001b[1;32m    289\u001b[0m     mi = [_compute_mi(x, y, discrete_feature, discrete_target, n_neighbors) for\n\u001b[0;32m--> 290\u001b[0;31m           x, discrete_feature in zip(_iterate_columns(X), discrete_mask)]\n\u001b[0m\u001b[1;32m    291\u001b[0m \u001b[0;34m\u001b[0m\u001b[0m\n\u001b[1;32m    292\u001b[0m     \u001b[0;32mreturn\u001b[0m \u001b[0mnp\u001b[0m\u001b[0;34m.\u001b[0m\u001b[0marray\u001b[0m\u001b[0;34m(\u001b[0m\u001b[0mmi\u001b[0m\u001b[0;34m)\u001b[0m\u001b[0;34m\u001b[0m\u001b[0;34m\u001b[0m\u001b[0m\n",
            "\u001b[0;32m/usr/local/lib/python3.6/dist-packages/sklearn/feature_selection/_mutual_info.py\u001b[0m in \u001b[0;36m<listcomp>\u001b[0;34m(.0)\u001b[0m\n\u001b[1;32m    288\u001b[0m \u001b[0;34m\u001b[0m\u001b[0m\n\u001b[1;32m    289\u001b[0m     mi = [_compute_mi(x, y, discrete_feature, discrete_target, n_neighbors) for\n\u001b[0;32m--> 290\u001b[0;31m           x, discrete_feature in zip(_iterate_columns(X), discrete_mask)]\n\u001b[0m\u001b[1;32m    291\u001b[0m \u001b[0;34m\u001b[0m\u001b[0m\n\u001b[1;32m    292\u001b[0m     \u001b[0;32mreturn\u001b[0m \u001b[0mnp\u001b[0m\u001b[0;34m.\u001b[0m\u001b[0marray\u001b[0m\u001b[0;34m(\u001b[0m\u001b[0mmi\u001b[0m\u001b[0;34m)\u001b[0m\u001b[0;34m\u001b[0m\u001b[0;34m\u001b[0m\u001b[0m\n",
            "\u001b[0;32m/usr/local/lib/python3.6/dist-packages/sklearn/feature_selection/_mutual_info.py\u001b[0m in \u001b[0;36m_compute_mi\u001b[0;34m(x, y, x_discrete, y_discrete, n_neighbors)\u001b[0m\n\u001b[1;32m    160\u001b[0m         \u001b[0;32mreturn\u001b[0m \u001b[0m_compute_mi_cd\u001b[0m\u001b[0;34m(\u001b[0m\u001b[0mx\u001b[0m\u001b[0;34m,\u001b[0m \u001b[0my\u001b[0m\u001b[0;34m,\u001b[0m \u001b[0mn_neighbors\u001b[0m\u001b[0;34m)\u001b[0m\u001b[0;34m\u001b[0m\u001b[0;34m\u001b[0m\u001b[0m\n\u001b[1;32m    161\u001b[0m     \u001b[0;32melse\u001b[0m\u001b[0;34m:\u001b[0m\u001b[0;34m\u001b[0m\u001b[0;34m\u001b[0m\u001b[0m\n\u001b[0;32m--> 162\u001b[0;31m         \u001b[0;32mreturn\u001b[0m \u001b[0m_compute_mi_cc\u001b[0m\u001b[0;34m(\u001b[0m\u001b[0mx\u001b[0m\u001b[0;34m,\u001b[0m \u001b[0my\u001b[0m\u001b[0;34m,\u001b[0m \u001b[0mn_neighbors\u001b[0m\u001b[0;34m)\u001b[0m\u001b[0;34m\u001b[0m\u001b[0;34m\u001b[0m\u001b[0m\n\u001b[0m\u001b[1;32m    163\u001b[0m \u001b[0;34m\u001b[0m\u001b[0m\n\u001b[1;32m    164\u001b[0m \u001b[0;34m\u001b[0m\u001b[0m\n",
            "\u001b[0;32m/usr/local/lib/python3.6/dist-packages/sklearn/feature_selection/_mutual_info.py\u001b[0m in \u001b[0;36m_compute_mi_cc\u001b[0;34m(x, y, n_neighbors)\u001b[0m\n\u001b[1;32m     63\u001b[0m \u001b[0;34m\u001b[0m\u001b[0m\n\u001b[1;32m     64\u001b[0m     \u001b[0mnn\u001b[0m\u001b[0;34m.\u001b[0m\u001b[0mfit\u001b[0m\u001b[0;34m(\u001b[0m\u001b[0mx\u001b[0m\u001b[0;34m)\u001b[0m\u001b[0;34m\u001b[0m\u001b[0;34m\u001b[0m\u001b[0m\n\u001b[0;32m---> 65\u001b[0;31m     \u001b[0mind\u001b[0m \u001b[0;34m=\u001b[0m \u001b[0mnn\u001b[0m\u001b[0;34m.\u001b[0m\u001b[0mradius_neighbors\u001b[0m\u001b[0;34m(\u001b[0m\u001b[0mradius\u001b[0m\u001b[0;34m=\u001b[0m\u001b[0mradius\u001b[0m\u001b[0;34m,\u001b[0m \u001b[0mreturn_distance\u001b[0m\u001b[0;34m=\u001b[0m\u001b[0;32mFalse\u001b[0m\u001b[0;34m)\u001b[0m\u001b[0;34m\u001b[0m\u001b[0;34m\u001b[0m\u001b[0m\n\u001b[0m\u001b[1;32m     66\u001b[0m     \u001b[0mnx\u001b[0m \u001b[0;34m=\u001b[0m \u001b[0mnp\u001b[0m\u001b[0;34m.\u001b[0m\u001b[0marray\u001b[0m\u001b[0;34m(\u001b[0m\u001b[0;34m[\u001b[0m\u001b[0mi\u001b[0m\u001b[0;34m.\u001b[0m\u001b[0msize\u001b[0m \u001b[0;32mfor\u001b[0m \u001b[0mi\u001b[0m \u001b[0;32min\u001b[0m \u001b[0mind\u001b[0m\u001b[0;34m]\u001b[0m\u001b[0;34m)\u001b[0m\u001b[0;34m\u001b[0m\u001b[0;34m\u001b[0m\u001b[0m\n\u001b[1;32m     67\u001b[0m \u001b[0;34m\u001b[0m\u001b[0m\n",
            "\u001b[0;32m/usr/local/lib/python3.6/dist-packages/sklearn/neighbors/_base.py\u001b[0m in \u001b[0;36mradius_neighbors\u001b[0;34m(self, X, radius, return_distance, sort_results)\u001b[0m\n\u001b[1;32m    969\u001b[0m                               sort_results=sort_results)\n\u001b[1;32m    970\u001b[0m \u001b[0;34m\u001b[0m\u001b[0m\n\u001b[0;32m--> 971\u001b[0;31m                 \u001b[0;32mfor\u001b[0m \u001b[0ms\u001b[0m \u001b[0;32min\u001b[0m \u001b[0mgen_even_slices\u001b[0m\u001b[0;34m(\u001b[0m\u001b[0mX\u001b[0m\u001b[0;34m.\u001b[0m\u001b[0mshape\u001b[0m\u001b[0;34m[\u001b[0m\u001b[0;36m0\u001b[0m\u001b[0;34m]\u001b[0m\u001b[0;34m,\u001b[0m \u001b[0mn_jobs\u001b[0m\u001b[0;34m)\u001b[0m\u001b[0;34m\u001b[0m\u001b[0;34m\u001b[0m\u001b[0m\n\u001b[0m\u001b[1;32m    972\u001b[0m             )\n\u001b[1;32m    973\u001b[0m             \u001b[0;32mif\u001b[0m \u001b[0mreturn_distance\u001b[0m\u001b[0;34m:\u001b[0m\u001b[0;34m\u001b[0m\u001b[0;34m\u001b[0m\u001b[0m\n",
            "\u001b[0;31mKeyboardInterrupt\u001b[0m: "
          ]
        }
      ]
    },
    {
      "cell_type": "markdown",
      "metadata": {
        "id": "Nh_tF8-MZnyp"
      },
      "source": [
        "Add two vaiables"
      ]
    },
    {
      "cell_type": "code",
      "metadata": {
        "id": "56b6R9NlZqjh",
        "colab": {
          "base_uri": "https://localhost:8080/",
          "height": 582
        },
        "outputId": "046afc60-60b6-4d97-b14f-29cbf5ac7f48"
      },
      "source": [
        "%%capture --no-stdout  \n",
        "# Iterate through each combination of features\n",
        "for f1_index, f1 in enumerate(X_train.columns):\n",
        "  for f2_index, f2 in enumerate(X_train.columns[f1_index + 1:]):\n",
        "    # add the two features to create a new feature\n",
        "    new_feature = X_train[[f1]].add(X_train[[f2]].rename(columns = {X_train[[f2]].columns[0]:X_train[[f1]].columns[0]})) \n",
        "    \n",
        "    # Evaluate F-value of new feature\n",
        "    mi_new= mutual_info_regression(new_feature, y_train)\n",
        "    # Evaluate the relative improvement of the new feature\n",
        "    mi_improvement = mi_new[0]/max(mi[[f1_index, f2_index]])\n",
        "    # Print out features that is sufficiently improved \n",
        "    if mi_improvement >= 1.5 and mi_new[0] >= 0.05:\n",
        "        '''Note that mi_improvement >= 1.5 and mi_new[0] >= 75 is\n",
        "         relatively arbitrary, and that other values could be used.'''\n",
        "        print(f'{f1} + {f2} has an mi of {mi_new[0]:.2f}')\n",
        "        print(f'\\tBetter by an mi of {mi_improvement:.2f} over features in isolation')\n",
        "\n",
        "        #To see linear or not\n",
        "        f_test_new,_ = f_regression(new_feature, y_train)\n",
        "\n",
        "        f_test_r = f_test_new[0]/np.max(f_test)\n",
        "\n",
        "        if f_test_r >= 0.9:\n",
        "          print(f\"linearish by {f_test_r:.2f}\\n\")\n",
        "        else:\n",
        "          print(f\" non linearish by {f_test_r:.2f}\\n\")\n",
        "\n",
        "\n"
      ],
      "execution_count": null,
      "outputs": [
        {
          "output_type": "stream",
          "text": [
            "TOMATOMETER Count + Genre_Drama has an mi of 0.06\n",
            "\tBetter by an mi of 2.88 over features in isolation\n",
            " non linearish by 0.03\n",
            "\n",
            "TOMATOMETER Count + director_facebook_likes has an mi of 0.07\n",
            "\tBetter by an mi of 3.27 over features in isolation\n",
            " non linearish by 0.00\n",
            "\n",
            "Genre_Action + Genre_SciFi has an mi of 0.07\n",
            "\tBetter by an mi of 2.16 over features in isolation\n",
            " non linearish by 0.01\n",
            "\n"
          ],
          "name": "stdout"
        },
        {
          "output_type": "error",
          "ename": "KeyboardInterrupt",
          "evalue": "ignored",
          "traceback": [
            "\u001b[0;31m---------------------------------------------------------------------------\u001b[0m",
            "\u001b[0;31mKeyboardInterrupt\u001b[0m                         Traceback (most recent call last)",
            "\u001b[0;32m<ipython-input-16-b05bbbdb95f3>\u001b[0m in \u001b[0;36m<module>\u001b[0;34m()\u001b[0m\n\u001b[1;32m      6\u001b[0m \u001b[0;34m\u001b[0m\u001b[0m\n\u001b[1;32m      7\u001b[0m     \u001b[0;31m# Evaluate F-value of new feature\u001b[0m\u001b[0;34m\u001b[0m\u001b[0;34m\u001b[0m\u001b[0;34m\u001b[0m\u001b[0m\n\u001b[0;32m----> 8\u001b[0;31m     \u001b[0mmi_new\u001b[0m\u001b[0;34m=\u001b[0m \u001b[0mmutual_info_regression\u001b[0m\u001b[0;34m(\u001b[0m\u001b[0mnew_feature\u001b[0m\u001b[0;34m,\u001b[0m \u001b[0my_train\u001b[0m\u001b[0;34m)\u001b[0m\u001b[0;34m\u001b[0m\u001b[0;34m\u001b[0m\u001b[0m\n\u001b[0m\u001b[1;32m      9\u001b[0m     \u001b[0;31m# Evaluate the relative improvement of the new feature\u001b[0m\u001b[0;34m\u001b[0m\u001b[0;34m\u001b[0m\u001b[0;34m\u001b[0m\u001b[0m\n\u001b[1;32m     10\u001b[0m     \u001b[0mmi_improvement\u001b[0m \u001b[0;34m=\u001b[0m \u001b[0mmi_new\u001b[0m\u001b[0;34m[\u001b[0m\u001b[0;36m0\u001b[0m\u001b[0;34m]\u001b[0m\u001b[0;34m/\u001b[0m\u001b[0mmax\u001b[0m\u001b[0;34m(\u001b[0m\u001b[0mmi\u001b[0m\u001b[0;34m[\u001b[0m\u001b[0;34m[\u001b[0m\u001b[0mf1_index\u001b[0m\u001b[0;34m,\u001b[0m \u001b[0mf2_index\u001b[0m\u001b[0;34m]\u001b[0m\u001b[0;34m]\u001b[0m\u001b[0;34m)\u001b[0m\u001b[0;34m\u001b[0m\u001b[0;34m\u001b[0m\u001b[0m\n",
            "\u001b[0;32m/usr/local/lib/python3.6/dist-packages/sklearn/feature_selection/_mutual_info.py\u001b[0m in \u001b[0;36mmutual_info_regression\u001b[0;34m(X, y, discrete_features, n_neighbors, copy, random_state)\u001b[0m\n\u001b[1;32m    369\u001b[0m     \"\"\"\n\u001b[1;32m    370\u001b[0m     return _estimate_mi(X, y, discrete_features, False, n_neighbors,\n\u001b[0;32m--> 371\u001b[0;31m                         copy, random_state)\n\u001b[0m\u001b[1;32m    372\u001b[0m \u001b[0;34m\u001b[0m\u001b[0m\n\u001b[1;32m    373\u001b[0m \u001b[0;34m\u001b[0m\u001b[0m\n",
            "\u001b[0;32m/usr/local/lib/python3.6/dist-packages/sklearn/feature_selection/_mutual_info.py\u001b[0m in \u001b[0;36m_estimate_mi\u001b[0;34m(X, y, discrete_features, discrete_target, n_neighbors, copy, random_state)\u001b[0m\n\u001b[1;32m    288\u001b[0m \u001b[0;34m\u001b[0m\u001b[0m\n\u001b[1;32m    289\u001b[0m     mi = [_compute_mi(x, y, discrete_feature, discrete_target, n_neighbors) for\n\u001b[0;32m--> 290\u001b[0;31m           x, discrete_feature in zip(_iterate_columns(X), discrete_mask)]\n\u001b[0m\u001b[1;32m    291\u001b[0m \u001b[0;34m\u001b[0m\u001b[0m\n\u001b[1;32m    292\u001b[0m     \u001b[0;32mreturn\u001b[0m \u001b[0mnp\u001b[0m\u001b[0;34m.\u001b[0m\u001b[0marray\u001b[0m\u001b[0;34m(\u001b[0m\u001b[0mmi\u001b[0m\u001b[0;34m)\u001b[0m\u001b[0;34m\u001b[0m\u001b[0;34m\u001b[0m\u001b[0m\n",
            "\u001b[0;32m/usr/local/lib/python3.6/dist-packages/sklearn/feature_selection/_mutual_info.py\u001b[0m in \u001b[0;36m<listcomp>\u001b[0;34m(.0)\u001b[0m\n\u001b[1;32m    288\u001b[0m \u001b[0;34m\u001b[0m\u001b[0m\n\u001b[1;32m    289\u001b[0m     mi = [_compute_mi(x, y, discrete_feature, discrete_target, n_neighbors) for\n\u001b[0;32m--> 290\u001b[0;31m           x, discrete_feature in zip(_iterate_columns(X), discrete_mask)]\n\u001b[0m\u001b[1;32m    291\u001b[0m \u001b[0;34m\u001b[0m\u001b[0m\n\u001b[1;32m    292\u001b[0m     \u001b[0;32mreturn\u001b[0m \u001b[0mnp\u001b[0m\u001b[0;34m.\u001b[0m\u001b[0marray\u001b[0m\u001b[0;34m(\u001b[0m\u001b[0mmi\u001b[0m\u001b[0;34m)\u001b[0m\u001b[0;34m\u001b[0m\u001b[0;34m\u001b[0m\u001b[0m\n",
            "\u001b[0;32m/usr/local/lib/python3.6/dist-packages/sklearn/feature_selection/_mutual_info.py\u001b[0m in \u001b[0;36m_compute_mi\u001b[0;34m(x, y, x_discrete, y_discrete, n_neighbors)\u001b[0m\n\u001b[1;32m    160\u001b[0m         \u001b[0;32mreturn\u001b[0m \u001b[0m_compute_mi_cd\u001b[0m\u001b[0;34m(\u001b[0m\u001b[0mx\u001b[0m\u001b[0;34m,\u001b[0m \u001b[0my\u001b[0m\u001b[0;34m,\u001b[0m \u001b[0mn_neighbors\u001b[0m\u001b[0;34m)\u001b[0m\u001b[0;34m\u001b[0m\u001b[0;34m\u001b[0m\u001b[0m\n\u001b[1;32m    161\u001b[0m     \u001b[0;32melse\u001b[0m\u001b[0;34m:\u001b[0m\u001b[0;34m\u001b[0m\u001b[0;34m\u001b[0m\u001b[0m\n\u001b[0;32m--> 162\u001b[0;31m         \u001b[0;32mreturn\u001b[0m \u001b[0m_compute_mi_cc\u001b[0m\u001b[0;34m(\u001b[0m\u001b[0mx\u001b[0m\u001b[0;34m,\u001b[0m \u001b[0my\u001b[0m\u001b[0;34m,\u001b[0m \u001b[0mn_neighbors\u001b[0m\u001b[0;34m)\u001b[0m\u001b[0;34m\u001b[0m\u001b[0;34m\u001b[0m\u001b[0m\n\u001b[0m\u001b[1;32m    163\u001b[0m \u001b[0;34m\u001b[0m\u001b[0m\n\u001b[1;32m    164\u001b[0m \u001b[0;34m\u001b[0m\u001b[0m\n",
            "\u001b[0;32m/usr/local/lib/python3.6/dist-packages/sklearn/feature_selection/_mutual_info.py\u001b[0m in \u001b[0;36m_compute_mi_cc\u001b[0;34m(x, y, n_neighbors)\u001b[0m\n\u001b[1;32m     67\u001b[0m \u001b[0;34m\u001b[0m\u001b[0m\n\u001b[1;32m     68\u001b[0m     \u001b[0mnn\u001b[0m\u001b[0;34m.\u001b[0m\u001b[0mfit\u001b[0m\u001b[0;34m(\u001b[0m\u001b[0my\u001b[0m\u001b[0;34m)\u001b[0m\u001b[0;34m\u001b[0m\u001b[0;34m\u001b[0m\u001b[0m\n\u001b[0;32m---> 69\u001b[0;31m     \u001b[0mind\u001b[0m \u001b[0;34m=\u001b[0m \u001b[0mnn\u001b[0m\u001b[0;34m.\u001b[0m\u001b[0mradius_neighbors\u001b[0m\u001b[0;34m(\u001b[0m\u001b[0mradius\u001b[0m\u001b[0;34m=\u001b[0m\u001b[0mradius\u001b[0m\u001b[0;34m,\u001b[0m \u001b[0mreturn_distance\u001b[0m\u001b[0;34m=\u001b[0m\u001b[0;32mFalse\u001b[0m\u001b[0;34m)\u001b[0m\u001b[0;34m\u001b[0m\u001b[0;34m\u001b[0m\u001b[0m\n\u001b[0m\u001b[1;32m     70\u001b[0m     \u001b[0mny\u001b[0m \u001b[0;34m=\u001b[0m \u001b[0mnp\u001b[0m\u001b[0;34m.\u001b[0m\u001b[0marray\u001b[0m\u001b[0;34m(\u001b[0m\u001b[0;34m[\u001b[0m\u001b[0mi\u001b[0m\u001b[0;34m.\u001b[0m\u001b[0msize\u001b[0m \u001b[0;32mfor\u001b[0m \u001b[0mi\u001b[0m \u001b[0;32min\u001b[0m \u001b[0mind\u001b[0m\u001b[0;34m]\u001b[0m\u001b[0;34m)\u001b[0m\u001b[0;34m\u001b[0m\u001b[0;34m\u001b[0m\u001b[0m\n\u001b[1;32m     71\u001b[0m \u001b[0;34m\u001b[0m\u001b[0m\n",
            "\u001b[0;32m/usr/local/lib/python3.6/dist-packages/sklearn/neighbors/_base.py\u001b[0m in \u001b[0;36mradius_neighbors\u001b[0;34m(self, X, radius, return_distance, sort_results)\u001b[0m\n\u001b[1;32m    991\u001b[0m \u001b[0;34m\u001b[0m\u001b[0m\n\u001b[1;32m    992\u001b[0m             \u001b[0;32mfor\u001b[0m \u001b[0mind\u001b[0m\u001b[0;34m,\u001b[0m \u001b[0mind_neighbor\u001b[0m \u001b[0;32min\u001b[0m \u001b[0menumerate\u001b[0m\u001b[0;34m(\u001b[0m\u001b[0mneigh_ind\u001b[0m\u001b[0;34m)\u001b[0m\u001b[0;34m:\u001b[0m\u001b[0;34m\u001b[0m\u001b[0;34m\u001b[0m\u001b[0m\n\u001b[0;32m--> 993\u001b[0;31m                 \u001b[0mmask\u001b[0m \u001b[0;34m=\u001b[0m \u001b[0mind_neighbor\u001b[0m \u001b[0;34m!=\u001b[0m \u001b[0mind\u001b[0m\u001b[0;34m\u001b[0m\u001b[0;34m\u001b[0m\u001b[0m\n\u001b[0m\u001b[1;32m    994\u001b[0m \u001b[0;34m\u001b[0m\u001b[0m\n\u001b[1;32m    995\u001b[0m                 \u001b[0mneigh_ind\u001b[0m\u001b[0;34m[\u001b[0m\u001b[0mind\u001b[0m\u001b[0;34m]\u001b[0m \u001b[0;34m=\u001b[0m \u001b[0mind_neighbor\u001b[0m\u001b[0;34m[\u001b[0m\u001b[0mmask\u001b[0m\u001b[0;34m]\u001b[0m\u001b[0;34m\u001b[0m\u001b[0;34m\u001b[0m\u001b[0m\n",
            "\u001b[0;31mKeyboardInterrupt\u001b[0m: "
          ]
        }
      ]
    },
    {
      "cell_type": "markdown",
      "metadata": {
        "id": "jo0WfNy9PH5y"
      },
      "source": [
        "Sum of squares"
      ]
    },
    {
      "cell_type": "code",
      "metadata": {
        "id": "QeI4iUN3bVMi",
        "colab": {
          "base_uri": "https://localhost:8080/"
        },
        "outputId": "7e36c720-f3e9-4664-ee00-4ea8742e1491"
      },
      "source": [
        "%%capture --no-stdout  \n",
        "# Iterate through each combination of features\n",
        "for f1_index, f1 in enumerate(X_train.columns):\n",
        "  for f2_index, f2 in enumerate(X_train.columns[f1_index + 1:]):\n",
        "   \n",
        "    X_train_f1_square = X_train[[f1]].pow([2])\n",
        "    X_train_f2_square = X_train[[f2]].pow([2])\n",
        "    new_feature = X_train_f1_square.add(X_train_f2_square.rename(columns = {X_train[[f2]].columns[0]:X_train[[f1]].columns[0]})) \n",
        "    # Evaluate F-value of new feature\n",
        "    mi_new= mutual_info_regression(new_feature, y_train)\n",
        "    # Evaluate the relative improvement of the new feature\n",
        "    mi_improvement = mi_new[0]/max(mi[[f1_index, f2_index]])\n",
        "    # Print out features that is sufficiently improved \n",
        "    if mi_improvement >= 1.5 and mi_new[0] >= 0.05:\n",
        "        '''Note that mi_improvement >= 1.5 and mi_new[0] >= 75 is\n",
        "         relatively arbitrary, and that other values could be used.'''\n",
        "        print(f'{f1} + {f2} has an mi of {mi_new[0]:.2f}')\n",
        "        print(f'\\tBetter by an mi of {mi_improvement:.2f} over features in isolation')\n",
        "\n",
        "        #To see linear or not\n",
        "        f_test_new,_ = f_regression(new_feature, y_train)\n",
        "\n",
        "        f_test_r = f_test_new[0]/np.max(f_test)\n",
        "\n",
        "        if f_test_r >= 0.9:\n",
        "          print(f\"linearish by {f_test_r:.2f}\\n\")\n",
        "        else:\n",
        "          print(f\" non linearish by {f_test_r:.2f}\\n\")\n"
      ],
      "execution_count": null,
      "outputs": [
        {
          "output_type": "stream",
          "text": [
            "TOMATOMETER Count + cast2_FB_likes has an mi of 0.05\n",
            "\tBetter by an mi of 1.57 over features in isolation\n",
            " non linearish by 0.01\n",
            "\n",
            "TOMATOMETER Count + director_awards has an mi of 0.06\n",
            "\tBetter by an mi of 2.81 over features in isolation\n",
            " non linearish by 0.02\n",
            "\n",
            "TOMATOMETER Count + director_facebook_likes has an mi of 0.07\n",
            "\tBetter by an mi of 3.09 over features in isolation\n",
            " non linearish by 0.00\n",
            "\n",
            "Genre_Classics + Genre_SciFi has an mi of 0.05\n",
            "\tBetter by an mi of 10.12 over features in isolation\n",
            " non linearish by 0.00\n",
            "\n",
            "Genre_Romance + Rating_PG-13 has an mi of 0.05\n",
            "\tBetter by an mi of 21.52 over features in isolation\n",
            " non linearish by 0.01\n",
            "\n"
          ],
          "name": "stdout"
        }
      ]
    },
    {
      "cell_type": "markdown",
      "metadata": {
        "id": "qCH1hNUIbjqo"
      },
      "source": [
        "multiply Three variables"
      ]
    },
    {
      "cell_type": "code",
      "metadata": {
        "id": "VUHus8XbbjLc",
        "colab": {
          "base_uri": "https://localhost:8080/",
          "height": 377
        },
        "outputId": "26edd08d-9130-45d8-fe9c-5fc1adc51a95"
      },
      "source": [
        "%%capture --no-stdout  \n",
        "# Iterate through each combination of features\n",
        "for f1_index, f1 in enumerate(X_train.columns):\n",
        "  for f2_index, f2 in enumerate(X_train.columns[f1_index + 1:]):\n",
        "    for f3_index, f3 in enumerate(X_train.columns[f1_index + 2:]):\n",
        "      # Multiply the two features to create a new feature\n",
        "      new_feature = X_train[[f1]].multiply(X_train[[f2]].rename(columns = {X_train[[f2]].columns[0]:X_train[[f1]].columns[0]})) \n",
        "      new_feature = new_feature.multiply(X_train[[f3]].rename(columns = {X_train[[f3]].columns[0]:X_train[[f1]].columns[0]}))\n",
        "      # Evaluate F-value of new feature\n",
        "      mi_new= mutual_info_regression(new_feature, y_train)\n",
        "      # Evaluate the relative improvement of the new feature\n",
        "      mi_improvement = mi_new[0]/max(mi[[f1_index, f2_index]])\n",
        "      # Print out features that is sufficiently improved \n",
        "      if mi_improvement >= 1.5 and mi_new[0] >= 0.05:\n",
        "        '''Note that mi_improvement >= 1.5 and mi_new[0] >= 75 is\n",
        "         relatively arbitrary, and that other values could be used.'''\n",
        "        print(f'{f1} + {f2} + {f3} has an mi of {mi_new[0]:.2f}')\n",
        "        print(f'\\tBetter by an mi of {mi_improvement:.2f} over features in isolation')\n",
        "\n",
        "        #To see linear or not\n",
        "        f_test_new,_ = f_regression(new_feature, y_train)\n",
        "\n",
        "        f_test_r = f_test_new[0]/np.max(f_test)\n",
        "\n",
        "        if f_test_r >= 0.9:\n",
        "          print(f\"linearish by {f_test_r:.2f}\\n\")\n",
        "        else:\n",
        "          print(f\" non linearish by {f_test_r:.2f}\\n\")\n",
        "\n"
      ],
      "execution_count": null,
      "outputs": [
        {
          "output_type": "error",
          "ename": "KeyboardInterrupt",
          "evalue": "ignored",
          "traceback": [
            "\u001b[0;31m---------------------------------------------------------------------------\u001b[0m",
            "\u001b[0;31mKeyboardInterrupt\u001b[0m                         Traceback (most recent call last)",
            "\u001b[0;32m<ipython-input-18-192def9fdbbe>\u001b[0m in \u001b[0;36m<module>\u001b[0;34m()\u001b[0m\n\u001b[1;32m      5\u001b[0m       \u001b[0;31m# Multiply the two features to create a new feature\u001b[0m\u001b[0;34m\u001b[0m\u001b[0;34m\u001b[0m\u001b[0;34m\u001b[0m\u001b[0m\n\u001b[1;32m      6\u001b[0m       \u001b[0mnew_feature\u001b[0m \u001b[0;34m=\u001b[0m \u001b[0mX_train\u001b[0m\u001b[0;34m[\u001b[0m\u001b[0;34m[\u001b[0m\u001b[0mf1\u001b[0m\u001b[0;34m]\u001b[0m\u001b[0;34m]\u001b[0m\u001b[0;34m.\u001b[0m\u001b[0mmultiply\u001b[0m\u001b[0;34m(\u001b[0m\u001b[0mX_train\u001b[0m\u001b[0;34m[\u001b[0m\u001b[0;34m[\u001b[0m\u001b[0mf2\u001b[0m\u001b[0;34m]\u001b[0m\u001b[0;34m]\u001b[0m\u001b[0;34m.\u001b[0m\u001b[0mrename\u001b[0m\u001b[0;34m(\u001b[0m\u001b[0mcolumns\u001b[0m \u001b[0;34m=\u001b[0m \u001b[0;34m{\u001b[0m\u001b[0mX_train\u001b[0m\u001b[0;34m[\u001b[0m\u001b[0;34m[\u001b[0m\u001b[0mf2\u001b[0m\u001b[0;34m]\u001b[0m\u001b[0;34m]\u001b[0m\u001b[0;34m.\u001b[0m\u001b[0mcolumns\u001b[0m\u001b[0;34m[\u001b[0m\u001b[0;36m0\u001b[0m\u001b[0;34m]\u001b[0m\u001b[0;34m:\u001b[0m\u001b[0mX_train\u001b[0m\u001b[0;34m[\u001b[0m\u001b[0;34m[\u001b[0m\u001b[0mf1\u001b[0m\u001b[0;34m]\u001b[0m\u001b[0;34m]\u001b[0m\u001b[0;34m.\u001b[0m\u001b[0mcolumns\u001b[0m\u001b[0;34m[\u001b[0m\u001b[0;36m0\u001b[0m\u001b[0;34m]\u001b[0m\u001b[0;34m}\u001b[0m\u001b[0;34m)\u001b[0m\u001b[0;34m)\u001b[0m\u001b[0;34m\u001b[0m\u001b[0;34m\u001b[0m\u001b[0m\n\u001b[0;32m----> 7\u001b[0;31m       \u001b[0mnew_feature\u001b[0m \u001b[0;34m=\u001b[0m \u001b[0mnew_feature\u001b[0m\u001b[0;34m.\u001b[0m\u001b[0mmultiply\u001b[0m\u001b[0;34m(\u001b[0m\u001b[0mX_train\u001b[0m\u001b[0;34m[\u001b[0m\u001b[0;34m[\u001b[0m\u001b[0mf3\u001b[0m\u001b[0;34m]\u001b[0m\u001b[0;34m]\u001b[0m\u001b[0;34m.\u001b[0m\u001b[0mrename\u001b[0m\u001b[0;34m(\u001b[0m\u001b[0mcolumns\u001b[0m \u001b[0;34m=\u001b[0m \u001b[0;34m{\u001b[0m\u001b[0mX_train\u001b[0m\u001b[0;34m[\u001b[0m\u001b[0;34m[\u001b[0m\u001b[0mf3\u001b[0m\u001b[0;34m]\u001b[0m\u001b[0;34m]\u001b[0m\u001b[0;34m.\u001b[0m\u001b[0mcolumns\u001b[0m\u001b[0;34m[\u001b[0m\u001b[0;36m0\u001b[0m\u001b[0;34m]\u001b[0m\u001b[0;34m:\u001b[0m\u001b[0mX_train\u001b[0m\u001b[0;34m[\u001b[0m\u001b[0;34m[\u001b[0m\u001b[0mf1\u001b[0m\u001b[0;34m]\u001b[0m\u001b[0;34m]\u001b[0m\u001b[0;34m.\u001b[0m\u001b[0mcolumns\u001b[0m\u001b[0;34m[\u001b[0m\u001b[0;36m0\u001b[0m\u001b[0;34m]\u001b[0m\u001b[0;34m}\u001b[0m\u001b[0;34m)\u001b[0m\u001b[0;34m)\u001b[0m\u001b[0;34m\u001b[0m\u001b[0;34m\u001b[0m\u001b[0m\n\u001b[0m\u001b[1;32m      8\u001b[0m       \u001b[0;31m# Evaluate F-value of new feature\u001b[0m\u001b[0;34m\u001b[0m\u001b[0;34m\u001b[0m\u001b[0;34m\u001b[0m\u001b[0m\n\u001b[1;32m      9\u001b[0m       \u001b[0mmi_new\u001b[0m\u001b[0;34m=\u001b[0m \u001b[0mmutual_info_regression\u001b[0m\u001b[0;34m(\u001b[0m\u001b[0mnew_feature\u001b[0m\u001b[0;34m,\u001b[0m \u001b[0my_train\u001b[0m\u001b[0;34m)\u001b[0m\u001b[0;34m\u001b[0m\u001b[0;34m\u001b[0m\u001b[0m\n",
            "\u001b[0;32m/usr/local/lib/python3.6/dist-packages/pandas/core/frame.py\u001b[0m in \u001b[0;36m__getitem__\u001b[0;34m(self, key)\u001b[0m\n\u001b[1;32m   2867\u001b[0m             \u001b[0;32myield\u001b[0m \u001b[0mself\u001b[0m\u001b[0;34m.\u001b[0m\u001b[0m_get_column_array\u001b[0m\u001b[0;34m(\u001b[0m\u001b[0mi\u001b[0m\u001b[0;34m)\u001b[0m\u001b[0;34m\u001b[0m\u001b[0;34m\u001b[0m\u001b[0m\n\u001b[1;32m   2868\u001b[0m \u001b[0;34m\u001b[0m\u001b[0m\n\u001b[0;32m-> 2869\u001b[0;31m     \u001b[0;32mdef\u001b[0m \u001b[0m__getitem__\u001b[0m\u001b[0;34m(\u001b[0m\u001b[0mself\u001b[0m\u001b[0;34m,\u001b[0m \u001b[0mkey\u001b[0m\u001b[0;34m)\u001b[0m\u001b[0;34m:\u001b[0m\u001b[0;34m\u001b[0m\u001b[0;34m\u001b[0m\u001b[0m\n\u001b[0m\u001b[1;32m   2870\u001b[0m         \u001b[0mkey\u001b[0m \u001b[0;34m=\u001b[0m \u001b[0mlib\u001b[0m\u001b[0;34m.\u001b[0m\u001b[0mitem_from_zerodim\u001b[0m\u001b[0;34m(\u001b[0m\u001b[0mkey\u001b[0m\u001b[0;34m)\u001b[0m\u001b[0;34m\u001b[0m\u001b[0;34m\u001b[0m\u001b[0m\n\u001b[1;32m   2871\u001b[0m         \u001b[0mkey\u001b[0m \u001b[0;34m=\u001b[0m \u001b[0mcom\u001b[0m\u001b[0;34m.\u001b[0m\u001b[0mapply_if_callable\u001b[0m\u001b[0;34m(\u001b[0m\u001b[0mkey\u001b[0m\u001b[0;34m,\u001b[0m \u001b[0mself\u001b[0m\u001b[0;34m)\u001b[0m\u001b[0;34m\u001b[0m\u001b[0;34m\u001b[0m\u001b[0m\n",
            "\u001b[0;31mKeyboardInterrupt\u001b[0m: "
          ]
        }
      ]
    },
    {
      "cell_type": "markdown",
      "metadata": {
        "id": "zxhm39h9tFkn"
      },
      "source": [
        "Add three var"
      ]
    },
    {
      "cell_type": "code",
      "metadata": {
        "id": "MlsaDhAktD_A",
        "colab": {
          "base_uri": "https://localhost:8080/",
          "height": 384
        },
        "outputId": "8bc09b37-9352-40e3-ce67-e40cc118df96"
      },
      "source": [
        "%%capture --no-stdout  \n",
        "# Iterate through each combination of features\n",
        "for f1_index, f1 in enumerate(X_train.columns):\n",
        "  for f2_index, f2 in enumerate(X_train.columns[f1_index + 1:]):\n",
        "    for f3_index, f3 in enumerate(X_train.columns[f1_index + 2:]):\n",
        "      # Multiply the two features to create a new feature\n",
        "      new_feature = X_train[[f1]].add(X_train[[f2]].rename(columns = {X_train[[f2]].columns[0]:X_train[[f1]].columns[0]})) \n",
        "      new_feature = new_feature.add(X_train[[f3]].rename(columns = {X_train[[f3]].columns[0]:X_train[[f1]].columns[0]}))\n",
        "      # Evaluate F-value of new feature\n",
        "      mi_new= mutual_info_regression(new_feature, y_train)\n",
        "      # Evaluate the relative improvement of the new feature\n",
        "      mi_improvement = mi_new[0]/max(mi[[f1_index, f2_index]])\n",
        "      # Print out features that is sufficiently improved \n",
        "      if mi_improvement >= 1.5 and mi_new[0] >= 0.08:\n",
        "        '''Note that mi_improvement >= 1.5 and mi_new[0] >= 75 is\n",
        "         relatively arbitrary, and that other values could be used.'''\n",
        "        print(f'{f1} + {f2} + {f3} has an mi of {mi_new[0]:.2f}')\n",
        "        print(f'\\tBetter by an mi of {mi_improvement:.2f} over features in isolation')\n",
        "\n",
        "        #To see linear or not\n",
        "        f_test_new,_ = f_regression(new_feature, y_train)\n",
        "\n",
        "        f_test_r = f_test_new[0]/np.max(f_test)\n",
        "\n",
        "        if f_test_r >= 0.9:\n",
        "          print(f\"linearish by {f_test_r:.2f}\\n\")\n",
        "        else:\n",
        "          print(f\" non linearish by {f_test_r:.2f}\\n\")"
      ],
      "execution_count": null,
      "outputs": [
        {
          "output_type": "error",
          "ename": "KeyboardInterrupt",
          "evalue": "ignored",
          "traceback": [
            "\u001b[0;31m---------------------------------------------------------------------------\u001b[0m",
            "\u001b[0;31mKeyboardInterrupt\u001b[0m                         Traceback (most recent call last)",
            "\u001b[0;32m<ipython-input-19-e2315b31832c>\u001b[0m in \u001b[0;36m<module>\u001b[0;34m()\u001b[0m\n\u001b[1;32m      7\u001b[0m       \u001b[0mnew_feature\u001b[0m \u001b[0;34m=\u001b[0m \u001b[0mnew_feature\u001b[0m\u001b[0;34m.\u001b[0m\u001b[0madd\u001b[0m\u001b[0;34m(\u001b[0m\u001b[0mX_train\u001b[0m\u001b[0;34m[\u001b[0m\u001b[0;34m[\u001b[0m\u001b[0mf3\u001b[0m\u001b[0;34m]\u001b[0m\u001b[0;34m]\u001b[0m\u001b[0;34m.\u001b[0m\u001b[0mrename\u001b[0m\u001b[0;34m(\u001b[0m\u001b[0mcolumns\u001b[0m \u001b[0;34m=\u001b[0m \u001b[0;34m{\u001b[0m\u001b[0mX_train\u001b[0m\u001b[0;34m[\u001b[0m\u001b[0;34m[\u001b[0m\u001b[0mf3\u001b[0m\u001b[0;34m]\u001b[0m\u001b[0;34m]\u001b[0m\u001b[0;34m.\u001b[0m\u001b[0mcolumns\u001b[0m\u001b[0;34m[\u001b[0m\u001b[0;36m0\u001b[0m\u001b[0;34m]\u001b[0m\u001b[0;34m:\u001b[0m\u001b[0mX_train\u001b[0m\u001b[0;34m[\u001b[0m\u001b[0;34m[\u001b[0m\u001b[0mf1\u001b[0m\u001b[0;34m]\u001b[0m\u001b[0;34m]\u001b[0m\u001b[0;34m.\u001b[0m\u001b[0mcolumns\u001b[0m\u001b[0;34m[\u001b[0m\u001b[0;36m0\u001b[0m\u001b[0;34m]\u001b[0m\u001b[0;34m}\u001b[0m\u001b[0;34m)\u001b[0m\u001b[0;34m)\u001b[0m\u001b[0;34m\u001b[0m\u001b[0;34m\u001b[0m\u001b[0m\n\u001b[1;32m      8\u001b[0m       \u001b[0;31m# Evaluate F-value of new feature\u001b[0m\u001b[0;34m\u001b[0m\u001b[0;34m\u001b[0m\u001b[0;34m\u001b[0m\u001b[0m\n\u001b[0;32m----> 9\u001b[0;31m       \u001b[0mmi_new\u001b[0m\u001b[0;34m=\u001b[0m \u001b[0mmutual_info_regression\u001b[0m\u001b[0;34m(\u001b[0m\u001b[0mnew_feature\u001b[0m\u001b[0;34m,\u001b[0m \u001b[0my_train\u001b[0m\u001b[0;34m)\u001b[0m\u001b[0;34m\u001b[0m\u001b[0;34m\u001b[0m\u001b[0m\n\u001b[0m\u001b[1;32m     10\u001b[0m       \u001b[0;31m# Evaluate the relative improvement of the new feature\u001b[0m\u001b[0;34m\u001b[0m\u001b[0;34m\u001b[0m\u001b[0;34m\u001b[0m\u001b[0m\n\u001b[1;32m     11\u001b[0m       \u001b[0mmi_improvement\u001b[0m \u001b[0;34m=\u001b[0m \u001b[0mmi_new\u001b[0m\u001b[0;34m[\u001b[0m\u001b[0;36m0\u001b[0m\u001b[0;34m]\u001b[0m\u001b[0;34m/\u001b[0m\u001b[0mmax\u001b[0m\u001b[0;34m(\u001b[0m\u001b[0mmi\u001b[0m\u001b[0;34m[\u001b[0m\u001b[0;34m[\u001b[0m\u001b[0mf1_index\u001b[0m\u001b[0;34m,\u001b[0m \u001b[0mf2_index\u001b[0m\u001b[0;34m]\u001b[0m\u001b[0;34m]\u001b[0m\u001b[0;34m)\u001b[0m\u001b[0;34m\u001b[0m\u001b[0;34m\u001b[0m\u001b[0m\n",
            "\u001b[0;32m/usr/local/lib/python3.6/dist-packages/sklearn/feature_selection/_mutual_info.py\u001b[0m in \u001b[0;36mmutual_info_regression\u001b[0;34m(X, y, discrete_features, n_neighbors, copy, random_state)\u001b[0m\n\u001b[1;32m    369\u001b[0m     \"\"\"\n\u001b[1;32m    370\u001b[0m     return _estimate_mi(X, y, discrete_features, False, n_neighbors,\n\u001b[0;32m--> 371\u001b[0;31m                         copy, random_state)\n\u001b[0m\u001b[1;32m    372\u001b[0m \u001b[0;34m\u001b[0m\u001b[0m\n\u001b[1;32m    373\u001b[0m \u001b[0;34m\u001b[0m\u001b[0m\n",
            "\u001b[0;32m/usr/local/lib/python3.6/dist-packages/sklearn/feature_selection/_mutual_info.py\u001b[0m in \u001b[0;36m_estimate_mi\u001b[0;34m(X, y, discrete_features, discrete_target, n_neighbors, copy, random_state)\u001b[0m\n\u001b[1;32m    288\u001b[0m \u001b[0;34m\u001b[0m\u001b[0m\n\u001b[1;32m    289\u001b[0m     mi = [_compute_mi(x, y, discrete_feature, discrete_target, n_neighbors) for\n\u001b[0;32m--> 290\u001b[0;31m           x, discrete_feature in zip(_iterate_columns(X), discrete_mask)]\n\u001b[0m\u001b[1;32m    291\u001b[0m \u001b[0;34m\u001b[0m\u001b[0m\n\u001b[1;32m    292\u001b[0m     \u001b[0;32mreturn\u001b[0m \u001b[0mnp\u001b[0m\u001b[0;34m.\u001b[0m\u001b[0marray\u001b[0m\u001b[0;34m(\u001b[0m\u001b[0mmi\u001b[0m\u001b[0;34m)\u001b[0m\u001b[0;34m\u001b[0m\u001b[0;34m\u001b[0m\u001b[0m\n",
            "\u001b[0;32m/usr/local/lib/python3.6/dist-packages/sklearn/feature_selection/_mutual_info.py\u001b[0m in \u001b[0;36m<listcomp>\u001b[0;34m(.0)\u001b[0m\n\u001b[1;32m    288\u001b[0m \u001b[0;34m\u001b[0m\u001b[0m\n\u001b[1;32m    289\u001b[0m     mi = [_compute_mi(x, y, discrete_feature, discrete_target, n_neighbors) for\n\u001b[0;32m--> 290\u001b[0;31m           x, discrete_feature in zip(_iterate_columns(X), discrete_mask)]\n\u001b[0m\u001b[1;32m    291\u001b[0m \u001b[0;34m\u001b[0m\u001b[0m\n\u001b[1;32m    292\u001b[0m     \u001b[0;32mreturn\u001b[0m \u001b[0mnp\u001b[0m\u001b[0;34m.\u001b[0m\u001b[0marray\u001b[0m\u001b[0;34m(\u001b[0m\u001b[0mmi\u001b[0m\u001b[0;34m)\u001b[0m\u001b[0;34m\u001b[0m\u001b[0;34m\u001b[0m\u001b[0m\n",
            "\u001b[0;32m/usr/local/lib/python3.6/dist-packages/sklearn/feature_selection/_mutual_info.py\u001b[0m in \u001b[0;36m_compute_mi\u001b[0;34m(x, y, x_discrete, y_discrete, n_neighbors)\u001b[0m\n\u001b[1;32m    160\u001b[0m         \u001b[0;32mreturn\u001b[0m \u001b[0m_compute_mi_cd\u001b[0m\u001b[0;34m(\u001b[0m\u001b[0mx\u001b[0m\u001b[0;34m,\u001b[0m \u001b[0my\u001b[0m\u001b[0;34m,\u001b[0m \u001b[0mn_neighbors\u001b[0m\u001b[0;34m)\u001b[0m\u001b[0;34m\u001b[0m\u001b[0;34m\u001b[0m\u001b[0m\n\u001b[1;32m    161\u001b[0m     \u001b[0;32melse\u001b[0m\u001b[0;34m:\u001b[0m\u001b[0;34m\u001b[0m\u001b[0;34m\u001b[0m\u001b[0m\n\u001b[0;32m--> 162\u001b[0;31m         \u001b[0;32mreturn\u001b[0m \u001b[0m_compute_mi_cc\u001b[0m\u001b[0;34m(\u001b[0m\u001b[0mx\u001b[0m\u001b[0;34m,\u001b[0m \u001b[0my\u001b[0m\u001b[0;34m,\u001b[0m \u001b[0mn_neighbors\u001b[0m\u001b[0;34m)\u001b[0m\u001b[0;34m\u001b[0m\u001b[0;34m\u001b[0m\u001b[0m\n\u001b[0m\u001b[1;32m    163\u001b[0m \u001b[0;34m\u001b[0m\u001b[0m\n\u001b[1;32m    164\u001b[0m \u001b[0;34m\u001b[0m\u001b[0m\n",
            "\u001b[0;32m/usr/local/lib/python3.6/dist-packages/sklearn/feature_selection/_mutual_info.py\u001b[0m in \u001b[0;36m_compute_mi_cc\u001b[0;34m(x, y, n_neighbors)\u001b[0m\n\u001b[1;32m     66\u001b[0m     \u001b[0mnx\u001b[0m \u001b[0;34m=\u001b[0m \u001b[0mnp\u001b[0m\u001b[0;34m.\u001b[0m\u001b[0marray\u001b[0m\u001b[0;34m(\u001b[0m\u001b[0;34m[\u001b[0m\u001b[0mi\u001b[0m\u001b[0;34m.\u001b[0m\u001b[0msize\u001b[0m \u001b[0;32mfor\u001b[0m \u001b[0mi\u001b[0m \u001b[0;32min\u001b[0m \u001b[0mind\u001b[0m\u001b[0;34m]\u001b[0m\u001b[0;34m)\u001b[0m\u001b[0;34m\u001b[0m\u001b[0;34m\u001b[0m\u001b[0m\n\u001b[1;32m     67\u001b[0m \u001b[0;34m\u001b[0m\u001b[0m\n\u001b[0;32m---> 68\u001b[0;31m     \u001b[0mnn\u001b[0m\u001b[0;34m.\u001b[0m\u001b[0mfit\u001b[0m\u001b[0;34m(\u001b[0m\u001b[0my\u001b[0m\u001b[0;34m)\u001b[0m\u001b[0;34m\u001b[0m\u001b[0;34m\u001b[0m\u001b[0m\n\u001b[0m\u001b[1;32m     69\u001b[0m     \u001b[0mind\u001b[0m \u001b[0;34m=\u001b[0m \u001b[0mnn\u001b[0m\u001b[0;34m.\u001b[0m\u001b[0mradius_neighbors\u001b[0m\u001b[0;34m(\u001b[0m\u001b[0mradius\u001b[0m\u001b[0;34m=\u001b[0m\u001b[0mradius\u001b[0m\u001b[0;34m,\u001b[0m \u001b[0mreturn_distance\u001b[0m\u001b[0;34m=\u001b[0m\u001b[0;32mFalse\u001b[0m\u001b[0;34m)\u001b[0m\u001b[0;34m\u001b[0m\u001b[0;34m\u001b[0m\u001b[0m\n\u001b[1;32m     70\u001b[0m     \u001b[0mny\u001b[0m \u001b[0;34m=\u001b[0m \u001b[0mnp\u001b[0m\u001b[0;34m.\u001b[0m\u001b[0marray\u001b[0m\u001b[0;34m(\u001b[0m\u001b[0;34m[\u001b[0m\u001b[0mi\u001b[0m\u001b[0;34m.\u001b[0m\u001b[0msize\u001b[0m \u001b[0;32mfor\u001b[0m \u001b[0mi\u001b[0m \u001b[0;32min\u001b[0m \u001b[0mind\u001b[0m\u001b[0;34m]\u001b[0m\u001b[0;34m)\u001b[0m\u001b[0;34m\u001b[0m\u001b[0;34m\u001b[0m\u001b[0m\n",
            "\u001b[0;32m/usr/local/lib/python3.6/dist-packages/sklearn/neighbors/_base.py\u001b[0m in \u001b[0;36mfit\u001b[0;34m(self, X, y)\u001b[0m\n\u001b[1;32m   1162\u001b[0m             \u001b[0;32mor\u001b[0m \u001b[0;34m[\u001b[0m\u001b[0mn_samples\u001b[0m\u001b[0;34m,\u001b[0m \u001b[0mn_samples\u001b[0m\u001b[0;34m]\u001b[0m \u001b[0;32mif\u001b[0m \u001b[0mmetric\u001b[0m\u001b[0;34m=\u001b[0m\u001b[0;34m'precomputed'\u001b[0m\u001b[0;34m.\u001b[0m\u001b[0;34m\u001b[0m\u001b[0;34m\u001b[0m\u001b[0m\n\u001b[1;32m   1163\u001b[0m         \"\"\"\n\u001b[0;32m-> 1164\u001b[0;31m         \u001b[0;32mreturn\u001b[0m \u001b[0mself\u001b[0m\u001b[0;34m.\u001b[0m\u001b[0m_fit\u001b[0m\u001b[0;34m(\u001b[0m\u001b[0mX\u001b[0m\u001b[0;34m)\u001b[0m\u001b[0;34m\u001b[0m\u001b[0;34m\u001b[0m\u001b[0m\n\u001b[0m",
            "\u001b[0;32m/usr/local/lib/python3.6/dist-packages/sklearn/neighbors/_base.py\u001b[0m in \u001b[0;36m_fit\u001b[0;34m(self, X)\u001b[0m\n\u001b[1;32m    455\u001b[0m             self._tree = KDTree(X, self.leaf_size,\n\u001b[1;32m    456\u001b[0m                                 \u001b[0mmetric\u001b[0m\u001b[0;34m=\u001b[0m\u001b[0mself\u001b[0m\u001b[0;34m.\u001b[0m\u001b[0meffective_metric_\u001b[0m\u001b[0;34m,\u001b[0m\u001b[0;34m\u001b[0m\u001b[0;34m\u001b[0m\u001b[0m\n\u001b[0;32m--> 457\u001b[0;31m                                 **self.effective_metric_params_)\n\u001b[0m\u001b[1;32m    458\u001b[0m         \u001b[0;32melif\u001b[0m \u001b[0mself\u001b[0m\u001b[0;34m.\u001b[0m\u001b[0m_fit_method\u001b[0m \u001b[0;34m==\u001b[0m \u001b[0;34m'brute'\u001b[0m\u001b[0;34m:\u001b[0m\u001b[0;34m\u001b[0m\u001b[0;34m\u001b[0m\u001b[0m\n\u001b[1;32m    459\u001b[0m             \u001b[0mself\u001b[0m\u001b[0;34m.\u001b[0m\u001b[0m_tree\u001b[0m \u001b[0;34m=\u001b[0m \u001b[0;32mNone\u001b[0m\u001b[0;34m\u001b[0m\u001b[0;34m\u001b[0m\u001b[0m\n",
            "\u001b[0;31mKeyboardInterrupt\u001b[0m: "
          ]
        }
      ]
    },
    {
      "cell_type": "markdown",
      "metadata": {
        "id": "r_a_3R0jtaro"
      },
      "source": [
        "Add three scaled variables"
      ]
    },
    {
      "cell_type": "code",
      "metadata": {
        "id": "uGS7pbGJtaPU",
        "colab": {
          "base_uri": "https://localhost:8080/",
          "height": 384
        },
        "outputId": "10723d77-5ac3-418a-ccc9-1a6ac5ab21e5"
      },
      "source": [
        "%%capture --no-stdout    \n",
        "\n",
        "mi = mutual_info_regression(X_train_scaled, y_train_scaled)\n",
        "f_test,_ = f_regression(X_train_scaled, y_train_scaled)\n",
        "f_test = np.nan_to_num(f_test)\n",
        "\n",
        "# Iterate through each combination of features\n",
        "for f1_index, f1 in enumerate(X_train_scaled.columns):\n",
        "  for f2_index, f2 in enumerate(X_train_scaled.columns[f1_index + 1:]):\n",
        "    for f3_index, f3 in enumerate(X_train_scaled.columns[f1_index + 2:]):\n",
        "        # Multiply the two features to create a new feature\n",
        "        new_feature = X_train_scaled[[f1]].add(X_train_scaled[[f2]].rename(columns = {X_train_scaled[[f2]].columns[0]:X_train_scaled[[f1]].columns[0]})) \n",
        "        new_feature = new_feature.add(X_train_scaled[[f3]].rename(columns = {X_train_scaled[[f3]].columns[0]:X_train_scaled[[f1]].columns[0]}))\n",
        "        \n",
        "        # Evaluate F-value of new feature\n",
        "        mi_new= mutual_info_regression(new_feature, y_train_scaled)\n",
        "        # Evaluate the relative improvement of the new feature\n",
        "        mi_improvement = mi_new[0]/max(mi[[f1_index, f2_index]])\n",
        "        # Print out features that is sufficiently improved \n",
        "        if mi_improvement >= 1.5 and mi_new[0] >= 0.10:\n",
        "          '''Note that mi_improvement >= 1.5 and mi_new[0] >= 75 is\n",
        "          relatively arbitrary, and that other values could be used.'''\n",
        "          print(f'{f1} + {f2} + {f3}  has an mi of {mi_new[0]:.2f}')\n",
        "          print(f'\\tBetter by an mi of {mi_improvement:.2f} over features in isolation')\n",
        "\n",
        "          #To see linear or not\n",
        "          f_test_new,_ = f_regression(new_feature, y_train_scaled)\n",
        "\n",
        "          f_test_r = f_test_new[0]/np.max(f_test)\n",
        "\n",
        "          if f_test_r >= 0.9:\n",
        "            print(f\"linearish by {f_test_r:.2f}\\n\")\n",
        "          else:\n",
        "            print(f\" non linearish by {f_test_r:.2f}\\n\")"
      ],
      "execution_count": null,
      "outputs": [
        {
          "output_type": "error",
          "ename": "KeyboardInterrupt",
          "evalue": "ignored",
          "traceback": [
            "\u001b[0;31m---------------------------------------------------------------------------\u001b[0m",
            "\u001b[0;31mKeyboardInterrupt\u001b[0m                         Traceback (most recent call last)",
            "\u001b[0;32m<ipython-input-20-e968466add8b>\u001b[0m in \u001b[0;36m<module>\u001b[0;34m()\u001b[0m\n\u001b[1;32m      1\u001b[0m \u001b[0;34m\u001b[0m\u001b[0m\n\u001b[0;32m----> 2\u001b[0;31m \u001b[0mmi\u001b[0m \u001b[0;34m=\u001b[0m \u001b[0mmutual_info_regression\u001b[0m\u001b[0;34m(\u001b[0m\u001b[0mX_train_scaled\u001b[0m\u001b[0;34m,\u001b[0m \u001b[0my_train_scaled\u001b[0m\u001b[0;34m)\u001b[0m\u001b[0;34m\u001b[0m\u001b[0;34m\u001b[0m\u001b[0m\n\u001b[0m\u001b[1;32m      3\u001b[0m \u001b[0mf_test\u001b[0m\u001b[0;34m,\u001b[0m\u001b[0m_\u001b[0m \u001b[0;34m=\u001b[0m \u001b[0mf_regression\u001b[0m\u001b[0;34m(\u001b[0m\u001b[0mX_train_scaled\u001b[0m\u001b[0;34m,\u001b[0m \u001b[0my_train_scaled\u001b[0m\u001b[0;34m)\u001b[0m\u001b[0;34m\u001b[0m\u001b[0;34m\u001b[0m\u001b[0m\n\u001b[1;32m      4\u001b[0m \u001b[0mf_test\u001b[0m \u001b[0;34m=\u001b[0m \u001b[0mnp\u001b[0m\u001b[0;34m.\u001b[0m\u001b[0mnan_to_num\u001b[0m\u001b[0;34m(\u001b[0m\u001b[0mf_test\u001b[0m\u001b[0;34m)\u001b[0m\u001b[0;34m\u001b[0m\u001b[0;34m\u001b[0m\u001b[0m\n\u001b[1;32m      5\u001b[0m \u001b[0;34m\u001b[0m\u001b[0m\n",
            "\u001b[0;32m/usr/local/lib/python3.6/dist-packages/sklearn/feature_selection/_mutual_info.py\u001b[0m in \u001b[0;36mmutual_info_regression\u001b[0;34m(X, y, discrete_features, n_neighbors, copy, random_state)\u001b[0m\n\u001b[1;32m    369\u001b[0m     \"\"\"\n\u001b[1;32m    370\u001b[0m     return _estimate_mi(X, y, discrete_features, False, n_neighbors,\n\u001b[0;32m--> 371\u001b[0;31m                         copy, random_state)\n\u001b[0m\u001b[1;32m    372\u001b[0m \u001b[0;34m\u001b[0m\u001b[0m\n\u001b[1;32m    373\u001b[0m \u001b[0;34m\u001b[0m\u001b[0m\n",
            "\u001b[0;32m/usr/local/lib/python3.6/dist-packages/sklearn/feature_selection/_mutual_info.py\u001b[0m in \u001b[0;36m_estimate_mi\u001b[0;34m(X, y, discrete_features, discrete_target, n_neighbors, copy, random_state)\u001b[0m\n\u001b[1;32m    288\u001b[0m \u001b[0;34m\u001b[0m\u001b[0m\n\u001b[1;32m    289\u001b[0m     mi = [_compute_mi(x, y, discrete_feature, discrete_target, n_neighbors) for\n\u001b[0;32m--> 290\u001b[0;31m           x, discrete_feature in zip(_iterate_columns(X), discrete_mask)]\n\u001b[0m\u001b[1;32m    291\u001b[0m \u001b[0;34m\u001b[0m\u001b[0m\n\u001b[1;32m    292\u001b[0m     \u001b[0;32mreturn\u001b[0m \u001b[0mnp\u001b[0m\u001b[0;34m.\u001b[0m\u001b[0marray\u001b[0m\u001b[0;34m(\u001b[0m\u001b[0mmi\u001b[0m\u001b[0;34m)\u001b[0m\u001b[0;34m\u001b[0m\u001b[0;34m\u001b[0m\u001b[0m\n",
            "\u001b[0;32m/usr/local/lib/python3.6/dist-packages/sklearn/feature_selection/_mutual_info.py\u001b[0m in \u001b[0;36m<listcomp>\u001b[0;34m(.0)\u001b[0m\n\u001b[1;32m    288\u001b[0m \u001b[0;34m\u001b[0m\u001b[0m\n\u001b[1;32m    289\u001b[0m     mi = [_compute_mi(x, y, discrete_feature, discrete_target, n_neighbors) for\n\u001b[0;32m--> 290\u001b[0;31m           x, discrete_feature in zip(_iterate_columns(X), discrete_mask)]\n\u001b[0m\u001b[1;32m    291\u001b[0m \u001b[0;34m\u001b[0m\u001b[0m\n\u001b[1;32m    292\u001b[0m     \u001b[0;32mreturn\u001b[0m \u001b[0mnp\u001b[0m\u001b[0;34m.\u001b[0m\u001b[0marray\u001b[0m\u001b[0;34m(\u001b[0m\u001b[0mmi\u001b[0m\u001b[0;34m)\u001b[0m\u001b[0;34m\u001b[0m\u001b[0;34m\u001b[0m\u001b[0m\n",
            "\u001b[0;32m/usr/local/lib/python3.6/dist-packages/sklearn/feature_selection/_mutual_info.py\u001b[0m in \u001b[0;36m_compute_mi\u001b[0;34m(x, y, x_discrete, y_discrete, n_neighbors)\u001b[0m\n\u001b[1;32m    160\u001b[0m         \u001b[0;32mreturn\u001b[0m \u001b[0m_compute_mi_cd\u001b[0m\u001b[0;34m(\u001b[0m\u001b[0mx\u001b[0m\u001b[0;34m,\u001b[0m \u001b[0my\u001b[0m\u001b[0;34m,\u001b[0m \u001b[0mn_neighbors\u001b[0m\u001b[0;34m)\u001b[0m\u001b[0;34m\u001b[0m\u001b[0;34m\u001b[0m\u001b[0m\n\u001b[1;32m    161\u001b[0m     \u001b[0;32melse\u001b[0m\u001b[0;34m:\u001b[0m\u001b[0;34m\u001b[0m\u001b[0;34m\u001b[0m\u001b[0m\n\u001b[0;32m--> 162\u001b[0;31m         \u001b[0;32mreturn\u001b[0m \u001b[0m_compute_mi_cc\u001b[0m\u001b[0;34m(\u001b[0m\u001b[0mx\u001b[0m\u001b[0;34m,\u001b[0m \u001b[0my\u001b[0m\u001b[0;34m,\u001b[0m \u001b[0mn_neighbors\u001b[0m\u001b[0;34m)\u001b[0m\u001b[0;34m\u001b[0m\u001b[0;34m\u001b[0m\u001b[0m\n\u001b[0m\u001b[1;32m    163\u001b[0m \u001b[0;34m\u001b[0m\u001b[0m\n\u001b[1;32m    164\u001b[0m \u001b[0;34m\u001b[0m\u001b[0m\n",
            "\u001b[0;31mKeyboardInterrupt\u001b[0m: "
          ]
        }
      ]
    },
    {
      "cell_type": "markdown",
      "metadata": {
        "id": "EGfzUxFiHdZ_"
      },
      "source": [
        "# New Feature Combos"
      ]
    },
    {
      "cell_type": "markdown",
      "metadata": {
        "id": "6mvp1WFYu60W"
      },
      "source": [
        "I think i have to try different combintation of these feature and also i have to fix Total Fb likes since that has been a didfferent column now"
      ]
    },
    {
      "cell_type": "code",
      "metadata": {
        "id": "JhJbh_qOJPoJ"
      },
      "source": [
        "# get number of genre colummn, total number of cast oscar, total number of director and cast likes, \n",
        "def new_feature_combos(X,condition):\n",
        "   \n",
        "    # First, we apply the monotone transform function\n",
        "    X_new = X.copy()\n",
        "    \n",
        "    # Then we add new features\n",
        "    enters_genre = True\n",
        "    enters_oscar = True\n",
        "    enters_FB = True\n",
        "    enters_award =True\n",
        "\n",
        "    for f_index, f in enumerate(X_new.columns):\n",
        "      if  'Genre' in f:\n",
        "        if enters_genre:\n",
        "          new_feature_genre = X_new[[f]].rename(columns = {X_new[[f]].columns[0]:\"total_genre\"})\n",
        "          enters_genre = False\n",
        "        else:\n",
        "          new_feature_genre = new_feature_genre.add(X_new[[f]].rename(columns = {X_new[[f]].columns[0]:\"total_genre\"})) \n",
        "\n",
        "      elif 'oscar_nom' in f:\n",
        "        if enters_oscar:\n",
        "          new_feature_oscar_nom = X_new[[f]].rename(columns = {X_new[[f]].columns[0]:\"total_oscar_nom\"})\n",
        "          enters_oscar = False\n",
        "        else:\n",
        "          new_feature_oscar_nom = new_feature_oscar_nom.add(X_new[[f]].rename(columns = {X_new[[f]].columns[0]:\"total_oscar_nom\"})) \n",
        "\n",
        "      \n",
        "      elif 'FB_likes' in f:\n",
        "         if enters_FB:\n",
        "          new_feature_FB = X_new[[f]].rename(columns = {X_new[[f]].columns[0]:\"total_cast_facebook_likes\"})\n",
        "          enters_FB = False\n",
        "         else:\n",
        "          new_feature_FB = new_feature_FB.add(X_new[[f]].rename(columns = {X_new[[f]].columns[0]:\"total_cast_facebook_likes\"})) \n",
        "\n",
        "\n",
        "      elif 'oscars' in f or 'awards' in f:\n",
        "        if enters_award:\n",
        "          new_feature_awards = X_new[[f]].rename(columns = {X_new[[f]].columns[0]:\"total_awards\"})\n",
        "          enters_award = False\n",
        "        else:\n",
        "          new_feature_awards = new_feature_awards.add(X_new[[f]].rename(columns = {X_new[[f]].columns[0]:\"total_awards\"})) \n",
        "\n",
        "\n",
        "    #X_new['total_genre'] = new_feature_genre\n",
        "    #X_new['total_oscar_nom'] = new_feature_oscar_nom\n",
        "    #X_new['Total_FB'] = new_feature_FB\n",
        "    #X_new['total_awards'] = new_feature_awards\n",
        "    # im gonna use this to see\n",
        "    #X_new['Runtime + Genre_Horror + Rating_PG-13'] = X_new.Runtime + X_new.Genre_Horror + X_new.Rating_PG-13\n",
        "\n",
        "    if condition == 'max':\n",
        "      X_new['Genre_Horror + Rating_G + Rating_NR'] = X_new.Rating_G + X_new.Genre_Horror + X_new.Rating_NR\n",
        "    elif condition == 'overall':\n",
        "      X_new['Genre_Horror + Rating_G + Rating_NR'] = X_new.Rating_G + X_new.Genre_Horror + X_new.Rating_NR\n",
        "      X_new['total_cast_facebook_likes'] = new_feature_FB\n",
        "\n",
        "\n",
        "\n",
        "    #tried lot of combo this one was the best one\n",
        "    #X_new['Genre_Horror + Rating_G + Rating_NR'] = X_new.Rating_G + X_new.Genre_Horror + X_new.Rating_NR\n",
        "\n",
        "    return X_new\n",
        "\n",
        "# Make new X features with interactions\n",
        "X_train_interactions = new_feature_combos(X_train,'max')\n",
        "X_val_interactions = new_feature_combos(X_val,'max')\n",
        "\n",
        "X_train_interactions_scaled = new_feature_combos(X_train_scaled,'max')\n",
        "X_val_interactions_scaled = new_feature_combos(X_val_scaled,'max')\n",
        "\n",
        "\n",
        "X_train_interactions_overall = new_feature_combos(X_train, 'overall')\n",
        "X_val_interactions_overall = new_feature_combos(X_val,'overall')\n"
      ],
      "execution_count": null,
      "outputs": []
    },
    {
      "cell_type": "code",
      "metadata": {
        "id": "bwV1o3_AHhmB",
        "colab": {
          "base_uri": "https://localhost:8080/",
          "height": 505
        },
        "outputId": "be0c0da3-fe20-4cd1-ddb7-2cb43404a3e0"
      },
      "source": [
        "#investigate the negative training score....\n",
        "all_models = fit_and_score_model(all_models, 'Feature_Engineering', X_train_interactions, X_val_interactions, y_train, y_val)\n",
        "\n",
        "print('_________________________\\n')\n",
        "compare_models('Feature_Engineering')\n",
        "all_models.loc[:, 'Feature_Engineering', :].head()\n",
        "\n",
        "\n",
        "#investigate the negative training score....\n",
        "all_models = fit_and_score_model(all_models, 'Feature_Engineering_overall', X_train_interactions_overall, X_val_interactions_overall, y_train, y_val)\n",
        "\n",
        "print('_________________________\\n')\n",
        "compare_models('Feature_Engineering_overall')\n",
        "all_models.loc[:, 'Feature_Engineering_overall', :].head()\n",
        "\n"
      ],
      "execution_count": null,
      "outputs": [
        {
          "output_type": "stream",
          "text": [
            "LinReg achieved a train score of 0.368 and test score of 0.371\n",
            "LassoCV achieved a train score of 0.339 and test score of 0.349\n",
            "RidgeCV achieved a train score of 0.366 and test score of 0.376\n",
            "RF achieved a train score of 0.901 and test score of 0.350\n",
            "CART achieved a train score of 1.000 and test score of -0.318\n",
            "_________________________\n",
            "\n",
            "On average, scores improved by 0.01, and the most improvement was 0.03\n",
            "LinReg achieved a train score of 0.368 and test score of 0.371\n",
            "LassoCV achieved a train score of 0.339 and test score of 0.349\n",
            "RidgeCV achieved a train score of 0.366 and test score of 0.376\n",
            "RF achieved a train score of 0.902 and test score of 0.341\n",
            "CART achieved a train score of 1.000 and test score of -0.187\n",
            "_________________________\n",
            "\n",
            "On average, scores improved by 0.03, and the most improvement was 0.16\n"
          ],
          "name": "stdout"
        },
        {
          "output_type": "execute_result",
          "data": {
            "text/html": [
              "<div>\n",
              "<style scoped>\n",
              "    .dataframe tbody tr th:only-of-type {\n",
              "        vertical-align: middle;\n",
              "    }\n",
              "\n",
              "    .dataframe tbody tr th {\n",
              "        vertical-align: top;\n",
              "    }\n",
              "\n",
              "    .dataframe thead th {\n",
              "        text-align: right;\n",
              "    }\n",
              "</style>\n",
              "<table border=\"1\" class=\"dataframe\">\n",
              "  <thead>\n",
              "    <tr style=\"text-align: right;\">\n",
              "      <th></th>\n",
              "      <th>TrainScore</th>\n",
              "      <th>TestScore</th>\n",
              "      <th>Model</th>\n",
              "    </tr>\n",
              "    <tr>\n",
              "      <th>model names</th>\n",
              "      <th></th>\n",
              "      <th></th>\n",
              "      <th></th>\n",
              "    </tr>\n",
              "  </thead>\n",
              "  <tbody>\n",
              "    <tr>\n",
              "      <th>LinReg</th>\n",
              "      <td>0.367663</td>\n",
              "      <td>0.371158</td>\n",
              "      <td>LinearRegression(copy_X=True, fit_intercept=Tr...</td>\n",
              "    </tr>\n",
              "    <tr>\n",
              "      <th>LassoCV</th>\n",
              "      <td>0.338932</td>\n",
              "      <td>0.348813</td>\n",
              "      <td>LassoCV(alphas=None, copy_X=True, cv=None, eps...</td>\n",
              "    </tr>\n",
              "    <tr>\n",
              "      <th>RidgeCV</th>\n",
              "      <td>0.366076</td>\n",
              "      <td>0.375641</td>\n",
              "      <td>RidgeCV(alphas=array([ 0.1,  1. , 10. ]), cv=N...</td>\n",
              "    </tr>\n",
              "    <tr>\n",
              "      <th>RF</th>\n",
              "      <td>0.902333</td>\n",
              "      <td>0.340646</td>\n",
              "      <td>(DecisionTreeRegressor(ccp_alpha=0.0, criterio...</td>\n",
              "    </tr>\n",
              "    <tr>\n",
              "      <th>CART</th>\n",
              "      <td>1.000000</td>\n",
              "      <td>-0.187439</td>\n",
              "      <td>DecisionTreeRegressor(ccp_alpha=0.0, criterion...</td>\n",
              "    </tr>\n",
              "  </tbody>\n",
              "</table>\n",
              "</div>"
            ],
            "text/plain": [
              "             TrainScore  ...                                              Model\n",
              "model names              ...                                                   \n",
              "LinReg         0.367663  ...  LinearRegression(copy_X=True, fit_intercept=Tr...\n",
              "LassoCV        0.338932  ...  LassoCV(alphas=None, copy_X=True, cv=None, eps...\n",
              "RidgeCV        0.366076  ...  RidgeCV(alphas=array([ 0.1,  1. , 10. ]), cv=N...\n",
              "RF             0.902333  ...  (DecisionTreeRegressor(ccp_alpha=0.0, criterio...\n",
              "CART           1.000000  ...  DecisionTreeRegressor(ccp_alpha=0.0, criterion...\n",
              "\n",
              "[5 rows x 3 columns]"
            ]
          },
          "metadata": {
            "tags": []
          },
          "execution_count": 15
        }
      ]
    },
    {
      "cell_type": "markdown",
      "metadata": {
        "id": "yl-QonkfMMz7"
      },
      "source": [
        "# Feature Selection"
      ]
    },
    {
      "cell_type": "markdown",
      "metadata": {
        "id": "DdsU6Fd_aohI"
      },
      "source": [
        "## **Features selected from VarianceThreshold**"
      ]
    },
    {
      "cell_type": "code",
      "metadata": {
        "id": "M7-t58ljXAax",
        "colab": {
          "base_uri": "https://localhost:8080/",
          "height": 721
        },
        "outputId": "010e1c6f-93df-442d-eada-2e05cb21bec2"
      },
      "source": [
        "#Variance Threshold with X_train_interactions\n",
        "from sklearn.feature_selection import VarianceThreshold\n",
        "\n",
        "print(X_train_interactions.shape)     #output (143, 59)\n",
        "var_filter = VarianceThreshold(threshold = 0.05)  \n",
        "train = var_filter.fit_transform(X_train_interactions)\n",
        "\n",
        "#to get the count of features that are not constant\n",
        "\n",
        "print(train.shape)   # output (143, 56)       \n",
        "#or\n",
        "print(len(X_train_interactions.columns[var_filter.get_support()]))  #output 56\n",
        "\n",
        "print(X_train_interactions.columns[var_filter.get_support()])\n",
        "print(var_filter.get_support())\n",
        "#rating G and Rating_NC17 got removed for threshold 0.01\n",
        "#threshold 0.05 classics, genre documentary got deleted\n",
        "\n",
        "selected = X_train_interactions.columns[var_filter.get_support()]\n",
        "X_train_selected = X_train_interactions[selected]\n",
        "X_val_selected = X_val_interactions[selected]\n",
        "\n",
        "X_train_selected.shape\n",
        "X_val_selected\n"
      ],
      "execution_count": null,
      "outputs": [
        {
          "output_type": "stream",
          "text": [
            "(893, 34)\n",
            "(893, 28)\n",
            "28\n",
            "Index(['TOMATOMETER score', 'TOMATOMETER Count', 'Runtime', 'Genre_Action',\n",
            "       'Genre_Art&Foreign', 'Genre_Comedy', 'Genre_Documentary', 'Genre_Drama',\n",
            "       'Genre_Horror', 'Genre_Mystery', 'Genre_Romance', 'Genre_SciFi',\n",
            "       'Rating_NR', 'Rating_PG', 'Rating_PG-13', 'Rating_R', 'cast1_oscar_nom',\n",
            "       'cast1_oscars', 'cast2_oscar_nom', 'cast2_oscars', 'cast3_oscar_nom',\n",
            "       'cast1_FB_likes', 'cast2_FB_likes', 'cast3_FB_likes', 'dir_oscar_nom',\n",
            "       'director_awards', 'director_facebook_likes',\n",
            "       'Genre_Horror + Rating_G + Rating_NR'],\n",
            "      dtype='object')\n",
            "[ True  True  True  True  True False  True  True  True  True False  True\n",
            "  True  True False False  True  True  True  True  True  True  True  True\n",
            "  True False  True  True  True  True False  True  True  True]\n"
          ],
          "name": "stdout"
        },
        {
          "output_type": "execute_result",
          "data": {
            "text/html": [
              "<div>\n",
              "<style scoped>\n",
              "    .dataframe tbody tr th:only-of-type {\n",
              "        vertical-align: middle;\n",
              "    }\n",
              "\n",
              "    .dataframe tbody tr th {\n",
              "        vertical-align: top;\n",
              "    }\n",
              "\n",
              "    .dataframe thead th {\n",
              "        text-align: right;\n",
              "    }\n",
              "</style>\n",
              "<table border=\"1\" class=\"dataframe\">\n",
              "  <thead>\n",
              "    <tr style=\"text-align: right;\">\n",
              "      <th></th>\n",
              "      <th>TOMATOMETER score</th>\n",
              "      <th>TOMATOMETER Count</th>\n",
              "      <th>Runtime</th>\n",
              "      <th>Genre_Action</th>\n",
              "      <th>Genre_Art&amp;Foreign</th>\n",
              "      <th>Genre_Comedy</th>\n",
              "      <th>Genre_Documentary</th>\n",
              "      <th>Genre_Drama</th>\n",
              "      <th>Genre_Horror</th>\n",
              "      <th>Genre_Mystery</th>\n",
              "      <th>Genre_Romance</th>\n",
              "      <th>Genre_SciFi</th>\n",
              "      <th>Rating_NR</th>\n",
              "      <th>Rating_PG</th>\n",
              "      <th>Rating_PG-13</th>\n",
              "      <th>Rating_R</th>\n",
              "      <th>cast1_oscar_nom</th>\n",
              "      <th>cast1_oscars</th>\n",
              "      <th>cast2_oscar_nom</th>\n",
              "      <th>cast2_oscars</th>\n",
              "      <th>cast3_oscar_nom</th>\n",
              "      <th>cast1_FB_likes</th>\n",
              "      <th>cast2_FB_likes</th>\n",
              "      <th>cast3_FB_likes</th>\n",
              "      <th>dir_oscar_nom</th>\n",
              "      <th>director_awards</th>\n",
              "      <th>director_facebook_likes</th>\n",
              "      <th>Genre_Horror + Rating_G + Rating_NR</th>\n",
              "    </tr>\n",
              "  </thead>\n",
              "  <tbody>\n",
              "    <tr>\n",
              "      <th>573</th>\n",
              "      <td>90.0</td>\n",
              "      <td>41</td>\n",
              "      <td>101</td>\n",
              "      <td>0</td>\n",
              "      <td>0</td>\n",
              "      <td>0</td>\n",
              "      <td>0</td>\n",
              "      <td>1</td>\n",
              "      <td>0</td>\n",
              "      <td>1</td>\n",
              "      <td>0</td>\n",
              "      <td>0</td>\n",
              "      <td>1</td>\n",
              "      <td>0</td>\n",
              "      <td>0</td>\n",
              "      <td>0</td>\n",
              "      <td>0.0</td>\n",
              "      <td>0.0</td>\n",
              "      <td>0.0</td>\n",
              "      <td>0.0</td>\n",
              "      <td>0.0</td>\n",
              "      <td>367.0</td>\n",
              "      <td>611.0</td>\n",
              "      <td>367.0</td>\n",
              "      <td>0.0</td>\n",
              "      <td>0.0</td>\n",
              "      <td>232.0</td>\n",
              "      <td>1</td>\n",
              "    </tr>\n",
              "    <tr>\n",
              "      <th>752</th>\n",
              "      <td>45.0</td>\n",
              "      <td>100</td>\n",
              "      <td>106</td>\n",
              "      <td>1</td>\n",
              "      <td>0</td>\n",
              "      <td>0</td>\n",
              "      <td>0</td>\n",
              "      <td>0</td>\n",
              "      <td>1</td>\n",
              "      <td>0</td>\n",
              "      <td>0</td>\n",
              "      <td>1</td>\n",
              "      <td>0</td>\n",
              "      <td>0</td>\n",
              "      <td>0</td>\n",
              "      <td>1</td>\n",
              "      <td>0.0</td>\n",
              "      <td>0.0</td>\n",
              "      <td>0.0</td>\n",
              "      <td>0.0</td>\n",
              "      <td>0.0</td>\n",
              "      <td>14000.0</td>\n",
              "      <td>367.0</td>\n",
              "      <td>367.0</td>\n",
              "      <td>0.0</td>\n",
              "      <td>0.0</td>\n",
              "      <td>545.0</td>\n",
              "      <td>1</td>\n",
              "    </tr>\n",
              "    <tr>\n",
              "      <th>948</th>\n",
              "      <td>59.0</td>\n",
              "      <td>14</td>\n",
              "      <td>90</td>\n",
              "      <td>1</td>\n",
              "      <td>0</td>\n",
              "      <td>0</td>\n",
              "      <td>0</td>\n",
              "      <td>1</td>\n",
              "      <td>0</td>\n",
              "      <td>0</td>\n",
              "      <td>0</td>\n",
              "      <td>0</td>\n",
              "      <td>1</td>\n",
              "      <td>0</td>\n",
              "      <td>0</td>\n",
              "      <td>0</td>\n",
              "      <td>0.0</td>\n",
              "      <td>0.0</td>\n",
              "      <td>0.0</td>\n",
              "      <td>0.0</td>\n",
              "      <td>0.0</td>\n",
              "      <td>367.0</td>\n",
              "      <td>404.0</td>\n",
              "      <td>367.0</td>\n",
              "      <td>0.0</td>\n",
              "      <td>0.0</td>\n",
              "      <td>232.0</td>\n",
              "      <td>1</td>\n",
              "    </tr>\n",
              "    <tr>\n",
              "      <th>1011</th>\n",
              "      <td>47.0</td>\n",
              "      <td>7</td>\n",
              "      <td>92</td>\n",
              "      <td>0</td>\n",
              "      <td>0</td>\n",
              "      <td>1</td>\n",
              "      <td>0</td>\n",
              "      <td>1</td>\n",
              "      <td>0</td>\n",
              "      <td>0</td>\n",
              "      <td>0</td>\n",
              "      <td>0</td>\n",
              "      <td>0</td>\n",
              "      <td>0</td>\n",
              "      <td>0</td>\n",
              "      <td>1</td>\n",
              "      <td>0.0</td>\n",
              "      <td>0.0</td>\n",
              "      <td>0.0</td>\n",
              "      <td>0.0</td>\n",
              "      <td>0.0</td>\n",
              "      <td>367.0</td>\n",
              "      <td>886.0</td>\n",
              "      <td>827.0</td>\n",
              "      <td>0.0</td>\n",
              "      <td>0.0</td>\n",
              "      <td>232.0</td>\n",
              "      <td>0</td>\n",
              "    </tr>\n",
              "    <tr>\n",
              "      <th>1136</th>\n",
              "      <td>88.0</td>\n",
              "      <td>7</td>\n",
              "      <td>88</td>\n",
              "      <td>0</td>\n",
              "      <td>0</td>\n",
              "      <td>0</td>\n",
              "      <td>0</td>\n",
              "      <td>1</td>\n",
              "      <td>0</td>\n",
              "      <td>1</td>\n",
              "      <td>0</td>\n",
              "      <td>1</td>\n",
              "      <td>1</td>\n",
              "      <td>0</td>\n",
              "      <td>0</td>\n",
              "      <td>0</td>\n",
              "      <td>0.0</td>\n",
              "      <td>0.0</td>\n",
              "      <td>0.0</td>\n",
              "      <td>0.0</td>\n",
              "      <td>0.0</td>\n",
              "      <td>367.0</td>\n",
              "      <td>367.0</td>\n",
              "      <td>367.0</td>\n",
              "      <td>0.0</td>\n",
              "      <td>0.0</td>\n",
              "      <td>232.0</td>\n",
              "      <td>1</td>\n",
              "    </tr>\n",
              "    <tr>\n",
              "      <th>...</th>\n",
              "      <td>...</td>\n",
              "      <td>...</td>\n",
              "      <td>...</td>\n",
              "      <td>...</td>\n",
              "      <td>...</td>\n",
              "      <td>...</td>\n",
              "      <td>...</td>\n",
              "      <td>...</td>\n",
              "      <td>...</td>\n",
              "      <td>...</td>\n",
              "      <td>...</td>\n",
              "      <td>...</td>\n",
              "      <td>...</td>\n",
              "      <td>...</td>\n",
              "      <td>...</td>\n",
              "      <td>...</td>\n",
              "      <td>...</td>\n",
              "      <td>...</td>\n",
              "      <td>...</td>\n",
              "      <td>...</td>\n",
              "      <td>...</td>\n",
              "      <td>...</td>\n",
              "      <td>...</td>\n",
              "      <td>...</td>\n",
              "      <td>...</td>\n",
              "      <td>...</td>\n",
              "      <td>...</td>\n",
              "      <td>...</td>\n",
              "    </tr>\n",
              "    <tr>\n",
              "      <th>464</th>\n",
              "      <td>27.0</td>\n",
              "      <td>84</td>\n",
              "      <td>109</td>\n",
              "      <td>0</td>\n",
              "      <td>0</td>\n",
              "      <td>0</td>\n",
              "      <td>0</td>\n",
              "      <td>1</td>\n",
              "      <td>0</td>\n",
              "      <td>0</td>\n",
              "      <td>0</td>\n",
              "      <td>0</td>\n",
              "      <td>0</td>\n",
              "      <td>0</td>\n",
              "      <td>1</td>\n",
              "      <td>0</td>\n",
              "      <td>0.0</td>\n",
              "      <td>0.0</td>\n",
              "      <td>2.0</td>\n",
              "      <td>2.0</td>\n",
              "      <td>0.0</td>\n",
              "      <td>367.0</td>\n",
              "      <td>18000.0</td>\n",
              "      <td>367.0</td>\n",
              "      <td>0.0</td>\n",
              "      <td>0.0</td>\n",
              "      <td>232.0</td>\n",
              "      <td>0</td>\n",
              "    </tr>\n",
              "    <tr>\n",
              "      <th>1091</th>\n",
              "      <td>84.0</td>\n",
              "      <td>179</td>\n",
              "      <td>127</td>\n",
              "      <td>0</td>\n",
              "      <td>0</td>\n",
              "      <td>0</td>\n",
              "      <td>0</td>\n",
              "      <td>1</td>\n",
              "      <td>0</td>\n",
              "      <td>0</td>\n",
              "      <td>0</td>\n",
              "      <td>0</td>\n",
              "      <td>0</td>\n",
              "      <td>0</td>\n",
              "      <td>0</td>\n",
              "      <td>1</td>\n",
              "      <td>1.0</td>\n",
              "      <td>0.0</td>\n",
              "      <td>0.0</td>\n",
              "      <td>0.0</td>\n",
              "      <td>0.0</td>\n",
              "      <td>367.0</td>\n",
              "      <td>367.0</td>\n",
              "      <td>367.0</td>\n",
              "      <td>0.0</td>\n",
              "      <td>0.0</td>\n",
              "      <td>65.0</td>\n",
              "      <td>0</td>\n",
              "    </tr>\n",
              "    <tr>\n",
              "      <th>736</th>\n",
              "      <td>58.0</td>\n",
              "      <td>268</td>\n",
              "      <td>122</td>\n",
              "      <td>1</td>\n",
              "      <td>0</td>\n",
              "      <td>0</td>\n",
              "      <td>0</td>\n",
              "      <td>1</td>\n",
              "      <td>0</td>\n",
              "      <td>0</td>\n",
              "      <td>0</td>\n",
              "      <td>0</td>\n",
              "      <td>0</td>\n",
              "      <td>0</td>\n",
              "      <td>0</td>\n",
              "      <td>1</td>\n",
              "      <td>0.0</td>\n",
              "      <td>0.0</td>\n",
              "      <td>0.0</td>\n",
              "      <td>0.0</td>\n",
              "      <td>0.0</td>\n",
              "      <td>18000.0</td>\n",
              "      <td>367.0</td>\n",
              "      <td>367.0</td>\n",
              "      <td>0.0</td>\n",
              "      <td>3.0</td>\n",
              "      <td>232.0</td>\n",
              "      <td>0</td>\n",
              "    </tr>\n",
              "    <tr>\n",
              "      <th>178</th>\n",
              "      <td>68.0</td>\n",
              "      <td>44</td>\n",
              "      <td>84</td>\n",
              "      <td>0</td>\n",
              "      <td>0</td>\n",
              "      <td>0</td>\n",
              "      <td>0</td>\n",
              "      <td>0</td>\n",
              "      <td>1</td>\n",
              "      <td>0</td>\n",
              "      <td>0</td>\n",
              "      <td>0</td>\n",
              "      <td>1</td>\n",
              "      <td>0</td>\n",
              "      <td>0</td>\n",
              "      <td>0</td>\n",
              "      <td>0.0</td>\n",
              "      <td>0.0</td>\n",
              "      <td>0.0</td>\n",
              "      <td>0.0</td>\n",
              "      <td>0.0</td>\n",
              "      <td>651.0</td>\n",
              "      <td>595.0</td>\n",
              "      <td>367.0</td>\n",
              "      <td>0.0</td>\n",
              "      <td>0.0</td>\n",
              "      <td>232.0</td>\n",
              "      <td>2</td>\n",
              "    </tr>\n",
              "    <tr>\n",
              "      <th>1200</th>\n",
              "      <td>56.0</td>\n",
              "      <td>54</td>\n",
              "      <td>111</td>\n",
              "      <td>0</td>\n",
              "      <td>0</td>\n",
              "      <td>0</td>\n",
              "      <td>0</td>\n",
              "      <td>1</td>\n",
              "      <td>0</td>\n",
              "      <td>0</td>\n",
              "      <td>0</td>\n",
              "      <td>0</td>\n",
              "      <td>1</td>\n",
              "      <td>0</td>\n",
              "      <td>0</td>\n",
              "      <td>0</td>\n",
              "      <td>1.0</td>\n",
              "      <td>0.0</td>\n",
              "      <td>1.0</td>\n",
              "      <td>1.0</td>\n",
              "      <td>0.0</td>\n",
              "      <td>367.0</td>\n",
              "      <td>367.0</td>\n",
              "      <td>192.0</td>\n",
              "      <td>0.0</td>\n",
              "      <td>0.0</td>\n",
              "      <td>232.0</td>\n",
              "      <td>1</td>\n",
              "    </tr>\n",
              "  </tbody>\n",
              "</table>\n",
              "<p>384 rows × 28 columns</p>\n",
              "</div>"
            ],
            "text/plain": [
              "      TOMATOMETER score  ...  Genre_Horror + Rating_G + Rating_NR\n",
              "573                90.0  ...                                    1\n",
              "752                45.0  ...                                    1\n",
              "948                59.0  ...                                    1\n",
              "1011               47.0  ...                                    0\n",
              "1136               88.0  ...                                    1\n",
              "...                 ...  ...                                  ...\n",
              "464                27.0  ...                                    0\n",
              "1091               84.0  ...                                    0\n",
              "736                58.0  ...                                    0\n",
              "178                68.0  ...                                    2\n",
              "1200               56.0  ...                                    1\n",
              "\n",
              "[384 rows x 28 columns]"
            ]
          },
          "metadata": {
            "tags": []
          },
          "execution_count": 16
        }
      ]
    },
    {
      "cell_type": "code",
      "metadata": {
        "colab": {
          "base_uri": "https://localhost:8080/",
          "height": 721
        },
        "id": "cX3w3st3oKnp",
        "outputId": "8b843aee-462c-4cc0-d853-23358cc5a0e2"
      },
      "source": [
        "#Variance Threshold with X_train\n",
        "from sklearn.feature_selection import VarianceThreshold\n",
        "\n",
        "print(X_train_interactions.shape)     #output (143, 59)\n",
        "var_filter = VarianceThreshold(threshold = 0.05)  \n",
        "train = var_filter.fit_transform(X_train_interactions)\n",
        "\n",
        "print(train.shape)        \n",
        "#or\n",
        "print(len(X_train_interactions.columns[var_filter.get_support()])) \n",
        "\n",
        "print(X_train_interactions.columns[var_filter.get_support()])\n",
        "print(var_filter.get_support())\n",
        "\n",
        "selected = X_train_interactions.columns[var_filter.get_support()]\n",
        "X_train_selected = X_train_interactions[selected]\n",
        "X_val_selected = X_val_interactions[selected]\n",
        "\n",
        "X_train_selected.shape\n",
        "X_val_selected"
      ],
      "execution_count": null,
      "outputs": [
        {
          "output_type": "stream",
          "text": [
            "(893, 34)\n",
            "(893, 28)\n",
            "28\n",
            "Index(['TOMATOMETER score', 'TOMATOMETER Count', 'Runtime', 'Genre_Action',\n",
            "       'Genre_Art&Foreign', 'Genre_Comedy', 'Genre_Documentary', 'Genre_Drama',\n",
            "       'Genre_Horror', 'Genre_Mystery', 'Genre_Romance', 'Genre_SciFi',\n",
            "       'Rating_NR', 'Rating_PG', 'Rating_PG-13', 'Rating_R', 'cast1_oscar_nom',\n",
            "       'cast1_oscars', 'cast2_oscar_nom', 'cast2_oscars', 'cast3_oscar_nom',\n",
            "       'cast1_FB_likes', 'cast2_FB_likes', 'cast3_FB_likes', 'dir_oscar_nom',\n",
            "       'director_awards', 'director_facebook_likes',\n",
            "       'Genre_Horror + Rating_G + Rating_NR'],\n",
            "      dtype='object')\n",
            "[ True  True  True  True  True False  True  True  True  True False  True\n",
            "  True  True False False  True  True  True  True  True  True  True  True\n",
            "  True False  True  True  True  True False  True  True  True]\n"
          ],
          "name": "stdout"
        },
        {
          "output_type": "execute_result",
          "data": {
            "text/html": [
              "<div>\n",
              "<style scoped>\n",
              "    .dataframe tbody tr th:only-of-type {\n",
              "        vertical-align: middle;\n",
              "    }\n",
              "\n",
              "    .dataframe tbody tr th {\n",
              "        vertical-align: top;\n",
              "    }\n",
              "\n",
              "    .dataframe thead th {\n",
              "        text-align: right;\n",
              "    }\n",
              "</style>\n",
              "<table border=\"1\" class=\"dataframe\">\n",
              "  <thead>\n",
              "    <tr style=\"text-align: right;\">\n",
              "      <th></th>\n",
              "      <th>TOMATOMETER score</th>\n",
              "      <th>TOMATOMETER Count</th>\n",
              "      <th>Runtime</th>\n",
              "      <th>Genre_Action</th>\n",
              "      <th>Genre_Art&amp;Foreign</th>\n",
              "      <th>Genre_Comedy</th>\n",
              "      <th>Genre_Documentary</th>\n",
              "      <th>Genre_Drama</th>\n",
              "      <th>Genre_Horror</th>\n",
              "      <th>Genre_Mystery</th>\n",
              "      <th>Genre_Romance</th>\n",
              "      <th>Genre_SciFi</th>\n",
              "      <th>Rating_NR</th>\n",
              "      <th>Rating_PG</th>\n",
              "      <th>Rating_PG-13</th>\n",
              "      <th>Rating_R</th>\n",
              "      <th>cast1_oscar_nom</th>\n",
              "      <th>cast1_oscars</th>\n",
              "      <th>cast2_oscar_nom</th>\n",
              "      <th>cast2_oscars</th>\n",
              "      <th>cast3_oscar_nom</th>\n",
              "      <th>cast1_FB_likes</th>\n",
              "      <th>cast2_FB_likes</th>\n",
              "      <th>cast3_FB_likes</th>\n",
              "      <th>dir_oscar_nom</th>\n",
              "      <th>director_awards</th>\n",
              "      <th>director_facebook_likes</th>\n",
              "      <th>Genre_Horror + Rating_G + Rating_NR</th>\n",
              "    </tr>\n",
              "  </thead>\n",
              "  <tbody>\n",
              "    <tr>\n",
              "      <th>573</th>\n",
              "      <td>90.0</td>\n",
              "      <td>41</td>\n",
              "      <td>101</td>\n",
              "      <td>0</td>\n",
              "      <td>0</td>\n",
              "      <td>0</td>\n",
              "      <td>0</td>\n",
              "      <td>1</td>\n",
              "      <td>0</td>\n",
              "      <td>1</td>\n",
              "      <td>0</td>\n",
              "      <td>0</td>\n",
              "      <td>1</td>\n",
              "      <td>0</td>\n",
              "      <td>0</td>\n",
              "      <td>0</td>\n",
              "      <td>0.0</td>\n",
              "      <td>0.0</td>\n",
              "      <td>0.0</td>\n",
              "      <td>0.0</td>\n",
              "      <td>0.0</td>\n",
              "      <td>367.0</td>\n",
              "      <td>611.0</td>\n",
              "      <td>367.0</td>\n",
              "      <td>0.0</td>\n",
              "      <td>0.0</td>\n",
              "      <td>232.0</td>\n",
              "      <td>1</td>\n",
              "    </tr>\n",
              "    <tr>\n",
              "      <th>752</th>\n",
              "      <td>45.0</td>\n",
              "      <td>100</td>\n",
              "      <td>106</td>\n",
              "      <td>1</td>\n",
              "      <td>0</td>\n",
              "      <td>0</td>\n",
              "      <td>0</td>\n",
              "      <td>0</td>\n",
              "      <td>1</td>\n",
              "      <td>0</td>\n",
              "      <td>0</td>\n",
              "      <td>1</td>\n",
              "      <td>0</td>\n",
              "      <td>0</td>\n",
              "      <td>0</td>\n",
              "      <td>1</td>\n",
              "      <td>0.0</td>\n",
              "      <td>0.0</td>\n",
              "      <td>0.0</td>\n",
              "      <td>0.0</td>\n",
              "      <td>0.0</td>\n",
              "      <td>14000.0</td>\n",
              "      <td>367.0</td>\n",
              "      <td>367.0</td>\n",
              "      <td>0.0</td>\n",
              "      <td>0.0</td>\n",
              "      <td>545.0</td>\n",
              "      <td>1</td>\n",
              "    </tr>\n",
              "    <tr>\n",
              "      <th>948</th>\n",
              "      <td>59.0</td>\n",
              "      <td>14</td>\n",
              "      <td>90</td>\n",
              "      <td>1</td>\n",
              "      <td>0</td>\n",
              "      <td>0</td>\n",
              "      <td>0</td>\n",
              "      <td>1</td>\n",
              "      <td>0</td>\n",
              "      <td>0</td>\n",
              "      <td>0</td>\n",
              "      <td>0</td>\n",
              "      <td>1</td>\n",
              "      <td>0</td>\n",
              "      <td>0</td>\n",
              "      <td>0</td>\n",
              "      <td>0.0</td>\n",
              "      <td>0.0</td>\n",
              "      <td>0.0</td>\n",
              "      <td>0.0</td>\n",
              "      <td>0.0</td>\n",
              "      <td>367.0</td>\n",
              "      <td>404.0</td>\n",
              "      <td>367.0</td>\n",
              "      <td>0.0</td>\n",
              "      <td>0.0</td>\n",
              "      <td>232.0</td>\n",
              "      <td>1</td>\n",
              "    </tr>\n",
              "    <tr>\n",
              "      <th>1011</th>\n",
              "      <td>47.0</td>\n",
              "      <td>7</td>\n",
              "      <td>92</td>\n",
              "      <td>0</td>\n",
              "      <td>0</td>\n",
              "      <td>1</td>\n",
              "      <td>0</td>\n",
              "      <td>1</td>\n",
              "      <td>0</td>\n",
              "      <td>0</td>\n",
              "      <td>0</td>\n",
              "      <td>0</td>\n",
              "      <td>0</td>\n",
              "      <td>0</td>\n",
              "      <td>0</td>\n",
              "      <td>1</td>\n",
              "      <td>0.0</td>\n",
              "      <td>0.0</td>\n",
              "      <td>0.0</td>\n",
              "      <td>0.0</td>\n",
              "      <td>0.0</td>\n",
              "      <td>367.0</td>\n",
              "      <td>886.0</td>\n",
              "      <td>827.0</td>\n",
              "      <td>0.0</td>\n",
              "      <td>0.0</td>\n",
              "      <td>232.0</td>\n",
              "      <td>0</td>\n",
              "    </tr>\n",
              "    <tr>\n",
              "      <th>1136</th>\n",
              "      <td>88.0</td>\n",
              "      <td>7</td>\n",
              "      <td>88</td>\n",
              "      <td>0</td>\n",
              "      <td>0</td>\n",
              "      <td>0</td>\n",
              "      <td>0</td>\n",
              "      <td>1</td>\n",
              "      <td>0</td>\n",
              "      <td>1</td>\n",
              "      <td>0</td>\n",
              "      <td>1</td>\n",
              "      <td>1</td>\n",
              "      <td>0</td>\n",
              "      <td>0</td>\n",
              "      <td>0</td>\n",
              "      <td>0.0</td>\n",
              "      <td>0.0</td>\n",
              "      <td>0.0</td>\n",
              "      <td>0.0</td>\n",
              "      <td>0.0</td>\n",
              "      <td>367.0</td>\n",
              "      <td>367.0</td>\n",
              "      <td>367.0</td>\n",
              "      <td>0.0</td>\n",
              "      <td>0.0</td>\n",
              "      <td>232.0</td>\n",
              "      <td>1</td>\n",
              "    </tr>\n",
              "    <tr>\n",
              "      <th>...</th>\n",
              "      <td>...</td>\n",
              "      <td>...</td>\n",
              "      <td>...</td>\n",
              "      <td>...</td>\n",
              "      <td>...</td>\n",
              "      <td>...</td>\n",
              "      <td>...</td>\n",
              "      <td>...</td>\n",
              "      <td>...</td>\n",
              "      <td>...</td>\n",
              "      <td>...</td>\n",
              "      <td>...</td>\n",
              "      <td>...</td>\n",
              "      <td>...</td>\n",
              "      <td>...</td>\n",
              "      <td>...</td>\n",
              "      <td>...</td>\n",
              "      <td>...</td>\n",
              "      <td>...</td>\n",
              "      <td>...</td>\n",
              "      <td>...</td>\n",
              "      <td>...</td>\n",
              "      <td>...</td>\n",
              "      <td>...</td>\n",
              "      <td>...</td>\n",
              "      <td>...</td>\n",
              "      <td>...</td>\n",
              "      <td>...</td>\n",
              "    </tr>\n",
              "    <tr>\n",
              "      <th>464</th>\n",
              "      <td>27.0</td>\n",
              "      <td>84</td>\n",
              "      <td>109</td>\n",
              "      <td>0</td>\n",
              "      <td>0</td>\n",
              "      <td>0</td>\n",
              "      <td>0</td>\n",
              "      <td>1</td>\n",
              "      <td>0</td>\n",
              "      <td>0</td>\n",
              "      <td>0</td>\n",
              "      <td>0</td>\n",
              "      <td>0</td>\n",
              "      <td>0</td>\n",
              "      <td>1</td>\n",
              "      <td>0</td>\n",
              "      <td>0.0</td>\n",
              "      <td>0.0</td>\n",
              "      <td>2.0</td>\n",
              "      <td>2.0</td>\n",
              "      <td>0.0</td>\n",
              "      <td>367.0</td>\n",
              "      <td>18000.0</td>\n",
              "      <td>367.0</td>\n",
              "      <td>0.0</td>\n",
              "      <td>0.0</td>\n",
              "      <td>232.0</td>\n",
              "      <td>0</td>\n",
              "    </tr>\n",
              "    <tr>\n",
              "      <th>1091</th>\n",
              "      <td>84.0</td>\n",
              "      <td>179</td>\n",
              "      <td>127</td>\n",
              "      <td>0</td>\n",
              "      <td>0</td>\n",
              "      <td>0</td>\n",
              "      <td>0</td>\n",
              "      <td>1</td>\n",
              "      <td>0</td>\n",
              "      <td>0</td>\n",
              "      <td>0</td>\n",
              "      <td>0</td>\n",
              "      <td>0</td>\n",
              "      <td>0</td>\n",
              "      <td>0</td>\n",
              "      <td>1</td>\n",
              "      <td>1.0</td>\n",
              "      <td>0.0</td>\n",
              "      <td>0.0</td>\n",
              "      <td>0.0</td>\n",
              "      <td>0.0</td>\n",
              "      <td>367.0</td>\n",
              "      <td>367.0</td>\n",
              "      <td>367.0</td>\n",
              "      <td>0.0</td>\n",
              "      <td>0.0</td>\n",
              "      <td>65.0</td>\n",
              "      <td>0</td>\n",
              "    </tr>\n",
              "    <tr>\n",
              "      <th>736</th>\n",
              "      <td>58.0</td>\n",
              "      <td>268</td>\n",
              "      <td>122</td>\n",
              "      <td>1</td>\n",
              "      <td>0</td>\n",
              "      <td>0</td>\n",
              "      <td>0</td>\n",
              "      <td>1</td>\n",
              "      <td>0</td>\n",
              "      <td>0</td>\n",
              "      <td>0</td>\n",
              "      <td>0</td>\n",
              "      <td>0</td>\n",
              "      <td>0</td>\n",
              "      <td>0</td>\n",
              "      <td>1</td>\n",
              "      <td>0.0</td>\n",
              "      <td>0.0</td>\n",
              "      <td>0.0</td>\n",
              "      <td>0.0</td>\n",
              "      <td>0.0</td>\n",
              "      <td>18000.0</td>\n",
              "      <td>367.0</td>\n",
              "      <td>367.0</td>\n",
              "      <td>0.0</td>\n",
              "      <td>3.0</td>\n",
              "      <td>232.0</td>\n",
              "      <td>0</td>\n",
              "    </tr>\n",
              "    <tr>\n",
              "      <th>178</th>\n",
              "      <td>68.0</td>\n",
              "      <td>44</td>\n",
              "      <td>84</td>\n",
              "      <td>0</td>\n",
              "      <td>0</td>\n",
              "      <td>0</td>\n",
              "      <td>0</td>\n",
              "      <td>0</td>\n",
              "      <td>1</td>\n",
              "      <td>0</td>\n",
              "      <td>0</td>\n",
              "      <td>0</td>\n",
              "      <td>1</td>\n",
              "      <td>0</td>\n",
              "      <td>0</td>\n",
              "      <td>0</td>\n",
              "      <td>0.0</td>\n",
              "      <td>0.0</td>\n",
              "      <td>0.0</td>\n",
              "      <td>0.0</td>\n",
              "      <td>0.0</td>\n",
              "      <td>651.0</td>\n",
              "      <td>595.0</td>\n",
              "      <td>367.0</td>\n",
              "      <td>0.0</td>\n",
              "      <td>0.0</td>\n",
              "      <td>232.0</td>\n",
              "      <td>2</td>\n",
              "    </tr>\n",
              "    <tr>\n",
              "      <th>1200</th>\n",
              "      <td>56.0</td>\n",
              "      <td>54</td>\n",
              "      <td>111</td>\n",
              "      <td>0</td>\n",
              "      <td>0</td>\n",
              "      <td>0</td>\n",
              "      <td>0</td>\n",
              "      <td>1</td>\n",
              "      <td>0</td>\n",
              "      <td>0</td>\n",
              "      <td>0</td>\n",
              "      <td>0</td>\n",
              "      <td>1</td>\n",
              "      <td>0</td>\n",
              "      <td>0</td>\n",
              "      <td>0</td>\n",
              "      <td>1.0</td>\n",
              "      <td>0.0</td>\n",
              "      <td>1.0</td>\n",
              "      <td>1.0</td>\n",
              "      <td>0.0</td>\n",
              "      <td>367.0</td>\n",
              "      <td>367.0</td>\n",
              "      <td>192.0</td>\n",
              "      <td>0.0</td>\n",
              "      <td>0.0</td>\n",
              "      <td>232.0</td>\n",
              "      <td>1</td>\n",
              "    </tr>\n",
              "  </tbody>\n",
              "</table>\n",
              "<p>384 rows × 28 columns</p>\n",
              "</div>"
            ],
            "text/plain": [
              "      TOMATOMETER score  ...  Genre_Horror + Rating_G + Rating_NR\n",
              "573                90.0  ...                                    1\n",
              "752                45.0  ...                                    1\n",
              "948                59.0  ...                                    1\n",
              "1011               47.0  ...                                    0\n",
              "1136               88.0  ...                                    1\n",
              "...                 ...  ...                                  ...\n",
              "464                27.0  ...                                    0\n",
              "1091               84.0  ...                                    0\n",
              "736                58.0  ...                                    0\n",
              "178                68.0  ...                                    2\n",
              "1200               56.0  ...                                    1\n",
              "\n",
              "[384 rows x 28 columns]"
            ]
          },
          "metadata": {
            "tags": []
          },
          "execution_count": 17
        }
      ]
    },
    {
      "cell_type": "markdown",
      "metadata": {
        "id": "8CuKj8epoK5b"
      },
      "source": [
        "## Model Performance with Selected Features"
      ]
    },
    {
      "cell_type": "code",
      "metadata": {
        "colab": {
          "base_uri": "https://localhost:8080/",
          "height": 366
        },
        "id": "FIMDhRDQoK5c",
        "outputId": "78497f3c-614d-4ab5-d95b-226aa8e11fe6"
      },
      "source": [
        "#using columns from variance threshold with X_train_interactions\n",
        "#gives same results as with normal X_train \n",
        "all_models = fit_and_score_model(all_models, 'Feature_Selection', X_train_selected, X_val_selected, y_train, y_val)\n",
        "\n",
        "\n",
        "print('_________________________\\n')\n",
        "compare_models('Feature_Selection')\n",
        "all_models.loc[:, 'Feature_Selection', :].head()\n"
      ],
      "execution_count": null,
      "outputs": [
        {
          "output_type": "stream",
          "text": [
            "LinReg achieved a train score of 0.364 and test score of 0.367\n",
            "LassoCV achieved a train score of 0.339 and test score of 0.349\n",
            "RidgeCV achieved a train score of 0.363 and test score of 0.373\n",
            "RF achieved a train score of 0.901 and test score of 0.342\n",
            "CART achieved a train score of 1.000 and test score of -0.423\n",
            "_________________________\n",
            "\n",
            "On average, scores improved by -0.02, and the most improvement was 0.00\n"
          ],
          "name": "stdout"
        },
        {
          "output_type": "execute_result",
          "data": {
            "text/html": [
              "<div>\n",
              "<style scoped>\n",
              "    .dataframe tbody tr th:only-of-type {\n",
              "        vertical-align: middle;\n",
              "    }\n",
              "\n",
              "    .dataframe tbody tr th {\n",
              "        vertical-align: top;\n",
              "    }\n",
              "\n",
              "    .dataframe thead th {\n",
              "        text-align: right;\n",
              "    }\n",
              "</style>\n",
              "<table border=\"1\" class=\"dataframe\">\n",
              "  <thead>\n",
              "    <tr style=\"text-align: right;\">\n",
              "      <th></th>\n",
              "      <th>TrainScore</th>\n",
              "      <th>TestScore</th>\n",
              "      <th>Model</th>\n",
              "    </tr>\n",
              "    <tr>\n",
              "      <th>model names</th>\n",
              "      <th></th>\n",
              "      <th></th>\n",
              "      <th></th>\n",
              "    </tr>\n",
              "  </thead>\n",
              "  <tbody>\n",
              "    <tr>\n",
              "      <th>LinReg</th>\n",
              "      <td>0.364208</td>\n",
              "      <td>0.367059</td>\n",
              "      <td>LinearRegression(copy_X=True, fit_intercept=Tr...</td>\n",
              "    </tr>\n",
              "    <tr>\n",
              "      <th>LassoCV</th>\n",
              "      <td>0.338874</td>\n",
              "      <td>0.348774</td>\n",
              "      <td>LassoCV(alphas=None, copy_X=True, cv=None, eps...</td>\n",
              "    </tr>\n",
              "    <tr>\n",
              "      <th>RidgeCV</th>\n",
              "      <td>0.363367</td>\n",
              "      <td>0.373276</td>\n",
              "      <td>RidgeCV(alphas=array([ 0.1,  1. , 10. ]), cv=N...</td>\n",
              "    </tr>\n",
              "    <tr>\n",
              "      <th>RF</th>\n",
              "      <td>0.901064</td>\n",
              "      <td>0.342019</td>\n",
              "      <td>(DecisionTreeRegressor(ccp_alpha=0.0, criterio...</td>\n",
              "    </tr>\n",
              "    <tr>\n",
              "      <th>CART</th>\n",
              "      <td>1.000000</td>\n",
              "      <td>-0.423230</td>\n",
              "      <td>DecisionTreeRegressor(ccp_alpha=0.0, criterion...</td>\n",
              "    </tr>\n",
              "  </tbody>\n",
              "</table>\n",
              "</div>"
            ],
            "text/plain": [
              "             TrainScore  ...                                              Model\n",
              "model names              ...                                                   \n",
              "LinReg         0.364208  ...  LinearRegression(copy_X=True, fit_intercept=Tr...\n",
              "LassoCV        0.338874  ...  LassoCV(alphas=None, copy_X=True, cv=None, eps...\n",
              "RidgeCV        0.363367  ...  RidgeCV(alphas=array([ 0.1,  1. , 10. ]), cv=N...\n",
              "RF             0.901064  ...  (DecisionTreeRegressor(ccp_alpha=0.0, criterio...\n",
              "CART           1.000000  ...  DecisionTreeRegressor(ccp_alpha=0.0, criterion...\n",
              "\n",
              "[5 rows x 3 columns]"
            ]
          },
          "metadata": {
            "tags": []
          },
          "execution_count": 18
        }
      ]
    },
    {
      "cell_type": "markdown",
      "metadata": {
        "id": "lhYUaJqtau7F"
      },
      "source": [
        "## **Mutual_info_regression**"
      ]
    },
    {
      "cell_type": "markdown",
      "metadata": {
        "id": "UBmox3fxtmZl"
      },
      "source": [
        "from X_train_interactions"
      ]
    },
    {
      "cell_type": "code",
      "metadata": {
        "id": "gYEjATcNZOFv",
        "colab": {
          "base_uri": "https://localhost:8080/"
        },
        "outputId": "2c92aea7-a58b-45ea-8a42-4ddf09c8bab0"
      },
      "source": [
        "from sklearn.feature_selection import mutual_info_regression  \n",
        "from sklearn.feature_selection import SelectKBest\n",
        "\n",
        "selector = SelectKBest(mutual_info_regression, k=10)\n",
        "X_train_new = selector.fit_transform(X_train_interactions, y_train)  #Applying transformation to the training set\n",
        "#to get names of the selected features\n",
        "mask = selector.get_support()     # Output   array([False, False,  True,  True,  True, False ....])\n",
        "\n",
        "#should we also do X_val_new??\n",
        "\n",
        "\n",
        "print(selector.scores_)    \n",
        "\n",
        "new_features = X_train_interactions.columns[mask]\n",
        " \n",
        "print(new_features)\n"
      ],
      "execution_count": null,
      "outputs": [
        {
          "output_type": "stream",
          "text": [
            "[0.18067283 0.01053829 0.         0.0242431  0.         0.\n",
            " 0.         0.         0.0062688  0.00884917 0.         0.01729227\n",
            " 0.01138817 0.00268103 0.00797505 0.         0.01946982 0.\n",
            " 0.01409826 0.         0.         0.         0.01476268 0.02468243\n",
            " 0.         0.00635557 0.         0.01748266 0.         0.\n",
            " 0.         0.         0.02497346 0.03610573]\n",
            "Index(['TOMATOMETER score', 'Genre_Action', 'Genre_Mystery', 'Rating_NR',\n",
            "       'Rating_PG-13', 'cast2_oscar_nom', 'cast2_oscars', 'cast2_FB_likes',\n",
            "       'director_facebook_likes', 'Genre_Horror + Rating_G + Rating_NR'],\n",
            "      dtype='object')\n"
          ],
          "name": "stdout"
        }
      ]
    },
    {
      "cell_type": "markdown",
      "metadata": {
        "id": "rHFJG5PkstMr"
      },
      "source": [
        "X_train_interactions"
      ]
    },
    {
      "cell_type": "code",
      "metadata": {
        "id": "4hMcHghOvBiw"
      },
      "source": [
        "select_features = SelectKBest(mutual_info_regression, k=10)\n",
        "select_features = select_features.fit(X_train_interactions, y_train)\n",
        "\n",
        "# Get mask of columns that have good features\n",
        "feature_mask = select_features.get_support()\n",
        "X_train_interactions_feature_selection = X_train_interactions.iloc[:, feature_mask]\n",
        "X_val_interactions_feature_selection = X_val_interactions.iloc[:, feature_mask]"
      ],
      "execution_count": null,
      "outputs": []
    },
    {
      "cell_type": "code",
      "metadata": {
        "id": "PLwd8ZlTliu_",
        "colab": {
          "base_uri": "https://localhost:8080/"
        },
        "outputId": "074d6dea-9ff1-454a-a84b-3cb21cf07bf9"
      },
      "source": [
        "linreg2=LinearRegression()\n",
        "train_score, test_score = fit_score_single_model(linreg2,model_names[0],X_train_interactions_feature_selection, X_val_interactions_feature_selection, y_train,y_val)"
      ],
      "execution_count": null,
      "outputs": [
        {
          "output_type": "stream",
          "text": [
            "LinReg achieved a train score of 0.345 and test score of 0.364\n"
          ],
          "name": "stdout"
        }
      ]
    },
    {
      "cell_type": "markdown",
      "metadata": {
        "id": "epF3BEmItrMi"
      },
      "source": [
        "from X_train"
      ]
    },
    {
      "cell_type": "code",
      "metadata": {
        "id": "jQYwts6ztp_m"
      },
      "source": [
        "select_features = SelectKBest(mutual_info_regression, k=10)\n",
        "select_features = select_features.fit(X_train, y_train)\n",
        "\n",
        "# Get mask of columns that have good features\n",
        "feature_mask = select_features.get_support()\n",
        "X_train_feature_selection = X_train.iloc[:, feature_mask]\n",
        "X_val_feature_selection = X_val.iloc[:, feature_mask]"
      ],
      "execution_count": null,
      "outputs": []
    },
    {
      "cell_type": "code",
      "metadata": {
        "id": "gAPNi7Z9tQk9",
        "colab": {
          "base_uri": "https://localhost:8080/"
        },
        "outputId": "b531bb60-cf08-4d0b-d39b-cc675bba9d34"
      },
      "source": [
        "linreg2=LinearRegression()\n",
        "train_score, test_score = fit_score_single_model(linreg2,model_names[0],X_train_feature_selection, X_val_feature_selection, y_train,y_val)"
      ],
      "execution_count": null,
      "outputs": [
        {
          "output_type": "stream",
          "text": [
            "LinReg achieved a train score of 0.344 and test score of 0.368\n"
          ],
          "name": "stdout"
        }
      ]
    },
    {
      "cell_type": "markdown",
      "metadata": {
        "id": "Hxf7jSQFuMOI"
      },
      "source": [
        "## Model Performance on Mutual Regression"
      ]
    },
    {
      "cell_type": "code",
      "metadata": {
        "colab": {
          "base_uri": "https://localhost:8080/",
          "height": 366
        },
        "id": "aqgqfM_luMOI",
        "outputId": "5a3a0b1a-6587-4fff-fc9d-b1942727bc2a"
      },
      "source": [
        "#choose to run the X_train blocks OR X_train_interactions blocks before running this\n",
        "\n",
        "#these results were using X_train selected features from the two blocks above\n",
        "all_models = fit_and_score_model(all_models, 'Mutual_Regression', X_train_feature_selection, X_val_feature_selection, y_train, y_val)\n",
        "\n",
        "\n",
        "print('_________________________\\n')\n",
        "compare_models('Mutual_Regression')\n",
        "all_models.loc[:, 'Mutual_Regression', :].head()"
      ],
      "execution_count": null,
      "outputs": [
        {
          "output_type": "stream",
          "text": [
            "LinReg achieved a train score of 0.344 and test score of 0.368\n",
            "LassoCV achieved a train score of 0.339 and test score of 0.351\n",
            "RidgeCV achieved a train score of 0.344 and test score of 0.367\n",
            "RF achieved a train score of 0.878 and test score of 0.248\n",
            "CART achieved a train score of 0.977 and test score of -0.610\n",
            "_________________________\n",
            "\n",
            "On average, scores improved by -0.07, and the most improvement was 0.00\n"
          ],
          "name": "stdout"
        },
        {
          "output_type": "execute_result",
          "data": {
            "text/html": [
              "<div>\n",
              "<style scoped>\n",
              "    .dataframe tbody tr th:only-of-type {\n",
              "        vertical-align: middle;\n",
              "    }\n",
              "\n",
              "    .dataframe tbody tr th {\n",
              "        vertical-align: top;\n",
              "    }\n",
              "\n",
              "    .dataframe thead th {\n",
              "        text-align: right;\n",
              "    }\n",
              "</style>\n",
              "<table border=\"1\" class=\"dataframe\">\n",
              "  <thead>\n",
              "    <tr style=\"text-align: right;\">\n",
              "      <th></th>\n",
              "      <th>TrainScore</th>\n",
              "      <th>TestScore</th>\n",
              "      <th>Model</th>\n",
              "    </tr>\n",
              "    <tr>\n",
              "      <th>model names</th>\n",
              "      <th></th>\n",
              "      <th></th>\n",
              "      <th></th>\n",
              "    </tr>\n",
              "  </thead>\n",
              "  <tbody>\n",
              "    <tr>\n",
              "      <th>LinReg</th>\n",
              "      <td>0.344286</td>\n",
              "      <td>0.367867</td>\n",
              "      <td>LinearRegression(copy_X=True, fit_intercept=Tr...</td>\n",
              "    </tr>\n",
              "    <tr>\n",
              "      <th>LassoCV</th>\n",
              "      <td>0.338597</td>\n",
              "      <td>0.350709</td>\n",
              "      <td>LassoCV(alphas=None, copy_X=True, cv=None, eps...</td>\n",
              "    </tr>\n",
              "    <tr>\n",
              "      <th>RidgeCV</th>\n",
              "      <td>0.344255</td>\n",
              "      <td>0.367407</td>\n",
              "      <td>RidgeCV(alphas=array([ 0.1,  1. , 10. ]), cv=N...</td>\n",
              "    </tr>\n",
              "    <tr>\n",
              "      <th>RF</th>\n",
              "      <td>0.877738</td>\n",
              "      <td>0.248212</td>\n",
              "      <td>(DecisionTreeRegressor(ccp_alpha=0.0, criterio...</td>\n",
              "    </tr>\n",
              "    <tr>\n",
              "      <th>CART</th>\n",
              "      <td>0.976900</td>\n",
              "      <td>-0.609515</td>\n",
              "      <td>DecisionTreeRegressor(ccp_alpha=0.0, criterion...</td>\n",
              "    </tr>\n",
              "  </tbody>\n",
              "</table>\n",
              "</div>"
            ],
            "text/plain": [
              "             TrainScore  ...                                              Model\n",
              "model names              ...                                                   \n",
              "LinReg         0.344286  ...  LinearRegression(copy_X=True, fit_intercept=Tr...\n",
              "LassoCV        0.338597  ...  LassoCV(alphas=None, copy_X=True, cv=None, eps...\n",
              "RidgeCV        0.344255  ...  RidgeCV(alphas=array([ 0.1,  1. , 10. ]), cv=N...\n",
              "RF             0.877738  ...  (DecisionTreeRegressor(ccp_alpha=0.0, criterio...\n",
              "CART           0.976900  ...  DecisionTreeRegressor(ccp_alpha=0.0, criterion...\n",
              "\n",
              "[5 rows x 3 columns]"
            ]
          },
          "metadata": {
            "tags": []
          },
          "execution_count": 24
        }
      ]
    },
    {
      "cell_type": "markdown",
      "metadata": {
        "id": "0P-_9AherWeh"
      },
      "source": [
        "X_train_scaled"
      ]
    },
    {
      "cell_type": "code",
      "metadata": {
        "id": "UlmgZ0diq4_-"
      },
      "source": [
        "select_features = SelectKBest(mutual_info_regression, k=10)\n",
        "select_features = select_features.fit(X_train_scaled, y_train_scaled)\n",
        "\n",
        "# Get mask of columns that have good features\n",
        "feature_mask = select_features.get_support()\n",
        "X_train_feature_selection = X_train_scaled.iloc[:, feature_mask]\n",
        "X_val_feature_selection = X_val_scaled.iloc[:, feature_mask]"
      ],
      "execution_count": null,
      "outputs": []
    },
    {
      "cell_type": "code",
      "metadata": {
        "id": "5jQbuFWWupL0",
        "colab": {
          "base_uri": "https://localhost:8080/"
        },
        "outputId": "ec34ba2f-ecba-48fa-d88e-b7743c73cfe2"
      },
      "source": [
        "linreg3=LinearRegression()\n",
        "train_score, test_score = fit_score_single_model(linreg3, model_names[0],X_train_feature_selection, X_val_feature_selection, y_train_scaled,y_val_scaled)"
      ],
      "execution_count": null,
      "outputs": [
        {
          "output_type": "stream",
          "text": [
            "LinReg achieved a train score of 0.346 and test score of 0.379\n"
          ],
          "name": "stdout"
        }
      ]
    },
    {
      "cell_type": "markdown",
      "metadata": {
        "id": "EvcA6Mahu4GB"
      },
      "source": [
        "X_train_interactions_scaled"
      ]
    },
    {
      "cell_type": "code",
      "metadata": {
        "id": "OtVgQBMKu4GB"
      },
      "source": [
        "select_features = SelectKBest(mutual_info_regression, k=10)\n",
        "select_features = select_features.fit(X_train_interactions_scaled, y_train_scaled)\n",
        "\n",
        "# Get mask of columns that have good features\n",
        "feature_mask = select_features.get_support()\n",
        "X_train_interactions_feature_selection = X_train_interactions_scaled.iloc[:, feature_mask]\n",
        "X_val_interactions_feature_selection = X_val_interactions_scaled.iloc[:, feature_mask]"
      ],
      "execution_count": null,
      "outputs": []
    },
    {
      "cell_type": "code",
      "metadata": {
        "colab": {
          "base_uri": "https://localhost:8080/"
        },
        "id": "s6-XlFeKu4GB",
        "outputId": "6521b60e-5061-4811-abd7-accfedf66446"
      },
      "source": [
        "linreg2=LinearRegression()\n",
        "train_score, test_score = fit_score_single_model(linreg2,model_names[0],X_train_interactions_feature_selection, X_val_interactions_feature_selection, y_train_scaled,y_val_scaled)"
      ],
      "execution_count": null,
      "outputs": [
        {
          "output_type": "stream",
          "text": [
            "LinReg achieved a train score of 0.343 and test score of 0.358\n"
          ],
          "name": "stdout"
        }
      ]
    },
    {
      "cell_type": "markdown",
      "metadata": {
        "id": "2yzCwajoql70"
      },
      "source": [
        "## Model Performance on Mutual Regression (scaled)"
      ]
    },
    {
      "cell_type": "code",
      "metadata": {
        "colab": {
          "base_uri": "https://localhost:8080/",
          "height": 366
        },
        "id": "G0d_wbXtqkE5",
        "outputId": "002d69dd-8a18-4d4b-fad7-e9ff60c2c7b2"
      },
      "source": [
        "#choose to run X_train_scaled blocks OR X_train_interactions_scaled blocks before running this\n",
        "\n",
        "#the current results displayed are from X_train_scaled selected features\n",
        "all_models = fit_and_score_model(all_models, 'Mutual_Regression (scaled)', X_train_feature_selection, X_val_feature_selection, y_train_scaled, y_val_scaled)\n",
        "\n",
        "\n",
        "print('_________________________\\n')\n",
        "compare_models('Mutual_Regression (scaled)')\n",
        "all_models.loc[:, 'Mutual_Regression (scaled)', :].head()"
      ],
      "execution_count": null,
      "outputs": [
        {
          "output_type": "stream",
          "text": [
            "LinReg achieved a train score of 0.346 and test score of 0.379\n",
            "LassoCV achieved a train score of 0.341 and test score of 0.358\n",
            "RidgeCV achieved a train score of 0.346 and test score of 0.377\n",
            "RF achieved a train score of 0.877 and test score of 0.258\n",
            "CART achieved a train score of 0.976 and test score of -0.426\n",
            "_________________________\n",
            "\n",
            "On average, scores improved by -0.03, and the most improvement was 0.01\n"
          ],
          "name": "stdout"
        },
        {
          "output_type": "execute_result",
          "data": {
            "text/html": [
              "<div>\n",
              "<style scoped>\n",
              "    .dataframe tbody tr th:only-of-type {\n",
              "        vertical-align: middle;\n",
              "    }\n",
              "\n",
              "    .dataframe tbody tr th {\n",
              "        vertical-align: top;\n",
              "    }\n",
              "\n",
              "    .dataframe thead th {\n",
              "        text-align: right;\n",
              "    }\n",
              "</style>\n",
              "<table border=\"1\" class=\"dataframe\">\n",
              "  <thead>\n",
              "    <tr style=\"text-align: right;\">\n",
              "      <th></th>\n",
              "      <th>TrainScore</th>\n",
              "      <th>TestScore</th>\n",
              "      <th>Model</th>\n",
              "    </tr>\n",
              "    <tr>\n",
              "      <th>model names</th>\n",
              "      <th></th>\n",
              "      <th></th>\n",
              "      <th></th>\n",
              "    </tr>\n",
              "  </thead>\n",
              "  <tbody>\n",
              "    <tr>\n",
              "      <th>LinReg</th>\n",
              "      <td>0.346013</td>\n",
              "      <td>0.378511</td>\n",
              "      <td>LinearRegression(copy_X=True, fit_intercept=Tr...</td>\n",
              "    </tr>\n",
              "    <tr>\n",
              "      <th>LassoCV</th>\n",
              "      <td>0.341012</td>\n",
              "      <td>0.357717</td>\n",
              "      <td>LassoCV(alphas=None, copy_X=True, cv=None, eps...</td>\n",
              "    </tr>\n",
              "    <tr>\n",
              "      <th>RidgeCV</th>\n",
              "      <td>0.345944</td>\n",
              "      <td>0.377349</td>\n",
              "      <td>RidgeCV(alphas=array([ 0.1,  1. , 10. ]), cv=N...</td>\n",
              "    </tr>\n",
              "    <tr>\n",
              "      <th>RF</th>\n",
              "      <td>0.877126</td>\n",
              "      <td>0.257728</td>\n",
              "      <td>(DecisionTreeRegressor(ccp_alpha=0.0, criterio...</td>\n",
              "    </tr>\n",
              "    <tr>\n",
              "      <th>CART</th>\n",
              "      <td>0.975718</td>\n",
              "      <td>-0.425983</td>\n",
              "      <td>DecisionTreeRegressor(ccp_alpha=0.0, criterion...</td>\n",
              "    </tr>\n",
              "  </tbody>\n",
              "</table>\n",
              "</div>"
            ],
            "text/plain": [
              "             TrainScore  ...                                              Model\n",
              "model names              ...                                                   \n",
              "LinReg         0.346013  ...  LinearRegression(copy_X=True, fit_intercept=Tr...\n",
              "LassoCV        0.341012  ...  LassoCV(alphas=None, copy_X=True, cv=None, eps...\n",
              "RidgeCV        0.345944  ...  RidgeCV(alphas=array([ 0.1,  1. , 10. ]), cv=N...\n",
              "RF             0.877126  ...  (DecisionTreeRegressor(ccp_alpha=0.0, criterio...\n",
              "CART           0.975718  ...  DecisionTreeRegressor(ccp_alpha=0.0, criterion...\n",
              "\n",
              "[5 rows x 3 columns]"
            ]
          },
          "metadata": {
            "tags": []
          },
          "execution_count": 53
        }
      ]
    },
    {
      "cell_type": "markdown",
      "metadata": {
        "id": "Wy7TYA0nggc9"
      },
      "source": [
        "## ? Selecting columns based on **p-value**"
      ]
    },
    {
      "cell_type": "markdown",
      "metadata": {
        "id": "Qu0W7JmysgLb"
      },
      "source": [
        "\n",
        "https://towardsdatascience.com/feature-selection-correlation-and-p-value-da8921bfb3cf\n"
      ]
    },
    {
      "cell_type": "code",
      "metadata": {
        "id": "QNLi7wyqhz0h"
      },
      "source": [
        "import numpy as np\n",
        "import pandas as pd\n",
        "import seaborn as sns\n",
        "import matplotlib.pyplot as plt\n",
        "from sklearn.preprocessing import LabelEncoder, OneHotEncoder\n",
        "import warnings\n",
        "warnings.filterwarnings(\"ignore\")\n",
        "from sklearn.model_selection import train_test_split\n",
        "from sklearn.svm import SVC\n",
        "from sklearn.metrics import confusion_matrix"
      ],
      "execution_count": null,
      "outputs": []
    },
    {
      "cell_type": "code",
      "metadata": {
        "id": "ELwsj_ydhLch",
        "colab": {
          "base_uri": "https://localhost:8080/",
          "height": 393
        },
        "outputId": "4ca01079-3c75-4e4a-fd90-7353f20012dc"
      },
      "source": [
        "corr = X_train_interactions.corr()\n",
        "sns.heatmap(corr)"
      ],
      "execution_count": null,
      "outputs": [
        {
          "output_type": "execute_result",
          "data": {
            "text/plain": [
              "<matplotlib.axes._subplots.AxesSubplot at 0x7f3d6040f898>"
            ]
          },
          "metadata": {
            "tags": []
          },
          "execution_count": 33
        },
        {
          "output_type": "display_data",
          "data": {
            "image/png": "[encoded data removed]",
            "text/plain": [
              "<Figure size 432x288 with 2 Axes>"
            ]
          },
          "metadata": {
            "tags": [],
            "needs_background": "light"
          }
        }
      ]
    },
    {
      "cell_type": "markdown",
      "metadata": {
        "id": "SphrVZhKMpui"
      },
      "source": [
        "Assuming dataset is linear, use **Pearson**"
      ]
    },
    {
      "cell_type": "code",
      "metadata": {
        "id": "bMcOMSkFk71G",
        "colab": {
          "base_uri": "https://localhost:8080/",
          "height": 393
        },
        "outputId": "3b53cd23-abb9-4a0f-a6f8-1ef7996d2940"
      },
      "source": [
        "corr2=X_train_interactions.corr(method=\"pearson\")\n",
        "corr2= corr2[corr2>=abs(0.8)]\n",
        "sns.heatmap(corr2)"
      ],
      "execution_count": null,
      "outputs": [
        {
          "output_type": "execute_result",
          "data": {
            "text/plain": [
              "<matplotlib.axes._subplots.AxesSubplot at 0x7f3d5fb11c50>"
            ]
          },
          "metadata": {
            "tags": []
          },
          "execution_count": 34
        },
        {
          "output_type": "display_data",
          "data": {
            "image/png": "[encoded data removed]",
            "text/plain": [
              "<Figure size 432x288 with 2 Axes>"
            ]
          },
          "metadata": {
            "tags": [],
            "needs_background": "light"
          }
        }
      ]
    },
    {
      "cell_type": "markdown",
      "metadata": {
        "id": "XLfYFVJT_c3t"
      },
      "source": [
        "# Grid Search\n"
      ]
    },
    {
      "cell_type": "markdown",
      "metadata": {
        "id": "tAKLTDKH-kYU"
      },
      "source": [
        "For CART"
      ]
    },
    {
      "cell_type": "code",
      "metadata": {
        "id": "E8RQBsWe_c3v",
        "colab": {
          "base_uri": "https://localhost:8080/"
        },
        "outputId": "5ff3b2c5-25a1-423c-a499-f3b2d58e45eb"
      },
      "source": [
        "import numpy as np\n",
        "# Dictionary of parameters to search\n",
        "params_to_search = {\n",
        "    'criterion': ['mse', 'friedman_mse'],\n",
        "    'min_samples_leaf': [1, 2, 5, 10, 20,25,30],\n",
        "    'max_features': ['auto', 'log2', None,'sqrt']\n",
        "}\n",
        "\n",
        "# Initialize a model\n",
        "mdl = DecisionTreeRegressor(random_state=0)\n",
        "# Initialize the grid search\n",
        "optimized_dt = GridSearchCV(mdl, params_to_search, scoring=['r2'], refit=False, cv=5)\n",
        "# Run the grid search\n",
        "optimized_dt.fit(X_train, y_train)\n",
        "\n",
        "# Find the model with the highest test score\n",
        "\n",
        "cv_result_df = pd.DataFrame(optimized_dt.cv_results_)\n",
        "best_model_params_index = cv_result_df.mean_test_r2.idxmax()\n",
        "best_model_params = cv_result_df.params[best_model_params_index]\n",
        "\n",
        "print(f'The best model parameters are {best_model_params}') \n",
        "\n",
        "# Initialize the model \n",
        "best_model = DecisionTreeRegressor(random_state=0, **best_model_params)\n",
        "\n",
        "# Fit the model on the ENTIRE training set \n",
        "best_model.fit(X_train, y_train)\n",
        "\n",
        "# Evaluate model precision, recall, and score\n",
        "model_train_score = best_model.score(X_train,y_train)  # evaluate precision on test set\n",
        "model_test_score = best_model.score(X_val, y_val)  # evaluate recall on test set\n",
        "\n",
        "# Add model scores to all_models data frame\n",
        "all_models.loc['CART', 'Grid_Search'] = (model_train_score, model_test_score, best_model)\n",
        "all_models['TestScore'].loc['CART', ['Baseline', 'Grid_Search']]\n"
      ],
      "execution_count": null,
      "outputs": [
        {
          "output_type": "stream",
          "text": [
            "The best model parameters are {'criterion': 'mse', 'max_features': 'auto', 'min_samples_leaf': 30}\n"
          ],
          "name": "stdout"
        },
        {
          "output_type": "execute_result",
          "data": {
            "text/plain": [
              "model names  technique  \n",
              "CART         Baseline      -0.346405\n",
              "             Grid_Search    0.309302\n",
              "Name: TestScore, dtype: float64"
            ]
          },
          "metadata": {
            "tags": []
          },
          "execution_count": 25
        }
      ]
    },
    {
      "cell_type": "code",
      "metadata": {
        "colab": {
          "base_uri": "https://localhost:8080/"
        },
        "id": "M2LpbmfXHXLA",
        "outputId": "650a3bca-7585-404e-b37b-e4371f6fcf93"
      },
      "source": [
        "import numpy as np\n",
        "# Dictionary of parameters to search\n",
        "params_to_search = {\n",
        "    'splitter': ['best', 'random'],\n",
        "    'max_leaf_nodes':[None, 2,5,10,15,20,25],\n",
        "    'max_depth': np.arange(1,10)\n",
        "}\n",
        "\n",
        "# Initialize a model\n",
        "mdl = DecisionTreeRegressor(random_state=0)\n",
        "# Initialize the grid search\n",
        "optimized_dt = GridSearchCV(mdl, params_to_search, scoring=['r2'], refit=False, cv=5)\n",
        "# Run the grid search\n",
        "optimized_dt.fit(X_train, y_train)\n",
        "\n",
        "# Find the model with the highest test score\n",
        "\n",
        "cv_result_df = pd.DataFrame(optimized_dt.cv_results_)\n",
        "best_model_params_index = cv_result_df.mean_test_r2.idxmax()\n",
        "best_model_params = cv_result_df.params[best_model_params_index]\n",
        "\n",
        "print(f'The best model parameters are {best_model_params}') \n",
        "\n",
        "# Initialize the model \n",
        "best_model = DecisionTreeRegressor(random_state=0, **best_model_params)\n",
        "\n",
        "# Fit the model on the ENTIRE training set \n",
        "best_model.fit(X_train, y_train)\n",
        "\n",
        "# Evaluate model precision, recall, and score\n",
        "model_train_score = best_model.score(X_train,y_train)  # evaluate precision on test set\n",
        "model_test_score = best_model.score(X_val, y_val)  # evaluate recall on test set\n",
        "\n",
        "# Add model scores to all_models data frame\n",
        "all_models.loc['CART', 'Grid_Search'] = (model_train_score, model_test_score, best_model)\n",
        "all_models['TestScore'].loc['CART', ['Baseline', 'Grid_Search']]\n"
      ],
      "execution_count": null,
      "outputs": [
        {
          "output_type": "stream",
          "text": [
            "The best model parameters are {'max_depth': 4, 'max_leaf_nodes': 10, 'splitter': 'random'}\n"
          ],
          "name": "stdout"
        },
        {
          "output_type": "execute_result",
          "data": {
            "text/plain": [
              "model names  technique  \n",
              "CART         Baseline      -0.346405\n",
              "             Grid_Search    0.351463\n",
              "Name: TestScore, dtype: float64"
            ]
          },
          "metadata": {
            "tags": []
          },
          "execution_count": 26
        }
      ]
    },
    {
      "cell_type": "code",
      "metadata": {
        "id": "xnzD_uTZ7KEc"
      },
      "source": [
        "#all_models.loc[:,'Grid_Search',:]"
      ],
      "execution_count": null,
      "outputs": []
    },
    {
      "cell_type": "markdown",
      "metadata": {
        "id": "TDWaz-4_-oKc"
      },
      "source": [
        "For RF"
      ]
    },
    {
      "cell_type": "code",
      "metadata": {
        "colab": {
          "base_uri": "https://localhost:8080/"
        },
        "id": "kIf0Czgf-FYi",
        "outputId": "dc90ace8-dad1-4898-da76-8533e8d8b6f2"
      },
      "source": [
        "# Dictionary of parameters to search\n",
        "params_to_search = {\n",
        "    'criterion': ['mse', 'friedman_mse'],\n",
        "    'min_samples_leaf': [1, 2, 5, 10, 20,25,30],\n",
        "    \n",
        "}\n",
        "\n",
        "# Initialize a model\n",
        "mdl = RandomForestRegressor(random_state=0)\n",
        "# Initialize the grid search\n",
        "optimized_dt = GridSearchCV(mdl, params_to_search, scoring=['r2'], refit=False, cv=5)\n",
        "# Run the grid search\n",
        "optimized_dt.fit(X_train, y_train)\n",
        "\n",
        "# Find the model with the highest test score\n",
        "\n",
        "cv_result_df = pd.DataFrame(optimized_dt.cv_results_)\n",
        "best_model_params_index = cv_result_df.mean_test_r2.idxmax()\n",
        "best_model_params = cv_result_df.params[best_model_params_index]\n",
        "\n",
        "print(f'The best model parameters are {best_model_params}') \n",
        "\n",
        "# Initialize the model \n",
        "best_model = RandomForestRegressor(random_state=0, **best_model_params)\n",
        "\n",
        "# Fit the model on the ENTIRE training set \n",
        "best_model.fit(X_train, y_train)\n",
        "\n",
        "# Evaluate model precision, recall, and score\n",
        "model_train_score = best_model.score(X_train,y_train)  # evaluate precision on test set\n",
        "model_test_score = best_model.score(X_val, y_val)  # evaluate recall on test set\n",
        "\n",
        "# Add model scores to all_models data frame\n",
        "all_models.loc['RF', 'Grid_Search'] = (model_train_score, model_test_score, best_model)\n",
        "all_models['TestScore'].loc['RF', ['Baseline', 'Grid_Search']]"
      ],
      "execution_count": null,
      "outputs": [
        {
          "output_type": "stream",
          "text": [
            "The best model parameters are {'criterion': 'mse', 'min_samples_leaf': 30}\n"
          ],
          "name": "stdout"
        },
        {
          "output_type": "execute_result",
          "data": {
            "text/plain": [
              "model names  technique  \n",
              "RF           Baseline       0.339792\n",
              "             Grid_Search    0.377860\n",
              "Name: TestScore, dtype: float64"
            ]
          },
          "metadata": {
            "tags": []
          },
          "execution_count": 27
        }
      ]
    },
    {
      "cell_type": "code",
      "metadata": {
        "colab": {
          "base_uri": "https://localhost:8080/"
        },
        "id": "3rpXb28kH9JN",
        "outputId": "42061c0b-c008-428e-8aa8-c3d40c69c632"
      },
      "source": [
        "# Dictionary of parameters to search\n",
        "params_to_search = {\n",
        "    'max_features': ['auto', 'log2', None,'sqrt'],\n",
        "    \"max_depth\":np.arange(1,10)\n",
        "}\n",
        "\n",
        "# Initialize a model\n",
        "mdl = RandomForestRegressor(random_state=0)\n",
        "# Initialize the grid search\n",
        "optimized_dt = GridSearchCV(mdl, params_to_search, scoring=['r2'], refit=False, cv=5)\n",
        "# Run the grid search\n",
        "optimized_dt.fit(X_train, y_train)\n",
        "\n",
        "# Find the model with the highest test score\n",
        "\n",
        "cv_result_df = pd.DataFrame(optimized_dt.cv_results_)\n",
        "best_model_params_index = cv_result_df.mean_test_r2.idxmax()\n",
        "best_model_params = cv_result_df.params[best_model_params_index]\n",
        "\n",
        "print(f'The best model parameters are {best_model_params}') \n",
        "\n",
        "# Initialize the model \n",
        "best_model = RandomForestRegressor(random_state=0, **best_model_params)\n",
        "\n",
        "# Fit the model on the ENTIRE training set \n",
        "best_model.fit(X_train, y_train)\n",
        "\n",
        "# Evaluate model precision, recall, and score\n",
        "model_train_score = best_model.score(X_train,y_train)  # evaluate precision on test set\n",
        "model_test_score = best_model.score(X_val, y_val)  # evaluate recall on test set\n",
        "\n",
        "# Add model scores to all_models data frame\n",
        "all_models.loc['RF', 'Grid_Search'] = (model_train_score, model_test_score, best_model)\n",
        "all_models['TestScore'].loc['RF', ['Baseline', 'Grid_Search']]"
      ],
      "execution_count": null,
      "outputs": [
        {
          "output_type": "stream",
          "text": [
            "The best model parameters are {'max_depth': 3, 'max_features': 'auto'}\n"
          ],
          "name": "stdout"
        },
        {
          "output_type": "execute_result",
          "data": {
            "text/plain": [
              "model names  technique  \n",
              "RF           Baseline       0.339792\n",
              "             Grid_Search    0.378242\n",
              "Name: TestScore, dtype: float64"
            ]
          },
          "metadata": {
            "tags": []
          },
          "execution_count": 28
        }
      ]
    },
    {
      "cell_type": "code",
      "metadata": {
        "colab": {
          "base_uri": "https://localhost:8080/"
        },
        "id": "2pDxXm5kLPFS",
        "outputId": "85302f6c-92b1-4f47-83db-53b2d0dc91ca"
      },
      "source": [
        "# Dictionary of parameters to search\n",
        "params_to_search = {\n",
        "    'n_estimators':np.arange(1,30)\n",
        "}\n",
        "\n",
        "# Initialize a model\n",
        "mdl = RandomForestRegressor(random_state=0)\n",
        "# Initialize the grid search\n",
        "optimized_dt = GridSearchCV(mdl, params_to_search, scoring=['r2'], refit=False, cv=5)\n",
        "# Run the grid search\n",
        "optimized_dt.fit(X_train, y_train)\n",
        "\n",
        "# Find the model with the highest test score\n",
        "\n",
        "cv_result_df = pd.DataFrame(optimized_dt.cv_results_)\n",
        "best_model_params_index = cv_result_df.mean_test_r2.idxmax()\n",
        "best_model_params = cv_result_df.params[best_model_params_index]\n",
        "\n",
        "print(f'The best model parameters are {best_model_params}') \n",
        "\n",
        "# Initialize the model \n",
        "best_model = RandomForestRegressor(random_state=0, **best_model_params)\n",
        "\n",
        "# Fit the model on the ENTIRE training set \n",
        "best_model.fit(X_train, y_train)\n",
        "\n",
        "# Evaluate model precision, recall, and score\n",
        "model_train_score = best_model.score(X_train,y_train)  # evaluate precision on test set\n",
        "model_test_score = best_model.score(X_val, y_val)  # evaluate recall on test set\n",
        "\n",
        "# Add model scores to all_models data frame\n",
        "all_models.loc['RF', 'Grid_Search'] = (model_train_score, model_test_score, best_model)\n",
        "all_models['TestScore'].loc['RF', ['Baseline', 'Grid_Search']]"
      ],
      "execution_count": null,
      "outputs": [
        {
          "output_type": "stream",
          "text": [
            "The best model parameters are {'n_estimators': 29}\n"
          ],
          "name": "stdout"
        },
        {
          "output_type": "execute_result",
          "data": {
            "text/plain": [
              "model names  technique  \n",
              "RF           Baseline       0.339792\n",
              "             Grid_Search    0.319159\n",
              "Name: TestScore, dtype: float64"
            ]
          },
          "metadata": {
            "tags": []
          },
          "execution_count": 29
        }
      ]
    },
    {
      "cell_type": "code",
      "metadata": {
        "id": "flen3r8vAjsa"
      },
      "source": [
        "#all_models.loc[:,'Grid_Search',:]"
      ],
      "execution_count": null,
      "outputs": []
    },
    {
      "cell_type": "markdown",
      "metadata": {
        "id": "NiBYBvL7AtlZ"
      },
      "source": [
        "Fpr RidgeCV"
      ]
    },
    {
      "cell_type": "code",
      "metadata": {
        "id": "YDb6n96MApth",
        "colab": {
          "base_uri": "https://localhost:8080/"
        },
        "outputId": "8005f7b3-00ac-4029-93f4-ee5c5b99b379"
      },
      "source": [
        "# Dictionary of parameters to search\n",
        "params_to_search = {\n",
        "    'fit_intercept': [True, False],\n",
        "    'normalize': [True,False],\n",
        "    'gcv_mode': ['auto', 'svd', 'eigen'],\n",
        "}\n",
        "\n",
        "# Initialize a model\n",
        "mdl = RidgeCV()\n",
        "# Initialize the grid search\n",
        "optimized_dt = GridSearchCV(mdl, params_to_search, scoring=['r2'], refit=False, cv=5)\n",
        "# Run the grid search\n",
        "optimized_dt.fit(X_train, y_train)\n",
        "\n",
        "# Find the model with the highest test score\n",
        "\n",
        "cv_result_df = pd.DataFrame(optimized_dt.cv_results_)\n",
        "best_model_params_index = cv_result_df.mean_test_r2.idxmax()\n",
        "best_model_params = cv_result_df.params[best_model_params_index]\n",
        "\n",
        "print(f'The best model parameters are {best_model_params}') \n",
        "\n",
        "# Initialize the model \n",
        "best_model = RidgeCV(**best_model_params)\n",
        "\n",
        "# Fit the model on the ENTIRE training set \n",
        "best_model.fit(X_train, y_train)\n",
        "\n",
        "# Evaluate model precision, recall, and score\n",
        "model_train_score = best_model.score(X_train,y_train)  # evaluate precision on test set\n",
        "model_test_score = best_model.score(X_val, y_val)  # evaluate recall on test set\n",
        "\n",
        "# Add model scores to all_models data frame\n",
        "all_models.loc['RidgeCV', 'Grid_Search'] = (model_train_score, model_test_score, best_model)\n",
        "all_models['TestScore'].loc['RidgeCV', ['Baseline', 'Grid_Search']]"
      ],
      "execution_count": null,
      "outputs": [
        {
          "output_type": "stream",
          "text": [
            "The best model parameters are {'fit_intercept': True, 'gcv_mode': 'eigen', 'normalize': False}\n"
          ],
          "name": "stdout"
        },
        {
          "output_type": "execute_result",
          "data": {
            "text/plain": [
              "model names  technique  \n",
              "RidgeCV      Baseline       0.374853\n",
              "             Grid_Search    0.374853\n",
              "Name: TestScore, dtype: float64"
            ]
          },
          "metadata": {
            "tags": []
          },
          "execution_count": 30
        }
      ]
    },
    {
      "cell_type": "markdown",
      "metadata": {
        "id": "ofunRp83D6ui"
      },
      "source": [
        "for LassoCV"
      ]
    },
    {
      "cell_type": "code",
      "metadata": {
        "id": "zKV9sf9tEP0N",
        "colab": {
          "base_uri": "https://localhost:8080/"
        },
        "outputId": "1a9d4e52-8646-48ae-cfcd-0b0eb192cead"
      },
      "source": [
        "# Dictionary of parameters to search\n",
        "params_to_search = {\n",
        "    'fit_intercept': [True, False],\n",
        "    'normalize': [True,False],\n",
        "    'precompute':['auto',False,True],\n",
        "}\n",
        "\n",
        "# Initialize a model\n",
        "mdl = LassoCV()\n",
        "# Initialize the grid search\n",
        "optimized_dt = GridSearchCV(mdl, params_to_search, scoring=['r2'], refit=False, cv=5)\n",
        "# Run the grid search\n",
        "optimized_dt.fit(X_train, y_train)\n",
        "\n",
        "# Find the model with the highest test score\n",
        "\n",
        "cv_result_df = pd.DataFrame(optimized_dt.cv_results_)\n",
        "best_model_params_index = cv_result_df.mean_test_r2.idxmax()\n",
        "best_model_params = cv_result_df.params[best_model_params_index]\n",
        "\n",
        "print(f'The best model parameters are {best_model_params}') \n",
        "\n",
        "# Initialize the model \n",
        "best_model = LassoCV(**best_model_params)\n",
        "\n",
        "# Fit the model on the ENTIRE training set \n",
        "best_model.fit(X_train, y_train)\n",
        "\n",
        "# Evaluate model precision, recall, and score\n",
        "model_train_score = best_model.score(X_train,y_train)  # evaluate precision on test set\n",
        "model_test_score = best_model.score(X_val, y_val)  # evaluate recall on test set\n",
        "\n",
        "# Add model scores to all_models data frame\n",
        "all_models.loc['LassoCV', 'Grid_Search'] = (model_train_score, model_test_score, best_model)\n",
        "all_models['TestScore'].loc['LassoCV', ['Baseline', 'Grid_Search']]"
      ],
      "execution_count": null,
      "outputs": [
        {
          "output_type": "stream",
          "text": [
            "The best model parameters are {'fit_intercept': True, 'normalize': True, 'precompute': True}\n"
          ],
          "name": "stdout"
        },
        {
          "output_type": "execute_result",
          "data": {
            "text/plain": [
              "model names  technique  \n",
              "LassoCV      Baseline       0.348774\n",
              "             Grid_Search    0.357671\n",
              "Name: TestScore, dtype: float64"
            ]
          },
          "metadata": {
            "tags": []
          },
          "execution_count": 31
        }
      ]
    },
    {
      "cell_type": "code",
      "metadata": {
        "id": "ZZkjCz-JKhzS",
        "colab": {
          "base_uri": "https://localhost:8080/"
        },
        "outputId": "0e511b02-0cb7-4cc7-d593-162284210804"
      },
      "source": [
        "# Dictionary of parameters to search\n",
        "params_to_search = {\n",
        "    'cv':[5,10,15,20]\n",
        "}\n",
        "\n",
        "# Initialize a model\n",
        "mdl = LassoCV()\n",
        "# Initialize the grid search\n",
        "optimized_dt = GridSearchCV(mdl, params_to_search, scoring=['r2'], refit=False, cv=5)\n",
        "# Run the grid search\n",
        "optimized_dt.fit(X_train, y_train)\n",
        "\n",
        "# Find the model with the highest test score\n",
        "\n",
        "cv_result_df = pd.DataFrame(optimized_dt.cv_results_)\n",
        "best_model_params_index = cv_result_df.mean_test_r2.idxmax()\n",
        "best_model_params = cv_result_df.params[best_model_params_index]\n",
        "\n",
        "print(f'The best model parameters are {best_model_params}') \n",
        "\n",
        "# Initialize the model \n",
        "best_model = LassoCV(**best_model_params)\n",
        "\n",
        "# Fit the model on the ENTIRE training set \n",
        "best_model.fit(X_train, y_train)\n",
        "\n",
        "# Evaluate model precision, recall, and score\n",
        "model_train_score = best_model.score(X_train,y_train)  # evaluate precision on test set\n",
        "model_test_score = best_model.score(X_val, y_val)  # evaluate recall on test set\n",
        "\n",
        "# Add model scores to all_models data frame\n",
        "all_models.loc['LassoCV', 'Grid_Search'] = (model_train_score, model_test_score, best_model)\n",
        "all_models['TestScore'].loc['LassoCV', ['Baseline', 'Grid_Search']]"
      ],
      "execution_count": null,
      "outputs": [
        {
          "output_type": "stream",
          "text": [
            "The best model parameters are {'cv': 20}\n"
          ],
          "name": "stdout"
        },
        {
          "output_type": "execute_result",
          "data": {
            "text/plain": [
              "model names  technique  \n",
              "LassoCV      Baseline       0.348774\n",
              "             Grid_Search    0.352312\n",
              "Name: TestScore, dtype: float64"
            ]
          },
          "metadata": {
            "tags": []
          },
          "execution_count": 32
        }
      ]
    },
    {
      "cell_type": "markdown",
      "metadata": {
        "id": "uV8mmbnGF18v"
      },
      "source": [
        "For LinReg"
      ]
    },
    {
      "cell_type": "code",
      "metadata": {
        "id": "EzsmT8BCF0py",
        "colab": {
          "base_uri": "https://localhost:8080/"
        },
        "outputId": "0e7e5344-480d-4a9c-c747-3ba442f0484a"
      },
      "source": [
        "# Dictionary of parameters to search\n",
        "params_to_search = {\n",
        "    'fit_intercept': [True, False],\n",
        "    'normalize': [True,False],\n",
        "    'n_jobs':[0,1,2,3]\n",
        "}\n",
        "\n",
        "# Initialize a model\n",
        "mdl = LinearRegression()\n",
        "# Initialize the grid search\n",
        "optimized_dt = GridSearchCV(mdl, params_to_search, scoring=['r2'], refit=False, cv=5)\n",
        "# Run the grid search\n",
        "optimized_dt.fit(X_train, y_train)\n",
        "\n",
        "# Find the model with the highest test score\n",
        "\n",
        "cv_result_df = pd.DataFrame(optimized_dt.cv_results_)\n",
        "best_model_params_index = cv_result_df.mean_test_r2.idxmax()\n",
        "best_model_params = cv_result_df.params[best_model_params_index]\n",
        "\n",
        "print(f'The best model parameters are {best_model_params}') \n",
        "\n",
        "# Initialize the model \n",
        "best_model = LinearRegression(**best_model_params)\n",
        "\n",
        "# Fit the model on the ENTIRE training set \n",
        "best_model.fit(X_train, y_train)\n",
        "\n",
        "# Evaluate model precision, recall, and score\n",
        "model_train_score = best_model.score(X_train,y_train)  # evaluate precision on test set\n",
        "model_test_score = best_model.score(X_val, y_val)  # evaluate recall on test set\n",
        "\n",
        "# Add model scores to all_models data frame\n",
        "all_models.loc['LinReg', 'Grid_Search'] = (model_train_score, model_test_score, best_model)\n",
        "all_models['TestScore'].loc['LinReg', ['Baseline', 'Grid_Search']]"
      ],
      "execution_count": null,
      "outputs": [
        {
          "output_type": "stream",
          "text": [
            "The best model parameters are {'fit_intercept': False, 'n_jobs': 0, 'normalize': True}\n"
          ],
          "name": "stdout"
        },
        {
          "output_type": "execute_result",
          "data": {
            "text/plain": [
              "model names  technique  \n",
              "LinReg       Baseline       0.371280\n",
              "             Grid_Search    0.369227\n",
              "Name: TestScore, dtype: float64"
            ]
          },
          "metadata": {
            "tags": []
          },
          "execution_count": 33
        }
      ]
    },
    {
      "cell_type": "markdown",
      "metadata": {
        "id": "DfmBpnduHczG"
      },
      "source": [
        "Grid Search Result"
      ]
    },
    {
      "cell_type": "code",
      "metadata": {
        "id": "kes3YyILHbEJ",
        "colab": {
          "base_uri": "https://localhost:8080/",
          "height": 228
        },
        "outputId": "caf4245d-62a0-4b6e-950d-63d3ca762830"
      },
      "source": [
        "all_models.loc[:,'Grid_Search',:]"
      ],
      "execution_count": null,
      "outputs": [
        {
          "output_type": "execute_result",
          "data": {
            "text/html": [
              "<div>\n",
              "<style scoped>\n",
              "    .dataframe tbody tr th:only-of-type {\n",
              "        vertical-align: middle;\n",
              "    }\n",
              "\n",
              "    .dataframe tbody tr th {\n",
              "        vertical-align: top;\n",
              "    }\n",
              "\n",
              "    .dataframe thead th {\n",
              "        text-align: right;\n",
              "    }\n",
              "</style>\n",
              "<table border=\"1\" class=\"dataframe\">\n",
              "  <thead>\n",
              "    <tr style=\"text-align: right;\">\n",
              "      <th></th>\n",
              "      <th>TrainScore</th>\n",
              "      <th>TestScore</th>\n",
              "      <th>Model</th>\n",
              "    </tr>\n",
              "    <tr>\n",
              "      <th>model names</th>\n",
              "      <th></th>\n",
              "      <th></th>\n",
              "      <th></th>\n",
              "    </tr>\n",
              "  </thead>\n",
              "  <tbody>\n",
              "    <tr>\n",
              "      <th>LinReg</th>\n",
              "      <td>0.367663</td>\n",
              "      <td>0.369227</td>\n",
              "      <td>LinearRegression(copy_X=True, fit_intercept=Fa...</td>\n",
              "    </tr>\n",
              "    <tr>\n",
              "      <th>LassoCV</th>\n",
              "      <td>0.341227</td>\n",
              "      <td>0.352312</td>\n",
              "      <td>LassoCV(alphas=None, copy_X=True, cv=20, eps=0...</td>\n",
              "    </tr>\n",
              "    <tr>\n",
              "      <th>RidgeCV</th>\n",
              "      <td>0.366021</td>\n",
              "      <td>0.374853</td>\n",
              "      <td>RidgeCV(alphas=array([ 0.1,  1. , 10. ]), cv=N...</td>\n",
              "    </tr>\n",
              "    <tr>\n",
              "      <th>RF</th>\n",
              "      <td>0.898089</td>\n",
              "      <td>0.319159</td>\n",
              "      <td>(DecisionTreeRegressor(ccp_alpha=0.0, criterio...</td>\n",
              "    </tr>\n",
              "    <tr>\n",
              "      <th>CART</th>\n",
              "      <td>0.345567</td>\n",
              "      <td>0.351463</td>\n",
              "      <td>DecisionTreeRegressor(ccp_alpha=0.0, criterion...</td>\n",
              "    </tr>\n",
              "  </tbody>\n",
              "</table>\n",
              "</div>"
            ],
            "text/plain": [
              "             TrainScore  ...                                              Model\n",
              "model names              ...                                                   \n",
              "LinReg         0.367663  ...  LinearRegression(copy_X=True, fit_intercept=Fa...\n",
              "LassoCV        0.341227  ...  LassoCV(alphas=None, copy_X=True, cv=20, eps=0...\n",
              "RidgeCV        0.366021  ...  RidgeCV(alphas=array([ 0.1,  1. , 10. ]), cv=N...\n",
              "RF             0.898089  ...  (DecisionTreeRegressor(ccp_alpha=0.0, criterio...\n",
              "CART           0.345567  ...  DecisionTreeRegressor(ccp_alpha=0.0, criterion...\n",
              "\n",
              "[5 rows x 3 columns]"
            ]
          },
          "metadata": {
            "tags": []
          },
          "execution_count": 34
        }
      ]
    },
    {
      "cell_type": "markdown",
      "metadata": {
        "id": "YRfat8qalsrq"
      },
      "source": [
        "# Stacking"
      ]
    },
    {
      "cell_type": "code",
      "metadata": {
        "id": "4Jj-ZE1u_3Nl",
        "colab": {
          "base_uri": "https://localhost:8080/"
        },
        "outputId": "0457e0c8-c512-4bda-e033-654435e55329"
      },
      "source": [
        "'''A stacked model that begins with clustering'''\n",
        "technique_name = 'Stacking'\n",
        "\n",
        "# Initialize the clustering model\n",
        "model = KMeans(n_init=10, n_clusters=8, random_state=0)\n",
        "model.fit(X_train)\n",
        "\n",
        "# Stack training data\n",
        "X_train_prediction = pd.Series(model.predict(X_train), \n",
        "                            name='cluster',\n",
        "                            index=X_train.index)\n",
        "\n",
        "# One-hot-encode cluster numbers\n",
        "X_train_prediction = pd.get_dummies(X_train_prediction)\n",
        "# Add cluster numbers to features\n",
        "X_train_stacked = X_train.join(X_train_prediction)\n",
        "\n",
        "# Stack testing data\n",
        "X_val_prediction = pd.Series(model.predict(X_val),\n",
        "                             name='cluster',\n",
        "                             index=X_val.index)\n",
        "# One-hot-encode cluster numbers\n",
        "X_val_prediction = pd.get_dummies(X_val_prediction)\n",
        "# Get cluster numbers that weren't predicted in the testing set\n",
        "missing_cluster_columns = X_train_prediction.columns.difference(X_val_prediction.columns)\n",
        "# Add missing cluster dummy variables\n",
        "X_val_prediction[missing_cluster_columns] = 0 \n",
        "# Add cluster numbers to features\n",
        "X_val_stacked = X_val.join(X_val_prediction)\n",
        "\n",
        "# We will use logistic regression instead of a decision tree at the higher-level classifier\n",
        "all_models = fit_and_score_model(all_models, technique_name, X_train_stacked, X_val_stacked, y_train, y_val)\n",
        "compare_models(technique_name)"
      ],
      "execution_count": null,
      "outputs": [
        {
          "output_type": "stream",
          "text": [
            "LinReg achieved a train score of 0.372 and test score of 0.366\n",
            "LassoCV achieved a train score of 0.339 and test score of 0.349\n",
            "RidgeCV achieved a train score of 0.367 and test score of 0.375\n",
            "RF achieved a train score of 0.903 and test score of 0.323\n",
            "CART achieved a train score of 1.000 and test score of -0.261\n",
            "On average, scores improved by 0.01, and the most improvement was 0.09\n"
          ],
          "name": "stdout"
        }
      ]
    },
    {
      "cell_type": "code",
      "metadata": {
        "id": "EylVidzUwtTc",
        "colab": {
          "base_uri": "https://localhost:8080/"
        },
        "outputId": "6a47487e-d2d5-4098-b3e9-ce94afe0cf7c"
      },
      "source": [
        "'''A stacked model that begins with clustering'''\n",
        "technique_name = 'Stacking'\n",
        "\n",
        "# Initialize the clustering model\n",
        "model = KMeans(n_init=10, n_clusters=8, random_state=0)\n",
        "model.fit(X_train)\n",
        "\n",
        "# Stack training data\n",
        "X_train_prediction = pd.Series(model.predict(X_train), \n",
        "                            name='cluster',\n",
        "                            index=X_train.index)\n",
        "\n",
        "# One-hot-encode cluster numbers\n",
        "X_train_prediction = pd.get_dummies(X_train_prediction)\n",
        "# Add cluster numbers to features\n",
        "X_train_stacked = X_train.join(X_train_prediction)\n",
        "\n",
        "# Stack testing data\n",
        "X_val_prediction = pd.Series(model.predict(X_val),\n",
        "                             name='cluster',\n",
        "                             index=X_val.index)\n",
        "# One-hot-encode cluster numbers\n",
        "X_val_prediction = pd.get_dummies(X_val_prediction)\n",
        "# Get cluster numbers that weren't predicted in the testing set\n",
        "missing_cluster_columns = X_train_prediction.columns.difference(X_val_prediction.columns)\n",
        "# Add missing cluster dummy variables\n",
        "X_val_prediction[missing_cluster_columns] = 0 \n",
        "# Add cluster numbers to features\n",
        "X_val_stacked = X_val.join(X_val_prediction)\n",
        "\n",
        "# We will use logistic regression instead of a decision tree at the higher-level classifier\n",
        "all_models = fit_and_score_model(all_models, technique_name, X_train_stacked, X_val_stacked, y_train, y_val)\n",
        "compare_models(technique_name)"
      ],
      "execution_count": null,
      "outputs": [
        {
          "output_type": "stream",
          "text": [
            "LinReg achieved a train score of 0.372 and test score of 0.366\n",
            "LassoCV achieved a train score of 0.339 and test score of 0.349\n",
            "RidgeCV achieved a train score of 0.367 and test score of 0.375\n",
            "RF achieved a train score of 0.903 and test score of 0.349\n",
            "CART achieved a train score of 1.000 and test score of -0.303\n",
            "On average, scores improved by 0.01, and the most improvement was 0.04\n"
          ],
          "name": "stdout"
        }
      ]
    },
    {
      "cell_type": "code",
      "metadata": {
        "id": "VE2WRy-ljlmS",
        "colab": {
          "base_uri": "https://localhost:8080/",
          "height": 462
        },
        "outputId": "aa66b68a-18ec-4ae5-8ba9-24cc773820ed"
      },
      "source": [
        "X_train_interactions_overall"
      ],
      "execution_count": null,
      "outputs": [
        {
          "output_type": "execute_result",
          "data": {
            "text/html": [
              "<div>\n",
              "<style scoped>\n",
              "    .dataframe tbody tr th:only-of-type {\n",
              "        vertical-align: middle;\n",
              "    }\n",
              "\n",
              "    .dataframe tbody tr th {\n",
              "        vertical-align: top;\n",
              "    }\n",
              "\n",
              "    .dataframe thead th {\n",
              "        text-align: right;\n",
              "    }\n",
              "</style>\n",
              "<table border=\"1\" class=\"dataframe\">\n",
              "  <thead>\n",
              "    <tr style=\"text-align: right;\">\n",
              "      <th></th>\n",
              "      <th>TOMATOMETER score</th>\n",
              "      <th>TOMATOMETER Count</th>\n",
              "      <th>Runtime</th>\n",
              "      <th>Genre_Action</th>\n",
              "      <th>Genre_Art&amp;Foreign</th>\n",
              "      <th>Genre_Classics</th>\n",
              "      <th>Genre_Comedy</th>\n",
              "      <th>Genre_Documentary</th>\n",
              "      <th>Genre_Drama</th>\n",
              "      <th>Genre_Horror</th>\n",
              "      <th>Genre_Kids&amp;Family</th>\n",
              "      <th>Genre_Mystery</th>\n",
              "      <th>Genre_Romance</th>\n",
              "      <th>Genre_SciFi</th>\n",
              "      <th>Rating_G</th>\n",
              "      <th>Rating_NC17</th>\n",
              "      <th>Rating_NR</th>\n",
              "      <th>Rating_PG</th>\n",
              "      <th>Rating_PG-13</th>\n",
              "      <th>Rating_R</th>\n",
              "      <th>cast1_oscar_nom</th>\n",
              "      <th>cast1_oscars</th>\n",
              "      <th>cast2_oscar_nom</th>\n",
              "      <th>cast2_oscars</th>\n",
              "      <th>cast3_oscar_nom</th>\n",
              "      <th>cast3_oscars</th>\n",
              "      <th>cast1_FB_likes</th>\n",
              "      <th>cast2_FB_likes</th>\n",
              "      <th>cast3_FB_likes</th>\n",
              "      <th>dir_oscar_nom</th>\n",
              "      <th>dir_oscars</th>\n",
              "      <th>director_awards</th>\n",
              "      <th>director_facebook_likes</th>\n",
              "      <th>Genre_Horror + Rating_G + Rating_NR</th>\n",
              "      <th>total_cast_facebook_likes</th>\n",
              "    </tr>\n",
              "  </thead>\n",
              "  <tbody>\n",
              "    <tr>\n",
              "      <th>70</th>\n",
              "      <td>95.0</td>\n",
              "      <td>19</td>\n",
              "      <td>70</td>\n",
              "      <td>0</td>\n",
              "      <td>0</td>\n",
              "      <td>0</td>\n",
              "      <td>0</td>\n",
              "      <td>1</td>\n",
              "      <td>0</td>\n",
              "      <td>0</td>\n",
              "      <td>0</td>\n",
              "      <td>0</td>\n",
              "      <td>0</td>\n",
              "      <td>0</td>\n",
              "      <td>0</td>\n",
              "      <td>0</td>\n",
              "      <td>1</td>\n",
              "      <td>0</td>\n",
              "      <td>0</td>\n",
              "      <td>0</td>\n",
              "      <td>0.0</td>\n",
              "      <td>0.0</td>\n",
              "      <td>0.0</td>\n",
              "      <td>0.0</td>\n",
              "      <td>0.0</td>\n",
              "      <td>0.0</td>\n",
              "      <td>488.0</td>\n",
              "      <td>367.0</td>\n",
              "      <td>367.0</td>\n",
              "      <td>0.0</td>\n",
              "      <td>0.0</td>\n",
              "      <td>0.0</td>\n",
              "      <td>232.0</td>\n",
              "      <td>1</td>\n",
              "      <td>1222.0</td>\n",
              "    </tr>\n",
              "    <tr>\n",
              "      <th>75</th>\n",
              "      <td>73.0</td>\n",
              "      <td>15</td>\n",
              "      <td>71</td>\n",
              "      <td>0</td>\n",
              "      <td>1</td>\n",
              "      <td>0</td>\n",
              "      <td>0</td>\n",
              "      <td>0</td>\n",
              "      <td>1</td>\n",
              "      <td>1</td>\n",
              "      <td>0</td>\n",
              "      <td>1</td>\n",
              "      <td>0</td>\n",
              "      <td>0</td>\n",
              "      <td>0</td>\n",
              "      <td>0</td>\n",
              "      <td>1</td>\n",
              "      <td>0</td>\n",
              "      <td>0</td>\n",
              "      <td>0</td>\n",
              "      <td>0.0</td>\n",
              "      <td>0.0</td>\n",
              "      <td>0.0</td>\n",
              "      <td>0.0</td>\n",
              "      <td>0.0</td>\n",
              "      <td>0.0</td>\n",
              "      <td>367.0</td>\n",
              "      <td>367.0</td>\n",
              "      <td>367.0</td>\n",
              "      <td>0.0</td>\n",
              "      <td>0.0</td>\n",
              "      <td>0.0</td>\n",
              "      <td>232.0</td>\n",
              "      <td>2</td>\n",
              "      <td>1101.0</td>\n",
              "    </tr>\n",
              "    <tr>\n",
              "      <th>889</th>\n",
              "      <td>92.0</td>\n",
              "      <td>7</td>\n",
              "      <td>104</td>\n",
              "      <td>0</td>\n",
              "      <td>0</td>\n",
              "      <td>0</td>\n",
              "      <td>0</td>\n",
              "      <td>0</td>\n",
              "      <td>1</td>\n",
              "      <td>0</td>\n",
              "      <td>0</td>\n",
              "      <td>0</td>\n",
              "      <td>0</td>\n",
              "      <td>0</td>\n",
              "      <td>0</td>\n",
              "      <td>0</td>\n",
              "      <td>1</td>\n",
              "      <td>0</td>\n",
              "      <td>0</td>\n",
              "      <td>0</td>\n",
              "      <td>0.0</td>\n",
              "      <td>0.0</td>\n",
              "      <td>0.0</td>\n",
              "      <td>0.0</td>\n",
              "      <td>0.0</td>\n",
              "      <td>0.0</td>\n",
              "      <td>367.0</td>\n",
              "      <td>367.0</td>\n",
              "      <td>367.0</td>\n",
              "      <td>0.0</td>\n",
              "      <td>0.0</td>\n",
              "      <td>0.0</td>\n",
              "      <td>232.0</td>\n",
              "      <td>1</td>\n",
              "      <td>1101.0</td>\n",
              "    </tr>\n",
              "    <tr>\n",
              "      <th>1210</th>\n",
              "      <td>40.0</td>\n",
              "      <td>190</td>\n",
              "      <td>120</td>\n",
              "      <td>1</td>\n",
              "      <td>0</td>\n",
              "      <td>0</td>\n",
              "      <td>0</td>\n",
              "      <td>0</td>\n",
              "      <td>0</td>\n",
              "      <td>0</td>\n",
              "      <td>0</td>\n",
              "      <td>0</td>\n",
              "      <td>1</td>\n",
              "      <td>1</td>\n",
              "      <td>0</td>\n",
              "      <td>0</td>\n",
              "      <td>0</td>\n",
              "      <td>0</td>\n",
              "      <td>1</td>\n",
              "      <td>0</td>\n",
              "      <td>0.0</td>\n",
              "      <td>0.0</td>\n",
              "      <td>0.0</td>\n",
              "      <td>0.0</td>\n",
              "      <td>0.0</td>\n",
              "      <td>0.0</td>\n",
              "      <td>8000.0</td>\n",
              "      <td>5000.0</td>\n",
              "      <td>367.0</td>\n",
              "      <td>0.0</td>\n",
              "      <td>0.0</td>\n",
              "      <td>6.0</td>\n",
              "      <td>124.0</td>\n",
              "      <td>0</td>\n",
              "      <td>13367.0</td>\n",
              "    </tr>\n",
              "    <tr>\n",
              "      <th>720</th>\n",
              "      <td>63.0</td>\n",
              "      <td>104</td>\n",
              "      <td>82</td>\n",
              "      <td>1</td>\n",
              "      <td>0</td>\n",
              "      <td>0</td>\n",
              "      <td>0</td>\n",
              "      <td>0</td>\n",
              "      <td>0</td>\n",
              "      <td>1</td>\n",
              "      <td>0</td>\n",
              "      <td>1</td>\n",
              "      <td>0</td>\n",
              "      <td>0</td>\n",
              "      <td>0</td>\n",
              "      <td>0</td>\n",
              "      <td>0</td>\n",
              "      <td>0</td>\n",
              "      <td>0</td>\n",
              "      <td>1</td>\n",
              "      <td>0.0</td>\n",
              "      <td>0.0</td>\n",
              "      <td>0.0</td>\n",
              "      <td>0.0</td>\n",
              "      <td>0.0</td>\n",
              "      <td>0.0</td>\n",
              "      <td>338.0</td>\n",
              "      <td>367.0</td>\n",
              "      <td>956.0</td>\n",
              "      <td>0.0</td>\n",
              "      <td>0.0</td>\n",
              "      <td>0.0</td>\n",
              "      <td>232.0</td>\n",
              "      <td>1</td>\n",
              "      <td>1661.0</td>\n",
              "    </tr>\n",
              "    <tr>\n",
              "      <th>...</th>\n",
              "      <td>...</td>\n",
              "      <td>...</td>\n",
              "      <td>...</td>\n",
              "      <td>...</td>\n",
              "      <td>...</td>\n",
              "      <td>...</td>\n",
              "      <td>...</td>\n",
              "      <td>...</td>\n",
              "      <td>...</td>\n",
              "      <td>...</td>\n",
              "      <td>...</td>\n",
              "      <td>...</td>\n",
              "      <td>...</td>\n",
              "      <td>...</td>\n",
              "      <td>...</td>\n",
              "      <td>...</td>\n",
              "      <td>...</td>\n",
              "      <td>...</td>\n",
              "      <td>...</td>\n",
              "      <td>...</td>\n",
              "      <td>...</td>\n",
              "      <td>...</td>\n",
              "      <td>...</td>\n",
              "      <td>...</td>\n",
              "      <td>...</td>\n",
              "      <td>...</td>\n",
              "      <td>...</td>\n",
              "      <td>...</td>\n",
              "      <td>...</td>\n",
              "      <td>...</td>\n",
              "      <td>...</td>\n",
              "      <td>...</td>\n",
              "      <td>...</td>\n",
              "      <td>...</td>\n",
              "      <td>...</td>\n",
              "    </tr>\n",
              "    <tr>\n",
              "      <th>789</th>\n",
              "      <td>50.0</td>\n",
              "      <td>34</td>\n",
              "      <td>83</td>\n",
              "      <td>0</td>\n",
              "      <td>0</td>\n",
              "      <td>0</td>\n",
              "      <td>0</td>\n",
              "      <td>0</td>\n",
              "      <td>1</td>\n",
              "      <td>0</td>\n",
              "      <td>0</td>\n",
              "      <td>0</td>\n",
              "      <td>0</td>\n",
              "      <td>0</td>\n",
              "      <td>0</td>\n",
              "      <td>0</td>\n",
              "      <td>0</td>\n",
              "      <td>0</td>\n",
              "      <td>0</td>\n",
              "      <td>1</td>\n",
              "      <td>0.0</td>\n",
              "      <td>0.0</td>\n",
              "      <td>0.0</td>\n",
              "      <td>0.0</td>\n",
              "      <td>0.0</td>\n",
              "      <td>0.0</td>\n",
              "      <td>221.0</td>\n",
              "      <td>367.0</td>\n",
              "      <td>367.0</td>\n",
              "      <td>0.0</td>\n",
              "      <td>0.0</td>\n",
              "      <td>0.0</td>\n",
              "      <td>232.0</td>\n",
              "      <td>0</td>\n",
              "      <td>955.0</td>\n",
              "    </tr>\n",
              "    <tr>\n",
              "      <th>256</th>\n",
              "      <td>40.0</td>\n",
              "      <td>129</td>\n",
              "      <td>110</td>\n",
              "      <td>1</td>\n",
              "      <td>0</td>\n",
              "      <td>0</td>\n",
              "      <td>1</td>\n",
              "      <td>0</td>\n",
              "      <td>1</td>\n",
              "      <td>0</td>\n",
              "      <td>0</td>\n",
              "      <td>0</td>\n",
              "      <td>0</td>\n",
              "      <td>0</td>\n",
              "      <td>0</td>\n",
              "      <td>0</td>\n",
              "      <td>0</td>\n",
              "      <td>0</td>\n",
              "      <td>0</td>\n",
              "      <td>1</td>\n",
              "      <td>0.0</td>\n",
              "      <td>0.0</td>\n",
              "      <td>3.0</td>\n",
              "      <td>1.0</td>\n",
              "      <td>0.0</td>\n",
              "      <td>0.0</td>\n",
              "      <td>1000.0</td>\n",
              "      <td>9000.0</td>\n",
              "      <td>367.0</td>\n",
              "      <td>0.0</td>\n",
              "      <td>0.0</td>\n",
              "      <td>0.0</td>\n",
              "      <td>232.0</td>\n",
              "      <td>0</td>\n",
              "      <td>10367.0</td>\n",
              "    </tr>\n",
              "    <tr>\n",
              "      <th>968</th>\n",
              "      <td>96.0</td>\n",
              "      <td>15</td>\n",
              "      <td>130</td>\n",
              "      <td>0</td>\n",
              "      <td>0</td>\n",
              "      <td>0</td>\n",
              "      <td>0</td>\n",
              "      <td>0</td>\n",
              "      <td>1</td>\n",
              "      <td>0</td>\n",
              "      <td>0</td>\n",
              "      <td>0</td>\n",
              "      <td>0</td>\n",
              "      <td>0</td>\n",
              "      <td>0</td>\n",
              "      <td>0</td>\n",
              "      <td>0</td>\n",
              "      <td>1</td>\n",
              "      <td>0</td>\n",
              "      <td>0</td>\n",
              "      <td>0.0</td>\n",
              "      <td>0.0</td>\n",
              "      <td>0.0</td>\n",
              "      <td>0.0</td>\n",
              "      <td>0.0</td>\n",
              "      <td>0.0</td>\n",
              "      <td>367.0</td>\n",
              "      <td>367.0</td>\n",
              "      <td>367.0</td>\n",
              "      <td>0.0</td>\n",
              "      <td>0.0</td>\n",
              "      <td>0.0</td>\n",
              "      <td>0.0</td>\n",
              "      <td>0</td>\n",
              "      <td>1101.0</td>\n",
              "    </tr>\n",
              "    <tr>\n",
              "      <th>952</th>\n",
              "      <td>78.0</td>\n",
              "      <td>11</td>\n",
              "      <td>78</td>\n",
              "      <td>0</td>\n",
              "      <td>0</td>\n",
              "      <td>0</td>\n",
              "      <td>0</td>\n",
              "      <td>0</td>\n",
              "      <td>0</td>\n",
              "      <td>1</td>\n",
              "      <td>0</td>\n",
              "      <td>0</td>\n",
              "      <td>0</td>\n",
              "      <td>0</td>\n",
              "      <td>0</td>\n",
              "      <td>0</td>\n",
              "      <td>1</td>\n",
              "      <td>0</td>\n",
              "      <td>0</td>\n",
              "      <td>0</td>\n",
              "      <td>0.0</td>\n",
              "      <td>0.0</td>\n",
              "      <td>0.0</td>\n",
              "      <td>0.0</td>\n",
              "      <td>0.0</td>\n",
              "      <td>0.0</td>\n",
              "      <td>367.0</td>\n",
              "      <td>367.0</td>\n",
              "      <td>367.0</td>\n",
              "      <td>0.0</td>\n",
              "      <td>0.0</td>\n",
              "      <td>0.0</td>\n",
              "      <td>232.0</td>\n",
              "      <td>2</td>\n",
              "      <td>1101.0</td>\n",
              "    </tr>\n",
              "    <tr>\n",
              "      <th>1273</th>\n",
              "      <td>92.0</td>\n",
              "      <td>37</td>\n",
              "      <td>96</td>\n",
              "      <td>0</td>\n",
              "      <td>0</td>\n",
              "      <td>0</td>\n",
              "      <td>0</td>\n",
              "      <td>0</td>\n",
              "      <td>0</td>\n",
              "      <td>1</td>\n",
              "      <td>0</td>\n",
              "      <td>1</td>\n",
              "      <td>0</td>\n",
              "      <td>0</td>\n",
              "      <td>0</td>\n",
              "      <td>0</td>\n",
              "      <td>0</td>\n",
              "      <td>0</td>\n",
              "      <td>0</td>\n",
              "      <td>1</td>\n",
              "      <td>0.0</td>\n",
              "      <td>0.0</td>\n",
              "      <td>0.0</td>\n",
              "      <td>0.0</td>\n",
              "      <td>0.0</td>\n",
              "      <td>0.0</td>\n",
              "      <td>367.0</td>\n",
              "      <td>367.0</td>\n",
              "      <td>367.0</td>\n",
              "      <td>0.0</td>\n",
              "      <td>0.0</td>\n",
              "      <td>0.0</td>\n",
              "      <td>232.0</td>\n",
              "      <td>1</td>\n",
              "      <td>1101.0</td>\n",
              "    </tr>\n",
              "  </tbody>\n",
              "</table>\n",
              "<p>893 rows × 35 columns</p>\n",
              "</div>"
            ],
            "text/plain": [
              "      TOMATOMETER score  ...  total_cast_facebook_likes\n",
              "70                 95.0  ...                     1222.0\n",
              "75                 73.0  ...                     1101.0\n",
              "889                92.0  ...                     1101.0\n",
              "1210               40.0  ...                    13367.0\n",
              "720                63.0  ...                     1661.0\n",
              "...                 ...  ...                        ...\n",
              "789                50.0  ...                      955.0\n",
              "256                40.0  ...                    10367.0\n",
              "968                96.0  ...                     1101.0\n",
              "952                78.0  ...                     1101.0\n",
              "1273               92.0  ...                     1101.0\n",
              "\n",
              "[893 rows x 35 columns]"
            ]
          },
          "metadata": {
            "tags": []
          },
          "execution_count": 37
        }
      ]
    },
    {
      "cell_type": "markdown",
      "metadata": {
        "id": "j1XZ-EMqUuCy"
      },
      "source": [
        "With feature engineering (used for \"Stacking\" in all_models)"
      ]
    },
    {
      "cell_type": "code",
      "metadata": {
        "id": "MhjpNsviTnJl",
        "colab": {
          "base_uri": "https://localhost:8080/"
        },
        "outputId": "f9b3ba08-acb2-4e73-b205-2b602c35c230"
      },
      "source": [
        "'''A stacked model that begins with clustering'''\n",
        "technique_name = 'Stacking'\n",
        "\n",
        "# Initialize the clustering model\n",
        "model = KMeans(n_init=10, n_clusters=8, random_state=0)\n",
        "model.fit(X_train_interactions_overall)\n",
        "\n",
        "# Stack training data\n",
        "X_train_prediction = pd.Series(model.predict(X_train_interactions_overall), \n",
        "                            name='cluster',\n",
        "                            index=X_train_interactions_overall.index)\n",
        "\n",
        "# One-hot-encode cluster numbers\n",
        "X_train_prediction = pd.get_dummies(X_train_prediction)\n",
        "# Add cluster numbers to features\n",
        "X_train_stacked = X_train_interactions_overall.join(X_train_prediction)\n",
        "\n",
        "# Stack testing data\n",
        "X_val_prediction = pd.Series(model.predict(X_val_interactions_overall),\n",
        "                             name='cluster',\n",
        "                             index=X_val_interactions_overall.index)\n",
        "# One-hot-encode cluster numbers\n",
        "X_val_prediction = pd.get_dummies(X_val_prediction)\n",
        "# Get cluster numbers that weren't predicted in the testing set\n",
        "missing_cluster_columns = X_train_prediction.columns.difference(X_val_prediction.columns)\n",
        "# Add missing cluster dummy variables\n",
        "X_val_prediction[missing_cluster_columns] = 0 \n",
        "# Add cluster numbers to features\n",
        "X_val_stacked = X_val_interactions_overall.join(X_val_prediction)\n",
        "\n",
        "# We will use logistic regression instead of a decision tree at the higher-level classifier\n",
        "all_models = fit_and_score_model(all_models, technique_name, X_train_stacked, X_val_stacked, y_train, y_val)\n",
        "compare_models(technique_name)"
      ],
      "execution_count": null,
      "outputs": [
        {
          "output_type": "stream",
          "text": [
            "LinReg achieved a train score of 0.365 and test score of -184023294.141\n",
            "LassoCV achieved a train score of 0.339 and test score of 0.349\n",
            "RidgeCV achieved a train score of 0.368 and test score of 0.380\n",
            "RF achieved a train score of 0.901 and test score of 0.338\n",
            "CART achieved a train score of 1.000 and test score of -0.411\n",
            "On average, scores improved by -36804658.91, and the most improvement was 0.00\n"
          ],
          "name": "stdout"
        }
      ]
    },
    {
      "cell_type": "markdown",
      "metadata": {
        "id": "e6zKtus40PWH"
      },
      "source": [
        "# Bagging"
      ]
    },
    {
      "cell_type": "code",
      "metadata": {
        "id": "CuoYuV6P_3Ns",
        "colab": {
          "base_uri": "https://localhost:8080/"
        },
        "outputId": "e8db3259-e08d-44c6-9122-2ea6aae8aa55"
      },
      "source": [
        "from sklearn.ensemble import VotingRegressor\n",
        "technique_name = 'Bagging'\n",
        "\n",
        "# Get a list of initialized models for bagging\n",
        "models_dict = make_models()\n",
        "# Convert models to list of tuples (required by documentation)\n",
        "model_list = list(models_dict.items()) \n",
        "\n",
        "# Set the weights for each model as their relative performance\n",
        "bagging_weights = all_models.TestScore[:,'Baseline'].values\n",
        "\n",
        "# Initialize bagging model\n",
        "bagging_model = VotingRegressor(model_list, weights=bagging_weights)\n",
        "# Fit the bagging model (i.e., each of the four models that are bagged)\n",
        "bagging_model.fit(X_train.values, y_train.values)\n",
        "\n",
        "# Predict the target using the bagged model\n",
        "bagging_prediction = bagging_model.predict(X_val)\n",
        "\n",
        "# Evaluate ensemble model\n",
        "fit_and_score_model(all_models,technique_name,X_train,X_val,y_train,y_val)\n",
        "\n",
        "# Add ensemble model to all_models dataframe (commenting this out bc fit_and)score_model does this already)\n",
        "#all_models.loc[:, technique_name, :] = (trainscore, testscore, None) \n",
        "compare_models(technique_name)\n"
      ],
      "execution_count": null,
      "outputs": [
        {
          "output_type": "stream",
          "text": [
            "LinReg achieved a train score of 0.368 and test score of 0.371\n",
            "LassoCV achieved a train score of 0.339 and test score of 0.349\n",
            "RidgeCV achieved a train score of 0.366 and test score of 0.375\n",
            "RF achieved a train score of 0.902 and test score of 0.354\n",
            "CART achieved a train score of 1.000 and test score of -0.271\n",
            "On average, scores improved by 0.02, and the most improvement was 0.08\n"
          ],
          "name": "stdout"
        }
      ]
    },
    {
      "cell_type": "markdown",
      "metadata": {
        "id": "H45WXz5hJhV1"
      },
      "source": [
        "##Using differnt classifier"
      ]
    },
    {
      "cell_type": "markdown",
      "metadata": {
        "id": "lJ1sRaOxksgc"
      },
      "source": [
        "Find the one"
      ]
    },
    {
      "cell_type": "code",
      "metadata": {
        "colab": {
          "base_uri": "https://localhost:8080/"
        },
        "id": "YHvIK9Bqku1f",
        "outputId": "d7e0611f-f4d7-47d8-d3a6-5d775c905147"
      },
      "source": [
        "from sklearn.metrics import r2_score\n",
        "technique_name = 'bagging_all'\n",
        "\n",
        "# Get a list of initialized models for bagging\n",
        "models_dict = make_models()\n",
        "models_dict.pop('CART')\n",
        "#models_dict.pop('RF')\n",
        "\n",
        "engineering_techniques_use = ('Baseline',  # Set of baseline models\n",
        "                          #'Scaling',  # Set of models trained with scaled data\n",
        "                          #'Feature_Engineering',  # Set of models trained with engineered features\n",
        "                          #'Feature_Engineering_overall', # trying\n",
        "                          'Feature_Selection',  # Set of models trained with \"selected\" features\n",
        "                          'Grid_Search',  # Set of models trained via grid search\n",
        "                          #'Stacking',  # Set of stacked model \n",
        "                          'Bagging',   # A bagged model\n",
        "                          #'Mutual_Regression (scaled)', # Set of models trained with features from MI using scaled data\n",
        "                          'Mutual_Regression' # Set of models trained with features from MI using normal data\n",
        "                          )\n",
        "\n",
        "# Convert models to list of tuples (required by documentation)\n",
        "model_list = list(models_dict.items()) \n",
        "bagging_prediction_ultimate = []\n",
        "bagging_weights =[]\n",
        "bagging_weight2 = []\n",
        "\n",
        "for  k in engineering_techniques_use:\n",
        "\n",
        "  # Set the weights for each model as their relative performance\n",
        "  bagging_collector = all_models.TestScore[:,k].values\n",
        "  bagging_weights.extend(bagging_collector[:4]) \n",
        "  bagging_weight2.append(bagging_collector[:4]) \n",
        "  #Initialize bagging model\n",
        "print(bagging_weights)\n",
        "print(bagging_weight2)\n"
      ],
      "execution_count": null,
      "outputs": [
        {
          "output_type": "stream",
          "text": [
            "[0.3712804963638475, 0.3487735520917514, 0.37485310335255473, 0.3397915289081095, 0.3670586844358734, 0.3487735520917514, 0.37327630699875003, 0.34201920725017454, 0.36922698886613137, 0.3523123986199891, 0.37485305819557435, 0.31915910730342967, 0.3712804963638475, 0.3487735520917514, 0.37485310335255473, 0.3539881834589317, 0.3678670882112004, 0.35070923803106757, 0.3674072834495563, 0.24821172384365478]\n",
            "[array([0.3712805 , 0.34877355, 0.3748531 , 0.33979153]), array([0.36705868, 0.34877355, 0.37327631, 0.34201921]), array([0.36922699, 0.3523124 , 0.37485306, 0.31915911]), array([0.3712805 , 0.34877355, 0.3748531 , 0.35398818]), array([0.36786709, 0.35070924, 0.36740728, 0.24821172])]\n"
          ],
          "name": "stdout"
        }
      ]
    },
    {
      "cell_type": "code",
      "metadata": {
        "id": "b7Rn-59smgaI",
        "colab": {
          "base_uri": "https://localhost:8080/",
          "height": 1000
        },
        "outputId": "5492ab88-562b-4c79-b5e6-ef401d7bddc7"
      },
      "source": [
        "for  j in bagging_weight2:\n",
        "  for i in range(len(model_list)):\n",
        "    model_list[i][1].fit(X_train.values, y_train.values)\n",
        "    prediction = model_list[i][1].predict(X_val)\n",
        "\n",
        "    if bagging_prediction_ultimate==[]:\n",
        "      bagging_prediction_ultimate = prediction*j[i]/sum(bagging_weights)\n",
        "    else:\n",
        "      bagging_prediction_ultimate = bagging_prediction_ultimate+prediction*j[i]/sum(bagging_weights)\n",
        "      \n",
        "\n",
        "\n",
        "test_score = r2_score(y_val,bagging_prediction_ultimate)\n",
        "\n",
        "all_models.loc['LinReg', 'bagging_all'] = (0,test_score,None)"
      ],
      "execution_count": null,
      "outputs": [
        {
          "output_type": "stream",
          "text": [
            "/usr/local/lib/python3.6/dist-packages/ipykernel_launcher.py:6: DeprecationWarning: elementwise comparison failed; this will raise an error in the future.\n",
            "  \n",
            "/usr/local/lib/python3.6/dist-packages/ipykernel_launcher.py:6: DeprecationWarning: elementwise comparison failed; this will raise an error in the future.\n",
            "  \n",
            "/usr/local/lib/python3.6/dist-packages/ipykernel_launcher.py:6: DeprecationWarning: elementwise comparison failed; this will raise an error in the future.\n",
            "  \n",
            "/usr/local/lib/python3.6/dist-packages/ipykernel_launcher.py:6: DeprecationWarning: elementwise comparison failed; this will raise an error in the future.\n",
            "  \n",
            "/usr/local/lib/python3.6/dist-packages/ipykernel_launcher.py:6: DeprecationWarning: elementwise comparison failed; this will raise an error in the future.\n",
            "  \n",
            "/usr/local/lib/python3.6/dist-packages/ipykernel_launcher.py:6: DeprecationWarning: elementwise comparison failed; this will raise an error in the future.\n",
            "  \n",
            "/usr/local/lib/python3.6/dist-packages/ipykernel_launcher.py:6: DeprecationWarning: elementwise comparison failed; this will raise an error in the future.\n",
            "  \n",
            "/usr/local/lib/python3.6/dist-packages/ipykernel_launcher.py:6: DeprecationWarning: elementwise comparison failed; this will raise an error in the future.\n",
            "  \n",
            "/usr/local/lib/python3.6/dist-packages/ipykernel_launcher.py:6: DeprecationWarning: elementwise comparison failed; this will raise an error in the future.\n",
            "  \n",
            "/usr/local/lib/python3.6/dist-packages/ipykernel_launcher.py:6: DeprecationWarning: elementwise comparison failed; this will raise an error in the future.\n",
            "  \n",
            "/usr/local/lib/python3.6/dist-packages/ipykernel_launcher.py:6: DeprecationWarning: elementwise comparison failed; this will raise an error in the future.\n",
            "  \n",
            "/usr/local/lib/python3.6/dist-packages/ipykernel_launcher.py:6: DeprecationWarning: elementwise comparison failed; this will raise an error in the future.\n",
            "  \n",
            "/usr/local/lib/python3.6/dist-packages/ipykernel_launcher.py:6: DeprecationWarning: elementwise comparison failed; this will raise an error in the future.\n",
            "  \n",
            "/usr/local/lib/python3.6/dist-packages/ipykernel_launcher.py:6: DeprecationWarning: elementwise comparison failed; this will raise an error in the future.\n",
            "  \n",
            "/usr/local/lib/python3.6/dist-packages/ipykernel_launcher.py:6: DeprecationWarning: elementwise comparison failed; this will raise an error in the future.\n",
            "  \n",
            "/usr/local/lib/python3.6/dist-packages/ipykernel_launcher.py:6: DeprecationWarning: elementwise comparison failed; this will raise an error in the future.\n",
            "  \n",
            "/usr/local/lib/python3.6/dist-packages/ipykernel_launcher.py:6: DeprecationWarning: elementwise comparison failed; this will raise an error in the future.\n",
            "  \n",
            "/usr/local/lib/python3.6/dist-packages/ipykernel_launcher.py:6: DeprecationWarning: elementwise comparison failed; this will raise an error in the future.\n",
            "  \n",
            "/usr/local/lib/python3.6/dist-packages/ipykernel_launcher.py:6: DeprecationWarning: elementwise comparison failed; this will raise an error in the future.\n",
            "  \n"
          ],
          "name": "stderr"
        },
        {
          "output_type": "error",
          "ename": "ValueError",
          "evalue": "ignored",
          "traceback": [
            "\u001b[0;31m---------------------------------------------------------------------------\u001b[0m",
            "\u001b[0;31mValueError\u001b[0m                                Traceback (most recent call last)",
            "\u001b[0;32m<ipython-input-54-ddc80f462b73>\u001b[0m in \u001b[0;36m<module>\u001b[0;34m()\u001b[0m\n\u001b[1;32m     13\u001b[0m \u001b[0mtest_score\u001b[0m \u001b[0;34m=\u001b[0m \u001b[0mr2_score\u001b[0m\u001b[0;34m(\u001b[0m\u001b[0my_val\u001b[0m\u001b[0;34m,\u001b[0m\u001b[0mbagging_prediction_ultimate\u001b[0m\u001b[0;34m)\u001b[0m\u001b[0;34m\u001b[0m\u001b[0;34m\u001b[0m\u001b[0m\n\u001b[1;32m     14\u001b[0m \u001b[0;34m\u001b[0m\u001b[0m\n\u001b[0;32m---> 15\u001b[0;31m \u001b[0mall_models\u001b[0m\u001b[0;34m.\u001b[0m\u001b[0mloc\u001b[0m\u001b[0;34m[\u001b[0m\u001b[0;34m'LinReg'\u001b[0m\u001b[0;34m,\u001b[0m \u001b[0;34m'bagging_all'\u001b[0m\u001b[0;34m]\u001b[0m \u001b[0;34m=\u001b[0m \u001b[0;34m(\u001b[0m\u001b[0;36m0\u001b[0m\u001b[0;34m,\u001b[0m\u001b[0mtest_score\u001b[0m\u001b[0;34m,\u001b[0m\u001b[0;32mNone\u001b[0m\u001b[0;34m)\u001b[0m\u001b[0;34m\u001b[0m\u001b[0;34m\u001b[0m\u001b[0m\n\u001b[0m",
            "\u001b[0;32m/usr/local/lib/python3.6/dist-packages/pandas/core/indexing.py\u001b[0m in \u001b[0;36m__setitem__\u001b[0;34m(self, key, value)\u001b[0m\n\u001b[1;32m    668\u001b[0m \u001b[0;34m\u001b[0m\u001b[0m\n\u001b[1;32m    669\u001b[0m         \u001b[0miloc\u001b[0m \u001b[0;34m=\u001b[0m \u001b[0mself\u001b[0m \u001b[0;32mif\u001b[0m \u001b[0mself\u001b[0m\u001b[0;34m.\u001b[0m\u001b[0mname\u001b[0m \u001b[0;34m==\u001b[0m \u001b[0;34m\"iloc\"\u001b[0m \u001b[0;32melse\u001b[0m \u001b[0mself\u001b[0m\u001b[0;34m.\u001b[0m\u001b[0mobj\u001b[0m\u001b[0;34m.\u001b[0m\u001b[0miloc\u001b[0m\u001b[0;34m\u001b[0m\u001b[0;34m\u001b[0m\u001b[0m\n\u001b[0;32m--> 670\u001b[0;31m         \u001b[0miloc\u001b[0m\u001b[0;34m.\u001b[0m\u001b[0m_setitem_with_indexer\u001b[0m\u001b[0;34m(\u001b[0m\u001b[0mindexer\u001b[0m\u001b[0;34m,\u001b[0m \u001b[0mvalue\u001b[0m\u001b[0;34m)\u001b[0m\u001b[0;34m\u001b[0m\u001b[0;34m\u001b[0m\u001b[0m\n\u001b[0m\u001b[1;32m    671\u001b[0m \u001b[0;34m\u001b[0m\u001b[0m\n\u001b[1;32m    672\u001b[0m     \u001b[0;32mdef\u001b[0m \u001b[0m_validate_key\u001b[0m\u001b[0;34m(\u001b[0m\u001b[0mself\u001b[0m\u001b[0;34m,\u001b[0m \u001b[0mkey\u001b[0m\u001b[0;34m,\u001b[0m \u001b[0maxis\u001b[0m\u001b[0;34m:\u001b[0m \u001b[0mint\u001b[0m\u001b[0;34m)\u001b[0m\u001b[0;34m:\u001b[0m\u001b[0;34m\u001b[0m\u001b[0;34m\u001b[0m\u001b[0m\n",
            "\u001b[0;32m/usr/local/lib/python3.6/dist-packages/pandas/core/indexing.py\u001b[0m in \u001b[0;36m_setitem_with_indexer\u001b[0;34m(self, indexer, value)\u001b[0m\n\u001b[1;32m   1599\u001b[0m                             \u001b[0mindexer\u001b[0m\u001b[0;34m,\u001b[0m \u001b[0mself\u001b[0m\u001b[0;34m.\u001b[0m\u001b[0mobj\u001b[0m\u001b[0;34m.\u001b[0m\u001b[0maxes\u001b[0m\u001b[0;34m\u001b[0m\u001b[0;34m\u001b[0m\u001b[0m\n\u001b[1;32m   1600\u001b[0m                         )\n\u001b[0;32m-> 1601\u001b[0;31m                         \u001b[0mself\u001b[0m\u001b[0;34m.\u001b[0m\u001b[0m_setitem_with_indexer\u001b[0m\u001b[0;34m(\u001b[0m\u001b[0mnew_indexer\u001b[0m\u001b[0;34m,\u001b[0m \u001b[0mvalue\u001b[0m\u001b[0;34m)\u001b[0m\u001b[0;34m\u001b[0m\u001b[0;34m\u001b[0m\u001b[0m\n\u001b[0m\u001b[1;32m   1602\u001b[0m \u001b[0;34m\u001b[0m\u001b[0m\n\u001b[1;32m   1603\u001b[0m                         \u001b[0;32mreturn\u001b[0m\u001b[0;34m\u001b[0m\u001b[0;34m\u001b[0m\u001b[0m\n",
            "\u001b[0;32m/usr/local/lib/python3.6/dist-packages/pandas/core/indexing.py\u001b[0m in \u001b[0;36m_setitem_with_indexer\u001b[0;34m(self, indexer, value)\u001b[0m\n\u001b[1;32m   1665\u001b[0m                     \u001b[0;31m# Exclude zero-len for e.g. boolean masking that is all-false\u001b[0m\u001b[0;34m\u001b[0m\u001b[0;34m\u001b[0m\u001b[0;34m\u001b[0m\u001b[0m\n\u001b[1;32m   1666\u001b[0m                     raise ValueError(\n\u001b[0;32m-> 1667\u001b[0;31m                         \u001b[0;34m\"cannot set using a multi-index \"\u001b[0m\u001b[0;34m\u001b[0m\u001b[0;34m\u001b[0m\u001b[0m\n\u001b[0m\u001b[1;32m   1668\u001b[0m                         \u001b[0;34m\"selection indexer with a different \"\u001b[0m\u001b[0;34m\u001b[0m\u001b[0;34m\u001b[0m\u001b[0m\n\u001b[1;32m   1669\u001b[0m                         \u001b[0;34m\"length than the value\"\u001b[0m\u001b[0;34m\u001b[0m\u001b[0;34m\u001b[0m\u001b[0m\n",
            "\u001b[0;31mValueError\u001b[0m: cannot set using a multi-index selection indexer with a different length than the value"
          ]
        }
      ]
    },
    {
      "cell_type": "markdown",
      "metadata": {
        "id": "ZB_ewywxZxHe"
      },
      "source": [
        "Overall improvements"
      ]
    },
    {
      "cell_type": "code",
      "metadata": {
        "id": "JruW6nCSJfak",
        "colab": {
          "base_uri": "https://localhost:8080/"
        },
        "outputId": "dff9e270-c41d-48cb-fd81-3d6f19c2f7bf"
      },
      "source": [
        "from sklearn.metrics import r2_score\n",
        "technique_name = 'Bagging_feature_engi_average'\n",
        "\n",
        "# Get a list of initialized models for bagging\n",
        "models_dict = make_models()\n",
        "models_dict.pop('CART')\n",
        "#models_dict.pop('RF')\n",
        "\n",
        "# Convert models to list of tuples (required by documentation)\n",
        "model_list = list(models_dict.items()) \n",
        "\n",
        "# Set the weights for each model as their relative performance\n",
        "bagging_weights = all_models.TestScore[:,'Feature_Engineering_overall'].values\n",
        "bagging_weights = bagging_weights[:4]\n",
        "#Initialize bagging model\n",
        "\n",
        "bagging_prediction_f = []\n",
        "\n",
        "for i in range(len(model_list)):\n",
        "  model_list[i][1].fit(X_train_interactions_overall.values, y_train.values)\n",
        "  prediction = model_list[i][1].predict(X_val_interactions_overall)\n",
        "\n",
        "  if bagging_prediction_f==[]:\n",
        "    bagging_prediction_f = prediction*bagging_weights[i]/sum(bagging_weights)\n",
        "  else:\n",
        "    bagging_prediction_f = bagging_prediction_f+prediction*bagging_weights[i]/sum(bagging_weights)\n",
        "    \n",
        "\n",
        "\n",
        "r2_score(y_val,bagging_prediction_f)\n",
        "\n",
        "\n",
        "\n"
      ],
      "execution_count": null,
      "outputs": [
        {
          "output_type": "stream",
          "text": [
            "/usr/local/lib/python3.6/dist-packages/ipykernel_launcher.py:23: DeprecationWarning: elementwise comparison failed; this will raise an error in the future.\n",
            "/usr/local/lib/python3.6/dist-packages/ipykernel_launcher.py:23: DeprecationWarning: elementwise comparison failed; this will raise an error in the future.\n",
            "/usr/local/lib/python3.6/dist-packages/ipykernel_launcher.py:23: DeprecationWarning: elementwise comparison failed; this will raise an error in the future.\n"
          ],
          "name": "stderr"
        },
        {
          "output_type": "execute_result",
          "data": {
            "text/plain": [
              "0.38409822479510525"
            ]
          },
          "metadata": {
            "tags": []
          },
          "execution_count": 55
        }
      ]
    },
    {
      "cell_type": "markdown",
      "metadata": {
        "id": "D-phe1a4ddLl"
      },
      "source": [
        "mutual"
      ]
    },
    {
      "cell_type": "code",
      "metadata": {
        "id": "M9JxzKTVdcyQ",
        "colab": {
          "base_uri": "https://localhost:8080/"
        },
        "outputId": "9382ad59-1ac7-4d96-8fa6-7efa81915c9f"
      },
      "source": [
        "from sklearn.metrics import r2_score\n",
        "technique_name = 'Bagging_mutual'\n",
        "\n",
        "# Get a list of initialized models for bagging\n",
        "models_dict = make_models()\n",
        "models_dict.pop('CART')\n",
        "#models_dict.pop('RF')\n",
        "\n",
        "# Convert models to list of tuples (required by documentation)\n",
        "model_list = list(models_dict.items()) \n",
        "\n",
        "# Set the weights for each model as their relative performance\n",
        "bagging_weights = all_models.TestScore[:,'Mutual_Regression (scaled)'].values\n",
        "bagging_weights = bagging_weights[:4]\n",
        "#Initialize bagging model\n",
        "\n",
        "bagging_prediction_m = []\n",
        "\n",
        "for i in range(len(model_list)):\n",
        "  model_list[i][1].fit(X_train_scaled.values, y_train_scaled.values)\n",
        "  prediction = model_list[i][1].predict(X_val_scaled)\n",
        "\n",
        "  if bagging_prediction_m==[]:\n",
        "    bagging_prediction_m = prediction*bagging_weights[i]/sum(bagging_weights)\n",
        "  else:\n",
        "    bagging_prediction_m = bagging_prediction_m+prediction*bagging_weights[i]/sum(bagging_weights)\n",
        "    \n",
        "\n",
        "\n",
        "r2_score(y_val_scaled,bagging_prediction_m )\n",
        "\n"
      ],
      "execution_count": null,
      "outputs": [
        {
          "output_type": "stream",
          "text": [
            "/usr/local/lib/python3.6/dist-packages/ipykernel_launcher.py:23: DeprecationWarning: elementwise comparison failed; this will raise an error in the future.\n",
            "/usr/local/lib/python3.6/dist-packages/ipykernel_launcher.py:23: DeprecationWarning: elementwise comparison failed; this will raise an error in the future.\n",
            "/usr/local/lib/python3.6/dist-packages/ipykernel_launcher.py:23: DeprecationWarning: elementwise comparison failed; this will raise an error in the future.\n"
          ],
          "name": "stderr"
        },
        {
          "output_type": "execute_result",
          "data": {
            "text/plain": [
              "0.3806071608154279"
            ]
          },
          "metadata": {
            "tags": []
          },
          "execution_count": 56
        }
      ]
    },
    {
      "cell_type": "code",
      "metadata": {
        "id": "F0PFSipKjPjr",
        "colab": {
          "base_uri": "https://localhost:8080/"
        },
        "outputId": "c392aa63-13e0-43bf-f7de-6997d1fdbc7a"
      },
      "source": [
        "from sklearn.metrics import r2_score\n",
        "technique_name = 'Bagging_scaling'\n",
        "\n",
        "# Get a list of initialized models for bagging\n",
        "models_dict = make_models()\n",
        "models_dict.pop('CART')\n",
        "#models_dict.pop('RF')\n",
        "\n",
        "# Convert models to list of tuples (required by documentation)\n",
        "model_list = list(models_dict.items()) \n",
        "\n",
        "# Set the weights for each model as their relative performance\n",
        "bagging_weights = all_models.TestScore[:,'Scaling'].values\n",
        "bagging_weights = bagging_weights[:4]\n",
        "#Initialize bagging model\n",
        "\n",
        "bagging_prediction_s = []\n",
        "\n",
        "for i in range(len(model_list)):\n",
        "  model_list[i][1].fit(X_train_scaled.values, y_train_scaled.values)\n",
        "  prediction = model_list[i][1].predict(X_val_scaled)\n",
        "\n",
        "  if bagging_prediction_s==[]:\n",
        "    bagging_prediction_s = prediction*bagging_weights[i]/sum(bagging_weights)\n",
        "  else:\n",
        "    bagging_prediction_s = bagging_prediction_s+prediction*bagging_weights[i]/sum(bagging_weights)\n",
        "    \n",
        "\n",
        "\n",
        "r2_score(y_val_scaled,bagging_prediction_s )\n",
        "\n"
      ],
      "execution_count": null,
      "outputs": [
        {
          "output_type": "stream",
          "text": [
            "/usr/local/lib/python3.6/dist-packages/ipykernel_launcher.py:23: DeprecationWarning: elementwise comparison failed; this will raise an error in the future.\n",
            "/usr/local/lib/python3.6/dist-packages/ipykernel_launcher.py:23: DeprecationWarning: elementwise comparison failed; this will raise an error in the future.\n",
            "/usr/local/lib/python3.6/dist-packages/ipykernel_launcher.py:23: DeprecationWarning: elementwise comparison failed; this will raise an error in the future.\n"
          ],
          "name": "stderr"
        },
        {
          "output_type": "execute_result",
          "data": {
            "text/plain": [
              "0.3856208884044049"
            ]
          },
          "metadata": {
            "tags": []
          },
          "execution_count": 57
        }
      ]
    },
    {
      "cell_type": "code",
      "metadata": {
        "id": "PiAVvwlsaSWc",
        "colab": {
          "base_uri": "https://localhost:8080/"
        },
        "outputId": "7498a5a5-1e34-439a-82f2-287aee95fa21"
      },
      "source": [
        "all_models['TestScore'].sort_values(ascending = False)[:20]"
      ],
      "execution_count": null,
      "outputs": [
        {
          "output_type": "execute_result",
          "data": {
            "text/plain": [
              "model names  technique                  \n",
              "RidgeCV      Stacking                       0.379721\n",
              "LinReg       Mutual_Regression (scaled)     0.378511\n",
              "RidgeCV      Mutual_Regression (scaled)     0.377349\n",
              "             Feature_Engineering_overall    0.375641\n",
              "             Feature_Engineering            0.375641\n",
              "             Baseline                       0.374853\n",
              "             Bagging                        0.374853\n",
              "             Grid_Search                    0.374853\n",
              "             Feature_Selection              0.373276\n",
              "LinReg       Bagging                        0.371280\n",
              "             Baseline                       0.371280\n",
              "             Feature_Engineering_overall    0.371158\n",
              "             Feature_Engineering            0.371158\n",
              "             Grid_Search                    0.369227\n",
              "             Scaling                        0.368755\n",
              "RidgeCV      Scaling                        0.367947\n",
              "LinReg       Mutual_Regression              0.367867\n",
              "RidgeCV      Mutual_Regression              0.367407\n",
              "LinReg       Feature_Selection              0.367059\n",
              "LassoCV      Scaling                        0.365217\n",
              "Name: TestScore, dtype: float64"
            ]
          },
          "metadata": {
            "tags": []
          },
          "execution_count": 58
        }
      ]
    },
    {
      "cell_type": "code",
      "metadata": {
        "id": "bR94_44afpMm",
        "colab": {
          "base_uri": "https://localhost:8080/"
        },
        "outputId": "91eb6a1e-451a-45b9-b250-c395d7fbb8f6"
      },
      "source": [
        "fo = all_models.loc[:,'Feature_Engineering_overall',:]['TestScore'].sort_values(ascending = False)[:4].mean()\n",
        "print(fo)"
      ],
      "execution_count": null,
      "outputs": [
        {
          "output_type": "stream",
          "text": [
            "0.3590642953462805\n"
          ],
          "name": "stdout"
        }
      ]
    },
    {
      "cell_type": "code",
      "metadata": {
        "id": "kwcxAS-rgRJQ",
        "colab": {
          "base_uri": "https://localhost:8080/"
        },
        "outputId": "c35c2a81-ab5f-42cd-df52-9f787acded1a"
      },
      "source": [
        "m = all_models.loc[:,'Mutual_Regression (scaled)',:]['TestScore'].sort_values(ascending = False)[:4].mean()\n",
        "s = all_models.loc[:,'Scaling',:]['TestScore'].sort_values(ascending = False)[:4].mean()\n",
        "print(m)\n",
        "print(s)"
      ],
      "execution_count": null,
      "outputs": [
        {
          "output_type": "stream",
          "text": [
            "0.34282624300374154\n",
            "0.36103143830186013\n"
          ],
          "name": "stdout"
        }
      ]
    },
    {
      "cell_type": "code",
      "metadata": {
        "id": "3CeBvxTHhRZL",
        "colab": {
          "base_uri": "https://localhost:8080/"
        },
        "outputId": "1f370ee7-e0a6-4099-9b0a-4c6ad3839df0"
      },
      "source": [
        "bagging_prediction_avenger = bagging_prediction_m*m/(s+m)+bagging_prediction_s*s/(s+m)\n",
        "\n",
        "r2_score(y_val_scaled,bagging_prediction_avenger)"
      ],
      "execution_count": null,
      "outputs": [
        {
          "output_type": "execute_result",
          "data": {
            "text/plain": [
              "0.3833858782257835"
            ]
          },
          "metadata": {
            "tags": []
          },
          "execution_count": 62
        }
      ]
    },
    {
      "cell_type": "markdown",
      "metadata": {
        "id": "eOpuxEHcek1M"
      },
      "source": [
        "mutual regression"
      ]
    },
    {
      "cell_type": "code",
      "metadata": {
        "id": "DxdAz2YreoPa",
        "colab": {
          "base_uri": "https://localhost:8080/"
        },
        "outputId": "415e4568-85f9-4940-8f78-0335b971fc77"
      },
      "source": [
        "from sklearn.metrics import r2_score\n",
        "technique_name = 'Bagging_scaling'\n",
        "\n",
        "# Get a list of initialized models for bagging\n",
        "models_dict = make_models()\n",
        "models_dict.pop('CART')\n",
        "#models_dict.pop('RF')\n",
        "\n",
        "\n",
        "# Convert models to list of tuples (required by documentation)\n",
        "model_list = list(models_dict.items()) \n",
        "\n",
        "# Set the weights for each model as their relative performance\n",
        "bagging_weights = all_models.TestScore[:,'Mutual_Regression (scaled)'].values\n",
        "bagging_weights = bagging_weights[:4]\n",
        "\n",
        "#Initialize bagging model\n",
        "\n",
        "bagging_prediction = []\n",
        "\n",
        "for i in range(len(model_list)):\n",
        "  model_list[i][1].fit(X_train_scaled.values, y_train_scaled.values)\n",
        "  prediction = model_list[i][1].predict(X_val_scaled)\n",
        "\n",
        "  if bagging_prediction==[]:\n",
        "    bagging_prediction = prediction*bagging_weights[i]/sum(bagging_weights)\n",
        "  else:\n",
        "    bagging_prediction = bagging_prediction+prediction*bagging_weights[i]/sum(bagging_weights)\n",
        "    \n",
        "\n",
        "\n",
        "r2_score(y_val_scaled,bagging_prediction)"
      ],
      "execution_count": null,
      "outputs": [
        {
          "output_type": "stream",
          "text": [
            "/usr/local/lib/python3.6/dist-packages/ipykernel_launcher.py:25: DeprecationWarning: elementwise comparison failed; this will raise an error in the future.\n",
            "/usr/local/lib/python3.6/dist-packages/ipykernel_launcher.py:25: DeprecationWarning: elementwise comparison failed; this will raise an error in the future.\n",
            "/usr/local/lib/python3.6/dist-packages/ipykernel_launcher.py:25: DeprecationWarning: elementwise comparison failed; this will raise an error in the future.\n"
          ],
          "name": "stderr"
        },
        {
          "output_type": "execute_result",
          "data": {
            "text/plain": [
              "0.3801674898817844"
            ]
          },
          "metadata": {
            "tags": []
          },
          "execution_count": 63
        }
      ]
    },
    {
      "cell_type": "markdown",
      "metadata": {
        "id": "-3cUhB2r0adi"
      },
      "source": [
        "# Best Model"
      ]
    },
    {
      "cell_type": "code",
      "metadata": {
        "id": "1o2bay5T0gtr",
        "colab": {
          "base_uri": "https://localhost:8080/",
          "height": 1000
        },
        "outputId": "10527cfa-31ea-4033-d6a3-30c16657382b"
      },
      "source": [
        "all_models"
      ],
      "execution_count": null,
      "outputs": [
        {
          "output_type": "execute_result",
          "data": {
            "text/html": [
              "<div>\n",
              "<style scoped>\n",
              "    .dataframe tbody tr th:only-of-type {\n",
              "        vertical-align: middle;\n",
              "    }\n",
              "\n",
              "    .dataframe tbody tr th {\n",
              "        vertical-align: top;\n",
              "    }\n",
              "\n",
              "    .dataframe thead th {\n",
              "        text-align: right;\n",
              "    }\n",
              "</style>\n",
              "<table border=\"1\" class=\"dataframe\">\n",
              "  <thead>\n",
              "    <tr style=\"text-align: right;\">\n",
              "      <th></th>\n",
              "      <th></th>\n",
              "      <th>TrainScore</th>\n",
              "      <th>TestScore</th>\n",
              "      <th>Model</th>\n",
              "      <th>bagging_all</th>\n",
              "    </tr>\n",
              "    <tr>\n",
              "      <th>model names</th>\n",
              "      <th>technique</th>\n",
              "      <th></th>\n",
              "      <th></th>\n",
              "      <th></th>\n",
              "      <th></th>\n",
              "    </tr>\n",
              "  </thead>\n",
              "  <tbody>\n",
              "    <tr>\n",
              "      <th rowspan=\"11\" valign=\"top\">LinReg</th>\n",
              "      <th>Baseline</th>\n",
              "      <td>0.367663</td>\n",
              "      <td>3.712805e-01</td>\n",
              "      <td>LinearRegression(copy_X=True, fit_intercept=Tr...</td>\n",
              "      <td>NaN</td>\n",
              "    </tr>\n",
              "    <tr>\n",
              "      <th>Scaling</th>\n",
              "      <td>0.366933</td>\n",
              "      <td>3.687549e-01</td>\n",
              "      <td>LinearRegression(copy_X=True, fit_intercept=Tr...</td>\n",
              "      <td>NaN</td>\n",
              "    </tr>\n",
              "    <tr>\n",
              "      <th>Feature_Engineering</th>\n",
              "      <td>0.367663</td>\n",
              "      <td>3.711575e-01</td>\n",
              "      <td>LinearRegression(copy_X=True, fit_intercept=Tr...</td>\n",
              "      <td>NaN</td>\n",
              "    </tr>\n",
              "    <tr>\n",
              "      <th>Feature_Engineering_overall</th>\n",
              "      <td>0.367663</td>\n",
              "      <td>3.711575e-01</td>\n",
              "      <td>LinearRegression(copy_X=True, fit_intercept=Tr...</td>\n",
              "      <td>NaN</td>\n",
              "    </tr>\n",
              "    <tr>\n",
              "      <th>Feature_Selection</th>\n",
              "      <td>0.364208</td>\n",
              "      <td>3.670587e-01</td>\n",
              "      <td>LinearRegression(copy_X=True, fit_intercept=Tr...</td>\n",
              "      <td>NaN</td>\n",
              "    </tr>\n",
              "    <tr>\n",
              "      <th>Grid_Search</th>\n",
              "      <td>0.367663</td>\n",
              "      <td>3.692270e-01</td>\n",
              "      <td>LinearRegression(copy_X=True, fit_intercept=Fa...</td>\n",
              "      <td>NaN</td>\n",
              "    </tr>\n",
              "    <tr>\n",
              "      <th>Stacking</th>\n",
              "      <td>0.365337</td>\n",
              "      <td>-1.840233e+08</td>\n",
              "      <td>LinearRegression(copy_X=True, fit_intercept=Tr...</td>\n",
              "      <td>NaN</td>\n",
              "    </tr>\n",
              "    <tr>\n",
              "      <th>Bagging</th>\n",
              "      <td>0.367663</td>\n",
              "      <td>3.712805e-01</td>\n",
              "      <td>LinearRegression(copy_X=True, fit_intercept=Tr...</td>\n",
              "      <td>NaN</td>\n",
              "    </tr>\n",
              "    <tr>\n",
              "      <th>Bagging_all</th>\n",
              "      <td>NaN</td>\n",
              "      <td>NaN</td>\n",
              "      <td>NaN</td>\n",
              "      <td>NaN</td>\n",
              "    </tr>\n",
              "    <tr>\n",
              "      <th>Mutual_Regression (scaled)</th>\n",
              "      <td>0.346013</td>\n",
              "      <td>3.785107e-01</td>\n",
              "      <td>LinearRegression(copy_X=True, fit_intercept=Tr...</td>\n",
              "      <td>NaN</td>\n",
              "    </tr>\n",
              "    <tr>\n",
              "      <th>Mutual_Regression</th>\n",
              "      <td>0.344286</td>\n",
              "      <td>3.678671e-01</td>\n",
              "      <td>LinearRegression(copy_X=True, fit_intercept=Tr...</td>\n",
              "      <td>NaN</td>\n",
              "    </tr>\n",
              "    <tr>\n",
              "      <th rowspan=\"11\" valign=\"top\">LassoCV</th>\n",
              "      <th>Baseline</th>\n",
              "      <td>0.338874</td>\n",
              "      <td>3.487736e-01</td>\n",
              "      <td>LassoCV(alphas=None, copy_X=True, cv=None, eps...</td>\n",
              "      <td>NaN</td>\n",
              "    </tr>\n",
              "    <tr>\n",
              "      <th>Scaling</th>\n",
              "      <td>0.352108</td>\n",
              "      <td>3.652172e-01</td>\n",
              "      <td>LassoCV(alphas=None, copy_X=True, cv=None, eps...</td>\n",
              "      <td>NaN</td>\n",
              "    </tr>\n",
              "    <tr>\n",
              "      <th>Feature_Engineering</th>\n",
              "      <td>0.338874</td>\n",
              "      <td>3.487736e-01</td>\n",
              "      <td>LassoCV(alphas=None, copy_X=True, cv=None, eps...</td>\n",
              "      <td>NaN</td>\n",
              "    </tr>\n",
              "    <tr>\n",
              "      <th>Feature_Engineering_overall</th>\n",
              "      <td>0.338932</td>\n",
              "      <td>3.488133e-01</td>\n",
              "      <td>LassoCV(alphas=None, copy_X=True, cv=None, eps...</td>\n",
              "      <td>NaN</td>\n",
              "    </tr>\n",
              "    <tr>\n",
              "      <th>Feature_Selection</th>\n",
              "      <td>0.338874</td>\n",
              "      <td>3.487736e-01</td>\n",
              "      <td>LassoCV(alphas=None, copy_X=True, cv=None, eps...</td>\n",
              "      <td>NaN</td>\n",
              "    </tr>\n",
              "    <tr>\n",
              "      <th>Grid_Search</th>\n",
              "      <td>0.341227</td>\n",
              "      <td>3.523124e-01</td>\n",
              "      <td>LassoCV(alphas=None, copy_X=True, cv=20, eps=0...</td>\n",
              "      <td>NaN</td>\n",
              "    </tr>\n",
              "    <tr>\n",
              "      <th>Stacking</th>\n",
              "      <td>0.338932</td>\n",
              "      <td>3.488133e-01</td>\n",
              "      <td>LassoCV(alphas=None, copy_X=True, cv=None, eps...</td>\n",
              "      <td>NaN</td>\n",
              "    </tr>\n",
              "    <tr>\n",
              "      <th>Bagging</th>\n",
              "      <td>0.338874</td>\n",
              "      <td>3.487736e-01</td>\n",
              "      <td>LassoCV(alphas=None, copy_X=True, cv=None, eps...</td>\n",
              "      <td>NaN</td>\n",
              "    </tr>\n",
              "    <tr>\n",
              "      <th>Bagging_all</th>\n",
              "      <td>NaN</td>\n",
              "      <td>NaN</td>\n",
              "      <td>NaN</td>\n",
              "      <td>NaN</td>\n",
              "    </tr>\n",
              "    <tr>\n",
              "      <th>Mutual_Regression (scaled)</th>\n",
              "      <td>0.341012</td>\n",
              "      <td>3.577166e-01</td>\n",
              "      <td>LassoCV(alphas=None, copy_X=True, cv=None, eps...</td>\n",
              "      <td>NaN</td>\n",
              "    </tr>\n",
              "    <tr>\n",
              "      <th>Mutual_Regression</th>\n",
              "      <td>0.338597</td>\n",
              "      <td>3.507092e-01</td>\n",
              "      <td>LassoCV(alphas=None, copy_X=True, cv=None, eps...</td>\n",
              "      <td>NaN</td>\n",
              "    </tr>\n",
              "    <tr>\n",
              "      <th rowspan=\"11\" valign=\"top\">RidgeCV</th>\n",
              "      <th>Baseline</th>\n",
              "      <td>0.366021</td>\n",
              "      <td>3.748531e-01</td>\n",
              "      <td>RidgeCV(alphas=array([ 0.1,  1. , 10. ]), cv=N...</td>\n",
              "      <td>NaN</td>\n",
              "    </tr>\n",
              "    <tr>\n",
              "      <th>Scaling</th>\n",
              "      <td>0.365794</td>\n",
              "      <td>3.679465e-01</td>\n",
              "      <td>RidgeCV(alphas=array([ 0.1,  1. , 10. ]), cv=N...</td>\n",
              "      <td>NaN</td>\n",
              "    </tr>\n",
              "    <tr>\n",
              "      <th>Feature_Engineering</th>\n",
              "      <td>0.366076</td>\n",
              "      <td>3.756406e-01</td>\n",
              "      <td>RidgeCV(alphas=array([ 0.1,  1. , 10. ]), cv=N...</td>\n",
              "      <td>NaN</td>\n",
              "    </tr>\n",
              "    <tr>\n",
              "      <th>Feature_Engineering_overall</th>\n",
              "      <td>0.366076</td>\n",
              "      <td>3.756406e-01</td>\n",
              "      <td>RidgeCV(alphas=array([ 0.1,  1. , 10. ]), cv=N...</td>\n",
              "      <td>NaN</td>\n",
              "    </tr>\n",
              "    <tr>\n",
              "      <th>Feature_Selection</th>\n",
              "      <td>0.363367</td>\n",
              "      <td>3.732763e-01</td>\n",
              "      <td>RidgeCV(alphas=array([ 0.1,  1. , 10. ]), cv=N...</td>\n",
              "      <td>NaN</td>\n",
              "    </tr>\n",
              "    <tr>\n",
              "      <th>Grid_Search</th>\n",
              "      <td>0.366021</td>\n",
              "      <td>3.748531e-01</td>\n",
              "      <td>RidgeCV(alphas=array([ 0.1,  1. , 10. ]), cv=N...</td>\n",
              "      <td>NaN</td>\n",
              "    </tr>\n",
              "    <tr>\n",
              "      <th>Stacking</th>\n",
              "      <td>0.368001</td>\n",
              "      <td>3.797206e-01</td>\n",
              "      <td>RidgeCV(alphas=array([ 0.1,  1. , 10. ]), cv=N...</td>\n",
              "      <td>NaN</td>\n",
              "    </tr>\n",
              "    <tr>\n",
              "      <th>Bagging</th>\n",
              "      <td>0.366021</td>\n",
              "      <td>3.748531e-01</td>\n",
              "      <td>RidgeCV(alphas=array([ 0.1,  1. , 10. ]), cv=N...</td>\n",
              "      <td>NaN</td>\n",
              "    </tr>\n",
              "    <tr>\n",
              "      <th>Bagging_all</th>\n",
              "      <td>NaN</td>\n",
              "      <td>NaN</td>\n",
              "      <td>NaN</td>\n",
              "      <td>NaN</td>\n",
              "    </tr>\n",
              "    <tr>\n",
              "      <th>Mutual_Regression (scaled)</th>\n",
              "      <td>0.345944</td>\n",
              "      <td>3.773493e-01</td>\n",
              "      <td>RidgeCV(alphas=array([ 0.1,  1. , 10. ]), cv=N...</td>\n",
              "      <td>NaN</td>\n",
              "    </tr>\n",
              "    <tr>\n",
              "      <th>Mutual_Regression</th>\n",
              "      <td>0.344255</td>\n",
              "      <td>3.674073e-01</td>\n",
              "      <td>RidgeCV(alphas=array([ 0.1,  1. , 10. ]), cv=N...</td>\n",
              "      <td>NaN</td>\n",
              "    </tr>\n",
              "    <tr>\n",
              "      <th rowspan=\"11\" valign=\"top\">RF</th>\n",
              "      <th>Baseline</th>\n",
              "      <td>0.902733</td>\n",
              "      <td>3.397915e-01</td>\n",
              "      <td>(DecisionTreeRegressor(ccp_alpha=0.0, criterio...</td>\n",
              "      <td>NaN</td>\n",
              "    </tr>\n",
              "    <tr>\n",
              "      <th>Scaling</th>\n",
              "      <td>0.903476</td>\n",
              "      <td>3.422072e-01</td>\n",
              "      <td>(DecisionTreeRegressor(ccp_alpha=0.0, criterio...</td>\n",
              "      <td>NaN</td>\n",
              "    </tr>\n",
              "    <tr>\n",
              "      <th>Feature_Engineering</th>\n",
              "      <td>0.901118</td>\n",
              "      <td>3.499793e-01</td>\n",
              "      <td>(DecisionTreeRegressor(ccp_alpha=0.0, criterio...</td>\n",
              "      <td>NaN</td>\n",
              "    </tr>\n",
              "    <tr>\n",
              "      <th>Feature_Engineering_overall</th>\n",
              "      <td>0.902333</td>\n",
              "      <td>3.406457e-01</td>\n",
              "      <td>(DecisionTreeRegressor(ccp_alpha=0.0, criterio...</td>\n",
              "      <td>NaN</td>\n",
              "    </tr>\n",
              "    <tr>\n",
              "      <th>Feature_Selection</th>\n",
              "      <td>0.901064</td>\n",
              "      <td>3.420192e-01</td>\n",
              "      <td>(DecisionTreeRegressor(ccp_alpha=0.0, criterio...</td>\n",
              "      <td>NaN</td>\n",
              "    </tr>\n",
              "    <tr>\n",
              "      <th>Grid_Search</th>\n",
              "      <td>0.898089</td>\n",
              "      <td>3.191591e-01</td>\n",
              "      <td>(DecisionTreeRegressor(ccp_alpha=0.0, criterio...</td>\n",
              "      <td>NaN</td>\n",
              "    </tr>\n",
              "    <tr>\n",
              "      <th>Stacking</th>\n",
              "      <td>0.901370</td>\n",
              "      <td>3.384086e-01</td>\n",
              "      <td>(DecisionTreeRegressor(ccp_alpha=0.0, criterio...</td>\n",
              "      <td>NaN</td>\n",
              "    </tr>\n",
              "    <tr>\n",
              "      <th>Bagging</th>\n",
              "      <td>0.901600</td>\n",
              "      <td>3.539882e-01</td>\n",
              "      <td>(DecisionTreeRegressor(ccp_alpha=0.0, criterio...</td>\n",
              "      <td>NaN</td>\n",
              "    </tr>\n",
              "    <tr>\n",
              "      <th>Bagging_all</th>\n",
              "      <td>NaN</td>\n",
              "      <td>NaN</td>\n",
              "      <td>NaN</td>\n",
              "      <td>NaN</td>\n",
              "    </tr>\n",
              "    <tr>\n",
              "      <th>Mutual_Regression (scaled)</th>\n",
              "      <td>0.877126</td>\n",
              "      <td>2.577284e-01</td>\n",
              "      <td>(DecisionTreeRegressor(ccp_alpha=0.0, criterio...</td>\n",
              "      <td>NaN</td>\n",
              "    </tr>\n",
              "    <tr>\n",
              "      <th>Mutual_Regression</th>\n",
              "      <td>0.877738</td>\n",
              "      <td>2.482117e-01</td>\n",
              "      <td>(DecisionTreeRegressor(ccp_alpha=0.0, criterio...</td>\n",
              "      <td>NaN</td>\n",
              "    </tr>\n",
              "    <tr>\n",
              "      <th rowspan=\"11\" valign=\"top\">CART</th>\n",
              "      <th>Baseline</th>\n",
              "      <td>1.000000</td>\n",
              "      <td>-3.464051e-01</td>\n",
              "      <td>DecisionTreeRegressor(ccp_alpha=0.0, criterion...</td>\n",
              "      <td>NaN</td>\n",
              "    </tr>\n",
              "    <tr>\n",
              "      <th>Scaling</th>\n",
              "      <td>1.000000</td>\n",
              "      <td>-2.607680e-01</td>\n",
              "      <td>DecisionTreeRegressor(ccp_alpha=0.0, criterion...</td>\n",
              "      <td>NaN</td>\n",
              "    </tr>\n",
              "    <tr>\n",
              "      <th>Feature_Engineering</th>\n",
              "      <td>1.000000</td>\n",
              "      <td>-3.179427e-01</td>\n",
              "      <td>DecisionTreeRegressor(ccp_alpha=0.0, criterion...</td>\n",
              "      <td>NaN</td>\n",
              "    </tr>\n",
              "    <tr>\n",
              "      <th>Feature_Engineering_overall</th>\n",
              "      <td>1.000000</td>\n",
              "      <td>-1.874391e-01</td>\n",
              "      <td>DecisionTreeRegressor(ccp_alpha=0.0, criterion...</td>\n",
              "      <td>NaN</td>\n",
              "    </tr>\n",
              "    <tr>\n",
              "      <th>Feature_Selection</th>\n",
              "      <td>1.000000</td>\n",
              "      <td>-4.232302e-01</td>\n",
              "      <td>DecisionTreeRegressor(ccp_alpha=0.0, criterion...</td>\n",
              "      <td>NaN</td>\n",
              "    </tr>\n",
              "    <tr>\n",
              "      <th>Grid_Search</th>\n",
              "      <td>0.345567</td>\n",
              "      <td>3.514629e-01</td>\n",
              "      <td>DecisionTreeRegressor(ccp_alpha=0.0, criterion...</td>\n",
              "      <td>NaN</td>\n",
              "    </tr>\n",
              "    <tr>\n",
              "      <th>Stacking</th>\n",
              "      <td>1.000000</td>\n",
              "      <td>-4.107650e-01</td>\n",
              "      <td>DecisionTreeRegressor(ccp_alpha=0.0, criterion...</td>\n",
              "      <td>NaN</td>\n",
              "    </tr>\n",
              "    <tr>\n",
              "      <th>Bagging</th>\n",
              "      <td>1.000000</td>\n",
              "      <td>-2.709428e-01</td>\n",
              "      <td>DecisionTreeRegressor(ccp_alpha=0.0, criterion...</td>\n",
              "      <td>NaN</td>\n",
              "    </tr>\n",
              "    <tr>\n",
              "      <th>Bagging_all</th>\n",
              "      <td>NaN</td>\n",
              "      <td>NaN</td>\n",
              "      <td>NaN</td>\n",
              "      <td>NaN</td>\n",
              "    </tr>\n",
              "    <tr>\n",
              "      <th>Mutual_Regression (scaled)</th>\n",
              "      <td>0.975718</td>\n",
              "      <td>-4.259826e-01</td>\n",
              "      <td>DecisionTreeRegressor(ccp_alpha=0.0, criterion...</td>\n",
              "      <td>NaN</td>\n",
              "    </tr>\n",
              "    <tr>\n",
              "      <th>Mutual_Regression</th>\n",
              "      <td>0.976900</td>\n",
              "      <td>-6.095152e-01</td>\n",
              "      <td>DecisionTreeRegressor(ccp_alpha=0.0, criterion...</td>\n",
              "      <td>NaN</td>\n",
              "    </tr>\n",
              "  </tbody>\n",
              "</table>\n",
              "</div>"
            ],
            "text/plain": [
              "                                         TrainScore  ...  bagging_all\n",
              "model names technique                                ...             \n",
              "LinReg      Baseline                       0.367663  ...          NaN\n",
              "            Scaling                        0.366933  ...          NaN\n",
              "            Feature_Engineering            0.367663  ...          NaN\n",
              "            Feature_Engineering_overall    0.367663  ...          NaN\n",
              "            Feature_Selection              0.364208  ...          NaN\n",
              "            Grid_Search                    0.367663  ...          NaN\n",
              "            Stacking                       0.365337  ...          NaN\n",
              "            Bagging                        0.367663  ...          NaN\n",
              "            Bagging_all                         NaN  ...          NaN\n",
              "            Mutual_Regression (scaled)     0.346013  ...          NaN\n",
              "            Mutual_Regression              0.344286  ...          NaN\n",
              "LassoCV     Baseline                       0.338874  ...          NaN\n",
              "            Scaling                        0.352108  ...          NaN\n",
              "            Feature_Engineering            0.338874  ...          NaN\n",
              "            Feature_Engineering_overall    0.338932  ...          NaN\n",
              "            Feature_Selection              0.338874  ...          NaN\n",
              "            Grid_Search                    0.341227  ...          NaN\n",
              "            Stacking                       0.338932  ...          NaN\n",
              "            Bagging                        0.338874  ...          NaN\n",
              "            Bagging_all                         NaN  ...          NaN\n",
              "            Mutual_Regression (scaled)     0.341012  ...          NaN\n",
              "            Mutual_Regression              0.338597  ...          NaN\n",
              "RidgeCV     Baseline                       0.366021  ...          NaN\n",
              "            Scaling                        0.365794  ...          NaN\n",
              "            Feature_Engineering            0.366076  ...          NaN\n",
              "            Feature_Engineering_overall    0.366076  ...          NaN\n",
              "            Feature_Selection              0.363367  ...          NaN\n",
              "            Grid_Search                    0.366021  ...          NaN\n",
              "            Stacking                       0.368001  ...          NaN\n",
              "            Bagging                        0.366021  ...          NaN\n",
              "            Bagging_all                         NaN  ...          NaN\n",
              "            Mutual_Regression (scaled)     0.345944  ...          NaN\n",
              "            Mutual_Regression              0.344255  ...          NaN\n",
              "RF          Baseline                       0.902733  ...          NaN\n",
              "            Scaling                        0.903476  ...          NaN\n",
              "            Feature_Engineering            0.901118  ...          NaN\n",
              "            Feature_Engineering_overall    0.902333  ...          NaN\n",
              "            Feature_Selection              0.901064  ...          NaN\n",
              "            Grid_Search                    0.898089  ...          NaN\n",
              "            Stacking                       0.901370  ...          NaN\n",
              "            Bagging                        0.901600  ...          NaN\n",
              "            Bagging_all                         NaN  ...          NaN\n",
              "            Mutual_Regression (scaled)     0.877126  ...          NaN\n",
              "            Mutual_Regression              0.877738  ...          NaN\n",
              "CART        Baseline                       1.000000  ...          NaN\n",
              "            Scaling                        1.000000  ...          NaN\n",
              "            Feature_Engineering            1.000000  ...          NaN\n",
              "            Feature_Engineering_overall    1.000000  ...          NaN\n",
              "            Feature_Selection              1.000000  ...          NaN\n",
              "            Grid_Search                    0.345567  ...          NaN\n",
              "            Stacking                       1.000000  ...          NaN\n",
              "            Bagging                        1.000000  ...          NaN\n",
              "            Bagging_all                         NaN  ...          NaN\n",
              "            Mutual_Regression (scaled)     0.975718  ...          NaN\n",
              "            Mutual_Regression              0.976900  ...          NaN\n",
              "\n",
              "[55 rows x 4 columns]"
            ]
          },
          "metadata": {
            "tags": []
          },
          "execution_count": 64
        }
      ]
    },
    {
      "cell_type": "code",
      "metadata": {
        "colab": {
          "base_uri": "https://localhost:8080/"
        },
        "id": "14dVdFyv8SuF",
        "outputId": "66cd4764-ef42-4183-ff71-b6995ab3e263"
      },
      "source": [
        "all_models['TestScore'].sort_values(ascending = False)[:10]"
      ],
      "execution_count": null,
      "outputs": [
        {
          "output_type": "execute_result",
          "data": {
            "text/plain": [
              "model names  technique                  \n",
              "RidgeCV      Stacking                       0.379721\n",
              "LinReg       Mutual_Regression (scaled)     0.378511\n",
              "RidgeCV      Mutual_Regression (scaled)     0.377349\n",
              "             Feature_Engineering_overall    0.375641\n",
              "             Feature_Engineering            0.375641\n",
              "             Baseline                       0.374853\n",
              "             Bagging                        0.374853\n",
              "             Grid_Search                    0.374853\n",
              "             Feature_Selection              0.373276\n",
              "LinReg       Bagging                        0.371280\n",
              "Name: TestScore, dtype: float64"
            ]
          },
          "metadata": {
            "tags": []
          },
          "execution_count": 65
        }
      ]
    },
    {
      "cell_type": "code",
      "metadata": {
        "id": "MlQ4lvOq0nLb",
        "colab": {
          "base_uri": "https://localhost:8080/",
          "height": 108
        },
        "outputId": "2acbf933-ed1b-436f-9d91-08f3facbe1c6"
      },
      "source": [
        "highest_score_idx = all_models['TestScore'].idxmax()\n",
        "\n",
        "all_models.loc[[highest_score_idx ]]"
      ],
      "execution_count": null,
      "outputs": [
        {
          "output_type": "execute_result",
          "data": {
            "text/html": [
              "<div>\n",
              "<style scoped>\n",
              "    .dataframe tbody tr th:only-of-type {\n",
              "        vertical-align: middle;\n",
              "    }\n",
              "\n",
              "    .dataframe tbody tr th {\n",
              "        vertical-align: top;\n",
              "    }\n",
              "\n",
              "    .dataframe thead th {\n",
              "        text-align: right;\n",
              "    }\n",
              "</style>\n",
              "<table border=\"1\" class=\"dataframe\">\n",
              "  <thead>\n",
              "    <tr style=\"text-align: right;\">\n",
              "      <th></th>\n",
              "      <th></th>\n",
              "      <th>TrainScore</th>\n",
              "      <th>TestScore</th>\n",
              "      <th>Model</th>\n",
              "      <th>bagging_all</th>\n",
              "    </tr>\n",
              "    <tr>\n",
              "      <th>model names</th>\n",
              "      <th>technique</th>\n",
              "      <th></th>\n",
              "      <th></th>\n",
              "      <th></th>\n",
              "      <th></th>\n",
              "    </tr>\n",
              "  </thead>\n",
              "  <tbody>\n",
              "    <tr>\n",
              "      <th>RidgeCV</th>\n",
              "      <th>Stacking</th>\n",
              "      <td>0.368001</td>\n",
              "      <td>0.379721</td>\n",
              "      <td>RidgeCV(alphas=array([ 0.1,  1. , 10. ]), cv=N...</td>\n",
              "      <td>NaN</td>\n",
              "    </tr>\n",
              "  </tbody>\n",
              "</table>\n",
              "</div>"
            ],
            "text/plain": [
              "                       TrainScore  ...  bagging_all\n",
              "model names technique              ...             \n",
              "RidgeCV     Stacking     0.368001  ...          NaN\n",
              "\n",
              "[1 rows x 4 columns]"
            ]
          },
          "metadata": {
            "tags": []
          },
          "execution_count": 67
        }
      ]
    },
    {
      "cell_type": "markdown",
      "metadata": {
        "id": "6oVkWGhD_KxO"
      },
      "source": [
        "# Stack top 10 best performing models\n",
        "\n"
      ]
    },
    {
      "cell_type": "markdown",
      "metadata": {
        "id": "GoJFXAWpDCjU"
      },
      "source": [
        "## Not Scaled "
      ]
    },
    {
      "cell_type": "markdown",
      "metadata": {
        "id": "1AoQ09ZkCvN7"
      },
      "source": [
        "'LinReg': LinearRegression(),\n",
        "      'LassoCV': LassoCV(),\n",
        "      'RidgeCV': RidgeCV(),\n",
        "      'RF': RandomForestRegressor(),\n",
        "      'CART': DecisionTreeRegressor()\n",
        "  }"
      ]
    },
    {
      "cell_type": "markdown",
      "metadata": {
        "id": "WLiqFIDSAl-l"
      },
      "source": [
        "Basic Models"
      ]
    },
    {
      "cell_type": "code",
      "metadata": {
        "colab": {
          "base_uri": "https://localhost:8080/"
        },
        "id": "96CDwJy278qy",
        "outputId": "0027413c-62d9-4683-a9bf-52cc13c28395"
      },
      "source": [
        "from sklearn.ensemble import StackingRegressor\n",
        "base_models = [('RIDGE', RidgeCV()),\n",
        "               ('LR', LinearRegression()),\n",
        "               ('RF', RandomForestRegressor())]\n",
        "meta_model = RidgeCV()\n",
        "stacking_model = StackingRegressor(estimators=base_models, \n",
        "                                    final_estimator=meta_model, \n",
        "                                    passthrough=True, \n",
        "                                    cv=5,\n",
        "                                    verbose=2)\n",
        "\n",
        "fit_score_single_model(stacking_model,\"stacking\", X_train, X_val, y_train, y_val)"
      ],
      "execution_count": null,
      "outputs": [
        {
          "output_type": "stream",
          "text": [
            "[Parallel(n_jobs=1)]: Using backend SequentialBackend with 1 concurrent workers.\n",
            "[Parallel(n_jobs=1)]: Done   1 out of   1 | elapsed:    0.0s remaining:    0.0s\n",
            "[Parallel(n_jobs=1)]: Done   5 out of   5 | elapsed:    0.0s finished\n",
            "[Parallel(n_jobs=1)]: Using backend SequentialBackend with 1 concurrent workers.\n",
            "[Parallel(n_jobs=1)]: Done   1 out of   1 | elapsed:    0.0s remaining:    0.0s\n",
            "[Parallel(n_jobs=1)]: Done   5 out of   5 | elapsed:    0.0s finished\n",
            "[Parallel(n_jobs=1)]: Using backend SequentialBackend with 1 concurrent workers.\n",
            "[Parallel(n_jobs=1)]: Done   1 out of   1 | elapsed:    0.5s remaining:    0.0s\n"
          ],
          "name": "stderr"
        },
        {
          "output_type": "stream",
          "text": [
            "stacking achieved a train score of 0.454 and test score of 0.386\n"
          ],
          "name": "stdout"
        },
        {
          "output_type": "stream",
          "text": [
            "[Parallel(n_jobs=1)]: Done   5 out of   5 | elapsed:    2.5s finished\n"
          ],
          "name": "stderr"
        },
        {
          "output_type": "execute_result",
          "data": {
            "text/plain": [
              "(0.4539668516650039, 0.38550350045614445)"
            ]
          },
          "metadata": {
            "tags": []
          },
          "execution_count": 68
        }
      ]
    },
    {
      "cell_type": "markdown",
      "metadata": {
        "id": "ZPaoJAmVC-hE"
      },
      "source": [
        "With optimal RF GridSearch params"
      ]
    },
    {
      "cell_type": "code",
      "metadata": {
        "colab": {
          "base_uri": "https://localhost:8080/"
        },
        "id": "5V3Skit9C1M9",
        "outputId": "aa16f3a8-0ced-47f8-9b5b-540dc6ef6cf6"
      },
      "source": [
        "from sklearn.ensemble import StackingRegressor\n",
        "base_models = [('RIDGE', RidgeCV()),\n",
        "               ('LR', LinearRegression()),\n",
        "               ('RF', RandomForestRegressor(criterion=\"mse\",max_features=\"auto\", min_samples_leaf=30,max_depth=3,n_estimators=29))]\n",
        "meta_model = RidgeCV()\n",
        "stacking_model = StackingRegressor(estimators=base_models, \n",
        "                                    final_estimator=meta_model, \n",
        "                                    passthrough=True, \n",
        "                                    cv=5,\n",
        "                                    verbose=2)\n",
        "\n",
        "fit_score_single_model(stacking_model,\"stacking\", X_train, X_val, y_train, y_val)"
      ],
      "execution_count": null,
      "outputs": [
        {
          "output_type": "stream",
          "text": [
            "[Parallel(n_jobs=1)]: Using backend SequentialBackend with 1 concurrent workers.\n",
            "[Parallel(n_jobs=1)]: Done   1 out of   1 | elapsed:    0.0s remaining:    0.0s\n",
            "[Parallel(n_jobs=1)]: Done   5 out of   5 | elapsed:    0.0s finished\n",
            "[Parallel(n_jobs=1)]: Using backend SequentialBackend with 1 concurrent workers.\n",
            "[Parallel(n_jobs=1)]: Done   1 out of   1 | elapsed:    0.0s remaining:    0.0s\n",
            "[Parallel(n_jobs=1)]: Done   5 out of   5 | elapsed:    0.0s finished\n",
            "[Parallel(n_jobs=1)]: Using backend SequentialBackend with 1 concurrent workers.\n",
            "[Parallel(n_jobs=1)]: Done   1 out of   1 | elapsed:    0.1s remaining:    0.0s\n"
          ],
          "name": "stderr"
        },
        {
          "output_type": "stream",
          "text": [
            "stacking achieved a train score of 0.364 and test score of 0.384\n"
          ],
          "name": "stdout"
        },
        {
          "output_type": "stream",
          "text": [
            "[Parallel(n_jobs=1)]: Done   5 out of   5 | elapsed:    0.3s finished\n"
          ],
          "name": "stderr"
        },
        {
          "output_type": "execute_result",
          "data": {
            "text/plain": [
              "(0.36416976545511337, 0.38380283637237034)"
            ]
          },
          "metadata": {
            "tags": []
          },
          "execution_count": 69
        }
      ]
    },
    {
      "cell_type": "markdown",
      "metadata": {
        "id": "Ti-6f25DAVsr"
      },
      "source": [
        "## Scaled"
      ]
    },
    {
      "cell_type": "markdown",
      "metadata": {
        "id": "OeeHWy4BAq5z"
      },
      "source": [
        "Basic Models"
      ]
    },
    {
      "cell_type": "code",
      "metadata": {
        "colab": {
          "base_uri": "https://localhost:8080/"
        },
        "id": "PgifXHTZAZB_",
        "outputId": "b4636ca2-92d3-4f90-a659-5746da370621"
      },
      "source": [
        "from sklearn.ensemble import StackingRegressor\n",
        "base_models = [('RIDGE', RidgeCV()),\n",
        "               ('LR', LinearRegression()),\n",
        "               ('RF', RandomForestRegressor())]\n",
        "meta_model = RidgeCV()\n",
        "stacking_model = StackingRegressor(estimators=base_models, \n",
        "                                    final_estimator=meta_model, \n",
        "                                    passthrough=True, \n",
        "                                    cv=5,\n",
        "                                    verbose=2)\n",
        "\n",
        "fit_score_single_model(stacking_model,\"stacking\", X_train_scaled, X_val_scaled, y_train_scaled, y_val_scaled)"
      ],
      "execution_count": null,
      "outputs": [
        {
          "output_type": "stream",
          "text": [
            "[Parallel(n_jobs=1)]: Using backend SequentialBackend with 1 concurrent workers.\n",
            "[Parallel(n_jobs=1)]: Done   1 out of   1 | elapsed:    0.0s remaining:    0.0s\n",
            "[Parallel(n_jobs=1)]: Done   5 out of   5 | elapsed:    0.0s finished\n",
            "[Parallel(n_jobs=1)]: Using backend SequentialBackend with 1 concurrent workers.\n",
            "[Parallel(n_jobs=1)]: Done   1 out of   1 | elapsed:    0.0s remaining:    0.0s\n",
            "[Parallel(n_jobs=1)]: Done   5 out of   5 | elapsed:    0.0s finished\n",
            "[Parallel(n_jobs=1)]: Using backend SequentialBackend with 1 concurrent workers.\n",
            "[Parallel(n_jobs=1)]: Done   1 out of   1 | elapsed:    0.5s remaining:    0.0s\n"
          ],
          "name": "stderr"
        },
        {
          "output_type": "stream",
          "text": [
            "stacking achieved a train score of 0.497 and test score of 0.385\n"
          ],
          "name": "stdout"
        },
        {
          "output_type": "stream",
          "text": [
            "[Parallel(n_jobs=1)]: Done   5 out of   5 | elapsed:    2.4s finished\n"
          ],
          "name": "stderr"
        },
        {
          "output_type": "execute_result",
          "data": {
            "text/plain": [
              "(0.4971500754402214, 0.3850413594253099)"
            ]
          },
          "metadata": {
            "tags": []
          },
          "execution_count": 70
        }
      ]
    },
    {
      "cell_type": "markdown",
      "metadata": {
        "id": "cHo-uJlfCL9H"
      },
      "source": [
        "## Feature Selection & Scaled"
      ]
    },
    {
      "cell_type": "code",
      "metadata": {
        "colab": {
          "base_uri": "https://localhost:8080/"
        },
        "id": "-IRIC-OrAgD6",
        "outputId": "cc6f112d-71b5-4547-e850-d4c6afdff495"
      },
      "source": [
        "base_models = [('RIDGE', RidgeCV()),\n",
        "               ('LR', LinearRegression()),\n",
        "               ('RF', RandomForestRegressor(criterion=\"mse\",max_features=\"auto\", min_samples_leaf=30,max_depth=3,n_estimators=29))]\n",
        "meta_model = RidgeCV()\n",
        "stacking_model = StackingRegressor(estimators=base_models, \n",
        "                                    final_estimator=meta_model, \n",
        "                                    passthrough=True, \n",
        "                                    cv=5,\n",
        "                                    verbose=2)\n",
        "\n",
        "fit_score_single_model(stacking_model,\"stacking\", X_train_feature_selection, X_val_feature_selection, y_train_scaled,y_val_scaled)"
      ],
      "execution_count": null,
      "outputs": [
        {
          "output_type": "stream",
          "text": [
            "[Parallel(n_jobs=1)]: Using backend SequentialBackend with 1 concurrent workers.\n",
            "[Parallel(n_jobs=1)]: Done   1 out of   1 | elapsed:    0.0s remaining:    0.0s\n",
            "[Parallel(n_jobs=1)]: Done   5 out of   5 | elapsed:    0.0s finished\n",
            "[Parallel(n_jobs=1)]: Using backend SequentialBackend with 1 concurrent workers.\n",
            "[Parallel(n_jobs=1)]: Done   1 out of   1 | elapsed:    0.0s remaining:    0.0s\n",
            "[Parallel(n_jobs=1)]: Done   5 out of   5 | elapsed:    0.0s finished\n",
            "[Parallel(n_jobs=1)]: Using backend SequentialBackend with 1 concurrent workers.\n",
            "[Parallel(n_jobs=1)]: Done   1 out of   1 | elapsed:    0.1s remaining:    0.0s\n"
          ],
          "name": "stderr"
        },
        {
          "output_type": "stream",
          "text": [
            "stacking achieved a train score of 0.365 and test score of 0.399\n"
          ],
          "name": "stdout"
        },
        {
          "output_type": "stream",
          "text": [
            "[Parallel(n_jobs=1)]: Done   5 out of   5 | elapsed:    0.2s finished\n"
          ],
          "name": "stderr"
        },
        {
          "output_type": "execute_result",
          "data": {
            "text/plain": [
              "(0.3651550324407543, 0.3988692299813194)"
            ]
          },
          "metadata": {
            "tags": []
          },
          "execution_count": 71
        }
      ]
    },
    {
      "cell_type": "markdown",
      "metadata": {
        "id": "oOdrNz3sEJov"
      },
      "source": [
        "## Stacked "
      ]
    },
    {
      "cell_type": "code",
      "metadata": {
        "colab": {
          "base_uri": "https://localhost:8080/"
        },
        "id": "CEibVRUREI94",
        "outputId": "442326f7-546a-4c4e-903e-c1180dfe8dac"
      },
      "source": [
        "base_models = [('RIDGE', RidgeCV(fit_intercept=True,gcv_mode=\"eigen\",normalize=False)),\n",
        "               (\"LASSO\", LassoCV(fit_intercept=True, normalize=True,precompute=True,cv=20)),\n",
        "               ('RF', RandomForestRegressor(criterion=\"mse\",max_features=\"auto\", min_samples_leaf=30,max_depth=3,n_estimators=29))]\n",
        "\n",
        "meta_model = RidgeCV()\n",
        "stacking_model = StackingRegressor(estimators=base_models, \n",
        "                                    final_estimator=meta_model, \n",
        "                                    passthrough=True, \n",
        "                                    cv=5,\n",
        "                                    verbose=2)\n",
        "\n",
        "fit_score_single_model(stacking_model,\"stacking\",X_train_stacked, X_val_stacked, y_train, y_val)"
      ],
      "execution_count": null,
      "outputs": [
        {
          "output_type": "stream",
          "text": [
            "[Parallel(n_jobs=1)]: Using backend SequentialBackend with 1 concurrent workers.\n",
            "[Parallel(n_jobs=1)]: Done   1 out of   1 | elapsed:    0.1s remaining:    0.0s\n",
            "[Parallel(n_jobs=1)]: Done   5 out of   5 | elapsed:    0.6s finished\n",
            "[Parallel(n_jobs=1)]: Using backend SequentialBackend with 1 concurrent workers.\n",
            "[Parallel(n_jobs=1)]: Done   1 out of   1 | elapsed:    0.4s remaining:    0.0s\n",
            "[Parallel(n_jobs=1)]: Done   5 out of   5 | elapsed:    2.1s finished\n",
            "[Parallel(n_jobs=1)]: Using backend SequentialBackend with 1 concurrent workers.\n",
            "[Parallel(n_jobs=1)]: Done   1 out of   1 | elapsed:    0.1s remaining:    0.0s\n"
          ],
          "name": "stderr"
        },
        {
          "output_type": "stream",
          "text": [
            "stacking achieved a train score of 0.366 and test score of 0.382\n"
          ],
          "name": "stdout"
        },
        {
          "output_type": "stream",
          "text": [
            "[Parallel(n_jobs=1)]: Done   5 out of   5 | elapsed:    0.3s finished\n"
          ],
          "name": "stderr"
        },
        {
          "output_type": "execute_result",
          "data": {
            "text/plain": [
              "(0.36600875173088987, 0.38196140623556885)"
            ]
          },
          "metadata": {
            "tags": []
          },
          "execution_count": 72
        }
      ]
    },
    {
      "cell_type": "markdown",
      "metadata": {
        "id": "9G6HaX23E9Ma"
      },
      "source": [
        "## X_train_interactions"
      ]
    },
    {
      "cell_type": "code",
      "metadata": {
        "id": "Molz1nxDF63o",
        "colab": {
          "base_uri": "https://localhost:8080/"
        },
        "outputId": "a996fb48-b42b-4879-f1de-c859de897b9b"
      },
      "source": [
        "from sklearn.ensemble import StackingRegressor\n",
        "base_models = [('RIDGE', RidgeCV(fit_intercept=True,gcv_mode=\"eigen\",normalize=False)),\n",
        "               (\"LASSO\", LassoCV(fit_intercept=True, normalize=True,precompute=True,cv=20)),\n",
        "               ('RF', RandomForestRegressor(criterion=\"mse\",max_features=\"auto\", min_samples_leaf=30,max_depth=3,n_estimators=29))]\n",
        "\n",
        "meta_model = RidgeCV()\n",
        "stacking_model = StackingRegressor(estimators=base_models, \n",
        "                                    final_estimator=meta_model, \n",
        "                                    passthrough=True, \n",
        "                                    cv=5,\n",
        "                                    verbose=2)\n",
        "\n",
        "fit_score_single_model(stacking_model,\"stacking\",X_train_interactions, X_val_interactions, y_train, y_val)"
      ],
      "execution_count": null,
      "outputs": [
        {
          "output_type": "stream",
          "text": [
            "[Parallel(n_jobs=1)]: Using backend SequentialBackend with 1 concurrent workers.\n",
            "[Parallel(n_jobs=1)]: Done   1 out of   1 | elapsed:    0.1s remaining:    0.0s\n",
            "[Parallel(n_jobs=1)]: Done   5 out of   5 | elapsed:    0.6s finished\n",
            "[Parallel(n_jobs=1)]: Using backend SequentialBackend with 1 concurrent workers.\n",
            "[Parallel(n_jobs=1)]: Done   1 out of   1 | elapsed:    0.3s remaining:    0.0s\n",
            "[Parallel(n_jobs=1)]: Done   5 out of   5 | elapsed:    1.6s finished\n",
            "[Parallel(n_jobs=1)]: Using backend SequentialBackend with 1 concurrent workers.\n",
            "[Parallel(n_jobs=1)]: Done   1 out of   1 | elapsed:    0.1s remaining:    0.0s\n"
          ],
          "name": "stderr"
        },
        {
          "output_type": "stream",
          "text": [
            "stacking achieved a train score of 0.369 and test score of 0.385\n"
          ],
          "name": "stdout"
        },
        {
          "output_type": "stream",
          "text": [
            "[Parallel(n_jobs=1)]: Done   5 out of   5 | elapsed:    0.3s finished\n"
          ],
          "name": "stderr"
        },
        {
          "output_type": "execute_result",
          "data": {
            "text/plain": [
              "(0.36904150265760477, 0.3851383625152257)"
            ]
          },
          "metadata": {
            "tags": []
          },
          "execution_count": 73
        }
      ]
    },
    {
      "cell_type": "markdown",
      "metadata": {
        "id": "Rhc8W8QuFFA7"
      },
      "source": [
        "# Optimal Parameters "
      ]
    },
    {
      "cell_type": "markdown",
      "metadata": {
        "id": "eMS4W5ycJl9E"
      },
      "source": [
        "## Ridge"
      ]
    },
    {
      "cell_type": "code",
      "metadata": {
        "id": "l_YmInBqJkuP"
      },
      "source": [
        "'fit_intercept': True, 'gcv_mode': 'eigen', 'normalize': False"
      ],
      "execution_count": null,
      "outputs": []
    },
    {
      "cell_type": "markdown",
      "metadata": {
        "id": "PG2KwtqwJ5Uy"
      },
      "source": [
        "## LinReg"
      ]
    },
    {
      "cell_type": "code",
      "metadata": {
        "id": "FkdlLex_J7H3"
      },
      "source": [
        "'fit_intercept': False, 'n_jobs': 0, 'normalize': True"
      ],
      "execution_count": null,
      "outputs": []
    },
    {
      "cell_type": "markdown",
      "metadata": {
        "id": "A-bUnByvKqlM"
      },
      "source": [
        "## Lasso"
      ]
    },
    {
      "cell_type": "code",
      "metadata": {
        "id": "QInOTQbaKptv"
      },
      "source": [
        "'fit_intercept': True, 'normalize': True, 'precompute': True,'cv': 20"
      ],
      "execution_count": null,
      "outputs": []
    },
    {
      "cell_type": "markdown",
      "metadata": {
        "id": "0QfO8wHrHugg"
      },
      "source": [
        "## CART"
      ]
    },
    {
      "cell_type": "code",
      "metadata": {
        "id": "4imtjTlfCegy"
      },
      "source": [
        "'criterion': 'mse', 'max_features': 'auto', 'min_samples_leaf': 30,'max_depth': 4, 'max_leaf_nodes': 10, 'splitter': 'random'"
      ],
      "execution_count": null,
      "outputs": []
    },
    {
      "cell_type": "markdown",
      "metadata": {
        "id": "LdfAV6jxH2PD"
      },
      "source": [
        "## RF"
      ]
    },
    {
      "cell_type": "code",
      "metadata": {
        "id": "i4fdOiHMH4g0"
      },
      "source": [
        "'criterion': 'mse', 'min_samples_leaf': 30,'max_depth': 3, 'max_features': 'auto','n_estimators': 29"
      ],
      "execution_count": null,
      "outputs": []
    }
  ]
}