{
  "nbformat": 4,
  "nbformat_minor": 0,
  "metadata": {
    "colab": {
      "name": "EDA_movie.ipynb",
      "provenance": [],
      "collapsed_sections": [],
      "toc_visible": true
    },
    "kernelspec": {
      "name": "python3",
      "display_name": "Python 3"
    }
  },
  "cells": [
    {
      "cell_type": "code",
      "metadata": {
        "id": "Ssk2_AU4MZmy"
      },
      "source": [
        "# Standard analytics packages\n",
        "import matplotlib.pyplot as plt\n",
        "import numpy as np\n",
        "import pandas as pd\n",
        "import seaborn as sns"
      ],
      "execution_count": null,
      "outputs": []
    },
    {
      "cell_type": "code",
      "metadata": {
        "id": "7vXkW1GDLCgf"
      },
      "source": [
        "#import csv files\n",
        "url_allmovie = 'https://raw.githubusercontent.com/JihoonChung/MIE368_project/master/rotten_tomatoes_full.csv'\n",
        "df_rotten_tomatoes_full = pd.read_csv(url_allmovie)\n",
        "df_rotten_tomatoes_full = df_rotten_tomatoes_full.drop(columns = {'Unnamed: 0'})"
      ],
      "execution_count": null,
      "outputs": []
    },
    {
      "cell_type": "code",
      "metadata": {
        "id": "LAPm-_FqMEg8",
        "colab": {
          "base_uri": "https://localhost:8080/",
          "height": 360
        },
        "outputId": "37f7ae01-6f45-4ff8-b8f6-ed19e9fe3656"
      },
      "source": [
        "df_rotten_tomatoes_full.head()"
      ],
      "execution_count": null,
      "outputs": [
        {
          "output_type": "execute_result",
          "data": {
            "text/html": [
              "<div>\n",
              "<style scoped>\n",
              "    .dataframe tbody tr th:only-of-type {\n",
              "        vertical-align: middle;\n",
              "    }\n",
              "\n",
              "    .dataframe tbody tr th {\n",
              "        vertical-align: top;\n",
              "    }\n",
              "\n",
              "    .dataframe thead th {\n",
              "        text-align: right;\n",
              "    }\n",
              "</style>\n",
              "<table border=\"1\" class=\"dataframe\">\n",
              "  <thead>\n",
              "    <tr style=\"text-align: right;\">\n",
              "      <th></th>\n",
              "      <th>Title</th>\n",
              "      <th>TOMATOMETER score</th>\n",
              "      <th>TOMATOMETER Count</th>\n",
              "      <th>AUDIENCE score</th>\n",
              "      <th>AUDIENCE count</th>\n",
              "      <th>Year</th>\n",
              "      <th>Cast 1</th>\n",
              "      <th>Cast 2</th>\n",
              "      <th>Cast 3</th>\n",
              "      <th>director_name</th>\n",
              "      <th>Runtime</th>\n",
              "      <th>Genre_Action</th>\n",
              "      <th>Genre_Art&amp;Foreign</th>\n",
              "      <th>Genre_Classics</th>\n",
              "      <th>Genre_Comedy</th>\n",
              "      <th>Genre_Documentary</th>\n",
              "      <th>Genre_Drama</th>\n",
              "      <th>Genre_Horror</th>\n",
              "      <th>Genre_Kids&amp;Family</th>\n",
              "      <th>Genre_Mystery</th>\n",
              "      <th>Genre_Romance</th>\n",
              "      <th>Genre_SciFi</th>\n",
              "      <th>Rating_G</th>\n",
              "      <th>Rating_NC17</th>\n",
              "      <th>Rating_NR</th>\n",
              "      <th>Rating_PG</th>\n",
              "      <th>Rating_PG-13</th>\n",
              "      <th>Rating_R</th>\n",
              "      <th>cast1_oscar_nom</th>\n",
              "      <th>cast1_oscars</th>\n",
              "      <th>cast2_oscar_nom</th>\n",
              "      <th>cast2_oscars</th>\n",
              "      <th>cast3_oscar_nom</th>\n",
              "      <th>cast3_oscars</th>\n",
              "      <th>cast1_FB_likes</th>\n",
              "      <th>cast2_FB_likes</th>\n",
              "      <th>cast3_FB_likes</th>\n",
              "      <th>dir_oscar_nom</th>\n",
              "      <th>dir_oscars</th>\n",
              "      <th>director_awards</th>\n",
              "      <th>director_facebook_likes</th>\n",
              "      <th>cast_total_facebook_likes</th>\n",
              "    </tr>\n",
              "  </thead>\n",
              "  <tbody>\n",
              "    <tr>\n",
              "      <th>0</th>\n",
              "      <td>Drive</td>\n",
              "      <td>0.0</td>\n",
              "      <td>7</td>\n",
              "      <td>13.0</td>\n",
              "      <td>15</td>\n",
              "      <td>2011</td>\n",
              "      <td>Ryan Gosling</td>\n",
              "      <td>Carey Mulligan</td>\n",
              "      <td>Albert Brooks</td>\n",
              "      <td>Nicolas Winding Refn</td>\n",
              "      <td>100</td>\n",
              "      <td>1</td>\n",
              "      <td>0</td>\n",
              "      <td>0</td>\n",
              "      <td>0</td>\n",
              "      <td>0</td>\n",
              "      <td>1</td>\n",
              "      <td>0</td>\n",
              "      <td>0</td>\n",
              "      <td>1</td>\n",
              "      <td>0</td>\n",
              "      <td>0</td>\n",
              "      <td>0</td>\n",
              "      <td>0</td>\n",
              "      <td>0</td>\n",
              "      <td>0</td>\n",
              "      <td>0</td>\n",
              "      <td>1</td>\n",
              "      <td>2.0</td>\n",
              "      <td>0.0</td>\n",
              "      <td>1.0</td>\n",
              "      <td>0.0</td>\n",
              "      <td>1.0</td>\n",
              "      <td>0.0</td>\n",
              "      <td>33000.0</td>\n",
              "      <td>0.0</td>\n",
              "      <td>745.0</td>\n",
              "      <td>0.0</td>\n",
              "      <td>0.0</td>\n",
              "      <td>69.0</td>\n",
              "      <td>0.0</td>\n",
              "      <td>34337.0</td>\n",
              "    </tr>\n",
              "    <tr>\n",
              "      <th>1</th>\n",
              "      <td>American Son</td>\n",
              "      <td>50.0</td>\n",
              "      <td>24</td>\n",
              "      <td>47.0</td>\n",
              "      <td>282</td>\n",
              "      <td>2008</td>\n",
              "      <td>Nick Cannon</td>\n",
              "      <td>Melonie Diaz</td>\n",
              "      <td>Matt O'Leary</td>\n",
              "      <td>Neil Abramson</td>\n",
              "      <td>85</td>\n",
              "      <td>0</td>\n",
              "      <td>0</td>\n",
              "      <td>0</td>\n",
              "      <td>0</td>\n",
              "      <td>0</td>\n",
              "      <td>1</td>\n",
              "      <td>0</td>\n",
              "      <td>0</td>\n",
              "      <td>0</td>\n",
              "      <td>0</td>\n",
              "      <td>0</td>\n",
              "      <td>0</td>\n",
              "      <td>0</td>\n",
              "      <td>0</td>\n",
              "      <td>0</td>\n",
              "      <td>0</td>\n",
              "      <td>1</td>\n",
              "      <td>0.0</td>\n",
              "      <td>0.0</td>\n",
              "      <td>0.0</td>\n",
              "      <td>0.0</td>\n",
              "      <td>0.0</td>\n",
              "      <td>0.0</td>\n",
              "      <td>593.0</td>\n",
              "      <td>270.0</td>\n",
              "      <td>303.0</td>\n",
              "      <td>0.0</td>\n",
              "      <td>0.0</td>\n",
              "      <td>0.0</td>\n",
              "      <td>0.0</td>\n",
              "      <td>0.0</td>\n",
              "    </tr>\n",
              "    <tr>\n",
              "      <th>2</th>\n",
              "      <td>Primal</td>\n",
              "      <td>38.0</td>\n",
              "      <td>32</td>\n",
              "      <td>27.0</td>\n",
              "      <td>48</td>\n",
              "      <td>2010</td>\n",
              "      <td>Zoe Tuckwell-Smith</td>\n",
              "      <td>Krew Boylan</td>\n",
              "      <td>Lindsay Farris</td>\n",
              "      <td>Josh Reed</td>\n",
              "      <td>84</td>\n",
              "      <td>0</td>\n",
              "      <td>0</td>\n",
              "      <td>0</td>\n",
              "      <td>0</td>\n",
              "      <td>0</td>\n",
              "      <td>0</td>\n",
              "      <td>1</td>\n",
              "      <td>0</td>\n",
              "      <td>0</td>\n",
              "      <td>0</td>\n",
              "      <td>0</td>\n",
              "      <td>0</td>\n",
              "      <td>0</td>\n",
              "      <td>1</td>\n",
              "      <td>0</td>\n",
              "      <td>0</td>\n",
              "      <td>0</td>\n",
              "      <td>0.0</td>\n",
              "      <td>0.0</td>\n",
              "      <td>0.0</td>\n",
              "      <td>0.0</td>\n",
              "      <td>0.0</td>\n",
              "      <td>0.0</td>\n",
              "      <td>0.0</td>\n",
              "      <td>0.0</td>\n",
              "      <td>0.0</td>\n",
              "      <td>0.0</td>\n",
              "      <td>0.0</td>\n",
              "      <td>0.0</td>\n",
              "      <td>0.0</td>\n",
              "      <td>0.0</td>\n",
              "    </tr>\n",
              "    <tr>\n",
              "      <th>3</th>\n",
              "      <td>The Lion King</td>\n",
              "      <td>53.0</td>\n",
              "      <td>406</td>\n",
              "      <td>88.0</td>\n",
              "      <td>76333</td>\n",
              "      <td>1994</td>\n",
              "      <td>Matthew Broderick</td>\n",
              "      <td>Jeremy Irons</td>\n",
              "      <td>James Earl Jones</td>\n",
              "      <td>Roger Allers</td>\n",
              "      <td>87</td>\n",
              "      <td>1</td>\n",
              "      <td>0</td>\n",
              "      <td>0</td>\n",
              "      <td>0</td>\n",
              "      <td>0</td>\n",
              "      <td>1</td>\n",
              "      <td>0</td>\n",
              "      <td>1</td>\n",
              "      <td>0</td>\n",
              "      <td>0</td>\n",
              "      <td>0</td>\n",
              "      <td>1</td>\n",
              "      <td>0</td>\n",
              "      <td>0</td>\n",
              "      <td>0</td>\n",
              "      <td>0</td>\n",
              "      <td>0</td>\n",
              "      <td>0.0</td>\n",
              "      <td>0.0</td>\n",
              "      <td>1.0</td>\n",
              "      <td>1.0</td>\n",
              "      <td>1.0</td>\n",
              "      <td>0.0</td>\n",
              "      <td>2000.0</td>\n",
              "      <td>0.0</td>\n",
              "      <td>0.0</td>\n",
              "      <td>0.0</td>\n",
              "      <td>0.0</td>\n",
              "      <td>0.0</td>\n",
              "      <td>28.0</td>\n",
              "      <td>6458.0</td>\n",
              "    </tr>\n",
              "    <tr>\n",
              "      <th>4</th>\n",
              "      <td>The Kill Team</td>\n",
              "      <td>70.0</td>\n",
              "      <td>47</td>\n",
              "      <td>43.0</td>\n",
              "      <td>63</td>\n",
              "      <td>2014</td>\n",
              "      <td>Adam Winfield</td>\n",
              "      <td>Jeremy Morlock</td>\n",
              "      <td>Andrew Holmes</td>\n",
              "      <td>Dan Krauss</td>\n",
              "      <td>79</td>\n",
              "      <td>0</td>\n",
              "      <td>0</td>\n",
              "      <td>0</td>\n",
              "      <td>0</td>\n",
              "      <td>1</td>\n",
              "      <td>0</td>\n",
              "      <td>0</td>\n",
              "      <td>0</td>\n",
              "      <td>0</td>\n",
              "      <td>0</td>\n",
              "      <td>0</td>\n",
              "      <td>0</td>\n",
              "      <td>0</td>\n",
              "      <td>1</td>\n",
              "      <td>0</td>\n",
              "      <td>0</td>\n",
              "      <td>0</td>\n",
              "      <td>0.0</td>\n",
              "      <td>0.0</td>\n",
              "      <td>0.0</td>\n",
              "      <td>0.0</td>\n",
              "      <td>0.0</td>\n",
              "      <td>0.0</td>\n",
              "      <td>0.0</td>\n",
              "      <td>0.0</td>\n",
              "      <td>0.0</td>\n",
              "      <td>0.0</td>\n",
              "      <td>0.0</td>\n",
              "      <td>0.0</td>\n",
              "      <td>0.0</td>\n",
              "      <td>0.0</td>\n",
              "    </tr>\n",
              "  </tbody>\n",
              "</table>\n",
              "</div>"
            ],
            "text/plain": [
              "           Title  ...  cast_total_facebook_likes\n",
              "0          Drive  ...                    34337.0\n",
              "1   American Son  ...                        0.0\n",
              "2         Primal  ...                        0.0\n",
              "3  The Lion King  ...                     6458.0\n",
              "4  The Kill Team  ...                        0.0\n",
              "\n",
              "[5 rows x 42 columns]"
            ]
          },
          "metadata": {
            "tags": []
          },
          "execution_count": 28
        }
      ]
    },
    {
      "cell_type": "markdown",
      "metadata": {
        "id": "HJP9o-bQds97"
      },
      "source": [
        "# Overall Dataset"
      ]
    },
    {
      "cell_type": "code",
      "metadata": {
        "id": "Wupa3GdmEu--",
        "colab": {
          "base_uri": "https://localhost:8080/",
          "height": 334
        },
        "outputId": "c0fe7f50-09f8-4061-870f-2246cf169f8f"
      },
      "source": [
        "df_rotten_tomatoes_full.describe()"
      ],
      "execution_count": null,
      "outputs": [
        {
          "output_type": "execute_result",
          "data": {
            "text/html": [
              "<div>\n",
              "<style scoped>\n",
              "    .dataframe tbody tr th:only-of-type {\n",
              "        vertical-align: middle;\n",
              "    }\n",
              "\n",
              "    .dataframe tbody tr th {\n",
              "        vertical-align: top;\n",
              "    }\n",
              "\n",
              "    .dataframe thead th {\n",
              "        text-align: right;\n",
              "    }\n",
              "</style>\n",
              "<table border=\"1\" class=\"dataframe\">\n",
              "  <thead>\n",
              "    <tr style=\"text-align: right;\">\n",
              "      <th></th>\n",
              "      <th>TOMATOMETER score</th>\n",
              "      <th>TOMATOMETER Count</th>\n",
              "      <th>AUDIENCE score</th>\n",
              "      <th>AUDIENCE count</th>\n",
              "      <th>Year</th>\n",
              "      <th>Runtime</th>\n",
              "      <th>Genre_Action</th>\n",
              "      <th>Genre_Art&amp;Foreign</th>\n",
              "      <th>Genre_Classics</th>\n",
              "      <th>Genre_Comedy</th>\n",
              "      <th>Genre_Documentary</th>\n",
              "      <th>Genre_Drama</th>\n",
              "      <th>Genre_Horror</th>\n",
              "      <th>Genre_Kids&amp;Family</th>\n",
              "      <th>Genre_Mystery</th>\n",
              "      <th>Genre_Romance</th>\n",
              "      <th>Genre_SciFi</th>\n",
              "      <th>Rating_G</th>\n",
              "      <th>Rating_NC17</th>\n",
              "      <th>Rating_NR</th>\n",
              "      <th>Rating_PG</th>\n",
              "      <th>Rating_PG-13</th>\n",
              "      <th>Rating_R</th>\n",
              "      <th>cast1_oscar_nom</th>\n",
              "      <th>cast1_oscars</th>\n",
              "      <th>cast2_oscar_nom</th>\n",
              "      <th>cast2_oscars</th>\n",
              "      <th>cast3_oscar_nom</th>\n",
              "      <th>cast3_oscars</th>\n",
              "      <th>cast1_FB_likes</th>\n",
              "      <th>cast2_FB_likes</th>\n",
              "      <th>cast3_FB_likes</th>\n",
              "      <th>dir_oscar_nom</th>\n",
              "      <th>dir_oscars</th>\n",
              "      <th>director_awards</th>\n",
              "      <th>director_facebook_likes</th>\n",
              "      <th>cast_total_facebook_likes</th>\n",
              "    </tr>\n",
              "  </thead>\n",
              "  <tbody>\n",
              "    <tr>\n",
              "      <th>count</th>\n",
              "      <td>1285.000000</td>\n",
              "      <td>1285.000000</td>\n",
              "      <td>1285.000000</td>\n",
              "      <td>1285.000000</td>\n",
              "      <td>1285.000000</td>\n",
              "      <td>1285.000000</td>\n",
              "      <td>1285.000000</td>\n",
              "      <td>1285.000000</td>\n",
              "      <td>1285.000000</td>\n",
              "      <td>1285.000000</td>\n",
              "      <td>1285.000000</td>\n",
              "      <td>1285.000000</td>\n",
              "      <td>1285.000000</td>\n",
              "      <td>1285.000000</td>\n",
              "      <td>1285.000000</td>\n",
              "      <td>1285.000000</td>\n",
              "      <td>1285.000000</td>\n",
              "      <td>1285.000000</td>\n",
              "      <td>1285.000000</td>\n",
              "      <td>1285.000000</td>\n",
              "      <td>1285.000000</td>\n",
              "      <td>1285.000000</td>\n",
              "      <td>1285.000000</td>\n",
              "      <td>1285.000000</td>\n",
              "      <td>1285.000000</td>\n",
              "      <td>1285.000000</td>\n",
              "      <td>1285.000000</td>\n",
              "      <td>1285.000000</td>\n",
              "      <td>1285.000000</td>\n",
              "      <td>1285.000000</td>\n",
              "      <td>1285.000000</td>\n",
              "      <td>1285.000000</td>\n",
              "      <td>1285.000000</td>\n",
              "      <td>1285.000000</td>\n",
              "      <td>1285.000000</td>\n",
              "      <td>1285.000000</td>\n",
              "      <td>1285.000000</td>\n",
              "    </tr>\n",
              "    <tr>\n",
              "      <th>mean</th>\n",
              "      <td>61.471595</td>\n",
              "      <td>82.963424</td>\n",
              "      <td>57.141634</td>\n",
              "      <td>7949.239689</td>\n",
              "      <td>2015.260700</td>\n",
              "      <td>101.314397</td>\n",
              "      <td>0.190661</td>\n",
              "      <td>0.122957</td>\n",
              "      <td>0.014786</td>\n",
              "      <td>0.199222</td>\n",
              "      <td>0.085603</td>\n",
              "      <td>0.563424</td>\n",
              "      <td>0.131518</td>\n",
              "      <td>0.044358</td>\n",
              "      <td>0.204669</td>\n",
              "      <td>0.081712</td>\n",
              "      <td>0.101167</td>\n",
              "      <td>0.006226</td>\n",
              "      <td>0.000778</td>\n",
              "      <td>0.412451</td>\n",
              "      <td>0.070817</td>\n",
              "      <td>0.164981</td>\n",
              "      <td>0.344747</td>\n",
              "      <td>0.534630</td>\n",
              "      <td>0.100389</td>\n",
              "      <td>0.335409</td>\n",
              "      <td>0.066926</td>\n",
              "      <td>0.217899</td>\n",
              "      <td>0.041245</td>\n",
              "      <td>1746.251362</td>\n",
              "      <td>803.456809</td>\n",
              "      <td>596.936965</td>\n",
              "      <td>0.098833</td>\n",
              "      <td>0.023346</td>\n",
              "      <td>7.372763</td>\n",
              "      <td>151.273152</td>\n",
              "      <td>986.772763</td>\n",
              "    </tr>\n",
              "    <tr>\n",
              "      <th>std</th>\n",
              "      <td>28.706027</td>\n",
              "      <td>99.728952</td>\n",
              "      <td>20.043959</td>\n",
              "      <td>19681.891442</td>\n",
              "      <td>8.600952</td>\n",
              "      <td>15.889832</td>\n",
              "      <td>0.392976</td>\n",
              "      <td>0.328516</td>\n",
              "      <td>0.120742</td>\n",
              "      <td>0.399571</td>\n",
              "      <td>0.279886</td>\n",
              "      <td>0.496154</td>\n",
              "      <td>0.338097</td>\n",
              "      <td>0.205969</td>\n",
              "      <td>0.403617</td>\n",
              "      <td>0.274032</td>\n",
              "      <td>0.301668</td>\n",
              "      <td>0.078688</td>\n",
              "      <td>0.027896</td>\n",
              "      <td>0.492467</td>\n",
              "      <td>0.256619</td>\n",
              "      <td>0.371307</td>\n",
              "      <td>0.475471</td>\n",
              "      <td>1.533049</td>\n",
              "      <td>0.357442</td>\n",
              "      <td>1.259988</td>\n",
              "      <td>0.295665</td>\n",
              "      <td>0.782892</td>\n",
              "      <td>0.214022</td>\n",
              "      <td>5143.426980</td>\n",
              "      <td>3501.187132</td>\n",
              "      <td>3137.166360</td>\n",
              "      <td>0.620552</td>\n",
              "      <td>0.195947</td>\n",
              "      <td>29.691803</td>\n",
              "      <td>1278.204326</td>\n",
              "      <td>8814.720257</td>\n",
              "    </tr>\n",
              "    <tr>\n",
              "      <th>min</th>\n",
              "      <td>0.000000</td>\n",
              "      <td>5.000000</td>\n",
              "      <td>5.000000</td>\n",
              "      <td>6.000000</td>\n",
              "      <td>1915.000000</td>\n",
              "      <td>52.000000</td>\n",
              "      <td>0.000000</td>\n",
              "      <td>0.000000</td>\n",
              "      <td>0.000000</td>\n",
              "      <td>0.000000</td>\n",
              "      <td>0.000000</td>\n",
              "      <td>0.000000</td>\n",
              "      <td>0.000000</td>\n",
              "      <td>0.000000</td>\n",
              "      <td>0.000000</td>\n",
              "      <td>0.000000</td>\n",
              "      <td>0.000000</td>\n",
              "      <td>0.000000</td>\n",
              "      <td>0.000000</td>\n",
              "      <td>0.000000</td>\n",
              "      <td>0.000000</td>\n",
              "      <td>0.000000</td>\n",
              "      <td>0.000000</td>\n",
              "      <td>0.000000</td>\n",
              "      <td>0.000000</td>\n",
              "      <td>0.000000</td>\n",
              "      <td>0.000000</td>\n",
              "      <td>0.000000</td>\n",
              "      <td>0.000000</td>\n",
              "      <td>0.000000</td>\n",
              "      <td>0.000000</td>\n",
              "      <td>0.000000</td>\n",
              "      <td>0.000000</td>\n",
              "      <td>0.000000</td>\n",
              "      <td>0.000000</td>\n",
              "      <td>0.000000</td>\n",
              "      <td>0.000000</td>\n",
              "    </tr>\n",
              "    <tr>\n",
              "      <th>25%</th>\n",
              "      <td>38.000000</td>\n",
              "      <td>13.000000</td>\n",
              "      <td>42.000000</td>\n",
              "      <td>215.000000</td>\n",
              "      <td>2016.000000</td>\n",
              "      <td>90.000000</td>\n",
              "      <td>0.000000</td>\n",
              "      <td>0.000000</td>\n",
              "      <td>0.000000</td>\n",
              "      <td>0.000000</td>\n",
              "      <td>0.000000</td>\n",
              "      <td>0.000000</td>\n",
              "      <td>0.000000</td>\n",
              "      <td>0.000000</td>\n",
              "      <td>0.000000</td>\n",
              "      <td>0.000000</td>\n",
              "      <td>0.000000</td>\n",
              "      <td>0.000000</td>\n",
              "      <td>0.000000</td>\n",
              "      <td>0.000000</td>\n",
              "      <td>0.000000</td>\n",
              "      <td>0.000000</td>\n",
              "      <td>0.000000</td>\n",
              "      <td>0.000000</td>\n",
              "      <td>0.000000</td>\n",
              "      <td>0.000000</td>\n",
              "      <td>0.000000</td>\n",
              "      <td>0.000000</td>\n",
              "      <td>0.000000</td>\n",
              "      <td>0.000000</td>\n",
              "      <td>0.000000</td>\n",
              "      <td>0.000000</td>\n",
              "      <td>0.000000</td>\n",
              "      <td>0.000000</td>\n",
              "      <td>0.000000</td>\n",
              "      <td>0.000000</td>\n",
              "      <td>0.000000</td>\n",
              "    </tr>\n",
              "    <tr>\n",
              "      <th>50%</th>\n",
              "      <td>67.000000</td>\n",
              "      <td>36.000000</td>\n",
              "      <td>58.000000</td>\n",
              "      <td>788.000000</td>\n",
              "      <td>2017.000000</td>\n",
              "      <td>98.000000</td>\n",
              "      <td>0.000000</td>\n",
              "      <td>0.000000</td>\n",
              "      <td>0.000000</td>\n",
              "      <td>0.000000</td>\n",
              "      <td>0.000000</td>\n",
              "      <td>1.000000</td>\n",
              "      <td>0.000000</td>\n",
              "      <td>0.000000</td>\n",
              "      <td>0.000000</td>\n",
              "      <td>0.000000</td>\n",
              "      <td>0.000000</td>\n",
              "      <td>0.000000</td>\n",
              "      <td>0.000000</td>\n",
              "      <td>0.000000</td>\n",
              "      <td>0.000000</td>\n",
              "      <td>0.000000</td>\n",
              "      <td>0.000000</td>\n",
              "      <td>0.000000</td>\n",
              "      <td>0.000000</td>\n",
              "      <td>0.000000</td>\n",
              "      <td>0.000000</td>\n",
              "      <td>0.000000</td>\n",
              "      <td>0.000000</td>\n",
              "      <td>0.000000</td>\n",
              "      <td>0.000000</td>\n",
              "      <td>0.000000</td>\n",
              "      <td>0.000000</td>\n",
              "      <td>0.000000</td>\n",
              "      <td>0.000000</td>\n",
              "      <td>0.000000</td>\n",
              "      <td>0.000000</td>\n",
              "    </tr>\n",
              "    <tr>\n",
              "      <th>75%</th>\n",
              "      <td>88.000000</td>\n",
              "      <td>122.000000</td>\n",
              "      <td>73.000000</td>\n",
              "      <td>5265.000000</td>\n",
              "      <td>2017.000000</td>\n",
              "      <td>110.000000</td>\n",
              "      <td>0.000000</td>\n",
              "      <td>0.000000</td>\n",
              "      <td>0.000000</td>\n",
              "      <td>0.000000</td>\n",
              "      <td>0.000000</td>\n",
              "      <td>1.000000</td>\n",
              "      <td>0.000000</td>\n",
              "      <td>0.000000</td>\n",
              "      <td>0.000000</td>\n",
              "      <td>0.000000</td>\n",
              "      <td>0.000000</td>\n",
              "      <td>0.000000</td>\n",
              "      <td>0.000000</td>\n",
              "      <td>1.000000</td>\n",
              "      <td>0.000000</td>\n",
              "      <td>0.000000</td>\n",
              "      <td>1.000000</td>\n",
              "      <td>0.000000</td>\n",
              "      <td>0.000000</td>\n",
              "      <td>0.000000</td>\n",
              "      <td>0.000000</td>\n",
              "      <td>0.000000</td>\n",
              "      <td>0.000000</td>\n",
              "      <td>129.000000</td>\n",
              "      <td>45.000000</td>\n",
              "      <td>20.000000</td>\n",
              "      <td>0.000000</td>\n",
              "      <td>0.000000</td>\n",
              "      <td>0.000000</td>\n",
              "      <td>17.000000</td>\n",
              "      <td>0.000000</td>\n",
              "    </tr>\n",
              "    <tr>\n",
              "      <th>max</th>\n",
              "      <td>100.000000</td>\n",
              "      <td>501.000000</td>\n",
              "      <td>100.000000</td>\n",
              "      <td>234258.000000</td>\n",
              "      <td>2018.000000</td>\n",
              "      <td>222.000000</td>\n",
              "      <td>1.000000</td>\n",
              "      <td>1.000000</td>\n",
              "      <td>1.000000</td>\n",
              "      <td>1.000000</td>\n",
              "      <td>1.000000</td>\n",
              "      <td>1.000000</td>\n",
              "      <td>1.000000</td>\n",
              "      <td>1.000000</td>\n",
              "      <td>1.000000</td>\n",
              "      <td>1.000000</td>\n",
              "      <td>1.000000</td>\n",
              "      <td>1.000000</td>\n",
              "      <td>1.000000</td>\n",
              "      <td>1.000000</td>\n",
              "      <td>1.000000</td>\n",
              "      <td>1.000000</td>\n",
              "      <td>1.000000</td>\n",
              "      <td>21.000000</td>\n",
              "      <td>3.000000</td>\n",
              "      <td>21.000000</td>\n",
              "      <td>3.000000</td>\n",
              "      <td>7.000000</td>\n",
              "      <td>2.000000</td>\n",
              "      <td>40000.000000</td>\n",
              "      <td>49000.000000</td>\n",
              "      <td>40000.000000</td>\n",
              "      <td>12.000000</td>\n",
              "      <td>3.000000</td>\n",
              "      <td>325.000000</td>\n",
              "      <td>22000.000000</td>\n",
              "      <td>261818.000000</td>\n",
              "    </tr>\n",
              "  </tbody>\n",
              "</table>\n",
              "</div>"
            ],
            "text/plain": [
              "       TOMATOMETER score  ...  cast_total_facebook_likes\n",
              "count        1285.000000  ...                1285.000000\n",
              "mean           61.471595  ...                 986.772763\n",
              "std            28.706027  ...                8814.720257\n",
              "min             0.000000  ...                   0.000000\n",
              "25%            38.000000  ...                   0.000000\n",
              "50%            67.000000  ...                   0.000000\n",
              "75%            88.000000  ...                   0.000000\n",
              "max           100.000000  ...              261818.000000\n",
              "\n",
              "[8 rows x 37 columns]"
            ]
          },
          "metadata": {
            "tags": []
          },
          "execution_count": 29
        }
      ]
    },
    {
      "cell_type": "markdown",
      "metadata": {
        "id": "Ffofim0HeLZ_"
      },
      "source": [
        "Number of Oscar Winners"
      ]
    },
    {
      "cell_type": "code",
      "metadata": {
        "id": "Sb7V4P0seO_P",
        "colab": {
          "base_uri": "https://localhost:8080/"
        },
        "outputId": "70316a7b-61b0-4fe2-b9b8-a9688ae17fa5"
      },
      "source": [
        "wins_cast1= df_rotten_tomatoes_full[\"cast1_oscars\"]>=1\n",
        "wins_cast2= df_rotten_tomatoes_full[\"cast2_oscars\"]>=1\n",
        "wins_cast3= df_rotten_tomatoes_full[\"cast3_oscars\"]>=1\n",
        "\n",
        "wins_cast1=df_rotten_tomatoes_full[wins_cast1]\n",
        "wins_cast2=df_rotten_tomatoes_full[wins_cast2]\n",
        "wins_cast3=df_rotten_tomatoes_full[wins_cast3]\n",
        "winners= pd.concat([wins_cast1,wins_cast2,wins_cast3])\n",
        "\n",
        "num_winners=winners.shape[0]\n",
        "\n",
        "print(num_winners)"
      ],
      "execution_count": null,
      "outputs": [
        {
          "output_type": "stream",
          "text": [
            "228\n"
          ],
          "name": "stdout"
        }
      ]
    },
    {
      "cell_type": "markdown",
      "metadata": {
        "id": "w0uAb2nZf_RQ"
      },
      "source": [
        "Number of Oscar Nominees"
      ]
    },
    {
      "cell_type": "code",
      "metadata": {
        "id": "kh_lpi3ogA7c",
        "colab": {
          "base_uri": "https://localhost:8080/"
        },
        "outputId": "b2937a93-e2fd-469e-98ab-bf9f695f4e03"
      },
      "source": [
        "noms_cast1= df_rotten_tomatoes_full[\"cast1_oscar_nom\"]>=1\n",
        "noms_cast2= df_rotten_tomatoes_full[\"cast2_oscar_nom\"]>=1\n",
        "noms_cast3= df_rotten_tomatoes_full[\"cast3_oscar_nom\"]>=1\n",
        "\n",
        "noms_cast1=df_rotten_tomatoes_full[noms_cast1]\n",
        "noms_cast2=df_rotten_tomatoes_full[noms_cast2]\n",
        "noms_cast3=df_rotten_tomatoes_full[noms_cast3]\n",
        "nominees= pd.concat([noms_cast1,noms_cast2,noms_cast3])\n",
        "\n",
        "num_nominees=nominees.shape[0]\n",
        "\n",
        "print(num_nominees)"
      ],
      "execution_count": null,
      "outputs": [
        {
          "output_type": "stream",
          "text": [
            "572\n"
          ],
          "name": "stdout"
        }
      ]
    },
    {
      "cell_type": "markdown",
      "metadata": {
        "id": "fYnLcy9Qnql4"
      },
      "source": [
        "Number of cast members who did not win any Oscars (either nominated or not)"
      ]
    },
    {
      "cell_type": "code",
      "metadata": {
        "id": "nKBfBHzsnp5L",
        "colab": {
          "base_uri": "https://localhost:8080/"
        },
        "outputId": "f8b32946-8619-409d-f8ed-21e6bcff9e1e"
      },
      "source": [
        "no_wins_cast1= df_rotten_tomatoes_full[\"cast1_oscars\"]<=0\n",
        "no_wins_cast2= df_rotten_tomatoes_full[\"cast2_oscars\"]<=0\n",
        "no_wins_cast3= df_rotten_tomatoes_full[\"cast3_oscars\"]<=0\n",
        "\n",
        "no_wins_cast1=df_rotten_tomatoes_full[no_wins_cast1]\n",
        "no_wins_cast2=df_rotten_tomatoes_full[no_wins_cast2]\n",
        "no_wins_cast3=df_rotten_tomatoes_full[no_wins_cast3]\n",
        "no_winners= pd.concat([no_wins_cast1,no_wins_cast2,no_wins_cast3])\n",
        "\n",
        "num_no_winners=no_winners.shape[0]\n",
        "\n",
        "print(num_no_winners) "
      ],
      "execution_count": null,
      "outputs": [
        {
          "output_type": "stream",
          "text": [
            "3627\n"
          ],
          "name": "stdout"
        }
      ]
    },
    {
      "cell_type": "markdown",
      "metadata": {
        "id": "ogRZppMMdGjA"
      },
      "source": [
        "# Most/Least Popular Movie (Audience score)"
      ]
    },
    {
      "cell_type": "code",
      "metadata": {
        "id": "bp6JTcFwMjZz",
        "colab": {
          "base_uri": "https://localhost:8080/"
        },
        "outputId": "9a6b65a6-273c-40df-aa54-52c1635257f3"
      },
      "source": [
        "#2019 Horror movie is the most popular\n",
        "max_score = df_rotten_tomatoes_full['AUDIENCE score'].max()\n",
        "max_score_index = df_rotten_tomatoes_full['AUDIENCE score'].idxmax()\n",
        "max_score_movie = df_rotten_tomatoes_full['Title'][max_score_index]\n",
        "print(f'The movie with the highest audience score of {max_score} is {max_score_movie}')"
      ],
      "execution_count": null,
      "outputs": [
        {
          "output_type": "stream",
          "text": [
            "The movie with the highest audience score of 100.0 is Haunt\n"
          ],
          "name": "stdout"
        }
      ]
    },
    {
      "cell_type": "code",
      "metadata": {
        "id": "mjp7NlbZb_J1",
        "colab": {
          "base_uri": "https://localhost:8080/",
          "height": 134
        },
        "outputId": "ededcdf0-9952-4f6b-de82-78f1d2f08621"
      },
      "source": [
        "df_rotten_tomatoes_full[df_rotten_tomatoes_full.values  == \"Haunt\"]"
      ],
      "execution_count": null,
      "outputs": [
        {
          "output_type": "execute_result",
          "data": {
            "text/html": [
              "<div>\n",
              "<style scoped>\n",
              "    .dataframe tbody tr th:only-of-type {\n",
              "        vertical-align: middle;\n",
              "    }\n",
              "\n",
              "    .dataframe tbody tr th {\n",
              "        vertical-align: top;\n",
              "    }\n",
              "\n",
              "    .dataframe thead th {\n",
              "        text-align: right;\n",
              "    }\n",
              "</style>\n",
              "<table border=\"1\" class=\"dataframe\">\n",
              "  <thead>\n",
              "    <tr style=\"text-align: right;\">\n",
              "      <th></th>\n",
              "      <th>Title</th>\n",
              "      <th>TOMATOMETER score</th>\n",
              "      <th>TOMATOMETER Count</th>\n",
              "      <th>AUDIENCE score</th>\n",
              "      <th>AUDIENCE count</th>\n",
              "      <th>Year</th>\n",
              "      <th>Cast 1</th>\n",
              "      <th>Cast 2</th>\n",
              "      <th>Cast 3</th>\n",
              "      <th>director_name</th>\n",
              "      <th>Runtime</th>\n",
              "      <th>Genre_Action</th>\n",
              "      <th>Genre_Art&amp;Foreign</th>\n",
              "      <th>Genre_Classics</th>\n",
              "      <th>Genre_Comedy</th>\n",
              "      <th>Genre_Documentary</th>\n",
              "      <th>Genre_Drama</th>\n",
              "      <th>Genre_Horror</th>\n",
              "      <th>Genre_Kids&amp;Family</th>\n",
              "      <th>Genre_Mystery</th>\n",
              "      <th>Genre_Romance</th>\n",
              "      <th>Genre_SciFi</th>\n",
              "      <th>Rating_G</th>\n",
              "      <th>Rating_NC17</th>\n",
              "      <th>Rating_NR</th>\n",
              "      <th>Rating_PG</th>\n",
              "      <th>Rating_PG-13</th>\n",
              "      <th>Rating_R</th>\n",
              "      <th>cast1_oscar_nom</th>\n",
              "      <th>cast1_oscars</th>\n",
              "      <th>cast2_oscar_nom</th>\n",
              "      <th>cast2_oscars</th>\n",
              "      <th>cast3_oscar_nom</th>\n",
              "      <th>cast3_oscars</th>\n",
              "      <th>cast1_FB_likes</th>\n",
              "      <th>cast2_FB_likes</th>\n",
              "      <th>cast3_FB_likes</th>\n",
              "      <th>dir_oscar_nom</th>\n",
              "      <th>dir_oscars</th>\n",
              "      <th>director_awards</th>\n",
              "      <th>director_facebook_likes</th>\n",
              "      <th>cast_total_facebook_likes</th>\n",
              "    </tr>\n",
              "  </thead>\n",
              "  <tbody>\n",
              "    <tr>\n",
              "      <th>14</th>\n",
              "      <td>Haunt</td>\n",
              "      <td>71.0</td>\n",
              "      <td>42</td>\n",
              "      <td>100.0</td>\n",
              "      <td>8</td>\n",
              "      <td>2014</td>\n",
              "      <td>Harrison Gilbertson</td>\n",
              "      <td>Liana Liberato</td>\n",
              "      <td>Jacki Weaver</td>\n",
              "      <td>Mac Carter</td>\n",
              "      <td>86</td>\n",
              "      <td>0</td>\n",
              "      <td>0</td>\n",
              "      <td>0</td>\n",
              "      <td>0</td>\n",
              "      <td>0</td>\n",
              "      <td>0</td>\n",
              "      <td>1</td>\n",
              "      <td>0</td>\n",
              "      <td>0</td>\n",
              "      <td>0</td>\n",
              "      <td>0</td>\n",
              "      <td>0</td>\n",
              "      <td>0</td>\n",
              "      <td>0</td>\n",
              "      <td>0</td>\n",
              "      <td>0</td>\n",
              "      <td>1</td>\n",
              "      <td>0.0</td>\n",
              "      <td>0.0</td>\n",
              "      <td>0.0</td>\n",
              "      <td>0.0</td>\n",
              "      <td>2.0</td>\n",
              "      <td>0.0</td>\n",
              "      <td>174.0</td>\n",
              "      <td>0.0</td>\n",
              "      <td>401.0</td>\n",
              "      <td>0.0</td>\n",
              "      <td>0.0</td>\n",
              "      <td>0.0</td>\n",
              "      <td>0.0</td>\n",
              "      <td>0.0</td>\n",
              "    </tr>\n",
              "  </tbody>\n",
              "</table>\n",
              "</div>"
            ],
            "text/plain": [
              "    Title  ...  cast_total_facebook_likes\n",
              "14  Haunt  ...                        0.0\n",
              "\n",
              "[1 rows x 42 columns]"
            ]
          },
          "metadata": {
            "tags": []
          },
          "execution_count": 34
        }
      ]
    },
    {
      "cell_type": "code",
      "metadata": {
        "id": "QQjs-dYcONR-",
        "colab": {
          "base_uri": "https://localhost:8080/"
        },
        "outputId": "e651d195-95a2-4240-b1cd-356c3e9fba86"
      },
      "source": [
        "#2016 Drama/Action film least popular\n",
        "min_score = df_rotten_tomatoes_full['AUDIENCE score'].min()\n",
        "min_score_index = df_rotten_tomatoes_full['AUDIENCE score'].idxmin()\n",
        "min_score_movie = df_rotten_tomatoes_full['Title'][min_score_index]\n",
        "print(f'The movie with the lowest audience score of {min_score} is {min_score_movie}')"
      ],
      "execution_count": null,
      "outputs": [
        {
          "output_type": "stream",
          "text": [
            "The movie with the lowest audience score of 5.0 is American Pastoral\n"
          ],
          "name": "stdout"
        }
      ]
    },
    {
      "cell_type": "code",
      "metadata": {
        "id": "O_9d2HM4c5f_",
        "colab": {
          "base_uri": "https://localhost:8080/",
          "height": 134
        },
        "outputId": "a67c2981-9429-4ee9-a7b6-66974267d8a6"
      },
      "source": [
        "df_rotten_tomatoes_full[df_rotten_tomatoes_full.values  == \"American Pastoral\"]"
      ],
      "execution_count": null,
      "outputs": [
        {
          "output_type": "execute_result",
          "data": {
            "text/html": [
              "<div>\n",
              "<style scoped>\n",
              "    .dataframe tbody tr th:only-of-type {\n",
              "        vertical-align: middle;\n",
              "    }\n",
              "\n",
              "    .dataframe tbody tr th {\n",
              "        vertical-align: top;\n",
              "    }\n",
              "\n",
              "    .dataframe thead th {\n",
              "        text-align: right;\n",
              "    }\n",
              "</style>\n",
              "<table border=\"1\" class=\"dataframe\">\n",
              "  <thead>\n",
              "    <tr style=\"text-align: right;\">\n",
              "      <th></th>\n",
              "      <th>Title</th>\n",
              "      <th>TOMATOMETER score</th>\n",
              "      <th>TOMATOMETER Count</th>\n",
              "      <th>AUDIENCE score</th>\n",
              "      <th>AUDIENCE count</th>\n",
              "      <th>Year</th>\n",
              "      <th>Cast 1</th>\n",
              "      <th>Cast 2</th>\n",
              "      <th>Cast 3</th>\n",
              "      <th>director_name</th>\n",
              "      <th>Runtime</th>\n",
              "      <th>Genre_Action</th>\n",
              "      <th>Genre_Art&amp;Foreign</th>\n",
              "      <th>Genre_Classics</th>\n",
              "      <th>Genre_Comedy</th>\n",
              "      <th>Genre_Documentary</th>\n",
              "      <th>Genre_Drama</th>\n",
              "      <th>Genre_Horror</th>\n",
              "      <th>Genre_Kids&amp;Family</th>\n",
              "      <th>Genre_Mystery</th>\n",
              "      <th>Genre_Romance</th>\n",
              "      <th>Genre_SciFi</th>\n",
              "      <th>Rating_G</th>\n",
              "      <th>Rating_NC17</th>\n",
              "      <th>Rating_NR</th>\n",
              "      <th>Rating_PG</th>\n",
              "      <th>Rating_PG-13</th>\n",
              "      <th>Rating_R</th>\n",
              "      <th>cast1_oscar_nom</th>\n",
              "      <th>cast1_oscars</th>\n",
              "      <th>cast2_oscar_nom</th>\n",
              "      <th>cast2_oscars</th>\n",
              "      <th>cast3_oscar_nom</th>\n",
              "      <th>cast3_oscars</th>\n",
              "      <th>cast1_FB_likes</th>\n",
              "      <th>cast2_FB_likes</th>\n",
              "      <th>cast3_FB_likes</th>\n",
              "      <th>dir_oscar_nom</th>\n",
              "      <th>dir_oscars</th>\n",
              "      <th>director_awards</th>\n",
              "      <th>director_facebook_likes</th>\n",
              "      <th>cast_total_facebook_likes</th>\n",
              "    </tr>\n",
              "  </thead>\n",
              "  <tbody>\n",
              "    <tr>\n",
              "      <th>892</th>\n",
              "      <td>American Pastoral</td>\n",
              "      <td>50.0</td>\n",
              "      <td>118</td>\n",
              "      <td>5.0</td>\n",
              "      <td>764</td>\n",
              "      <td>2016</td>\n",
              "      <td>Ewan McGregor</td>\n",
              "      <td>Jennifer Connelly</td>\n",
              "      <td>Dakota Fanning</td>\n",
              "      <td>Ewan McGregor</td>\n",
              "      <td>126</td>\n",
              "      <td>0</td>\n",
              "      <td>0</td>\n",
              "      <td>0</td>\n",
              "      <td>0</td>\n",
              "      <td>0</td>\n",
              "      <td>1</td>\n",
              "      <td>0</td>\n",
              "      <td>0</td>\n",
              "      <td>0</td>\n",
              "      <td>0</td>\n",
              "      <td>0</td>\n",
              "      <td>0</td>\n",
              "      <td>0</td>\n",
              "      <td>0</td>\n",
              "      <td>0</td>\n",
              "      <td>0</td>\n",
              "      <td>1</td>\n",
              "      <td>0.0</td>\n",
              "      <td>0.0</td>\n",
              "      <td>1.0</td>\n",
              "      <td>1.0</td>\n",
              "      <td>0.0</td>\n",
              "      <td>0.0</td>\n",
              "      <td>0.0</td>\n",
              "      <td>0.0</td>\n",
              "      <td>0.0</td>\n",
              "      <td>0.0</td>\n",
              "      <td>0.0</td>\n",
              "      <td>0.0</td>\n",
              "      <td>0.0</td>\n",
              "      <td>0.0</td>\n",
              "    </tr>\n",
              "  </tbody>\n",
              "</table>\n",
              "</div>"
            ],
            "text/plain": [
              "                 Title  ...  cast_total_facebook_likes\n",
              "892  American Pastoral  ...                        0.0\n",
              "\n",
              "[1 rows x 42 columns]"
            ]
          },
          "metadata": {
            "tags": []
          },
          "execution_count": 36
        }
      ]
    },
    {
      "cell_type": "markdown",
      "metadata": {
        "id": "v0nsPwE7dSiq"
      },
      "source": [
        "# Weighted average audience score"
      ]
    },
    {
      "cell_type": "code",
      "metadata": {
        "id": "W_0BDH9rPMj7",
        "colab": {
          "base_uri": "https://localhost:8080/"
        },
        "outputId": "1611ca66-daf4-4b58-9709-60614532b4fd"
      },
      "source": [
        "#find weighted average audience score\n",
        "\n",
        "total_audience_count = df_rotten_tomatoes_full['AUDIENCE count'].sum()\n",
        "weighted_average = 0\n",
        "\n",
        "for i in range(len(df_rotten_tomatoes_full['AUDIENCE score'])):\n",
        "  weighted_average += df_rotten_tomatoes_full['AUDIENCE score'][i] * df_rotten_tomatoes_full['AUDIENCE count'][i] /total_audience_count\n",
        "\n",
        "print(weighted_average)\n"
      ],
      "execution_count": null,
      "outputs": [
        {
          "output_type": "stream",
          "text": [
            "67.15033863209696\n"
          ],
          "name": "stdout"
        }
      ]
    },
    {
      "cell_type": "markdown",
      "metadata": {
        "id": "1DW4xl8ngqFR"
      },
      "source": [
        "# Distributions"
      ]
    },
    {
      "cell_type": "markdown",
      "metadata": {
        "id": "E04HMvw5gt_j"
      },
      "source": [
        "## KDE distribution of audience score and critics score"
      ]
    },
    {
      "cell_type": "code",
      "metadata": {
        "id": "7h6mdEahhLrg",
        "colab": {
          "base_uri": "https://localhost:8080/",
          "height": 295
        },
        "outputId": "a7b3a5b5-b8bd-4798-dbd1-008fc26897e4"
      },
      "source": [
        "sns.histplot(df_rotten_tomatoes_full[\"AUDIENCE score\"],kde=True)\n",
        "            \n",
        "plt.title('Audience Score distribution')\n",
        "plt.ylabel('Audience Count')\n",
        "plt.xlabel('Audience Score')\n",
        "plt.show()"
      ],
      "execution_count": null,
      "outputs": [
        {
          "output_type": "display_data",
          "data": {
            "image/png": "[encoded data removed]",
            "text/plain": [
              "<Figure size 432x288 with 1 Axes>"
            ]
          },
          "metadata": {
            "tags": [],
            "needs_background": "light"
          }
        }
      ]
    },
    {
      "cell_type": "code",
      "metadata": {
        "id": "l2reHhbZiT4n",
        "colab": {
          "base_uri": "https://localhost:8080/",
          "height": 295
        },
        "outputId": "8190ef9c-8ce2-417b-dc62-7e2c36e5b266"
      },
      "source": [
        "sns.histplot(df_rotten_tomatoes_full[\"TOMATOMETER score\"],kde=True)\n",
        "            \n",
        "plt.title('Tomatometer Score distribution')\n",
        "plt.ylabel('Tomatometer Count')\n",
        "plt.xlabel('Tomatometer Score')\n",
        "plt.show()"
      ],
      "execution_count": null,
      "outputs": [
        {
          "output_type": "display_data",
          "data": {
            "image/png": "[encoded data removed]",
            "text/plain": [
              "<Figure size 432x288 with 1 Axes>"
            ]
          },
          "metadata": {
            "tags": [],
            "needs_background": "light"
          }
        }
      ]
    },
    {
      "cell_type": "markdown",
      "metadata": {
        "id": "CBCIqmeegyaa"
      },
      "source": [
        "## Histogram distribution of audience score  "
      ]
    },
    {
      "cell_type": "markdown",
      "metadata": {
        "id": "FrIDl1YHg2gh"
      },
      "source": [
        "### (with & without oscar winners)"
      ]
    },
    {
      "cell_type": "code",
      "metadata": {
        "id": "ewjRJkHBmAn-",
        "colab": {
          "base_uri": "https://localhost:8080/",
          "height": 295
        },
        "outputId": "a590284b-56e4-4b27-a150-104baa13b5e6"
      },
      "source": [
        "sns.kdeplot(winners[\"AUDIENCE score\"])\n",
        "sns.kdeplot(no_winners[\"AUDIENCE score\"])\n",
        "            \n",
        "plt.title('Audience Score distribution')\n",
        "plt.ylabel('Fraction of Audience')\n",
        "plt.xlabel('Audience Score')\n",
        "plt.legend([\"Only Oscar Winners\", \"Without Any Winners\"])\n",
        "\n",
        "plt.show()"
      ],
      "execution_count": null,
      "outputs": [
        {
          "output_type": "display_data",
          "data": {
            "image/png": "[encoded data removed]",
            "text/plain": [
              "<Figure size 432x288 with 1 Axes>"
            ]
          },
          "metadata": {
            "tags": [],
            "needs_background": "light"
          }
        }
      ]
    },
    {
      "cell_type": "code",
      "metadata": {
        "id": "B04eA9ALEZUD",
        "colab": {
          "base_uri": "https://localhost:8080/",
          "height": 295
        },
        "outputId": "07b5fe13-72d7-4659-9569-c3b821c10f36"
      },
      "source": [
        "sns.kdeplot(winners[\"TOMATOMETER score\"])\n",
        "sns.kdeplot(no_winners[\"TOMATOMETER score\"])\n",
        "            \n",
        "plt.title('Tomatometer Score distribution')\n",
        "plt.ylabel('Fraction of Audience')\n",
        "plt.xlabel('Tomatometer Score')\n",
        "plt.legend([\"Only Oscar Winners\", \"Without Any Winners\"])\n",
        "\n",
        "plt.show()"
      ],
      "execution_count": null,
      "outputs": [
        {
          "output_type": "display_data",
          "data": {
            "image/png": "[encoded data removed]",
            "text/plain": [
              "<Figure size 432x288 with 1 Axes>"
            ]
          },
          "metadata": {
            "tags": [],
            "needs_background": "light"
          }
        }
      ]
    },
    {
      "cell_type": "markdown",
      "metadata": {
        "id": "-4EUVssY7bhj"
      },
      "source": [
        "# Jointplot Audience & Tomatometer Score"
      ]
    },
    {
      "cell_type": "code",
      "metadata": {
        "id": "2Cl8RPCv7aqC",
        "colab": {
          "base_uri": "https://localhost:8080/",
          "height": 441
        },
        "outputId": "fbb976cd-4400-4657-df04-494762fd8490"
      },
      "source": [
        "j = sns.jointplot(data=df_rotten_tomatoes_full,  # Data frame to plot\n",
        "                  x='TOMATOMETER score',  # x-axis data\n",
        "                  y='AUDIENCE score',  # y-axis data\n",
        "                  kind=\"hist\",pthresh = .01,cbar = True,cbar_kws = dict(shrink = 0.75))\n",
        "\n",
        "# Print the plot to the notebook\n",
        "plt.show()"
      ],
      "execution_count": null,
      "outputs": [
        {
          "output_type": "display_data",
          "data": {
            "image/png": "[encoded data removed]",
            "text/plain": [
              "<Figure size 432x432 with 4 Axes>"
            ]
          },
          "metadata": {
            "tags": [],
            "needs_background": "light"
          }
        }
      ]
    },
    {
      "cell_type": "markdown",
      "metadata": {
        "id": "wcoL_EZphF-8"
      },
      "source": [
        "## Jointplot of runtime & audience score "
      ]
    },
    {
      "cell_type": "code",
      "metadata": {
        "id": "efQC65q9kC4r",
        "colab": {
          "base_uri": "https://localhost:8080/",
          "height": 441
        },
        "outputId": "4cdbd3d6-d9ef-429e-a7cd-1f8a37a7c19c"
      },
      "source": [
        "j = sns.jointplot(data=df_rotten_tomatoes_full,  # Data frame to plot\n",
        "                  x='AUDIENCE score',  # x-axis data\n",
        "                  y='Runtime',  # y-axis data\n",
        "                  kind='hist',pthresh = .01,cbar = True,cbar_kws = dict(shrink = 0.75))\n",
        "\n",
        "# Print the plot to the notebook\n",
        "plt.show()"
      ],
      "execution_count": null,
      "outputs": [
        {
          "output_type": "display_data",
          "data": {
            "image/png": "[encoded data removed]",
            "text/plain": [
              "<Figure size 432x432 with 4 Axes>"
            ]
          },
          "metadata": {
            "tags": [],
            "needs_background": "light"
          }
        }
      ]
    },
    {
      "cell_type": "markdown",
      "metadata": {
        "id": "-lp1pSeFjCTC"
      },
      "source": [
        "## FacetGrid of Genre and Audience Sore"
      ]
    },
    {
      "cell_type": "code",
      "metadata": {
        "id": "He70qg3RjNL2",
        "colab": {
          "base_uri": "https://localhost:8080/",
          "height": 299
        },
        "outputId": "dc8f1d20-07f2-46a8-b6c9-34d6d1197b33"
      },
      "source": [
        "g = sns.FacetGrid(data=df_rotten_tomatoes_full, col='Genre_Action',)\n",
        "\n",
        "# Make a distplot in the \n",
        "g.map(sns.distplot, \"AUDIENCE score\",kde=False)\n",
        "\n",
        "# Format plot area\n",
        "plt.legend()\n",
        "plt.title('Audience score distributions')\n",
        "plt.show()"
      ],
      "execution_count": null,
      "outputs": [
        {
          "output_type": "stream",
          "text": [
            "/usr/local/lib/python3.6/dist-packages/seaborn/distributions.py:2551: FutureWarning: `distplot` is a deprecated function and will be removed in a future version. Please adapt your code to use either `displot` (a figure-level function with similar flexibility) or `histplot` (an axes-level function for histograms).\n",
            "  warnings.warn(msg, FutureWarning)\n",
            "No handles with labels found to put in legend.\n"
          ],
          "name": "stderr"
        },
        {
          "output_type": "display_data",
          "data": {
            "image/png": "[encoded data removed]",
            "text/plain": [
              "<Figure size 432x216 with 2 Axes>"
            ]
          },
          "metadata": {
            "tags": [],
            "needs_background": "light"
          }
        }
      ]
    },
    {
      "cell_type": "markdown",
      "metadata": {
        "id": "6xOCyYwMdeF2"
      },
      "source": [
        "# Correlation Coefficient "
      ]
    },
    {
      "cell_type": "code",
      "metadata": {
        "id": "tfqyj62YTofW",
        "colab": {
          "base_uri": "https://localhost:8080/",
          "height": 1000
        },
        "outputId": "6d6ec8e3-a331-4298-dd0c-b2e7ef729ec0"
      },
      "source": [
        "# Calculate correlation coefficents\n",
        "corr_df = df_rotten_tomatoes_full.corr()\n",
        "print(corr_df)  # Print correlation coefficents to notebook\n",
        "\n",
        "# Plot correlation coefficents in heat map\n",
        "sns.heatmap(corr_df)\n",
        "plt.show()"
      ],
      "execution_count": null,
      "outputs": [
        {
          "output_type": "stream",
          "text": [
            "                           TOMATOMETER score  ...  cast_total_facebook_likes\n",
            "TOMATOMETER score                   1.000000  ...                  -0.031985\n",
            "TOMATOMETER Count                   0.155741  ...                   0.090352\n",
            "AUDIENCE score                      0.579630  ...                   0.002350\n",
            "AUDIENCE count                      0.072580  ...                   0.120909\n",
            "Year                               -0.036190  ...                  -0.070453\n",
            "Runtime                             0.038186  ...                   0.039401\n",
            "Genre_Action                       -0.095726  ...                   0.147397\n",
            "Genre_Art&Foreign                   0.114256  ...                  -0.041854\n",
            "Genre_Classics                     -0.009204  ...                   0.053966\n",
            "Genre_Comedy                       -0.009420  ...                  -0.024045\n",
            "Genre_Documentary                   0.089289  ...                  -0.034080\n",
            "Genre_Drama                         0.060728  ...                  -0.010323\n",
            "Genre_Horror                       -0.031191  ...                  -0.028927\n",
            "Genre_Kids&Family                  -0.073485  ...                   0.084063\n",
            "Genre_Mystery                      -0.058415  ...                  -0.025053\n",
            "Genre_Romance                      -0.015397  ...                   0.001162\n",
            "Genre_SciFi                        -0.044006  ...                   0.049790\n",
            "Rating_G                           -0.007852  ...                   0.109823\n",
            "Rating_NC17                         0.022883  ...                  -0.003125\n",
            "Rating_NR                           0.082034  ...                  -0.040834\n",
            "Rating_PG                          -0.016801  ...                   0.023018\n",
            "Rating_PG-13                       -0.081396  ...                   0.042246\n",
            "Rating_R                           -0.012377  ...                  -0.021113\n",
            "cast1_oscar_nom                    -0.022316  ...                   0.014509\n",
            "cast1_oscars                       -0.024276  ...                   0.008678\n",
            "cast2_oscar_nom                    -0.005259  ...                   0.062869\n",
            "cast2_oscars                       -0.033361  ...                   0.030810\n",
            "cast3_oscar_nom                     0.013028  ...                   0.092990\n",
            "cast3_oscars                       -0.029916  ...                   0.067705\n",
            "cast1_FB_likes                     -0.065586  ...                   0.061254\n",
            "cast2_FB_likes                     -0.039314  ...                   0.201679\n",
            "cast3_FB_likes                     -0.040846  ...                   0.181879\n",
            "dir_oscar_nom                       0.016400  ...                   0.022923\n",
            "dir_oscars                          0.013825  ...                   0.007010\n",
            "director_awards                     0.017567  ...                   0.005162\n",
            "director_facebook_likes             0.013856  ...                   0.010934\n",
            "cast_total_facebook_likes          -0.031985  ...                   1.000000\n",
            "\n",
            "[37 rows x 37 columns]\n"
          ],
          "name": "stdout"
        },
        {
          "output_type": "display_data",
          "data": {
            "image/png": "[encoded data removed]",
            "text/plain": [
              "<Figure size 432x288 with 2 Axes>"
            ]
          },
          "metadata": {
            "tags": [],
            "needs_background": "light"
          }
        }
      ]
    },
    {
      "cell_type": "code",
      "metadata": {
        "id": "TKNwhN6w273y",
        "colab": {
          "base_uri": "https://localhost:8080/",
          "height": 384
        },
        "outputId": "7963cf6f-1951-43a5-db8a-754311b4f0d1"
      },
      "source": [
        "corr=corr_df>=abs(0.5)\n",
        "\n",
        "corr2=corr_df[corr]\n",
        "corr2 = corr2[corr2 < 1]\n",
        "sns.heatmap(corr2, annot=True)\n",
        "plt.show()"
      ],
      "execution_count": null,
      "outputs": [
        {
          "output_type": "display_data",
          "data": {
            "image/png": "[encoded data removed]",
            "text/plain": [
              "<Figure size 432x288 with 2 Axes>"
            ]
          },
          "metadata": {
            "tags": [],
            "needs_background": "light"
          }
        }
      ]
    },
    {
      "cell_type": "code",
      "metadata": {
        "id": "TtayEdfhXAyb",
        "colab": {
          "base_uri": "https://localhost:8080/"
        },
        "outputId": "91ace414-d703-418c-f0d2-e347e453fc98"
      },
      "source": [
        "corr_df['AUDIENCE score'].sort_values(ascending=False)"
      ],
      "execution_count": null,
      "outputs": [
        {
          "output_type": "execute_result",
          "data": {
            "text/plain": [
              "AUDIENCE score               1.000000\n",
              "TOMATOMETER score            0.579630\n",
              "AUDIENCE count               0.201833\n",
              "TOMATOMETER Count            0.168756\n",
              "Runtime                      0.094474\n",
              "Genre_Drama                  0.093072\n",
              "Genre_Art&Foreign            0.087597\n",
              "Genre_Documentary            0.063085\n",
              "Genre_Romance                0.062406\n",
              "Genre_Classics               0.055128\n",
              "cast3_oscar_nom              0.049797\n",
              "director_awards              0.046362\n",
              "dir_oscar_nom                0.039949\n",
              "Rating_G                     0.038944\n",
              "dir_oscars                   0.029497\n",
              "Rating_PG                    0.023637\n",
              "director_facebook_likes      0.009706\n",
              "Rating_PG-13                 0.005857\n",
              "cast_total_facebook_likes    0.002350\n",
              "Rating_NR                   -0.000242\n",
              "Rating_NC17                 -0.004376\n",
              "Genre_Comedy                -0.004790\n",
              "Genre_Kids&Family           -0.010201\n",
              "cast3_oscars                -0.011711\n",
              "cast1_oscars                -0.016770\n",
              "cast2_FB_likes              -0.019302\n",
              "Rating_R                    -0.023269\n",
              "cast1_oscar_nom             -0.023807\n",
              "cast1_FB_likes              -0.035687\n",
              "Genre_SciFi                 -0.039853\n",
              "cast3_FB_likes              -0.042399\n",
              "cast2_oscar_nom             -0.043113\n",
              "cast2_oscars                -0.065995\n",
              "Year                        -0.067011\n",
              "Genre_Mystery               -0.081948\n",
              "Genre_Action                -0.087771\n",
              "Genre_Horror                -0.088254\n",
              "Name: AUDIENCE score, dtype: float64"
            ]
          },
          "metadata": {
            "tags": []
          },
          "execution_count": 20
        }
      ]
    },
    {
      "cell_type": "code",
      "metadata": {
        "id": "0vMuS6eyNWN3",
        "colab": {
          "base_uri": "https://localhost:8080/",
          "height": 1000
        },
        "outputId": "45c56352-b0bf-4051-b491-b2fe81b38ecb"
      },
      "source": [
        "strongest_correlated_feature = pd.DataFrame(columns={'Feature', 'strongest_corr', 'abs_value'})\n",
        "high_corr = abs(corr_df[corr_df < 1]).idxmax()\n",
        "features = list(high_corr.index)\n",
        "high_corr= high_corr.reset_index(drop=True)\n",
        "value = abs(corr_df[corr_df < 1]).max().reset_index(drop=True)\n",
        "\n",
        "strongest_correlated_feature['Feature'] = features\n",
        "strongest_correlated_feature['strongest_corr'] = high_corr\n",
        "strongest_correlated_feature['abs_value'] = value\n",
        "\n",
        "strongest_correlated_feature"
      ],
      "execution_count": null,
      "outputs": [
        {
          "output_type": "execute_result",
          "data": {
            "text/html": [
              "<div>\n",
              "<style scoped>\n",
              "    .dataframe tbody tr th:only-of-type {\n",
              "        vertical-align: middle;\n",
              "    }\n",
              "\n",
              "    .dataframe tbody tr th {\n",
              "        vertical-align: top;\n",
              "    }\n",
              "\n",
              "    .dataframe thead th {\n",
              "        text-align: right;\n",
              "    }\n",
              "</style>\n",
              "<table border=\"1\" class=\"dataframe\">\n",
              "  <thead>\n",
              "    <tr style=\"text-align: right;\">\n",
              "      <th></th>\n",
              "      <th>Feature</th>\n",
              "      <th>abs_value</th>\n",
              "      <th>strongest_corr</th>\n",
              "    </tr>\n",
              "  </thead>\n",
              "  <tbody>\n",
              "    <tr>\n",
              "      <th>0</th>\n",
              "      <td>TOMATOMETER score</td>\n",
              "      <td>0.579630</td>\n",
              "      <td>AUDIENCE score</td>\n",
              "    </tr>\n",
              "    <tr>\n",
              "      <th>1</th>\n",
              "      <td>TOMATOMETER Count</td>\n",
              "      <td>0.449064</td>\n",
              "      <td>Rating_NR</td>\n",
              "    </tr>\n",
              "    <tr>\n",
              "      <th>2</th>\n",
              "      <td>AUDIENCE score</td>\n",
              "      <td>0.579630</td>\n",
              "      <td>TOMATOMETER score</td>\n",
              "    </tr>\n",
              "    <tr>\n",
              "      <th>3</th>\n",
              "      <td>AUDIENCE count</td>\n",
              "      <td>0.369882</td>\n",
              "      <td>TOMATOMETER Count</td>\n",
              "    </tr>\n",
              "    <tr>\n",
              "      <th>4</th>\n",
              "      <td>Year</td>\n",
              "      <td>0.602920</td>\n",
              "      <td>Genre_Classics</td>\n",
              "    </tr>\n",
              "    <tr>\n",
              "      <th>5</th>\n",
              "      <td>Runtime</td>\n",
              "      <td>0.418876</td>\n",
              "      <td>TOMATOMETER Count</td>\n",
              "    </tr>\n",
              "    <tr>\n",
              "      <th>6</th>\n",
              "      <td>Genre_Action</td>\n",
              "      <td>0.297039</td>\n",
              "      <td>Genre_SciFi</td>\n",
              "    </tr>\n",
              "    <tr>\n",
              "      <th>7</th>\n",
              "      <td>Genre_Art&amp;Foreign</td>\n",
              "      <td>0.114256</td>\n",
              "      <td>TOMATOMETER score</td>\n",
              "    </tr>\n",
              "    <tr>\n",
              "      <th>8</th>\n",
              "      <td>Genre_Classics</td>\n",
              "      <td>0.602920</td>\n",
              "      <td>Year</td>\n",
              "    </tr>\n",
              "    <tr>\n",
              "      <th>9</th>\n",
              "      <td>Genre_Comedy</td>\n",
              "      <td>0.216996</td>\n",
              "      <td>Genre_Drama</td>\n",
              "    </tr>\n",
              "    <tr>\n",
              "      <th>10</th>\n",
              "      <td>Genre_Documentary</td>\n",
              "      <td>0.319547</td>\n",
              "      <td>Genre_Drama</td>\n",
              "    </tr>\n",
              "    <tr>\n",
              "      <th>11</th>\n",
              "      <td>Genre_Drama</td>\n",
              "      <td>0.319547</td>\n",
              "      <td>Genre_Documentary</td>\n",
              "    </tr>\n",
              "    <tr>\n",
              "      <th>12</th>\n",
              "      <td>Genre_Horror</td>\n",
              "      <td>0.265653</td>\n",
              "      <td>Genre_Drama</td>\n",
              "    </tr>\n",
              "    <tr>\n",
              "      <th>13</th>\n",
              "      <td>Genre_Kids&amp;Family</td>\n",
              "      <td>0.470974</td>\n",
              "      <td>Rating_PG</td>\n",
              "    </tr>\n",
              "    <tr>\n",
              "      <th>14</th>\n",
              "      <td>Genre_Mystery</td>\n",
              "      <td>0.209563</td>\n",
              "      <td>Genre_Comedy</td>\n",
              "    </tr>\n",
              "    <tr>\n",
              "      <th>15</th>\n",
              "      <td>Genre_Romance</td>\n",
              "      <td>0.142837</td>\n",
              "      <td>Genre_Comedy</td>\n",
              "    </tr>\n",
              "    <tr>\n",
              "      <th>16</th>\n",
              "      <td>Genre_SciFi</td>\n",
              "      <td>0.297039</td>\n",
              "      <td>Genre_Action</td>\n",
              "    </tr>\n",
              "    <tr>\n",
              "      <th>17</th>\n",
              "      <td>Rating_G</td>\n",
              "      <td>0.390204</td>\n",
              "      <td>Year</td>\n",
              "    </tr>\n",
              "    <tr>\n",
              "      <th>18</th>\n",
              "      <td>Rating_NC17</td>\n",
              "      <td>0.146913</td>\n",
              "      <td>Year</td>\n",
              "    </tr>\n",
              "    <tr>\n",
              "      <th>19</th>\n",
              "      <td>Rating_NR</td>\n",
              "      <td>0.607729</td>\n",
              "      <td>Rating_R</td>\n",
              "    </tr>\n",
              "    <tr>\n",
              "      <th>20</th>\n",
              "      <td>Rating_PG</td>\n",
              "      <td>0.470974</td>\n",
              "      <td>Genre_Kids&amp;Family</td>\n",
              "    </tr>\n",
              "    <tr>\n",
              "      <th>21</th>\n",
              "      <td>Rating_PG-13</td>\n",
              "      <td>0.372420</td>\n",
              "      <td>Rating_NR</td>\n",
              "    </tr>\n",
              "    <tr>\n",
              "      <th>22</th>\n",
              "      <td>Rating_R</td>\n",
              "      <td>0.607729</td>\n",
              "      <td>Rating_NR</td>\n",
              "    </tr>\n",
              "    <tr>\n",
              "      <th>23</th>\n",
              "      <td>cast1_oscar_nom</td>\n",
              "      <td>0.774633</td>\n",
              "      <td>cast1_oscars</td>\n",
              "    </tr>\n",
              "    <tr>\n",
              "      <th>24</th>\n",
              "      <td>cast1_oscars</td>\n",
              "      <td>0.774633</td>\n",
              "      <td>cast1_oscar_nom</td>\n",
              "    </tr>\n",
              "    <tr>\n",
              "      <th>25</th>\n",
              "      <td>cast2_oscar_nom</td>\n",
              "      <td>0.767570</td>\n",
              "      <td>cast2_oscars</td>\n",
              "    </tr>\n",
              "    <tr>\n",
              "      <th>26</th>\n",
              "      <td>cast2_oscars</td>\n",
              "      <td>0.767570</td>\n",
              "      <td>cast2_oscar_nom</td>\n",
              "    </tr>\n",
              "    <tr>\n",
              "      <th>27</th>\n",
              "      <td>cast3_oscar_nom</td>\n",
              "      <td>0.597055</td>\n",
              "      <td>cast3_oscars</td>\n",
              "    </tr>\n",
              "    <tr>\n",
              "      <th>28</th>\n",
              "      <td>cast3_oscars</td>\n",
              "      <td>0.597055</td>\n",
              "      <td>cast3_oscar_nom</td>\n",
              "    </tr>\n",
              "    <tr>\n",
              "      <th>29</th>\n",
              "      <td>cast1_FB_likes</td>\n",
              "      <td>0.328764</td>\n",
              "      <td>cast1_oscar_nom</td>\n",
              "    </tr>\n",
              "    <tr>\n",
              "      <th>30</th>\n",
              "      <td>cast2_FB_likes</td>\n",
              "      <td>0.306746</td>\n",
              "      <td>cast2_oscar_nom</td>\n",
              "    </tr>\n",
              "    <tr>\n",
              "      <th>31</th>\n",
              "      <td>cast3_FB_likes</td>\n",
              "      <td>0.203516</td>\n",
              "      <td>cast3_oscars</td>\n",
              "    </tr>\n",
              "    <tr>\n",
              "      <th>32</th>\n",
              "      <td>dir_oscar_nom</td>\n",
              "      <td>0.788037</td>\n",
              "      <td>dir_oscars</td>\n",
              "    </tr>\n",
              "    <tr>\n",
              "      <th>33</th>\n",
              "      <td>dir_oscars</td>\n",
              "      <td>0.788037</td>\n",
              "      <td>dir_oscar_nom</td>\n",
              "    </tr>\n",
              "    <tr>\n",
              "      <th>34</th>\n",
              "      <td>director_awards</td>\n",
              "      <td>0.610094</td>\n",
              "      <td>dir_oscar_nom</td>\n",
              "    </tr>\n",
              "    <tr>\n",
              "      <th>35</th>\n",
              "      <td>director_facebook_likes</td>\n",
              "      <td>0.452458</td>\n",
              "      <td>director_awards</td>\n",
              "    </tr>\n",
              "    <tr>\n",
              "      <th>36</th>\n",
              "      <td>cast_total_facebook_likes</td>\n",
              "      <td>0.201679</td>\n",
              "      <td>cast2_FB_likes</td>\n",
              "    </tr>\n",
              "  </tbody>\n",
              "</table>\n",
              "</div>"
            ],
            "text/plain": [
              "                      Feature  abs_value     strongest_corr\n",
              "0           TOMATOMETER score   0.579630     AUDIENCE score\n",
              "1           TOMATOMETER Count   0.449064          Rating_NR\n",
              "2              AUDIENCE score   0.579630  TOMATOMETER score\n",
              "3              AUDIENCE count   0.369882  TOMATOMETER Count\n",
              "4                        Year   0.602920     Genre_Classics\n",
              "5                     Runtime   0.418876  TOMATOMETER Count\n",
              "6                Genre_Action   0.297039        Genre_SciFi\n",
              "7           Genre_Art&Foreign   0.114256  TOMATOMETER score\n",
              "8              Genre_Classics   0.602920               Year\n",
              "9                Genre_Comedy   0.216996        Genre_Drama\n",
              "10          Genre_Documentary   0.319547        Genre_Drama\n",
              "11                Genre_Drama   0.319547  Genre_Documentary\n",
              "12               Genre_Horror   0.265653        Genre_Drama\n",
              "13          Genre_Kids&Family   0.470974          Rating_PG\n",
              "14              Genre_Mystery   0.209563       Genre_Comedy\n",
              "15              Genre_Romance   0.142837       Genre_Comedy\n",
              "16                Genre_SciFi   0.297039       Genre_Action\n",
              "17                   Rating_G   0.390204               Year\n",
              "18                Rating_NC17   0.146913               Year\n",
              "19                  Rating_NR   0.607729           Rating_R\n",
              "20                  Rating_PG   0.470974  Genre_Kids&Family\n",
              "21               Rating_PG-13   0.372420          Rating_NR\n",
              "22                   Rating_R   0.607729          Rating_NR\n",
              "23            cast1_oscar_nom   0.774633       cast1_oscars\n",
              "24               cast1_oscars   0.774633    cast1_oscar_nom\n",
              "25            cast2_oscar_nom   0.767570       cast2_oscars\n",
              "26               cast2_oscars   0.767570    cast2_oscar_nom\n",
              "27            cast3_oscar_nom   0.597055       cast3_oscars\n",
              "28               cast3_oscars   0.597055    cast3_oscar_nom\n",
              "29             cast1_FB_likes   0.328764    cast1_oscar_nom\n",
              "30             cast2_FB_likes   0.306746    cast2_oscar_nom\n",
              "31             cast3_FB_likes   0.203516       cast3_oscars\n",
              "32              dir_oscar_nom   0.788037         dir_oscars\n",
              "33                 dir_oscars   0.788037      dir_oscar_nom\n",
              "34            director_awards   0.610094      dir_oscar_nom\n",
              "35    director_facebook_likes   0.452458    director_awards\n",
              "36  cast_total_facebook_likes   0.201679     cast2_FB_likes"
            ]
          },
          "metadata": {
            "tags": []
          },
          "execution_count": 52
        }
      ]
    }
  ]
}